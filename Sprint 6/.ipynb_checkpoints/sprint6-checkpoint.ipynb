{
 "cells": [
  {
   "cell_type": "markdown",
   "metadata": {},
   "source": [
    "# Sprint 6\n",
    "\n",
    "## Scratch Decision Tree\n",
    "\n",
    "### [Problem 1-4] Decision Tree Scratch "
   ]
  },
  {
   "cell_type": "code",
   "execution_count": 1,
   "metadata": {},
   "outputs": [],
   "source": [
    "import numpy as np\n",
    "import pandas as pd\n",
    "import matplotlib.pyplot as plt\n",
    "import json\n",
    "%matplotlib inline"
   ]
  },
  {
   "cell_type": "code",
   "execution_count": 2,
   "metadata": {},
   "outputs": [],
   "source": [
    "class ScratchDecesionTreeClassifierDepth1():\n",
    "    \"\"\"\n",
    "    Depth 1 decision tree classifier scratch implementation\n",
    "    Parameters\n",
    "    ----------\n",
    "    verbose : bool\n",
    "      True to output the learning process\n",
    "    \"\"\"\n",
    "    def __init__(self, verbose=False):\n",
    "        # Record hyperparameters as attributes\n",
    "        self.verbose = verbose\n",
    "        # Create a list contains many Nodes, each Node include:\n",
    "        # (information_gain, feature_index, threshold, left_node, right_node)\n",
    "        # left_node and right_node can be None when there is no child node\n",
    "        self.split_det = dict()\n",
    "        \n",
    "    def fit(self, X, y):\n",
    "        \"\"\"\n",
    "        Learn the decision tree classifier\n",
    "        Parameters\n",
    "        ----------\n",
    "        X : The following forms of ndarray, shape (n_samples, n_features)\n",
    "            Features of training data\n",
    "        y : The following form of ndarray, shape (n_samples,)\n",
    "            Correct answer value of training data\n",
    "        \"\"\"\n",
    "        idx, stat = self._divide(X, y, return_stat=True)\n",
    "        self.split_det = {\n",
    "            'stat': stat,\n",
    "            'left': {},\n",
    "            'right': {}\n",
    "        }\n",
    "        \n",
    "        if self.verbose:\n",
    "            print(self.split_det)\n",
    "        pass\n",
    "    \n",
    "    def predict(self, X):\n",
    "        \"\"\"\n",
    "        Estimate the label using a decision tree classifier\n",
    "        \"\"\"\n",
    "        f_idx, threshold = self.split_det['stat'][1:]\n",
    "        return np.where(X[:, f_idx] < threshold, 0, 1)\n",
    "    \n",
    "    def _divide(self, X_parent, y_parent, return_stat=False):\n",
    "        # Initialize arguments\n",
    "        threshold = np.inf\n",
    "        feature_index = -1\n",
    "        min_sum_imp = np.inf\n",
    "        \n",
    "        # Get information about the parent node\n",
    "        n_samples, n_features = X_parent.shape\n",
    "        count_parent = self._unique_count(y_parent)\n",
    "        gini_imp_parent = self._gini_imp(count_parent)\n",
    "        \n",
    "        # Select feature and value for threshold to divide\n",
    "        for f_idx in range(n_features):\n",
    "            unique_values_f = np.unique(X[:, f_idx])\n",
    "            for val in unique_values_f:\n",
    "                y_left = y[X[:, f_idx] < val]\n",
    "                y_right = y[X[:, f_idx] >= val]\n",
    "                count_left = self._unique_count(y_left)\n",
    "                count_right = self._unique_count(y_right)\n",
    "                sum_imp = self._sum_imp(count_left, count_right)\n",
    "                if sum_imp < min_sum_imp:\n",
    "                    min_sum_imp = sum_imp\n",
    "                    feature_index = f_idx\n",
    "                    threshold = val\n",
    "        \n",
    "        max_info_gain = gini_imp_parent - (min_sum_imp / count_parent.sum())\n",
    "        index_left = X[:, feature_index] < threshold\n",
    "        index_right = X[:, feature_index] >= threshold\n",
    "        if not return_stat:\n",
    "            return index_left, index_right\n",
    "        else:\n",
    "            return (index_left, index_right), (max_info_gain, feature_index, threshold) \n",
    "        \n",
    "    def _unique_count(self, arr):\n",
    "        return np.unique(arr, return_counts=True)[1]\n",
    "    \n",
    "    def _gini_imp(self, count):\n",
    "        n_samples = count.sum()\n",
    "        gini = 1 - np.power((count / n_samples), 2).sum()\n",
    "        return gini\n",
    "    \n",
    "    def _info_gain(self, left, right):\n",
    "        parent = left + right\n",
    "        info_gain = self._gini_imp(parent) - (self._sum_imp(left, right) / parent.sum())\n",
    "        return info_gain\n",
    "    \n",
    "    def _sum_imp(self, left, right):\n",
    "        imp_sum = left.sum() * self._gini_imp(left) + right.sum() * self._gini_imp(right)\n",
    "        return imp_sum"
   ]
  },
  {
   "cell_type": "markdown",
   "metadata": {},
   "source": [
    "### [Problem 1] Function for finding impureness"
   ]
  },
  {
   "cell_type": "code",
   "execution_count": 3,
   "metadata": {},
   "outputs": [],
   "source": [
    "def gini_imp_test(count):\n",
    "    n_samples = count.sum()\n",
    "    gini = 1 - np.power((count / n_samples), 2).sum()\n",
    "    return gini"
   ]
  },
  {
   "cell_type": "code",
   "execution_count": 4,
   "metadata": {},
   "outputs": [
    {
     "data": {
      "text/plain": [
       "0.6666666666666667"
      ]
     },
     "execution_count": 4,
     "metadata": {},
     "output_type": "execute_result"
    }
   ],
   "source": [
    "gini_imp_test(np.array([15, 15, 15]))"
   ]
  },
  {
   "cell_type": "markdown",
   "metadata": {},
   "source": [
    "### [Problem 2] Function for finding information gain"
   ]
  },
  {
   "cell_type": "code",
   "execution_count": 5,
   "metadata": {},
   "outputs": [],
   "source": [
    "count_left = np.array([10, 30])\n",
    "count_right = np.array([20, 5])"
   ]
  },
  {
   "cell_type": "code",
   "execution_count": 6,
   "metadata": {},
   "outputs": [],
   "source": [
    "def info_gain_test(left, right):\n",
    "    parent = left + right\n",
    "    info_gain = (gini_imp_test(parent) - \n",
    "                 (left.sum() / parent.sum()) * gini_imp_test(left) - \n",
    "                 (right.sum() / parent.sum()) * gini_imp_test(right))\n",
    "    return info_gain"
   ]
  },
  {
   "cell_type": "code",
   "execution_count": 7,
   "metadata": {},
   "outputs": [
    {
     "data": {
      "text/plain": [
       "0.14319526627218937"
      ]
     },
     "execution_count": 7,
     "metadata": {},
     "output_type": "execute_result"
    }
   ],
   "source": [
    "info_gain_test(count_left, count_right)"
   ]
  },
  {
   "cell_type": "markdown",
   "metadata": {},
   "source": [
    "### [Problem 3] Learning"
   ]
  },
  {
   "cell_type": "code",
   "execution_count": 8,
   "metadata": {},
   "outputs": [],
   "source": [
    "X = np.array([\n",
    "    [1, 1, 1],\n",
    "    [1.3, 0.8, 1.1],\n",
    "    [3, 4, 5],\n",
    "    [3.2, 3.8, 4.4],\n",
    "])"
   ]
  },
  {
   "cell_type": "code",
   "execution_count": 9,
   "metadata": {},
   "outputs": [],
   "source": [
    "y = np.array([0, 0, 1, 1])"
   ]
  },
  {
   "cell_type": "code",
   "execution_count": 10,
   "metadata": {},
   "outputs": [
    {
     "name": "stdout",
     "output_type": "stream",
     "text": [
      "{'stat': (0.5, 0, 3.0), 'left': {}, 'right': {}}\n"
     ]
    }
   ],
   "source": [
    "sdt1 = ScratchDecesionTreeClassifierDepth1(verbose=True)\n",
    "sdt1.fit(X, y)"
   ]
  },
  {
   "cell_type": "markdown",
   "metadata": {},
   "source": [
    "### [Problem 4] Estimation"
   ]
  },
  {
   "cell_type": "code",
   "execution_count": 11,
   "metadata": {},
   "outputs": [],
   "source": [
    "X_test = np.array([\n",
    "    [0.8, 1.4, 1.8],\n",
    "    [3, 4, 5],\n",
    "    [2.7, 4, 5]\n",
    "])"
   ]
  },
  {
   "cell_type": "code",
   "execution_count": 12,
   "metadata": {},
   "outputs": [
    {
     "name": "stdout",
     "output_type": "stream",
     "text": [
      "[0 1 0]\n"
     ]
    }
   ],
   "source": [
    "print(sdt1.predict(X_test))"
   ]
  },
  {
   "cell_type": "markdown",
   "metadata": {},
   "source": [
    "### [Problem 5] Learning and Estimation"
   ]
  },
  {
   "cell_type": "code",
   "execution_count": 13,
   "metadata": {},
   "outputs": [],
   "source": [
    "X = np.array([\n",
    "    [-0.44699 , -2.8073  ],[-1.4621  , -2.4586  ],\n",
    "    [ 0.10645 ,  1.9242  ],[-3.5944  , -4.0112  ],\n",
    "    [-0.9888  ,  4.5718  ],[-3.1625  , -3.9606  ],\n",
    "    [ 0.56421 ,  0.72888 ],[-0.60216 ,  8.4636  ],\n",
    "    [-0.61251 , -0.75345 ],[-0.73535 , -2.2718  ],\n",
    "    [-0.80647 , -2.2135  ],[ 0.86291 ,  2.3946  ],\n",
    "    [-3.1108  ,  0.15394 ],[-2.9362  ,  2.5462  ],\n",
    "    [-0.57242 , -2.9915  ],[ 1.4771  ,  3.4896  ],\n",
    "    [ 0.58619 ,  0.37158 ],[ 0.6017  ,  4.3439  ],\n",
    "    [-2.1086  ,  8.3428  ],[-4.1013  , -4.353   ],\n",
    "    [-1.9948  , -1.3927  ],[ 0.35084 , -0.031994],\n",
    "    [ 0.96765 ,  7.8929  ],[-1.281   , 15.6824  ],\n",
    "    [ 0.96765 , 10.083   ],[ 1.3763  ,  1.3347  ],\n",
    "    [-2.234   , -2.5323  ],[-2.9452  , -1.8219  ],\n",
    "    [ 0.14654 , -0.28733 ],[ 0.5461  ,  5.8245  ],\n",
    "    [-0.65259 ,  9.3444  ],[ 0.59912 ,  5.3524  ],\n",
    "    [ 0.50214 , -0.31818 ],[-3.0603  , -3.6461  ],\n",
    "    [-6.6797  ,  0.67661 ],[-2.353   , -0.72261 ],\n",
    "    [ 1.1319  ,  2.4023  ],[-0.12243 ,  9.0162  ],\n",
    "    [-2.5677  , 13.1779  ],[ 0.057313,  5.4681  ],\n",
    "])\n",
    "y = np.array([0, 0, 0, 0, 0, 0, 0, 0, 0, 0, 0, 0, 0, 0, 0, 0, 0, 0, 0, 0, 1, 1,\n",
    "       1, 1, 1, 1, 1, 1, 1, 1, 1, 1, 1, 1, 1, 1, 1, 1, 1, 1])"
   ]
  },
  {
   "cell_type": "code",
   "execution_count": 14,
   "metadata": {},
   "outputs": [],
   "source": [
    "from sklearn.model_selection import train_test_split\n",
    "\n",
    "X_train, X_test, y_train, y_test = train_test_split(X, y, test_size=0.2)"
   ]
  },
  {
   "cell_type": "code",
   "execution_count": 15,
   "metadata": {},
   "outputs": [
    {
     "name": "stdout",
     "output_type": "stream",
     "text": [
      "{'stat': (-0.03680936520376177, 1, 5.3524), 'left': {}, 'right': {}}\n"
     ]
    }
   ],
   "source": [
    "sdt1 = ScratchDecesionTreeClassifierDepth1(verbose=True)\n",
    "sdt1.fit(X_train, y_train)"
   ]
  },
  {
   "cell_type": "code",
   "execution_count": 16,
   "metadata": {},
   "outputs": [
    {
     "data": {
      "text/plain": [
       "array([0, 0, 0, 0, 1, 0, 0, 0])"
      ]
     },
     "execution_count": 16,
     "metadata": {},
     "output_type": "execute_result"
    }
   ],
   "source": [
    "y_pred = sdt1.predict(X_test)\n",
    "y_pred"
   ]
  },
  {
   "cell_type": "code",
   "execution_count": 17,
   "metadata": {},
   "outputs": [
    {
     "data": {
      "text/plain": [
       "array([0, 1, 1, 1, 1, 0, 1, 1])"
      ]
     },
     "execution_count": 17,
     "metadata": {},
     "output_type": "execute_result"
    }
   ],
   "source": [
    "y_test"
   ]
  },
  {
   "cell_type": "code",
   "execution_count": 18,
   "metadata": {},
   "outputs": [
    {
     "name": "stdout",
     "output_type": "stream",
     "text": [
      "              precision    recall  f1-score   support\n",
      "\n",
      "           0       0.29      1.00      0.44         2\n",
      "           1       1.00      0.17      0.29         6\n",
      "\n",
      "    accuracy                           0.38         8\n",
      "   macro avg       0.64      0.58      0.37         8\n",
      "weighted avg       0.82      0.38      0.33         8\n",
      "\n"
     ]
    }
   ],
   "source": [
    "from sklearn.metrics import classification_report\n",
    "\n",
    "print(classification_report(y_test, y_pred))"
   ]
  },
  {
   "cell_type": "code",
   "execution_count": 19,
   "metadata": {},
   "outputs": [
    {
     "data": {
      "text/plain": [
       "array([0, 0, 0, 0, 1, 0, 0, 0])"
      ]
     },
     "execution_count": 19,
     "metadata": {},
     "output_type": "execute_result"
    }
   ],
   "source": [
    "from sklearn.tree import DecisionTreeClassifier\n",
    "\n",
    "dtc = DecisionTreeClassifier(max_depth=1)\n",
    "dtc.fit(X_train, y_train)\n",
    "dtc_pred = dtc.predict(X_test)\n",
    "dtc_pred"
   ]
  },
  {
   "cell_type": "code",
   "execution_count": 20,
   "metadata": {},
   "outputs": [
    {
     "name": "stdout",
     "output_type": "stream",
     "text": [
      "              precision    recall  f1-score   support\n",
      "\n",
      "           0       0.29      1.00      0.44         2\n",
      "           1       1.00      0.17      0.29         6\n",
      "\n",
      "    accuracy                           0.38         8\n",
      "   macro avg       0.64      0.58      0.37         8\n",
      "weighted avg       0.82      0.38      0.33         8\n",
      "\n"
     ]
    }
   ],
   "source": [
    "print(classification_report(y_test, dtc_pred))"
   ]
  },
  {
   "cell_type": "markdown",
   "metadata": {},
   "source": [
    "### [Problem 6] Visualization of decision area"
   ]
  },
  {
   "cell_type": "code",
   "execution_count": 21,
   "metadata": {},
   "outputs": [],
   "source": [
    "import matplotlib.pyplot as plt\n",
    "from matplotlib.colors import ListedColormap\n",
    "import matplotlib.patches as mpatches\n",
    "\n",
    "def decision_region(X, y, model, step=0.01, title='decision region', xlabel='xlabel', ylabel='ylabel', target_names=['versicolor', 'virginica']):\n",
    "    \"\"\"\n",
    "    Draw the determination area of the model that learned binary classification with two-dimensional features.\n",
    "    The background color is drawn from the estimated values of the trained model.\n",
    "    The points on the scatter plot are training or validation data.\n",
    "    Parameters\n",
    "    ----------------\n",
    "    X : ndarray, shape(n_samples, 2)\n",
    "        Feature value\n",
    "    y : ndarray, shape(n_samples,)\n",
    "        label\n",
    "    model : object\n",
    "        Insert the installed model of the learned model\n",
    "    step : float, (default : 0.1)\n",
    "        Set the interval to calculate the estimate\n",
    "    title : str\n",
    "        Give the text of the graph Title\n",
    "    xlabel, ylabel : str\n",
    "        Give the text of the axis label\n",
    "    target_names= : list of str\n",
    "        Give a list of legends\n",
    "    \"\"\"\n",
    "    # setting\n",
    "    scatter_color = ['red', 'blue']\n",
    "    contourf_color = ['pink', 'skyblue']\n",
    "    n_class = 2\n",
    "    # pred\n",
    "    mesh_f0, mesh_f1  = np.meshgrid(np.arange(np.min(X[:,0])-0.5, np.max(X[:,0])+0.5, step), np.arange(np.min(X[:,1])-0.5, np.max(X[:,1])+0.5, step))\n",
    "    mesh = np.c_[np.ravel(mesh_f0),np.ravel(mesh_f1)]\n",
    "    y_pred = model.predict(mesh).reshape(mesh_f0.shape)\n",
    "    # plot\n",
    "    plt.title(title)\n",
    "    plt.xlabel(xlabel)\n",
    "    plt.ylabel(ylabel)\n",
    "    plt.contourf(mesh_f0, mesh_f1, y_pred, n_class-1, cmap=ListedColormap(contourf_color))\n",
    "    plt.contour(mesh_f0, mesh_f1, y_pred, n_class-1, colors='y', linewidths=3, alpha=0.5)\n",
    "    for i, target in enumerate(set(y)):\n",
    "        plt.scatter(X[y==target][:, 0], X[y==target][:, 1], s=80, color=scatter_color[i], label=target_names[i], marker='o')\n",
    "    patches = [mpatches.Patch(color=scatter_color[i], label=target_names[i]) for i in range(n_class)]\n",
    "    plt.legend(handles=patches)\n",
    "    plt.legend()\n",
    "    plt.show()"
   ]
  },
  {
   "cell_type": "code",
   "execution_count": 22,
   "metadata": {},
   "outputs": [
    {
     "data": {
      "image/png": "[encoded data removed]",
      "text/plain": [
       "<Figure size 432x288 with 1 Axes>"
      ]
     },
     "metadata": {
      "needs_background": "light"
     },
     "output_type": "display_data"
    }
   ],
   "source": [
    "decision_region(X_train, y_train, sdt1)"
   ]
  },
  {
   "cell_type": "code",
   "execution_count": 23,
   "metadata": {},
   "outputs": [
    {
     "data": {
      "image/png": "[encoded data removed]",
      "text/plain": [
       "<Figure size 432x288 with 1 Axes>"
      ]
     },
     "metadata": {
      "needs_background": "light"
     },
     "output_type": "display_data"
    }
   ],
   "source": [
    "decision_region(X_train, y_train, dtc)"
   ]
  },
  {
   "cell_type": "code",
   "execution_count": 24,
   "metadata": {},
   "outputs": [],
   "source": [
    "import pprint\n",
    "\n",
    "class ScratchDecesionTreeClassifier():\n",
    "    \"\"\"\n",
    "    Depth 1 decision tree classifier scratch implementation\n",
    "    Parameters\n",
    "    ----------\n",
    "    verbose : bool\n",
    "      True to output the learning process\n",
    "    \"\"\"\n",
    "    def __init__(self, verbose=False, max_depth=None):\n",
    "        # Record hyperparameters as attributes\n",
    "        self.verbose = verbose\n",
    "        # Create a list contains many Nodes, each Node include:\n",
    "        # (information_gain, feature_index, threshold, left_node, right_node)\n",
    "        # left_node and right_node can be None when there is no child node\n",
    "        self.split_det = dict()\n",
    "        self.max_depth = max_depth if max_depth is not None else np.inf\n",
    "        \n",
    "    def fit(self, X, y):\n",
    "        \"\"\"\n",
    "        Learn the decision tree classifier\n",
    "        Parameters\n",
    "        ----------\n",
    "        X : The following forms of ndarray, shape (n_samples, n_features)\n",
    "            Features of training data\n",
    "        y : The following form of ndarray, shape (n_samples,)\n",
    "            Correct answer value of training data\n",
    "        \"\"\"\n",
    "        self._get_deep(X, y, 1, self.split_det)\n",
    "        \n",
    "        if self.verbose:\n",
    "            pprint.pprint(self.split_det)\n",
    "        pass\n",
    "    \n",
    "    def predict(self, X):\n",
    "        \"\"\"\n",
    "        Estimate the label using a decision tree classifier\n",
    "        \"\"\"\n",
    "        y = np.zeros(X.shape[0])\n",
    "        for i, x in enumerate(X):\n",
    "            y[i] = self._classify(x, self.split_det)\n",
    "        return y\n",
    "    \n",
    "    def _classify(self, x, node: dict):\n",
    "        if 'class' in node.keys():\n",
    "            return node['class']\n",
    "        f_idx, threshold = node['stat'][1:]\n",
    "        if x[f_idx] >= threshold:\n",
    "            return self._classify(x, node['right'])\n",
    "        else:\n",
    "            return self._classify(x, node['left'])\n",
    "    \n",
    "    def _get_deep(self, X, y, depth, node: dict):\n",
    "        if len(np.unique(y)) == 1:\n",
    "            node['class'] = np.unique(y)[0]\n",
    "            return\n",
    "        elif depth > self.max_depth:\n",
    "            u, c = np.unique(y, return_counts = True)\n",
    "            node['class'] = u[c == c.max()][0]\n",
    "            return\n",
    "        idx, stat = self._divide(X, y, return_stat=True)\n",
    "        node['stat'] = stat\n",
    "        node['left'] = {}\n",
    "        node['right'] = {}\n",
    "        self._get_deep(X[idx[0], :], y[idx[0]], depth + 1, node['left'])\n",
    "        self._get_deep(X[idx[1], :], y[idx[1]], depth + 1, node['right'])\n",
    "    \n",
    "    def _divide(self, X_parent, y_parent, return_stat=False):\n",
    "        # Initialize arguments\n",
    "        threshold = np.inf\n",
    "        feature_index = -1\n",
    "        min_sum_imp = np.inf\n",
    "        \n",
    "        # Get information about the parent node\n",
    "        n_samples, n_features = X_parent.shape\n",
    "        count_parent = self._unique_count(y_parent)\n",
    "        gini_imp_parent = self._gini_imp(count_parent)\n",
    "        \n",
    "        # Select feature and value for threshold to divide\n",
    "        for f_idx in range(n_features):\n",
    "            unique_values_f = np.unique(X_parent[:, f_idx])\n",
    "            for val in unique_values_f:\n",
    "                y_left = y_parent[X_parent[:, f_idx] < val]\n",
    "                y_right = y_parent[X_parent[:, f_idx] >= val]\n",
    "                count_left = self._unique_count(y_left)\n",
    "                count_right = self._unique_count(y_right)\n",
    "                sum_imp = self._sum_imp(count_left, count_right)\n",
    "                if sum_imp < min_sum_imp:\n",
    "                    min_sum_imp = sum_imp\n",
    "                    feature_index = f_idx\n",
    "                    threshold = val\n",
    "        \n",
    "        max_info_gain = np.round(gini_imp_parent - (min_sum_imp / count_parent.sum()), 3)\n",
    "        index_left = X_parent[:, feature_index] < threshold\n",
    "        index_right = X_parent[:, feature_index] >= threshold\n",
    "        if not return_stat:\n",
    "            return index_left, index_right\n",
    "        else:\n",
    "            return (index_left, index_right), (max_info_gain, feature_index, threshold) \n",
    "        \n",
    "    def _unique_count(self, arr):\n",
    "        return np.unique(arr, return_counts=True)[1]\n",
    "    \n",
    "    def _gini_imp(self, count):\n",
    "        n_samples = count.sum()\n",
    "        gini = 1 - np.power((count / n_samples), 2).sum()\n",
    "        return gini\n",
    "    \n",
    "    def _info_gain(self, left, right):\n",
    "        parent = left + right\n",
    "        info_gain = self._gini_imp(parent) - self._sum_imp(left, right)\n",
    "        return info_gain\n",
    "    \n",
    "    def _sum_imp(self, left, right):\n",
    "        imp_sum = left.sum() * self._gini_imp(left) + right.sum() * self._gini_imp(right)\n",
    "        return imp_sum"
   ]
  },
  {
   "cell_type": "code",
   "execution_count": 25,
   "metadata": {},
   "outputs": [
    {
     "name": "stdout",
     "output_type": "stream",
     "text": [
      "{'left': {'class': 0}, 'right': {'class': 1}, 'stat': (0.119, 1, 5.3524)}\n"
     ]
    }
   ],
   "source": [
    "sdt1 = ScratchDecesionTreeClassifier(verbose=True, max_depth=1)\n",
    "sdt1.fit(X_train, y_train)"
   ]
  },
  {
   "cell_type": "code",
   "execution_count": 26,
   "metadata": {},
   "outputs": [
    {
     "name": "stdout",
     "output_type": "stream",
     "text": [
      "{'left': {'left': {'left': {'left': {'left': {'class': 0},\n",
      "                                     'right': {'class': 0},\n",
      "                                     'stat': (0.079, 0, -1.4621)},\n",
      "                            'right': {'class': 1},\n",
      "                            'stat': (0.225, 1, -0.72261)},\n",
      "                   'right': {'class': 0},\n",
      "                   'stat': (0.057, 1, 0.15394)},\n",
      "          'right': {'class': 1},\n",
      "          'stat': (0.05, 0, 1.3763)},\n",
      " 'right': {'left': {'left': {'class': 0},\n",
      "                    'right': {'class': 1},\n",
      "                    'stat': (0.48, 1, 9.3444)},\n",
      "           'right': {'class': 1},\n",
      "           'stat': (0.08, 0, -0.12243)},\n",
      " 'stat': (0.119, 1, 5.3524)}\n",
      "Depth 5 result\n"
     ]
    },
    {
     "data": {
      "text/html": [
       "<div>\n",
       "<style scoped>\n",
       "    .dataframe tbody tr th:only-of-type {\n",
       "        vertical-align: middle;\n",
       "    }\n",
       "\n",
       "    .dataframe tbody tr th {\n",
       "        vertical-align: top;\n",
       "    }\n",
       "\n",
       "    .dataframe thead th {\n",
       "        text-align: right;\n",
       "    }\n",
       "</style>\n",
       "<table border=\"1\" class=\"dataframe\">\n",
       "  <thead>\n",
       "    <tr style=\"text-align: right;\">\n",
       "      <th></th>\n",
       "      <th>0</th>\n",
       "      <th>1</th>\n",
       "      <th>2</th>\n",
       "      <th>3</th>\n",
       "      <th>4</th>\n",
       "      <th>5</th>\n",
       "      <th>6</th>\n",
       "      <th>7</th>\n",
       "    </tr>\n",
       "  </thead>\n",
       "  <tbody>\n",
       "    <tr>\n",
       "      <th>Predict value</th>\n",
       "      <td>0.0</td>\n",
       "      <td>1.0</td>\n",
       "      <td>0.0</td>\n",
       "      <td>0.0</td>\n",
       "      <td>1.0</td>\n",
       "      <td>1.0</td>\n",
       "      <td>0.0</td>\n",
       "      <td>0.0</td>\n",
       "    </tr>\n",
       "    <tr>\n",
       "      <th>Actual value</th>\n",
       "      <td>0.0</td>\n",
       "      <td>1.0</td>\n",
       "      <td>1.0</td>\n",
       "      <td>1.0</td>\n",
       "      <td>1.0</td>\n",
       "      <td>0.0</td>\n",
       "      <td>1.0</td>\n",
       "      <td>1.0</td>\n",
       "    </tr>\n",
       "  </tbody>\n",
       "</table>\n",
       "</div>"
      ],
      "text/plain": [
       "                 0    1    2    3    4    5    6    7\n",
       "Predict value  0.0  1.0  0.0  0.0  1.0  1.0  0.0  0.0\n",
       "Actual value   0.0  1.0  1.0  1.0  1.0  0.0  1.0  1.0"
      ]
     },
     "metadata": {},
     "output_type": "display_data"
    },
    {
     "name": "stdout",
     "output_type": "stream",
     "text": [
      "              precision    recall  f1-score   support\n",
      "\n",
      "           0       0.20      0.50      0.29         2\n",
      "           1       0.67      0.33      0.44         6\n",
      "\n",
      "    accuracy                           0.38         8\n",
      "   macro avg       0.43      0.42      0.37         8\n",
      "weighted avg       0.55      0.38      0.40         8\n",
      "\n"
     ]
    }
   ],
   "source": [
    "i = 5\n",
    "sdt = ScratchDecesionTreeClassifier(verbose=True, max_depth=i)\n",
    "sdt.fit(X_train, y_train)\n",
    "sdt_pred = sdt.predict(X_test)\n",
    "\n",
    "print('Depth {} result'.format(i))\n",
    "display(pd.DataFrame([sdt_pred, y_test], index=['Predict value', 'Actual value']))\n",
    "\n",
    "print(classification_report(y_test, sdt_pred))"
   ]
  },
  {
   "cell_type": "code",
   "execution_count": 27,
   "metadata": {},
   "outputs": [
    {
     "data": {
      "text/html": [
       "<div>\n",
       "<style scoped>\n",
       "    .dataframe tbody tr th:only-of-type {\n",
       "        vertical-align: middle;\n",
       "    }\n",
       "\n",
       "    .dataframe tbody tr th {\n",
       "        vertical-align: top;\n",
       "    }\n",
       "\n",
       "    .dataframe thead th {\n",
       "        text-align: right;\n",
       "    }\n",
       "</style>\n",
       "<table border=\"1\" class=\"dataframe\">\n",
       "  <thead>\n",
       "    <tr style=\"text-align: right;\">\n",
       "      <th></th>\n",
       "      <th>0</th>\n",
       "      <th>1</th>\n",
       "      <th>2</th>\n",
       "      <th>3</th>\n",
       "      <th>4</th>\n",
       "      <th>5</th>\n",
       "      <th>6</th>\n",
       "      <th>7</th>\n",
       "    </tr>\n",
       "  </thead>\n",
       "  <tbody>\n",
       "    <tr>\n",
       "      <th>Predict value</th>\n",
       "      <td>0</td>\n",
       "      <td>0</td>\n",
       "      <td>0</td>\n",
       "      <td>0</td>\n",
       "      <td>1</td>\n",
       "      <td>1</td>\n",
       "      <td>0</td>\n",
       "      <td>1</td>\n",
       "    </tr>\n",
       "    <tr>\n",
       "      <th>Actual value</th>\n",
       "      <td>0</td>\n",
       "      <td>1</td>\n",
       "      <td>1</td>\n",
       "      <td>1</td>\n",
       "      <td>1</td>\n",
       "      <td>0</td>\n",
       "      <td>1</td>\n",
       "      <td>1</td>\n",
       "    </tr>\n",
       "  </tbody>\n",
       "</table>\n",
       "</div>"
      ],
      "text/plain": [
       "               0  1  2  3  4  5  6  7\n",
       "Predict value  0  0  0  0  1  1  0  1\n",
       "Actual value   0  1  1  1  1  0  1  1"
      ]
     },
     "metadata": {},
     "output_type": "display_data"
    }
   ],
   "source": [
    "dtc = DecisionTreeClassifier(max_depth=5)\n",
    "dtc.fit(X_train, y_train)\n",
    "dtc_pred = dtc.predict(X_test)\n",
    "display(pd.DataFrame([dtc_pred, y_test], index=['Predict value', 'Actual value']))"
   ]
  },
  {
   "cell_type": "code",
   "execution_count": 28,
   "metadata": {},
   "outputs": [
    {
     "name": "stdout",
     "output_type": "stream",
     "text": [
      "              precision    recall  f1-score   support\n",
      "\n",
      "           0       0.20      0.50      0.29         2\n",
      "           1       0.67      0.33      0.44         6\n",
      "\n",
      "    accuracy                           0.38         8\n",
      "   macro avg       0.43      0.42      0.37         8\n",
      "weighted avg       0.55      0.38      0.40         8\n",
      "\n"
     ]
    }
   ],
   "source": [
    "print(classification_report(y_test, dtc_pred))"
   ]
  },
  {
   "cell_type": "code",
   "execution_count": 29,
   "metadata": {},
   "outputs": [
    {
     "data": {
      "image/png": "[encoded data removed]",
      "text/plain": [
       "<Figure size 432x288 with 1 Axes>"
      ]
     },
     "metadata": {
      "needs_background": "light"
     },
     "output_type": "display_data"
    }
   ],
   "source": [
    "decision_region(X_train, y_train, sdt)"
   ]
  },
  {
   "cell_type": "code",
   "execution_count": 30,
   "metadata": {},
   "outputs": [
    {
     "data": {
      "image/png": "[encoded data removed]",
      "text/plain": [
       "<Figure size 432x288 with 1 Axes>"
      ]
     },
     "metadata": {
      "needs_background": "light"
     },
     "output_type": "display_data"
    }
   ],
   "source": [
    "decision_region(X_train, y_train, dtc)"
   ]
  }
 ],
 "metadata": {
  "kernelspec": {
   "display_name": "Python 3",
   "language": "python",
   "name": "python3"
  },
  "language_info": {
   "codemirror_mode": {
    "name": "ipython",
    "version": 3
   },
   "file_extension": ".py",
   "mimetype": "text/x-python",
   "name": "python",
   "nbconvert_exporter": "python",
   "pygments_lexer": "ipython3",
   "version": "3.8.5"
  }
 },
 "nbformat": 4,
 "nbformat_minor": 4
}
