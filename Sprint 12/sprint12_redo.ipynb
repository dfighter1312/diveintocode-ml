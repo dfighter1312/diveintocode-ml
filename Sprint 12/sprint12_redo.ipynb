{
 "cells": [
  {
   "cell_type": "markdown",
   "id": "04bc0c0f",
   "metadata": {},
   "source": [
    "# Sprint 12\n",
    "\n",
    "# SimpleConv2d\n",
    "\n",
    "## Setup"
   ]
  },
  {
   "cell_type": "code",
   "execution_count": 1,
   "id": "54d941f0",
   "metadata": {},
   "outputs": [],
   "source": [
    "import numpy as np"
   ]
  },
  {
   "cell_type": "code",
   "execution_count": 2,
   "id": "5eeeb57d",
   "metadata": {},
   "outputs": [],
   "source": [
    "class SimpleInitializer:\n",
    "    \"\"\"\n",
    "    Simple initialization with Gaussian distribution\n",
    "    Parameters\n",
    "    ----------\n",
    "    sigma : float\n",
    "      Standard deviation of Gaussian distribution\n",
    "    \"\"\"\n",
    "    def __init__(self, sigma=0.01):\n",
    "        self.sigma = sigma\n",
    "        \n",
    "    def W(self, *shape):\n",
    "        \"\"\"\n",
    "        Weight initialization\n",
    "        Parameters\n",
    "        ----------\n",
    "        n_nodes1 : int\n",
    "          Number of nodes in the previous layer\n",
    "        n_nodes2 : int\n",
    "          Number of nodes in the later layer\n",
    "        Returns\n",
    "        ----------\n",
    "        W :\n",
    "        \"\"\"\n",
    "        W = self.sigma * np.random.randn(*shape)\n",
    "        return W\n",
    "    \n",
    "    def B(self, *shape):\n",
    "        \"\"\"\n",
    "        Bias initialization\n",
    "        Parameters\n",
    "        ----------\n",
    "        n_nodes2 : int\n",
    "          Number of nodes in the later layer\n",
    "        Returns\n",
    "        ----------\n",
    "        B :\n",
    "        \"\"\"\n",
    "        B = self.sigma * np.random.randn(*shape)\n",
    "        return B"
   ]
  },
  {
   "cell_type": "code",
   "execution_count": 3,
   "id": "759d44e4",
   "metadata": {},
   "outputs": [],
   "source": [
    "class HeInitializer:\n",
    "    \n",
    "    def W(self, n_nodes1, n_nodes2):\n",
    "        self.sigma = np.sqrt(2 / n_nodes1)\n",
    "        W = self.sigma * np.random.randn(n_nodes1, n_nodes2)\n",
    "        return W\n",
    "    \n",
    "    def B(self, n_nodes2):\n",
    "        B = self.sigma * np.random.randn(1, n_nodes2)\n",
    "        return B"
   ]
  },
  {
   "cell_type": "code",
   "execution_count": 4,
   "id": "19a033ff",
   "metadata": {},
   "outputs": [],
   "source": [
    "class SimpleInitializerConv2d:\n",
    "    \n",
    "    def __init__(self, sigma=0.01):\n",
    "        self.sigma = sigma\n",
    "        \n",
    "    def W(self, F, C, FH, FW):\n",
    "        return self.sigma * np.random.randn(F, C, FH, FW)\n",
    "    \n",
    "    def B(self, F):\n",
    "        return np.zeros(F)"
   ]
  },
  {
   "cell_type": "code",
   "execution_count": 5,
   "id": "c3c8ed91",
   "metadata": {},
   "outputs": [],
   "source": [
    "class SGD:\n",
    "    \"\"\"\n",
    "    Stochastic gradient descent\n",
    "    Parameters\n",
    "    ----------\n",
    "    lr : Learning rate\n",
    "    \"\"\"\n",
    "    \n",
    "    def __init__(self, lr):\n",
    "        self.lr = lr\n",
    "        \n",
    "    def update(self, layer):\n",
    "        \"\"\"\n",
    "        Update weights and biases for a layer\n",
    "        Parameters\n",
    "        ----------\n",
    "        layer : Instance of the layer before update\n",
    "        \"\"\"\n",
    "        layer.W -= self.lr * layer.dW\n",
    "        layer.B -= self.lr * layer.dB\n",
    "        return layer"
   ]
  },
  {
   "cell_type": "code",
   "execution_count": 6,
   "id": "774183dd",
   "metadata": {},
   "outputs": [],
   "source": [
    "class AdaGrad:\n",
    "    \n",
    "    def __init__(self, lr):\n",
    "        self.lr = lr\n",
    "        self.HW = 0.0\n",
    "        self.HB = 0.0\n",
    "        \n",
    "    def update(self, layer):\n",
    "        self.HW += layer.dW * layer.dW\n",
    "        self.HB = layer.dB * layer.dB\n",
    "        delta = 1e-7\n",
    "        layer.W -= self.lr * layer.dW / (np.sqrt(self.HW) + delta)\n",
    "        layer.B -= self.lr * layer.dB / (np.sqrt(self.HB) + delta)\n",
    "        return layer"
   ]
  },
  {
   "cell_type": "code",
   "execution_count": 7,
   "id": "d4142851",
   "metadata": {},
   "outputs": [],
   "source": [
    "class ReLU:\n",
    "    \n",
    "    def forward(self, A):\n",
    "        self.A = A\n",
    "        Z = np.maximum(0, A)\n",
    "        return Z\n",
    "    \n",
    "    def backward(self, dZ):\n",
    "        dA = dZ * np.where(self.A > 0, 1, 0)\n",
    "        return dA"
   ]
  },
  {
   "cell_type": "code",
   "execution_count": 8,
   "id": "b6419960",
   "metadata": {},
   "outputs": [],
   "source": [
    "class Softmax:\n",
    "    \n",
    "    def forward(self, A):\n",
    "        self.Z = np.exp(A - np.max(A)) / np.sum(np.exp(A - np.max(A)), axis=1, keepdims=True)\n",
    "        return self.Z\n",
    "    \n",
    "    def backward(self, dZ):\n",
    "        return dZ"
   ]
  },
  {
   "cell_type": "code",
   "execution_count": 9,
   "id": "8f9b35b0",
   "metadata": {},
   "outputs": [],
   "source": [
    "class GetMiniBatch:\n",
    "    \"\"\"\n",
    "    Iterator to get a mini-batch\n",
    "    Parameters\n",
    "    ----------\n",
    "    X : The following forms of ndarray, shape (n_samples, n_features)\n",
    "      Training data\n",
    "    y : The following form of ndarray, shape (n_samples, 1)\n",
    "      Correct answer value\n",
    "    batch_size : int\n",
    "      Batch size\n",
    "    seed : int\n",
    "      NumPy random number seed\n",
    "    \"\"\"\n",
    "    \n",
    "    def __init__(self, X, y, batch_size = 20, seed=0):\n",
    "        self.batch_size = batch_size\n",
    "        np.random.seed(seed)\n",
    "        shuffle_index = np.random.permutation(np.arange(X.shape[0]))\n",
    "        self._X = X[shuffle_index]\n",
    "        self._y = y[shuffle_index]\n",
    "        self._stop = np.ceil(X.shape[0]/self.batch_size).astype(np.int)\n",
    "        \n",
    "    def __len__(self):\n",
    "        return self._stop\n",
    "    \n",
    "    def __getitem__(self,item):\n",
    "        p0 = item*self.batch_size\n",
    "        p1 = item*self.batch_size + self.batch_size\n",
    "        return self._X[p0:p1], self._y[p0:p1]        \n",
    "    \n",
    "    def __iter__(self):\n",
    "        self._counter = 0\n",
    "        return self\n",
    "    \n",
    "    def __next__(self):\n",
    "        if self._counter >= self._stop:\n",
    "            raise StopIteration()\n",
    "        p0 = self._counter*self.batch_size\n",
    "        p1 = self._counter*self.batch_size + self.batch_size\n",
    "        self._counter += 1\n",
    "        return self._X[p0:p1], self._y[p0:p1]"
   ]
  },
  {
   "cell_type": "code",
   "execution_count": 10,
   "id": "c0a1f72a",
   "metadata": {},
   "outputs": [],
   "source": [
    "class FC:\n",
    "    \"\"\"\n",
    "    Number of nodes Fully connected layer from n_nodes1 to n_nodes2\n",
    "    Parameters\n",
    "    ----------\n",
    "    n_nodes1 : int\n",
    "      Number of nodes in the previous layer\n",
    "    n_nodes2 : int\n",
    "      Number of nodes in the later layer\n",
    "    initializer: instance of initialization method\n",
    "    optimizer: instance of optimization method\n",
    "    \"\"\"\n",
    "    def __init__(self, n_nodes1, n_nodes2, initializer, optimizer, activation):\n",
    "        self.optimizer = optimizer\n",
    "        self.n_nodes1 = n_nodes1\n",
    "        self.n_nodes2 = n_nodes2\n",
    "        self.W = initializer.W(self.n_nodes1, self.n_nodes2)\n",
    "        self.B = initializer.B(self.n_nodes2)\n",
    "        self.optimizer = optimizer\n",
    "        self.activation = activation\n",
    "        pass\n",
    "    \n",
    "    def forward(self, X):\n",
    "        \"\"\"\n",
    "        forward\n",
    "        Parameters\n",
    "        ----------\n",
    "        X : The following forms of ndarray, shape (batch_size, n_nodes1)\n",
    "            入力\n",
    "        Returns\n",
    "        ----------\n",
    "        A : The following forms of ndarray, shape (batch_size, n_nodes2)\n",
    "            output\n",
    "        \"\"\"\n",
    "        self.X = X\n",
    "        self.A = np.dot(self.X, self.W) + self.B\n",
    "        return self.activation.forward(self.A)\n",
    "    \n",
    "    def backward(self, dZ):\n",
    "        \"\"\"\n",
    "        Backward\n",
    "        Parameters\n",
    "        ----------\n",
    "        dA : The following forms of ndarray, shape (batch_size, n_nodes2)\n",
    "            Gradient flowing from behind\n",
    "        Returns\n",
    "        ----------\n",
    "        dZ : The following forms of ndarray, shape (batch_size, n_nodes1)\n",
    "            Gradient to flow forward\n",
    "        \"\"\"\n",
    "        dA = self.activation.backward(dZ)\n",
    "        self.dB = np.sum(dA, axis=0)\n",
    "        self.dW = np.dot(self.X.T, dA) / len(self.X)\n",
    "        self.dZ = np.dot(dA, self.W.T)\n",
    "        self = self.optimizer.update(self)\n",
    "        return self.dZ"
   ]
  },
  {
   "cell_type": "markdown",
   "id": "d4f857c2",
   "metadata": {},
   "source": [
    "## Problem 1-3"
   ]
  },
  {
   "cell_type": "code",
   "execution_count": 11,
   "id": "35d36fab",
   "metadata": {},
   "outputs": [],
   "source": [
    "class SimpleConv2d():\n",
    "    \"\"\"\n",
    "    2D convolutional layer\n",
    "    Parameters\n",
    "    -------\n",
    "    F: Number of output channels\n",
    "    C: Number of input channels\n",
    "    FH: Filter's height.\n",
    "    FC: Filter's width.\n",
    "    P: Padding.\n",
    "    S: Stride.\n",
    "    initializer: Instances of initialization methods\n",
    "    optimizer: Instances of optimization methods\n",
    "    \"\"\"\n",
    "    def __init__(self, F, C, FH, FW, P=0, S=1, initializer=None, optimizer=None, activation=None):\n",
    "        # Create initializer\n",
    "        if isinstance(initializer, tuple) and len(initializer) == 2:\n",
    "            self.W = initializer[0]\n",
    "            self.B = initializer[1]\n",
    "        elif initializer is not None:\n",
    "            self.initializer = initializer\n",
    "            self.W = self.initializer.W(F, C, FH, FW)\n",
    "            self.B = self.initializer.B(F)\n",
    "        else:\n",
    "            raise TypeError('Need an initializer')\n",
    "        \n",
    "        if not isinstance(S, int) or S < 1:\n",
    "            raise ValueError('S must be an postive integer')\n",
    "        if not isinstance(P, int) or P < 0:\n",
    "            raise ValueError('P must be an non-negative integer')\n",
    "        self.P = P\n",
    "        self.S = S\n",
    "        self.F = F\n",
    "        self.C = C\n",
    "        self.FH = FH\n",
    "        self.FW = FW\n",
    "        \n",
    "        # Other setup\n",
    "        self.optimizer = optimizer\n",
    "        self.activation = activation\n",
    "        \n",
    "    def output_shape(self, H, W, P, FH, FW, S):\n",
    "        OH = (H + 2*P - FH) / S + 1\n",
    "        OW = (W + 2*P - FW) / S + 1\n",
    "        return int(OH), int(OW)\n",
    "    \n",
    "    def forward(self, X):\n",
    "        \"\"\"\n",
    "        Forward method.\n",
    "        Parameters\n",
    "        -------\n",
    "        X: ndarray\n",
    "            Input data\n",
    "        Returns\n",
    "        -------\n",
    "        A: ndarray\n",
    "            Output data\n",
    "        \"\"\"\n",
    "        self.X = X\n",
    "        self.N, C, self.H, self.WD = self.X.shape\n",
    "        \n",
    "        if C != self.C:\n",
    "            raise ValueError(f'Incorrect shape of X, expected {self.C}, but got {C}')\n",
    "            \n",
    "        self.OH, self.OW = self.output_shape(self.H, self.WD, self.P, self.FH, self.FW, self.S)\n",
    "        \n",
    "        A = np.zeros([self.N, self.F, self.OH, self.OW])\n",
    "        self.X_pad = np.pad(\n",
    "            self.X,\n",
    "            ((0,0), (0,0), (self.P, self.P), (self.P, self.P))\n",
    "        )\n",
    "\n",
    "        for n in range(self.N):\n",
    "            for ch in range(self.F):\n",
    "                for row in range(0, self.OH, self.S):\n",
    "                    for col in range(0, self.OW, self.S):\n",
    "                        A[n, ch, row, col] = np.sum(self.X_pad[n, :, row:row+self.FH, col:col+self.FW] \\\n",
    "                                             * self.W[ch, :, :, :]) + self.B[ch]\n",
    "        if self.activation is None:\n",
    "            return A\n",
    "        return self.activation.forward(A)\n",
    "    \n",
    "    def backward(self, dZ):\n",
    "        \"\"\"\n",
    "        Backward method.\n",
    "        Parameters\n",
    "        -------\n",
    "        dZ: \n",
    "            The gradient flown in from behind.\n",
    "        Returns\n",
    "        -------\n",
    "        dZ: ndarray\n",
    "            Forward slope\n",
    "        \"\"\"\n",
    "        if self.activation is None:\n",
    "            dA = dZ\n",
    "        else:\n",
    "            dA = self.activation.backward(dZ)\n",
    "        \n",
    "        dZ = np.zeros(self.X_pad.shape)\n",
    "        self.dW = np.zeros(self.W.shape)\n",
    "        self.dB = np.zeros(self.B.shape)\n",
    "        \n",
    "        for n in range(self.N):\n",
    "            for ch in range(self.F):\n",
    "                for row in range(0, self.OH, self.S):\n",
    "                    for col in range(0, self.OW, self.S):\n",
    "                        dZ[n, :, row:row+self.FH, col:col+self.FW] += dA[n, ch, row, col] * self.W[ch, :, :, :]\n",
    "                        \n",
    "        dl_rows = range(self.P), range(self.H + self.P, self.H + 2*self.P, 1)\n",
    "        dl_cols = range(self.P), range(self.WD + self.P, self.WD + 2*self.P, 1)\n",
    "        \n",
    "        dZ = np.delete(dZ, dl_rows, axis=2)\n",
    "        dZ = np.delete(dZ, dl_cols, axis=3)\n",
    "        \n",
    "        for n in range(self.N):\n",
    "            for ch in range(self.F):\n",
    "                for row in range(self.OH):\n",
    "                    for col in range(self.OW):\n",
    "                        self.dW[ch, :, :, :] += dA[n, ch, row, col] * self.X_pad[n, :, row:row+self.FH, col:col+self.FW]\n",
    "                        \n",
    "        for ch in range(self.F):\n",
    "            self.dB[ch] = np.sum(dA[:, ch, :, :])\n",
    "        \n",
    "        # Update\n",
    "        if self.optimizer is not None:\n",
    "            self = self.optimizer.update(self)\n",
    "        \n",
    "        return dZ"
   ]
  },
  {
   "cell_type": "code",
   "execution_count": 12,
   "id": "002d21de",
   "metadata": {},
   "outputs": [],
   "source": [
    "# (1,1,4,4)\n",
    "x = np.array([[[[ 1,  2,  3,  4],\n",
    "                [ 5,  6,  7,  8],\n",
    "                [ 9, 10, 11, 12],\n",
    "                [13, 14, 15, 16]]]])\n",
    "# (2,1,3,3)\n",
    "w = np.array([[[[ 0.,  0.,  0.],\n",
    "               [ 0.,  1.,  0.],\n",
    "               [ 0., -1.,  0.]]],\n",
    "              [[[ 0.,  0.,  0.],\n",
    "               [ 0., -1.,  1.],\n",
    "               [ 0.,  0.,  0.]]]])\n",
    "\n",
    "b = np.array([0, 0])"
   ]
  },
  {
   "cell_type": "code",
   "execution_count": 13,
   "id": "beb7d7e8",
   "metadata": {},
   "outputs": [
    {
     "data": {
      "text/plain": [
       "array([[[[-4., -4.],\n",
       "         [-4., -4.]],\n",
       "\n",
       "        [[ 1.,  1.],\n",
       "         [ 1.,  1.]]]])"
      ]
     },
     "execution_count": 13,
     "metadata": {},
     "output_type": "execute_result"
    }
   ],
   "source": [
    "test1 = SimpleConv2d(2, 1, 3, 3, initializer=(w, b))\n",
    "result = test1.forward(x)\n",
    "result"
   ]
  },
  {
   "cell_type": "code",
   "execution_count": 14,
   "id": "97391eff",
   "metadata": {},
   "outputs": [
    {
     "data": {
      "text/plain": [
       "array([[[[  0.,   0.,   0.,   0.],\n",
       "         [  0.,  -5.,   4.,  -7.],\n",
       "         [  0.,  13.,  27., -11.],\n",
       "         [  0., -10., -11.,   0.]]]])"
      ]
     },
     "execution_count": 14,
     "metadata": {},
     "output_type": "execute_result"
    }
   ],
   "source": [
    "dZ = np.array([[[[ -4,  -4],\n",
    "                   [ 10,  11]],\n",
    "                  [[  1,  -7],\n",
    "                   [  1, -11]]]])\n",
    "\n",
    "back_result = test1.backward(dZ)\n",
    "back_result"
   ]
  },
  {
   "cell_type": "code",
   "execution_count": 15,
   "id": "eddc76ae",
   "metadata": {},
   "outputs": [
    {
     "data": {
      "text/plain": [
       "(5, 4, 28, 28)"
      ]
     },
     "execution_count": 15,
     "metadata": {},
     "output_type": "execute_result"
    }
   ],
   "source": [
    "test2 = SimpleConv2d(4, 1, 3, 3, P=1, initializer=(np.ones([4, 1, 3, 3]), np.ones(4)))\n",
    "result2 = test2.forward(np.ones([5, 1, 28, 28]))\n",
    "result2.shape"
   ]
  },
  {
   "cell_type": "code",
   "execution_count": 16,
   "id": "18d0d030",
   "metadata": {
    "scrolled": true
   },
   "outputs": [
    {
     "data": {
      "text/plain": [
       "((5, 1, 28, 28), (4, 1, 3, 3), (4,))"
      ]
     },
     "execution_count": 16,
     "metadata": {},
     "output_type": "execute_result"
    }
   ],
   "source": [
    "back_result2 = test2.backward(np.zeros([5, 4, 28, 28]))\n",
    "back_result2.shape, test2.dW.shape, test2.dB.shape"
   ]
  },
  {
   "cell_type": "markdown",
   "id": "3dff92a7",
   "metadata": {},
   "source": [
    "## [Problem 5] (Advance task) Creating average pooling"
   ]
  },
  {
   "cell_type": "code",
   "execution_count": 17,
   "id": "3912fd61",
   "metadata": {},
   "outputs": [],
   "source": [
    "class MaxPool2D():\n",
    "    \n",
    "    def __init__(self, P):\n",
    "        self.P = P\n",
    "        self.PA = None\n",
    "        self.Pidx = None\n",
    "        \n",
    "    def forward(self, A):\n",
    "        N, F, OH, OW = A.shape\n",
    "        PS = self.P\n",
    "        PH, PW = int(OH/PS), int(OW/PS)\n",
    "        \n",
    "        self.params = N, F, OH, OW, PS, PH, PW\n",
    "        \n",
    "        # Pooling filter\n",
    "        self.PA = np.zeros((N, F, PH, PW))\n",
    "        self.Pidx = np.zeros((N, F, PH, PW))\n",
    "        \n",
    "        for n in range(N):\n",
    "            for ch in range(F):\n",
    "                for row in range(PH):\n",
    "                    for col in range(PW):\n",
    "                        self.PA[n, ch, row, col] = np.max(A[n, ch, row*PS:row*PS+PS, col*PS:col*PS+PS])\n",
    "                        self.Pidx[n, ch, row, col] = np.argmax(A[n, ch, row*PS:row*PS+PS, col*PS:col*PS+PS])\n",
    "        return self.PA\n",
    "    \n",
    "    def backward(self, dA):\n",
    "        N, F, OH, OW, PS, PH, PW = self.params\n",
    "        dP = np.zeros((N, F, OH, OW))\n",
    "        \n",
    "        for n in range(N):\n",
    "            for ch in range(F):\n",
    "                for row in range(PH):\n",
    "                    for col in range(PW):\n",
    "                        idx = self.Pidx[n, ch, row, col]\n",
    "                        tmp = np.zeros((PS*PS))\n",
    "                        for i in range(PS*PS):\n",
    "                            if i == idx:\n",
    "                                tmp[i] = dA[n, ch, row, col]\n",
    "                            else:\n",
    "                                tmp[i] = 0\n",
    "                        dP[n, ch, row*PS:row*PS+PS, col*PS:col*PS+PS] = tmp.reshape(PS, PS)\n",
    "        return dP"
   ]
  },
  {
   "cell_type": "code",
   "execution_count": 18,
   "id": "231d88be",
   "metadata": {},
   "outputs": [
    {
     "data": {
      "text/plain": [
       "(1, 1, 6, 6)"
      ]
     },
     "execution_count": 18,
     "metadata": {},
     "output_type": "execute_result"
    }
   ],
   "source": [
    "X = np.array([[[\n",
    "    [3, 6, 0, 3, 1, 0],\n",
    "    [6, 8, 3, 4, 1, 0],\n",
    "    [7, 8, 6, 6, 8, 2],\n",
    "    [7, 6, 4, 4, 0, 2],\n",
    "    [0, 6, 6, 1, 5, 7],\n",
    "    [0, 5, 5, 4, 7, 7]\n",
    "]]])\n",
    "X.shape"
   ]
  },
  {
   "cell_type": "code",
   "execution_count": 19,
   "id": "5c084875",
   "metadata": {},
   "outputs": [
    {
     "data": {
      "text/plain": [
       "array([[[[8., 4., 1.],\n",
       "         [8., 6., 8.],\n",
       "         [6., 6., 7.]]]])"
      ]
     },
     "execution_count": 19,
     "metadata": {},
     "output_type": "execute_result"
    }
   ],
   "source": [
    "pooling = MaxPool2D(P=2)\n",
    "A = pooling.forward(X)\n",
    "\n",
    "A"
   ]
  },
  {
   "cell_type": "code",
   "execution_count": 20,
   "id": "13c247b2",
   "metadata": {},
   "outputs": [
    {
     "data": {
      "text/plain": [
       "array([[[[3., 3., 0.],\n",
       "         [1., 0., 0.],\n",
       "         [1., 0., 1.]]]])"
      ]
     },
     "execution_count": 20,
     "metadata": {},
     "output_type": "execute_result"
    }
   ],
   "source": [
    "pooling.Pidx"
   ]
  },
  {
   "cell_type": "code",
   "execution_count": 21,
   "id": "5f3c5bd2",
   "metadata": {},
   "outputs": [],
   "source": [
    "dA = A"
   ]
  },
  {
   "cell_type": "code",
   "execution_count": 22,
   "id": "78791033",
   "metadata": {},
   "outputs": [
    {
     "data": {
      "text/plain": [
       "array([[[[0., 0., 0., 0., 1., 0.],\n",
       "         [0., 8., 0., 4., 0., 0.],\n",
       "         [0., 8., 6., 0., 8., 0.],\n",
       "         [0., 0., 0., 0., 0., 0.],\n",
       "         [0., 6., 6., 0., 0., 7.],\n",
       "         [0., 0., 0., 0., 0., 0.]]]])"
      ]
     },
     "execution_count": 22,
     "metadata": {},
     "output_type": "execute_result"
    }
   ],
   "source": [
    "dZ = pooling.backward(dA)\n",
    "dZ"
   ]
  },
  {
   "cell_type": "markdown",
   "id": "65cd1f6d",
   "metadata": {},
   "source": [
    "## [Problem 5] Create Average Pooling"
   ]
  },
  {
   "cell_type": "code",
   "execution_count": 23,
   "id": "18d87aa9",
   "metadata": {},
   "outputs": [],
   "source": [
    "class AveragePool2D():\n",
    "    \n",
    "    def __init__(self, P):\n",
    "        self.P = P\n",
    "        self.PA = None\n",
    "        self.Pidx = None\n",
    "        \n",
    "    def forward(self, A):\n",
    "        N, F, OH, OW = A.shape\n",
    "        PS = self.P\n",
    "        PH, PW = int(OH/PS), int(OW/PS)\n",
    "        \n",
    "        self.params = N, F, OH, OW, PS, PH, PW\n",
    "        \n",
    "        # Pooling filter\n",
    "        self.PA = np.zeros((N, F, PH, PW))\n",
    "        self.Pidx = np.zeros((N, F, PH, PW))\n",
    "        \n",
    "        for n in range(N):\n",
    "            for ch in range(F):\n",
    "                for row in range(PH):\n",
    "                    for col in range(PW):\n",
    "                        self.PA[n, ch, row, col] = np.mean(A[n, ch, row*PS:row*PS+PS, col*PS:col*PS+PS])\n",
    "                        \n",
    "        return self.PA\n",
    "    \n",
    "    def backward(self, dA):\n",
    "        N, F, OH, OW, PS, PH, PW = self.params\n",
    "        dP = np.zeros((N, F, OH, OW))\n",
    "        \n",
    "        for n in range(N):\n",
    "            for ch in range(F):\n",
    "                for row in range(PH):\n",
    "                    for col in range(PW):\n",
    "                        tmp = np.zeros((PS*PS))\n",
    "                        for i in range(PS*PS):\n",
    "                            tmp[i] = dA[n, ch, row, col] / (PS*PS)\n",
    "                        dP[n, ch, row*PS:row*PS+PS, col*PS:col*PS+PS] = tmp.reshape(PS, PS)\n",
    "        return dP"
   ]
  },
  {
   "cell_type": "code",
   "execution_count": 24,
   "id": "3a6a41e8",
   "metadata": {},
   "outputs": [],
   "source": [
    "X = np.array([[[\n",
    "    [2, 1, 2, 3, 0, 2],\n",
    "    [4, 4, 8, 8, 8, 0],\n",
    "    [5, 8, 0, 8, 7, 0],\n",
    "    [8, 3, 0, 0, 0, 5],\n",
    "    [0, 8, 3, 0, 5, 7],\n",
    "    [4, 8, 3, 6, 7, 6]\n",
    "]]])"
   ]
  },
  {
   "cell_type": "code",
   "execution_count": 25,
   "id": "dbf45222",
   "metadata": {},
   "outputs": [
    {
     "data": {
      "text/plain": [
       "array([[[[2.75, 5.25, 2.5 ],\n",
       "         [6.  , 2.  , 3.  ],\n",
       "         [5.  , 3.  , 6.25]]]])"
      ]
     },
     "execution_count": 25,
     "metadata": {},
     "output_type": "execute_result"
    }
   ],
   "source": [
    "pooling = AveragePool2D(P=2)\n",
    "A = pooling.forward(X)\n",
    "A"
   ]
  },
  {
   "cell_type": "code",
   "execution_count": 26,
   "id": "497b3683",
   "metadata": {},
   "outputs": [],
   "source": [
    "dA = np.array([[[\n",
    "    [2, 6, 6],\n",
    "    [6, 5, 3],\n",
    "    [3, 6, 5]\n",
    "]]])"
   ]
  },
  {
   "cell_type": "code",
   "execution_count": 27,
   "id": "f323af04",
   "metadata": {
    "scrolled": true
   },
   "outputs": [
    {
     "data": {
      "text/plain": [
       "array([[[[0.5 , 0.5 , 1.5 , 1.5 , 1.5 , 1.5 ],\n",
       "         [0.5 , 0.5 , 1.5 , 1.5 , 1.5 , 1.5 ],\n",
       "         [1.5 , 1.5 , 1.25, 1.25, 0.75, 0.75],\n",
       "         [1.5 , 1.5 , 1.25, 1.25, 0.75, 0.75],\n",
       "         [0.75, 0.75, 1.5 , 1.5 , 1.25, 1.25],\n",
       "         [0.75, 0.75, 1.5 , 1.5 , 1.25, 1.25]]]])"
      ]
     },
     "execution_count": 27,
     "metadata": {},
     "output_type": "execute_result"
    }
   ],
   "source": [
    "dZ = pooling.backward(dA)\n",
    "dZ"
   ]
  },
  {
   "cell_type": "markdown",
   "id": "cf517be0",
   "metadata": {},
   "source": [
    "## [Problem 6] Flatten"
   ]
  },
  {
   "cell_type": "code",
   "execution_count": 28,
   "id": "e53486da",
   "metadata": {},
   "outputs": [],
   "source": [
    "class Flatten():\n",
    "    \n",
    "    def forward(self, X):\n",
    "        self.shape = X.shape\n",
    "        return X.reshape(len(X), -1)\n",
    "    \n",
    "    def backward(self, X):\n",
    "        return X.reshape(self.shape)"
   ]
  },
  {
   "cell_type": "code",
   "execution_count": 29,
   "id": "b2d9fe5f",
   "metadata": {},
   "outputs": [
    {
     "data": {
      "text/plain": [
       "(10, 30000)"
      ]
     },
     "execution_count": 29,
     "metadata": {},
     "output_type": "execute_result"
    }
   ],
   "source": [
    "X = np.zeros((10, 20, 30, 50))\n",
    "flat = Flatten()\n",
    "flat_forward = flat.forward(X)\n",
    "flat_forward.shape"
   ]
  },
  {
   "cell_type": "code",
   "execution_count": 30,
   "id": "805ebe19",
   "metadata": {},
   "outputs": [
    {
     "data": {
      "text/plain": [
       "(10, 20, 30, 50)"
      ]
     },
     "execution_count": 30,
     "metadata": {},
     "output_type": "execute_result"
    }
   ],
   "source": [
    "flat.backward(flat_forward).shape"
   ]
  },
  {
   "cell_type": "markdown",
   "id": "f3c31bbb",
   "metadata": {},
   "source": [
    "## [Problem 7] Learning and estimation"
   ]
  },
  {
   "cell_type": "code",
   "execution_count": 31,
   "id": "547b15df",
   "metadata": {},
   "outputs": [],
   "source": [
    "from sklearn.metrics import accuracy_score\n",
    "\n",
    "class Scratch2dCNNClassifier():\n",
    "    \n",
    "    def __init__(self, NN, CNN, n_epoch=5, n_batch=1, verbose=False):\n",
    "        self.NN = NN\n",
    "        self.CNN = CNN\n",
    "        self.n_epoch = n_epoch\n",
    "        self.n_batch = n_batch\n",
    "        self.verbose = verbose\n",
    "        self.losses = []\n",
    "        self.val_losses = []\n",
    "        self.accs = []\n",
    "        self.val_accs = []\n",
    "        \n",
    "    def loss_function(self, y, yt):\n",
    "        delta = 1e-7\n",
    "        return -np.mean(yt*np.log(y+delta))\n",
    "    \n",
    "    def accuracy(self, Z, Y):\n",
    "        return accuracy_score(Y, Z)\n",
    "    \n",
    "    def fit(self, X, y, X_val=None, y_val=None):\n",
    "        \"\"\"\n",
    "        Train a neural network classifier.\n",
    "        \n",
    "        Parameters:\n",
    "        -------\n",
    "        X: ndarray\n",
    "            Training data.\n",
    "        y: ndarray\n",
    "            Target values of training data.\n",
    "        X_val: ndarray\n",
    "            Validation data.\n",
    "        y_val: ndarray\n",
    "            Target values of validation data.\n",
    "        \"\"\"\n",
    "        for epoch in range(self.n_epoch):\n",
    "            print(f\"Epoch {epoch+1}\")\n",
    "            self.loss = 0\n",
    "            self.val_loss = 0\n",
    "            \n",
    "            get_mini_batch = GetMiniBatch(X, y, batch_size=self.n_batch)\n",
    "            for mini_X_train, mini_y_train in get_mini_batch:\n",
    "                \n",
    "                # Forward\n",
    "                forward_data = mini_X_train[:, np.newaxis, :, :]\n",
    "                \n",
    "                for layer in range(len(self.CNN)):\n",
    "                    forward_data = self.CNN[layer].forward(forward_data)\n",
    "                \n",
    "                # Flatten\n",
    "                fit = Flatten()\n",
    "                forward_data = fit.forward(forward_data)\n",
    "                \n",
    "                # NN\n",
    "                for layer in range(len(self.NN)):\n",
    "                    forward_data = self.NN[layer].forward(forward_data)\n",
    "                \n",
    "                Z = forward_data\n",
    "                \n",
    "                # Backward\n",
    "                backward_data = (Z - mini_y_train)/self.n_batch\n",
    "                for layer in range(len(self.NN)-1, -1, -1):\n",
    "                    backward_data = self.NN[layer].backward(backward_data)\n",
    "                    \n",
    "                backward_data = fit.backward(backward_data)\n",
    "                \n",
    "                for layer in range(len(self.CNN)-1, -1, -1):\n",
    "                    backward_data = self.CNN[layer].backward(backward_data)\n",
    "                \n",
    "                self.loss += self.loss_function(Z, mini_y_train)\n",
    "            \n",
    "            loss = self.loss/len(get_mini_batch)\n",
    "            acc = self.accuracy(self.predict(X), np.argmax(y, axis=1))\n",
    "            print(f\"loss: {loss}, acc: {acc}\")\n",
    "            self.losses.append(loss)\n",
    "#             self.val_losses.append(self.val_loss/len(get_mini_batch))\n",
    "            self.accs.append(acc)\n",
    "#             if X_val is not None and y_val is not None:\n",
    "#                 self.val_accs.append(self.accuracy(self.predict(X_val), np.argmax(y_val, axis=1)))\n",
    "            \n",
    "    def predict(self, X):\n",
    "        pred_data = X[:, np.newaxis, :, :]\n",
    "        \n",
    "        for layer in range(len(self.CNN)):\n",
    "            pred_data = self.CNN[layer].forward(pred_data)\n",
    "            \n",
    "        fit = Flatten()\n",
    "        pred_data = fit.forward(pred_data)\n",
    "        \n",
    "        for layer in range(len(self.NN)):\n",
    "            pred_data = self.NN[layer].forward(pred_data)\n",
    "        \n",
    "        return np.argmax(pred_data, axis=1)"
   ]
  },
  {
   "cell_type": "code",
   "execution_count": 32,
   "id": "9f6e128d",
   "metadata": {},
   "outputs": [],
   "source": [
    "NN = [\n",
    "    FC(3136, 128, HeInitializer(), AdaGrad(0.01), ReLU()),\n",
    "    FC(128, 10, SimpleInitializer(0.01), AdaGrad(0.01), Softmax()),\n",
    "]"
   ]
  },
  {
   "cell_type": "code",
   "execution_count": 33,
   "id": "7bc30809",
   "metadata": {},
   "outputs": [],
   "source": [
    "CNN = [\n",
    "    SimpleConv2d(F=32, C=1, FH=3, FW=3, P=1, S=1,\n",
    "                 initializer=SimpleInitializerConv2d(),\n",
    "                 optimizer=SGD(0.01),\n",
    "                 activation=ReLU()),\n",
    "    MaxPool2D(P=2),\n",
    "    SimpleConv2d(F=64, C=32, FH=3, FW=3, P=1, S=1,\n",
    "                 initializer=SimpleInitializerConv2d(),\n",
    "                 optimizer=SGD(0.01),\n",
    "                 activation=ReLU()),\n",
    "    MaxPool2D(P=2),\n",
    "]"
   ]
  },
  {
   "cell_type": "code",
   "execution_count": 34,
   "id": "6ef0543b",
   "metadata": {},
   "outputs": [
    {
     "name": "stdout",
     "output_type": "stream",
     "text": [
      "(48000, 28, 28)\n",
      "(48000,)\n",
      "(12000, 28, 28)\n",
      "(12000,)\n"
     ]
    }
   ],
   "source": [
    "from tensorflow.keras.datasets import mnist\n",
    "from sklearn.model_selection import train_test_split\n",
    "from sklearn.preprocessing import OneHotEncoder\n",
    "from sklearn.metrics import classification_report\n",
    "\n",
    "(X_train, y_train), (X_test, y_test) = mnist.load_data()\n",
    "\n",
    "X_train = X_train.astype(np.float)\n",
    "X_test = X_test.astype(np.float)\n",
    "X_train /= 255\n",
    "X_test /= 255\n",
    "\n",
    "X_train, X_val, y_train, y_val = train_test_split(X_train, y_train, test_size=0.2)\n",
    "\n",
    "print(X_train.shape)\n",
    "print(y_train.shape)\n",
    "print(X_val.shape)\n",
    "print(y_val.shape)"
   ]
  },
  {
   "cell_type": "code",
   "execution_count": 35,
   "id": "4d099922",
   "metadata": {},
   "outputs": [
    {
     "name": "stdout",
     "output_type": "stream",
     "text": [
      "(48000, 10)\n",
      "(12000, 10)\n"
     ]
    }
   ],
   "source": [
    "enc = OneHotEncoder(handle_unknown='ignore', sparse=False)\n",
    "y_train_one_hot = enc.fit_transform(y_train[:, np.newaxis])\n",
    "y_val_one_hot = enc.transform(y_val[:, np.newaxis])\n",
    "\n",
    "print(y_train_one_hot.shape)\n",
    "print(y_val_one_hot.shape)"
   ]
  },
  {
   "cell_type": "code",
   "execution_count": 36,
   "id": "64db02b7",
   "metadata": {},
   "outputs": [
    {
     "name": "stdout",
     "output_type": "stream",
     "text": [
      "Epoch 1\n",
      "loss: 0.22950013024572483, acc: 0.16\n",
      "Epoch 2\n",
      "loss: 0.2251226749303142, acc: 0.16\n",
      "Epoch 3\n",
      "loss: 0.215636658340688, acc: 0.16\n",
      "Epoch 4\n",
      "loss: 0.1954295979616378, acc: 0.37\n",
      "Epoch 5\n",
      "loss: 0.1580466495240975, acc: 0.64\n",
      "Epoch 6\n",
      "loss: 0.11698675633267004, acc: 0.77\n",
      "Epoch 7\n",
      "loss: 0.09042039109930419, acc: 0.785\n",
      "Epoch 8\n",
      "loss: 0.07553508714050092, acc: 0.815\n",
      "Epoch 9\n",
      "loss: 0.06400469326073029, acc: 0.85\n",
      "Epoch 10\n",
      "loss: 0.0553971352093953, acc: 0.87\n",
      "Epoch 11\n",
      "loss: 0.04835099728033258, acc: 0.885\n",
      "Epoch 12\n",
      "loss: 0.04266954635867636, acc: 0.895\n",
      "Epoch 13\n",
      "loss: 0.03812310199685194, acc: 0.905\n",
      "Epoch 14\n",
      "loss: 0.03416317354749439, acc: 0.91\n",
      "Epoch 15\n",
      "loss: 0.030720370398249448, acc: 0.91\n",
      "Epoch 16\n",
      "loss: 0.027783107208955347, acc: 0.93\n",
      "Epoch 17\n",
      "loss: 0.02542399153124229, acc: 0.94\n",
      "Epoch 18\n",
      "loss: 0.023230329343883645, acc: 0.945\n",
      "Epoch 19\n",
      "loss: 0.021341827995763327, acc: 0.945\n",
      "Epoch 20\n",
      "loss: 0.01953093716664969, acc: 0.945\n"
     ]
    }
   ],
   "source": [
    "cnn1 = Scratch2dCNNClassifier(NN=NN, CNN=CNN, n_epoch=20, n_batch=20, verbose=False)\n",
    "\n",
    "cnn1.fit(X_train[:200], y_train_one_hot[:200])"
   ]
  },
  {
   "cell_type": "code",
   "execution_count": 41,
   "id": "f55fa5e9",
   "metadata": {},
   "outputs": [
    {
     "name": "stdout",
     "output_type": "stream",
     "text": [
      "[3 9 8 3 7 2 7 3 9 5 7 0 2 7 5 6 4 9 5 2]\n",
      "              precision    recall  f1-score   support\n",
      "\n",
      "           0       1.00      1.00      1.00        21\n",
      "           1       1.00      1.00      1.00        17\n",
      "           2       1.00      0.91      0.95        32\n",
      "           3       0.95      1.00      0.98        21\n",
      "           4       0.88      0.82      0.85        17\n",
      "           5       1.00      1.00      1.00        24\n",
      "           6       0.95      1.00      0.97        18\n",
      "           7       0.93      0.88      0.90        16\n",
      "           8       0.95      1.00      0.98        20\n",
      "           9       0.69      0.79      0.73        14\n",
      "\n",
      "    accuracy                           0.94       200\n",
      "   macro avg       0.94      0.94      0.94       200\n",
      "weighted avg       0.95      0.94      0.95       200\n",
      "\n"
     ]
    }
   ],
   "source": [
    "y_train_pred = cnn1.predict(X_train[:200])\n",
    "print(y_train_pred[:20])\n",
    "print(classification_report(y_train[:200], y_train_pred))"
   ]
  },
  {
   "cell_type": "code",
   "execution_count": 43,
   "id": "d435a781",
   "metadata": {},
   "outputs": [
    {
     "name": "stdout",
     "output_type": "stream",
     "text": [
      "[1 0 9 4 7 9 3 9 7 7 8 9 1 5 5 1 3 7 3 9]\n",
      "              precision    recall  f1-score   support\n",
      "\n",
      "           0       1.00      0.94      0.97        18\n",
      "           1       0.95      0.78      0.86        23\n",
      "           2       0.81      0.88      0.85        25\n",
      "           3       0.78      0.90      0.84        20\n",
      "           4       0.61      0.71      0.65        24\n",
      "           5       0.63      0.80      0.71        15\n",
      "           6       0.92      0.80      0.86        15\n",
      "           7       0.84      0.84      0.84        19\n",
      "           8       0.80      0.57      0.67        21\n",
      "           9       0.55      0.55      0.55        20\n",
      "\n",
      "    accuracy                           0.78       200\n",
      "   macro avg       0.79      0.78      0.78       200\n",
      "weighted avg       0.79      0.78      0.78       200\n",
      "\n"
     ]
    }
   ],
   "source": [
    "y_val_pred = cnn1.predict(X_val[:200])\n",
    "print(y_val_pred[:20])\n",
    "print(classification_report(y_val[:200], y_val_pred[:200]))"
   ]
  },
  {
   "cell_type": "code",
   "execution_count": 55,
   "id": "d628b2eb",
   "metadata": {},
   "outputs": [
    {
     "data": {
      "image/png": "[encoded data removed]",
      "text/plain": [
       "<Figure size 720x360 with 2 Axes>"
      ]
     },
     "metadata": {
      "needs_background": "light"
     },
     "output_type": "display_data"
    }
   ],
   "source": [
    "import matplotlib.pyplot as plt\n",
    "\n",
    "plt.figure(figsize=(10, 5))\n",
    "\n",
    "plt.subplot(121)\n",
    "plt.plot(np.arange(1, cnn1.n_epoch+1), cnn1.losses, label='train_loss')\n",
    "plt.legend()\n",
    "plt.xlabel('Epochs')\n",
    "\n",
    "plt.subplot(122)\n",
    "plt.plot(np.arange(1, cnn1.n_epoch+1), cnn1.accs, label='train_acc')\n",
    "plt.xlabel('Epochs')\n",
    "\n",
    "plt.legend()\n",
    "plt.show()"
   ]
  },
  {
   "cell_type": "markdown",
   "id": "2a82fdd1",
   "metadata": {},
   "source": [
    "## [Problem 10] Calculation of output size and number of parameters\n",
    "\n",
    "1.\n",
    "- Input size : 144 x 144, 3 channels\n",
    "- Filter size: 3 x 3, 6 channels\n",
    "- Stride : 1\n",
    "- Padding: none\n",
    "\n",
    "OH = OW = (144 + 2 x 0 - 3) / 1 + 1 = 142\n",
    "\n",
    "Output size: (6, 142, 142)\n",
    "\n",
    "Parameters:\n",
    "- Weight shape: (6, 3, 3, 3) => 162 parameters\n",
    "- Bias shape: (6, ) => 6 parameters\n",
    "\n",
    "Total: 168 parameters\n",
    "\n",
    "2.\n",
    "- Input size : 60x60, 24 channels\n",
    "- Filter size: 3 x 3, 48 channels\n",
    "- Stride : 1\n",
    "- Padding: none\n",
    "\n",
    "OH = OW = (60 + 2 x 0 - 3) / 1 + 1 = 58\n",
    "\n",
    "Output size: (48, 58, 58)\n",
    "\n",
    "Parameters:\n",
    "- Weight shape: (48, 24, 3, 3) => 10368 parameters\n",
    "- Bias shape: (48, ) => 48 parameters\n",
    "\n",
    "Total: 10416 parameters\n",
    "\n",
    "3.\n",
    "- Input size : 20 x 20, 10 channels\n",
    "- Filter size: 3 x 3, 20 channels\n",
    "- Stride: 2\n",
    "- Padding: none\n",
    "\n",
    "OH = OW = (20 + 2 x 0 - 3) / 2 + 1 = 9.5\n",
    "\n",
    "Output: (20, 9, 9)\n",
    "\n",
    "Parameters:\n",
    "- Weight shape: (20, 10, 3, 3) => 1800 parameters\n",
    "- Bias shape: (20, ) => 20 parameters\n",
    "\n",
    "Total: 1820 parameters"
   ]
  },
  {
   "cell_type": "code",
   "execution_count": null,
   "id": "4522df3b",
   "metadata": {},
   "outputs": [],
   "source": []
  }
 ],
 "metadata": {
  "kernelspec": {
   "display_name": "Python 3 (ipykernel)",
   "language": "python",
   "name": "python3"
  },
  "language_info": {
   "codemirror_mode": {
    "name": "ipython",
    "version": 3
   },
   "file_extension": ".py",
   "mimetype": "text/x-python",
   "name": "python",
   "nbconvert_exporter": "python",
   "pygments_lexer": "ipython3",
   "version": "3.7.11"
  }
 },
 "nbformat": 4,
 "nbformat_minor": 5
}
