{
 "cells": [
  {
   "cell_type": "markdown",
   "id": "b1f9e043",
   "metadata": {},
   "source": [
    "# Sprint 20\n",
    "\n",
    "## Natural Language Processing\n",
    "\n",
    "### Preparation"
   ]
  },
  {
   "cell_type": "code",
   "execution_count": 1,
   "id": "c1b87f70",
   "metadata": {},
   "outputs": [
    {
     "name": "stdout",
     "output_type": "stream",
     "text": [
      "['neg', 'pos', 'unsup']\n"
     ]
    }
   ],
   "source": [
    "from sklearn.datasets import load_files\n",
    "\n",
    "train_review = load_files('./aclImdb/train/', encoding='utf-8')\n",
    "x_train, y_train = train_review.data, train_review.target\n",
    "\n",
    "test_review = load_files('./aclImdb/test/', encoding='utf-8')\n",
    "x_test, y_test = test_review.data, test_review.target\n",
    "\n",
    "# Display of the correspondence between 0, 1 of the label and the meaning\n",
    "print(train_review.target_names)"
   ]
  },
  {
   "cell_type": "code",
   "execution_count": 2,
   "id": "2d07d431",
   "metadata": {},
   "outputs": [
    {
     "name": "stdout",
     "output_type": "stream",
     "text": [
      "x : Full of (then) unknown actors TSF is a great big cuddly romp of a film.<br /><br />The idea of a bunch of bored teenagers ripping off the local sink factory is odd enough, but add in the black humour that Forsyth & Co are so good at and your in for a real treat.<br /><br />The comatose van driver by itself worth seeing, and the canal side chase is just too real to be anything but funny.<br /><br />And for anyone who lived in Glasgow it's a great \"Oh I know where that is\" film.\n"
     ]
    }
   ],
   "source": [
    "print(\"x : {}\".format(x_train[0]))"
   ]
  },
  {
   "cell_type": "markdown",
   "id": "13591a80",
   "metadata": {},
   "source": [
    "### [Problem 1] Scratch implementation of BoW"
   ]
  },
  {
   "cell_type": "code",
   "execution_count": 3,
   "id": "feddf66f",
   "metadata": {},
   "outputs": [],
   "source": [
    "import re\n",
    "from collections import Counter\n"
   ]
  },
  {
   "cell_type": "code",
   "execution_count": 4,
   "id": "22589fdf",
   "metadata": {},
   "outputs": [],
   "source": [
    "mini_dataset = \\\n",
    "  ['This movie is SOOOO funny!!!',\n",
    "  'What a movie! I never',\n",
    "  'best movie ever!!!!! this movie']"
   ]
  },
  {
   "cell_type": "code",
   "execution_count": 17,
   "id": "2cc50e8c",
   "metadata": {},
   "outputs": [
    {
     "data": {
      "text/plain": [
       "{'a',\n",
       " 'best',\n",
       " 'ever',\n",
       " 'funny',\n",
       " 'i',\n",
       " 'is',\n",
       " 'movie',\n",
       " 'never',\n",
       " 'soooo',\n",
       " 'this',\n",
       " 'what'}"
      ]
     },
     "execution_count": 17,
     "metadata": {},
     "output_type": "execute_result"
    }
   ],
   "source": [
    "def ngram_extractor(documents, n_grams):\n",
    "    docs_filtered = [re.sub('[^A-Za-z0-9\\s]', '', doc.lower()) for doc in documents]\n",
    "    words = [doc.split() for doc in docs_filtered]\n",
    "    if n_grams == 1:\n",
    "        return words\n",
    "\n",
    "def count_vectorizer(doc, all_words):\n",
    "        d = dict()\n",
    "        for word in all_words:\n",
    "            d[word] = 0\n",
    "        for word in doc:\n",
    "            d[word] += 1\n",
    "        return d\n",
    "\n",
    "def bag_of_words(documents, n_grams=1):\n",
    "    ngram_extractor(documents, n_grams)\n",
    "    import functools\n",
    "    all_words = functools.reduce(lambda a, b: set(a).union(set(b)), words)\n",
    "    \n",
    "    return all_words\n",
    "\n",
    "bag_of_words_1_gram(mini_dataset)"
   ]
  },
  {
   "cell_type": "code",
   "execution_count": null,
   "id": "d4fef9a2",
   "metadata": {},
   "outputs": [],
   "source": [
    "def tf_idf(documents):\n",
    "    "
   ]
  }
 ],
 "metadata": {
  "kernelspec": {
   "display_name": "Python 3 (ipykernel)",
   "language": "python",
   "name": "python3"
  },
  "language_info": {
   "codemirror_mode": {
    "name": "ipython",
    "version": 3
   },
   "file_extension": ".py",
   "mimetype": "text/x-python",
   "name": "python",
   "nbconvert_exporter": "python",
   "pygments_lexer": "ipython3",
   "version": "3.7.11"
  }
 },
 "nbformat": 4,
 "nbformat_minor": 5
}
