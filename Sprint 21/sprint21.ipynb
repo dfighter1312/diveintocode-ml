{
 "cells": [
  {
   "cell_type": "markdown",
   "id": "b1f9e043",
   "metadata": {},
   "source": [
    "# Sprint 20\n",
    "\n",
    "## Natural Language Processing\n",
    "\n",
    "### Preparation"
   ]
  },
  {
   "cell_type": "code",
   "execution_count": 1,
   "id": "c1b87f70",
   "metadata": {},
   "outputs": [
    {
     "name": "stdout",
     "output_type": "stream",
     "text": [
      "['neg', 'pos', 'unsup']\n"
     ]
    }
   ],
   "source": [
    "from sklearn.datasets import load_files\n",
    "\n",
    "train_review = load_files('./aclImdb/train/', encoding='utf-8')\n",
    "x_train, y_train = train_review.data, train_review.target\n",
    "\n",
    "test_review = load_files('./aclImdb/test/', encoding='utf-8')\n",
    "x_test, y_test = test_review.data, test_review.target\n",
    "\n",
    "# Display of the correspondence between 0, 1 of the label and the meaning\n",
    "print(train_review.target_names)"
   ]
  },
  {
   "cell_type": "code",
   "execution_count": 2,
   "id": "2d07d431",
   "metadata": {},
   "outputs": [
    {
     "name": "stdout",
     "output_type": "stream",
     "text": [
      "x : Full of (then) unknown actors TSF is a great big cuddly romp of a film.<br /><br />The idea of a bunch of bored teenagers ripping off the local sink factory is odd enough, but add in the black humour that Forsyth & Co are so good at and your in for a real treat.<br /><br />The comatose van driver by itself worth seeing, and the canal side chase is just too real to be anything but funny.<br /><br />And for anyone who lived in Glasgow it's a great \"Oh I know where that is\" film.\n"
     ]
    }
   ],
   "source": [
    "print(\"x : {}\".format(x_train[0]))"
   ]
  },
  {
   "cell_type": "markdown",
   "id": "13591a80",
   "metadata": {},
   "source": [
    "### [Problem 1] Scratch implementation of BoW"
   ]
  },
  {
   "cell_type": "code",
   "execution_count": 18,
   "id": "feddf66f",
   "metadata": {},
   "outputs": [],
   "source": [
    "import re\n",
    "from collections import Counter\n",
    "import pandas as pd\n",
    "import functools"
   ]
  },
  {
   "cell_type": "code",
   "execution_count": 4,
   "id": "22589fdf",
   "metadata": {},
   "outputs": [],
   "source": [
    "mini_dataset = \\\n",
    "  ['This movie is SOOOO funny!!!',\n",
    "  'What a movie! I never',\n",
    "  'best movie ever!!!!! this movie']"
   ]
  },
  {
   "cell_type": "code",
   "execution_count": 37,
   "id": "2cc50e8c",
   "metadata": {},
   "outputs": [],
   "source": [
    "def ngram_extractor(documents, n_grams):\n",
    "    docs_filtered = [re.sub('[^A-Za-z0-9\\s]', '', doc.lower()) for doc in documents]\n",
    "    docs_splited = [doc.split() for doc in docs_filtered]\n",
    "    if n_grams == 1:\n",
    "        return docs_splited\n",
    "    else:\n",
    "        return [\n",
    "            [\" \".join(doc_splited[i:i+n_grams]) for i in range(len(doc_splited) - n_grams + 1)]\n",
    "            for doc_splited in docs_splited\n",
    "        ]\n",
    "\n",
    "def count_vectorizer(doc, all_words):\n",
    "        d = dict()\n",
    "        for word in all_words:\n",
    "            d[word] = 0\n",
    "        for word in doc:\n",
    "            d[word] += 1\n",
    "        return d\n",
    "\n",
    "def bag_of_words(documents, n_grams=1):\n",
    "    docs_splited = ngram_extractor(documents, n_grams)\n",
    "    all_words = functools.reduce(lambda a, b: set(a).union(set(b)), docs_splited)\n",
    "    count_matrix = [count_vectorizer(doc, all_words) for doc in docs_splited]\n",
    "    count_df = pd.DataFrame(count_matrix)\n",
    "    return count_df"
   ]
  },
  {
   "cell_type": "code",
   "execution_count": 38,
   "id": "da17eb8c",
   "metadata": {},
   "outputs": [
    {
     "data": {
      "text/html": [
       "<div>\n",
       "<style scoped>\n",
       "    .dataframe tbody tr th:only-of-type {\n",
       "        vertical-align: middle;\n",
       "    }\n",
       "\n",
       "    .dataframe tbody tr th {\n",
       "        vertical-align: top;\n",
       "    }\n",
       "\n",
       "    .dataframe thead th {\n",
       "        text-align: right;\n",
       "    }\n",
       "</style>\n",
       "<table border=\"1\" class=\"dataframe\">\n",
       "  <thead>\n",
       "    <tr style=\"text-align: right;\">\n",
       "      <th></th>\n",
       "      <th>i</th>\n",
       "      <th>never</th>\n",
       "      <th>movie</th>\n",
       "      <th>soooo</th>\n",
       "      <th>best</th>\n",
       "      <th>is</th>\n",
       "      <th>ever</th>\n",
       "      <th>funny</th>\n",
       "      <th>a</th>\n",
       "      <th>this</th>\n",
       "      <th>what</th>\n",
       "    </tr>\n",
       "  </thead>\n",
       "  <tbody>\n",
       "    <tr>\n",
       "      <th>0</th>\n",
       "      <td>0</td>\n",
       "      <td>0</td>\n",
       "      <td>1</td>\n",
       "      <td>1</td>\n",
       "      <td>0</td>\n",
       "      <td>1</td>\n",
       "      <td>0</td>\n",
       "      <td>1</td>\n",
       "      <td>0</td>\n",
       "      <td>1</td>\n",
       "      <td>0</td>\n",
       "    </tr>\n",
       "    <tr>\n",
       "      <th>1</th>\n",
       "      <td>1</td>\n",
       "      <td>1</td>\n",
       "      <td>1</td>\n",
       "      <td>0</td>\n",
       "      <td>0</td>\n",
       "      <td>0</td>\n",
       "      <td>0</td>\n",
       "      <td>0</td>\n",
       "      <td>1</td>\n",
       "      <td>0</td>\n",
       "      <td>1</td>\n",
       "    </tr>\n",
       "    <tr>\n",
       "      <th>2</th>\n",
       "      <td>0</td>\n",
       "      <td>0</td>\n",
       "      <td>2</td>\n",
       "      <td>0</td>\n",
       "      <td>1</td>\n",
       "      <td>0</td>\n",
       "      <td>1</td>\n",
       "      <td>0</td>\n",
       "      <td>0</td>\n",
       "      <td>1</td>\n",
       "      <td>0</td>\n",
       "    </tr>\n",
       "  </tbody>\n",
       "</table>\n",
       "</div>"
      ],
      "text/plain": [
       "   i  never  movie  soooo  best  is  ever  funny  a  this  what\n",
       "0  0      0      1      1     0   1     0      1  0     1     0\n",
       "1  1      1      1      0     0   0     0      0  1     0     1\n",
       "2  0      0      2      0     1   0     1      0  0     1     0"
      ]
     },
     "execution_count": 38,
     "metadata": {},
     "output_type": "execute_result"
    }
   ],
   "source": [
    "bag_of_words(mini_dataset, n_grams=1)"
   ]
  },
  {
   "cell_type": "code",
   "execution_count": 39,
   "id": "9824a7a5",
   "metadata": {},
   "outputs": [
    {
     "data": {
      "text/html": [
       "<div>\n",
       "<style scoped>\n",
       "    .dataframe tbody tr th:only-of-type {\n",
       "        vertical-align: middle;\n",
       "    }\n",
       "\n",
       "    .dataframe tbody tr th {\n",
       "        vertical-align: top;\n",
       "    }\n",
       "\n",
       "    .dataframe thead th {\n",
       "        text-align: right;\n",
       "    }\n",
       "</style>\n",
       "<table border=\"1\" class=\"dataframe\">\n",
       "  <thead>\n",
       "    <tr style=\"text-align: right;\">\n",
       "      <th></th>\n",
       "      <th>a movie</th>\n",
       "      <th>this movie</th>\n",
       "      <th>best movie</th>\n",
       "      <th>what a</th>\n",
       "      <th>movie ever</th>\n",
       "      <th>i never</th>\n",
       "      <th>movie i</th>\n",
       "      <th>is soooo</th>\n",
       "      <th>ever this</th>\n",
       "      <th>soooo funny</th>\n",
       "      <th>movie is</th>\n",
       "    </tr>\n",
       "  </thead>\n",
       "  <tbody>\n",
       "    <tr>\n",
       "      <th>0</th>\n",
       "      <td>0</td>\n",
       "      <td>1</td>\n",
       "      <td>0</td>\n",
       "      <td>0</td>\n",
       "      <td>0</td>\n",
       "      <td>0</td>\n",
       "      <td>0</td>\n",
       "      <td>1</td>\n",
       "      <td>0</td>\n",
       "      <td>1</td>\n",
       "      <td>1</td>\n",
       "    </tr>\n",
       "    <tr>\n",
       "      <th>1</th>\n",
       "      <td>1</td>\n",
       "      <td>0</td>\n",
       "      <td>0</td>\n",
       "      <td>1</td>\n",
       "      <td>0</td>\n",
       "      <td>1</td>\n",
       "      <td>1</td>\n",
       "      <td>0</td>\n",
       "      <td>0</td>\n",
       "      <td>0</td>\n",
       "      <td>0</td>\n",
       "    </tr>\n",
       "    <tr>\n",
       "      <th>2</th>\n",
       "      <td>0</td>\n",
       "      <td>1</td>\n",
       "      <td>1</td>\n",
       "      <td>0</td>\n",
       "      <td>1</td>\n",
       "      <td>0</td>\n",
       "      <td>0</td>\n",
       "      <td>0</td>\n",
       "      <td>1</td>\n",
       "      <td>0</td>\n",
       "      <td>0</td>\n",
       "    </tr>\n",
       "  </tbody>\n",
       "</table>\n",
       "</div>"
      ],
      "text/plain": [
       "   a movie  this movie  best movie  what a  movie ever  i never  movie i  \\\n",
       "0        0           1           0       0           0        0        0   \n",
       "1        1           0           0       1           0        1        1   \n",
       "2        0           1           1       0           1        0        0   \n",
       "\n",
       "   is soooo  ever this  soooo funny  movie is  \n",
       "0         1          0            1         1  \n",
       "1         0          0            0         0  \n",
       "2         0          1            0         0  "
      ]
     },
     "execution_count": 39,
     "metadata": {},
     "output_type": "execute_result"
    }
   ],
   "source": [
    "bag_of_words(mini_dataset, n_grams=2)"
   ]
  },
  {
   "cell_type": "markdown",
   "id": "8676cfdc",
   "metadata": {},
   "source": [
    "### [Problem 2] TF-IDF calculation"
   ]
  },
  {
   "cell_type": "code",
   "execution_count": 46,
   "id": "2f4f7ab4",
   "metadata": {},
   "outputs": [
    {
     "name": "stderr",
     "output_type": "stream",
     "text": [
      "C:\\Users\\Administrator\\anaconda3\\envs\\dic17\\lib\\site-packages\\sklearn\\utils\\deprecation.py:87: FutureWarning: Function get_feature_names is deprecated; get_feature_names is deprecated in 1.0 and will be removed in 1.2. Please use get_feature_names_out instead.\n",
      "  warnings.warn(msg, category=FutureWarning)\n"
     ]
    },
    {
     "name": "stdout",
     "output_type": "stream",
     "text": [
      "(75000, 5000) (25000, 5000)\n"
     ]
    }
   ],
   "source": [
    "from sklearn.feature_extraction.text import TfidfVectorizer\n",
    "\n",
    "vect = TfidfVectorizer(stop_words='english', max_features=5000)\n",
    "X_train = (vect.fit_transform(x_train))\n",
    "vec = vect.get_feature_names()\n",
    "\n",
    "vectorizer_test = TfidfVectorizer(stop_words='english',\n",
    "                                  max_features=5000,\n",
    "                                  vocabulary=vec)\n",
    "X_test = vectorizer_test.fit_transform(x_test)\n",
    "print(X_train.shape, X_test.shape)"
   ]
  },
  {
   "cell_type": "markdown",
   "id": "eb0375cf",
   "metadata": {},
   "source": [
    "### [Problem 3] Learning using TF-IDF"
   ]
  },
  {
   "cell_type": "code",
   "execution_count": 54,
   "id": "6b41048a",
   "metadata": {},
   "outputs": [
    {
     "data": {
      "text/plain": [
       "(<25000x5000 sparse matrix of type '<class 'numpy.float64'>'\n",
       " \twith 1771306 stored elements in Compressed Sparse Row format>,\n",
       " array([1, 1, 0, ..., 1, 1, 1]))"
      ]
     },
     "execution_count": 54,
     "metadata": {},
     "output_type": "execute_result"
    }
   ],
   "source": [
    "X_train_binary = X_train[y_train != 2]\n",
    "y_train_binary = y_train[y_train != 2]\n",
    "X_train_binary, y_train_binary"
   ]
  },
  {
   "cell_type": "code",
   "execution_count": 57,
   "id": "5b389701",
   "metadata": {},
   "outputs": [
    {
     "name": "stdout",
     "output_type": "stream",
     "text": [
      "[1 0 1 ... 0 0 0]\n"
     ]
    }
   ],
   "source": [
    "from sklearn.svm import LinearSVC\n",
    "from sklearn.metrics import accuracy_score\n",
    "\n",
    "model = LinearSVC()\n",
    "model.fit(X_train_binary, y_train_binary)\n",
    "y_pred = model.predict(X_test)\n",
    "print(y_pred)"
   ]
  },
  {
   "cell_type": "code",
   "execution_count": 106,
   "id": "5c3022d0",
   "metadata": {},
   "outputs": [
    {
     "data": {
      "text/plain": [
       "array([1, 0, 1, ..., 0, 0, 0])"
      ]
     },
     "execution_count": 106,
     "metadata": {},
     "output_type": "execute_result"
    }
   ],
   "source": [
    "y_test"
   ]
  },
  {
   "cell_type": "code",
   "execution_count": 58,
   "id": "b225d6f1",
   "metadata": {},
   "outputs": [
    {
     "data": {
      "text/plain": [
       "0.86048"
      ]
     },
     "execution_count": 58,
     "metadata": {},
     "output_type": "execute_result"
    }
   ],
   "source": [
    "accuracy_score(y_test, y_pred)"
   ]
  },
  {
   "cell_type": "markdown",
   "id": "0b1a2ba1",
   "metadata": {},
   "source": [
    "### [Problem 4] Scratch mounting of TF-IDF"
   ]
  },
  {
   "cell_type": "code",
   "execution_count": 88,
   "id": "4fb0c69b",
   "metadata": {},
   "outputs": [],
   "source": [
    "import numpy as np\n",
    "\n",
    "def tf_idf(documents, n_grams=1, applied_type='standard'):\n",
    "    count_matrix = bag_of_words(documents, n_grams)\n",
    "    tf = count_matrix.copy()\n",
    "    idf = count_matrix.copy()\n",
    "    if applied_type == 'standard':\n",
    "        for i in range(len(tf)):\n",
    "            tf.iloc[i, :] = tf.iloc[i, :] / tf.iloc[i, :].sum()\n",
    "        for t in idf.columns:\n",
    "            idf[t][:] = np.log(len(idf.columns) / idf[t].sum())\n",
    "    elif applied_type == 'sklearn':\n",
    "        for t in idf.columns:\n",
    "            idf[t][:] = np.log((1 + len(idf.columns)) / (1 + idf[t].sum())) + 1\n",
    "    else:\n",
    "        raise ValueError()\n",
    "    return tf * idf"
   ]
  },
  {
   "cell_type": "code",
   "execution_count": 89,
   "id": "795cdad9",
   "metadata": {},
   "outputs": [
    {
     "name": "stderr",
     "output_type": "stream",
     "text": [
      "C:\\Users\\Administrator\\anaconda3\\envs\\dic17\\lib\\site-packages\\ipykernel_launcher.py:11: SettingWithCopyWarning: \n",
      "A value is trying to be set on a copy of a slice from a DataFrame\n",
      "\n",
      "See the caveats in the documentation: https://pandas.pydata.org/pandas-docs/stable/user_guide/indexing.html#returning-a-view-versus-a-copy\n",
      "  # This is added back by InteractiveShellApp.init_path()\n"
     ]
    },
    {
     "data": {
      "text/html": [
       "<div>\n",
       "<style scoped>\n",
       "    .dataframe tbody tr th:only-of-type {\n",
       "        vertical-align: middle;\n",
       "    }\n",
       "\n",
       "    .dataframe tbody tr th {\n",
       "        vertical-align: top;\n",
       "    }\n",
       "\n",
       "    .dataframe thead th {\n",
       "        text-align: right;\n",
       "    }\n",
       "</style>\n",
       "<table border=\"1\" class=\"dataframe\">\n",
       "  <thead>\n",
       "    <tr style=\"text-align: right;\">\n",
       "      <th></th>\n",
       "      <th>i</th>\n",
       "      <th>never</th>\n",
       "      <th>movie</th>\n",
       "      <th>soooo</th>\n",
       "      <th>best</th>\n",
       "      <th>is</th>\n",
       "      <th>ever</th>\n",
       "      <th>funny</th>\n",
       "      <th>a</th>\n",
       "      <th>this</th>\n",
       "      <th>what</th>\n",
       "    </tr>\n",
       "  </thead>\n",
       "  <tbody>\n",
       "    <tr>\n",
       "      <th>0</th>\n",
       "      <td>0.000000</td>\n",
       "      <td>0.000000</td>\n",
       "      <td>0.20232</td>\n",
       "      <td>0.479579</td>\n",
       "      <td>0.000000</td>\n",
       "      <td>0.479579</td>\n",
       "      <td>0.000000</td>\n",
       "      <td>0.479579</td>\n",
       "      <td>0.000000</td>\n",
       "      <td>0.34095</td>\n",
       "      <td>0.000000</td>\n",
       "    </tr>\n",
       "    <tr>\n",
       "      <th>1</th>\n",
       "      <td>0.479579</td>\n",
       "      <td>0.479579</td>\n",
       "      <td>0.20232</td>\n",
       "      <td>0.000000</td>\n",
       "      <td>0.000000</td>\n",
       "      <td>0.000000</td>\n",
       "      <td>0.000000</td>\n",
       "      <td>0.000000</td>\n",
       "      <td>0.479579</td>\n",
       "      <td>0.00000</td>\n",
       "      <td>0.479579</td>\n",
       "    </tr>\n",
       "    <tr>\n",
       "      <th>2</th>\n",
       "      <td>0.000000</td>\n",
       "      <td>0.000000</td>\n",
       "      <td>0.40464</td>\n",
       "      <td>0.000000</td>\n",
       "      <td>0.479579</td>\n",
       "      <td>0.000000</td>\n",
       "      <td>0.479579</td>\n",
       "      <td>0.000000</td>\n",
       "      <td>0.000000</td>\n",
       "      <td>0.34095</td>\n",
       "      <td>0.000000</td>\n",
       "    </tr>\n",
       "  </tbody>\n",
       "</table>\n",
       "</div>"
      ],
      "text/plain": [
       "          i     never    movie     soooo      best        is      ever  \\\n",
       "0  0.000000  0.000000  0.20232  0.479579  0.000000  0.479579  0.000000   \n",
       "1  0.479579  0.479579  0.20232  0.000000  0.000000  0.000000  0.000000   \n",
       "2  0.000000  0.000000  0.40464  0.000000  0.479579  0.000000  0.479579   \n",
       "\n",
       "      funny         a     this      what  \n",
       "0  0.479579  0.000000  0.34095  0.000000  \n",
       "1  0.000000  0.479579  0.00000  0.479579  \n",
       "2  0.000000  0.000000  0.34095  0.000000  "
      ]
     },
     "execution_count": 89,
     "metadata": {},
     "output_type": "execute_result"
    }
   ],
   "source": [
    "tf_idf(mini_dataset, applied_type='standard')"
   ]
  },
  {
   "cell_type": "code",
   "execution_count": 90,
   "id": "05c2025d",
   "metadata": {},
   "outputs": [
    {
     "name": "stderr",
     "output_type": "stream",
     "text": [
      "C:\\Users\\Administrator\\anaconda3\\envs\\dic17\\lib\\site-packages\\ipykernel_launcher.py:14: SettingWithCopyWarning: \n",
      "A value is trying to be set on a copy of a slice from a DataFrame\n",
      "\n",
      "See the caveats in the documentation: https://pandas.pydata.org/pandas-docs/stable/user_guide/indexing.html#returning-a-view-versus-a-copy\n",
      "  \n"
     ]
    },
    {
     "data": {
      "text/html": [
       "<div>\n",
       "<style scoped>\n",
       "    .dataframe tbody tr th:only-of-type {\n",
       "        vertical-align: middle;\n",
       "    }\n",
       "\n",
       "    .dataframe tbody tr th {\n",
       "        vertical-align: top;\n",
       "    }\n",
       "\n",
       "    .dataframe thead th {\n",
       "        text-align: right;\n",
       "    }\n",
       "</style>\n",
       "<table border=\"1\" class=\"dataframe\">\n",
       "  <thead>\n",
       "    <tr style=\"text-align: right;\">\n",
       "      <th></th>\n",
       "      <th>i</th>\n",
       "      <th>never</th>\n",
       "      <th>movie</th>\n",
       "      <th>soooo</th>\n",
       "      <th>best</th>\n",
       "      <th>is</th>\n",
       "      <th>ever</th>\n",
       "      <th>funny</th>\n",
       "      <th>a</th>\n",
       "      <th>this</th>\n",
       "      <th>what</th>\n",
       "    </tr>\n",
       "  </thead>\n",
       "  <tbody>\n",
       "    <tr>\n",
       "      <th>0</th>\n",
       "      <td>0.000000</td>\n",
       "      <td>0.000000</td>\n",
       "      <td>1.875469</td>\n",
       "      <td>2.791759</td>\n",
       "      <td>0.000000</td>\n",
       "      <td>2.791759</td>\n",
       "      <td>0.000000</td>\n",
       "      <td>2.791759</td>\n",
       "      <td>0.000000</td>\n",
       "      <td>2.386294</td>\n",
       "      <td>0.000000</td>\n",
       "    </tr>\n",
       "    <tr>\n",
       "      <th>1</th>\n",
       "      <td>2.791759</td>\n",
       "      <td>2.791759</td>\n",
       "      <td>1.875469</td>\n",
       "      <td>0.000000</td>\n",
       "      <td>0.000000</td>\n",
       "      <td>0.000000</td>\n",
       "      <td>0.000000</td>\n",
       "      <td>0.000000</td>\n",
       "      <td>2.791759</td>\n",
       "      <td>0.000000</td>\n",
       "      <td>2.791759</td>\n",
       "    </tr>\n",
       "    <tr>\n",
       "      <th>2</th>\n",
       "      <td>0.000000</td>\n",
       "      <td>0.000000</td>\n",
       "      <td>3.750937</td>\n",
       "      <td>0.000000</td>\n",
       "      <td>2.791759</td>\n",
       "      <td>0.000000</td>\n",
       "      <td>2.791759</td>\n",
       "      <td>0.000000</td>\n",
       "      <td>0.000000</td>\n",
       "      <td>2.386294</td>\n",
       "      <td>0.000000</td>\n",
       "    </tr>\n",
       "  </tbody>\n",
       "</table>\n",
       "</div>"
      ],
      "text/plain": [
       "          i     never     movie     soooo      best        is      ever  \\\n",
       "0  0.000000  0.000000  1.875469  2.791759  0.000000  2.791759  0.000000   \n",
       "1  2.791759  2.791759  1.875469  0.000000  0.000000  0.000000  0.000000   \n",
       "2  0.000000  0.000000  3.750937  0.000000  2.791759  0.000000  2.791759   \n",
       "\n",
       "      funny         a      this      what  \n",
       "0  2.791759  0.000000  2.386294  0.000000  \n",
       "1  0.000000  2.791759  0.000000  2.791759  \n",
       "2  0.000000  0.000000  2.386294  0.000000  "
      ]
     },
     "execution_count": 90,
     "metadata": {},
     "output_type": "execute_result"
    }
   ],
   "source": [
    "tf_idf(mini_dataset, applied_type='sklearn')"
   ]
  },
  {
   "cell_type": "markdown",
   "id": "d1d3454e",
   "metadata": {},
   "source": [
    "### [Problem 5] Corpus pretreatment"
   ]
  },
  {
   "cell_type": "code",
   "execution_count": 94,
   "id": "fd4ed128",
   "metadata": {},
   "outputs": [],
   "source": [
    "URL_PATTERN = \"^((http[s]?|ftp):\\/)?\\/?([^:\\/\\s]+)((\\/\\w+)*\\/)([\\w\\-\\.]+[^#?\\s]+)(.*)?(#[\\w\\-]+)?$\"\n",
    "\n",
    "def preprocess(doc):\n",
    "    doc = re.sub(URL_PATTERN, \"\", doc)\n",
    "    doc = re.sub('[^A-Za-z0-9\\s]', \"\", doc)\n",
    "    doc = doc.lower().split()\n",
    "    return doc"
   ]
  },
  {
   "cell_type": "code",
   "execution_count": 95,
   "id": "d8baed6d",
   "metadata": {},
   "outputs": [],
   "source": [
    "x_train_processed = [preprocess(doc) for doc in x_train]"
   ]
  },
  {
   "cell_type": "code",
   "execution_count": 96,
   "id": "e154a349",
   "metadata": {},
   "outputs": [
    {
     "data": {
      "text/plain": [
       "'Full of (then) unknown actors TSF is a great big cuddly romp of a film.<br /><br />The idea of a bunch of bored teenagers ripping off the local sink factory is odd enough, but add in the black humour that Forsyth & Co are so good at and your in for a real treat.<br /><br />The comatose van driver by itself worth seeing, and the canal side chase is just too real to be anything but funny.<br /><br />And for anyone who lived in Glasgow it\\'s a great \"Oh I know where that is\" film.'"
      ]
     },
     "execution_count": 96,
     "metadata": {},
     "output_type": "execute_result"
    }
   ],
   "source": [
    "x_train[0]"
   ]
  },
  {
   "cell_type": "code",
   "execution_count": 98,
   "id": "7b8fe564",
   "metadata": {},
   "outputs": [
    {
     "data": {
      "text/plain": [
       "['full',\n",
       " 'of',\n",
       " 'then',\n",
       " 'unknown',\n",
       " 'actors',\n",
       " 'tsf',\n",
       " 'is',\n",
       " 'a',\n",
       " 'great',\n",
       " 'big',\n",
       " 'cuddly',\n",
       " 'romp',\n",
       " 'of',\n",
       " 'a',\n",
       " 'filmbr',\n",
       " 'br',\n",
       " 'the',\n",
       " 'idea',\n",
       " 'of',\n",
       " 'a']"
      ]
     },
     "execution_count": 98,
     "metadata": {},
     "output_type": "execute_result"
    }
   ],
   "source": [
    "x_train_processed[0][:20]"
   ]
  },
  {
   "cell_type": "markdown",
   "id": "906bff0d",
   "metadata": {},
   "source": [
    "### [Problem 6] Learning Word2Vec"
   ]
  },
  {
   "cell_type": "code",
   "execution_count": 99,
   "id": "74c7f933",
   "metadata": {},
   "outputs": [
    {
     "name": "stdout",
     "output_type": "stream",
     "text": [
      "Collecting gensim\n",
      "  Downloading gensim-4.1.2-cp37-cp37m-win_amd64.whl (24.0 MB)\n",
      "Requirement already satisfied: numpy>=1.17.0 in c:\\users\\administrator\\anaconda3\\envs\\dic17\\lib\\site-packages (from gensim) (1.21.5)\n",
      "Collecting Cython==0.29.23\n",
      "  Downloading Cython-0.29.23-cp37-cp37m-win_amd64.whl (1.6 MB)\n",
      "Requirement already satisfied: scipy>=0.18.1 in c:\\users\\administrator\\anaconda3\\envs\\dic17\\lib\\site-packages (from gensim) (1.4.1)\n",
      "Collecting smart-open>=1.8.1\n",
      "  Using cached smart_open-5.2.1-py3-none-any.whl (58 kB)\n",
      "Installing collected packages: smart-open, Cython, gensim\n",
      "Successfully installed Cython-0.29.23 gensim-4.1.2 smart-open-5.2.1\n"
     ]
    }
   ],
   "source": [
    "!pip install gensim"
   ]
  },
  {
   "cell_type": "code",
   "execution_count": 105,
   "id": "714818da",
   "metadata": {},
   "outputs": [
    {
     "data": {
      "text/plain": [
       "(26503000, 34961872)"
      ]
     },
     "execution_count": 105,
     "metadata": {},
     "output_type": "execute_result"
    }
   ],
   "source": [
    "from gensim.models import Word2Vec\n",
    "model = Word2Vec(min_count=1, vector_size=10) \n",
    "model.build_vocab(x_train_processed) \n",
    "model.train(x_train_processed, total_examples=model.corpus_count, epochs=2)"
   ]
  }
 ],
 "metadata": {
  "kernelspec": {
   "display_name": "Python 3 (ipykernel)",
   "language": "python",
   "name": "python3"
  },
  "language_info": {
   "codemirror_mode": {
    "name": "ipython",
    "version": 3
   },
   "file_extension": ".py",
   "mimetype": "text/x-python",
   "name": "python",
   "nbconvert_exporter": "python",
   "pygments_lexer": "ipython3",
   "version": "3.7.11"
  }
 },
 "nbformat": 4,
 "nbformat_minor": 5
}
