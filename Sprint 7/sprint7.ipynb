{
 "cells": [
  {
   "cell_type": "markdown",
   "metadata": {},
   "source": [
    "# Sprint 7\n",
    "\n",
    "## K-Means Clustering\n",
    "\n",
    "### [Problem 1-7] Implement ScratchKMeans and Estimate"
   ]
  },
  {
   "cell_type": "code",
   "execution_count": 1,
   "metadata": {},
   "outputs": [],
   "source": [
    "import numpy as np\n",
    "import matplotlib.pyplot as plt"
   ]
  },
  {
   "cell_type": "code",
   "execution_count": 2,
   "metadata": {},
   "outputs": [],
   "source": [
    "import warnings\n",
    "warnings.filterwarnings('ignore')"
   ]
  },
  {
   "cell_type": "code",
   "execution_count": 3,
   "metadata": {},
   "outputs": [],
   "source": [
    "class ScratchKMeans():\n",
    "    \"\"\"\n",
    "    K-means scratch implementation\n",
    "    Parameters\n",
    "    ----------\n",
    "    n_clusters : int\n",
    "      Number of clusters\n",
    "    n_init : int\n",
    "      How many times to change the initial value of the center point for calculation\n",
    "    max_iter : int\n",
    "      Maximum number of iterations in one calculation\n",
    "    tol : float\n",
    "      Margin of error between the center point and the center of gravity, which is the reference for ending the iteration\n",
    "    verbose : bool\n",
    "      True to output the learning process\n",
    "    \"\"\"\n",
    "    def __init__(self, n_clusters, n_init, max_iter, tol, verbose=False):\n",
    "        # Record hyperparameters as attributes\n",
    "        self.n_clusters = n_clusters\n",
    "        self.n_init = n_init\n",
    "        self.max_iter = max_iter\n",
    "        self.tol = tol\n",
    "        self.verbose = verbose\n",
    "        \n",
    "    def fit(self, X):\n",
    "        \"\"\"\n",
    "        Calculate clustering by K-means\n",
    "        Parameters\n",
    "        ----------\n",
    "        X : The following forms of ndarray, shape (n_samples, n_features)\n",
    "            Features of training data\n",
    "        \"\"\"\n",
    "        self.min_sse = np.inf\n",
    "        n_samples, n_features = X.shape\n",
    "        self.selected_centers = np.zeros([self.n_clusters, n_features])\n",
    "        self.clusters = np.zeros([n_samples, ])\n",
    "        \n",
    "        for _ in range(self.n_init):\n",
    "            #Initialize center points\n",
    "            centers = self._init_center_point(X)\n",
    "\n",
    "            for i in range(self.max_iter):\n",
    "                # Assign cluster to every data point\n",
    "                y = self._assign_cluster(X, centers)\n",
    "                # Create the new centers\n",
    "                new_centers = self._move_centers(X, y)\n",
    "                # Check if condition is met\n",
    "                if np.sum(np.linalg.norm(new_centers - centers, axis=1)) <= self.tol:\n",
    "                    sse = self._calculate_sse(X, y, centers)\n",
    "                    if sse < self.min_sse:\n",
    "                        self.min_sse = sse\n",
    "                        self.selected_centers = centers\n",
    "                        self.clusters = y\n",
    "                    break\n",
    "                # Move the previous centers to the new centers\n",
    "                centers = new_centers\n",
    "                \n",
    "        if self.verbose:\n",
    "            print(\"Smallest error: \", self.min_sse)\n",
    "            print(\"Centers:\\n\", self.selected_centers)\n",
    "            self._verbose(X, self.clusters, self.selected_centers)\n",
    "    \n",
    "    def predict(self, X):\n",
    "        \"\"\"\n",
    "        Calculate which cluster the input data belongs to\n",
    "        \"\"\"\n",
    "        return self._assign_cluster(X, self.selected_centers)\n",
    "    \n",
    "    def plot(self, X):\n",
    "        self._verbose(X, self.clusters, self.selected_centers)\n",
    "        return\n",
    "    \n",
    "    def _verbose(self, X, y, centers):\n",
    "        colors = ['r', 'g', 'b', 'y', 'c', 'm', 'k']\n",
    "        for k in range(self.n_clusters):\n",
    "            indices = np.where(y == k)\n",
    "            plt.plot(X[indices, 0], X[indices, 1], marker='o', linestyle='none', color=colors[k % 7])\n",
    "        plt.plot(centers[:, 0], centers[:, 1], marker='D', linestyle='none', color='orange')\n",
    "        plt.show()\n",
    "    \n",
    "    def _init_center_point(self, X):\n",
    "        n_samples = X.shape[0]\n",
    "        selected_points = np.random.randint(0, n_samples, size=self.n_clusters)\n",
    "        return X[selected_points]\n",
    "    \n",
    "    def _calculate_sse(self, X, y, centers):\n",
    "        sse = 0\n",
    "        n_samples = X.shape[0]\n",
    "        for n in range(n_samples):\n",
    "            for k in range(self.n_clusters):\n",
    "                sse += (y[n] == k) * (np.linalg.norm(X[n] - centers[k], 2) ** 2)\n",
    "        return sse\n",
    "    \n",
    "    def _assign_cluster(self, X, centers):\n",
    "        n_samples = X.shape[0]\n",
    "        dist_table = np.zeros((n_samples, self.n_clusters))\n",
    "        for k in range(self.n_clusters):\n",
    "            dist_table[:, k] = np.linalg.norm(X - centers[k], axis=1)\n",
    "        y = np.argmin(dist_table, axis=1)\n",
    "        return y\n",
    "            \n",
    "    def _move_centers(self, X, y):\n",
    "        n_features = X.shape[1]\n",
    "        center = np.zeros([self.n_clusters, n_features])\n",
    "        for k in range(self.n_clusters):\n",
    "            indices = np.where(y == k)\n",
    "            center[k] = np.mean(X[indices], axis=0)\n",
    "        return center"
   ]
  },
  {
   "cell_type": "code",
   "execution_count": 4,
   "metadata": {},
   "outputs": [],
   "source": [
    "from sklearn.datasets import make_blobs\n",
    "X, _ = make_blobs(n_samples=100, n_features=2, centers=4, cluster_std=0.5, shuffle=True, random_state=0)"
   ]
  },
  {
   "cell_type": "code",
   "execution_count": 5,
   "metadata": {},
   "outputs": [],
   "source": [
    "km = ScratchKMeans(n_clusters=4, n_init=7, max_iter=5, tol=1e-5, verbose=True)"
   ]
  },
  {
   "cell_type": "code",
   "execution_count": 6,
   "metadata": {},
   "outputs": [
    {
     "name": "stdout",
     "output_type": "stream",
     "text": [
      "Smallest error:  48.633783207064035\n",
      "Centers:\n",
      " [[-1.26811733  7.76378266]\n",
      " [ 1.99186903  0.96561071]\n",
      " [ 0.92578447  4.32475792]\n",
      " [-1.47935679  3.11716896]]\n"
     ]
    },
    {
     "data": {
      "image/png": "[encoded data removed]",
      "text/plain": [
       "<Figure size 432x288 with 1 Axes>"
      ]
     },
     "metadata": {
      "needs_background": "light"
     },
     "output_type": "display_data"
    }
   ],
   "source": [
    "km.fit(X)"
   ]
  },
  {
   "cell_type": "code",
   "execution_count": 7,
   "metadata": {},
   "outputs": [
    {
     "name": "stdout",
     "output_type": "stream",
     "text": [
      "[2 0 2 2 2 2 3 0 2 0 0 0 0 0 0 1 1 3 3 1 2 0 3 1 2 3 3 2 1 1 1 0 1 1 3 2 0\n",
      " 1 0 3 2 3 0 3 3 0 1 3 2 2 2 1 3 3 3 0 0 1 1 0 0 1 1 2 1 0 3 3 1 2 0 1 2 0\n",
      " 2 2 3 3 1 1 1 0 3 2 1 3 1 1 2 2 2 3 2 3 3 0 0 3 0 2]\n"
     ]
    }
   ],
   "source": [
    "km_predict = km.predict(X)\n",
    "print(km_predict)"
   ]
  },
  {
   "cell_type": "markdown",
   "metadata": {},
   "source": [
    "### [Problem 8] Implementation of elbow method"
   ]
  },
  {
   "cell_type": "code",
   "execution_count": 8,
   "metadata": {},
   "outputs": [],
   "source": [
    "def elbow(X, max_clusters=10, n_init=10, max_iter=10, tol=1e-5, verbose=False):\n",
    "    sse = np.zeros([max_clusters-1, ])\n",
    "    for i in range(2, max_clusters+1):\n",
    "        if verbose:\n",
    "            print(i, \" clusters\")\n",
    "        km = ScratchKMeans(n_clusters=i, n_init=n_init, max_iter=max_iter, tol=tol, verbose=verbose)\n",
    "        km.fit(X)\n",
    "        sse[i-2] = km.min_sse\n",
    "    print(sse)\n",
    "    # Plot the graph\n",
    "    plt.plot(np.arange(2, max_clusters+1), sse)\n",
    "    plt.title('SSE for each number of clusters')\n",
    "    plt.show()"
   ]
  },
  {
   "cell_type": "code",
   "execution_count": 9,
   "metadata": {},
   "outputs": [
    {
     "name": "stdout",
     "output_type": "stream",
     "text": [
      "[351.48372865 139.17097772  48.63378321  43.31377789  37.77046053\n",
      "  34.54526172  30.11000957  28.9447962   25.9991537 ]\n"
     ]
    },
    {
     "data": {
      "image/png": "[encoded data removed]",
      "text/plain": [
       "<Figure size 432x288 with 1 Axes>"
      ]
     },
     "metadata": {
      "needs_background": "light"
     },
     "output_type": "display_data"
    }
   ],
   "source": [
    "elbow(X)"
   ]
  },
  {
   "cell_type": "markdown",
   "metadata": {},
   "source": [
    "### Wholesaler data analysis"
   ]
  },
  {
   "cell_type": "code",
   "execution_count": 10,
   "metadata": {},
   "outputs": [
    {
     "data": {
      "text/html": [
       "<div>\n",
       "<style scoped>\n",
       "    .dataframe tbody tr th:only-of-type {\n",
       "        vertical-align: middle;\n",
       "    }\n",
       "\n",
       "    .dataframe tbody tr th {\n",
       "        vertical-align: top;\n",
       "    }\n",
       "\n",
       "    .dataframe thead th {\n",
       "        text-align: right;\n",
       "    }\n",
       "</style>\n",
       "<table border=\"1\" class=\"dataframe\">\n",
       "  <thead>\n",
       "    <tr style=\"text-align: right;\">\n",
       "      <th></th>\n",
       "      <th>Channel</th>\n",
       "      <th>Region</th>\n",
       "      <th>Fresh</th>\n",
       "      <th>Milk</th>\n",
       "      <th>Grocery</th>\n",
       "      <th>Frozen</th>\n",
       "      <th>Detergents_Paper</th>\n",
       "      <th>Delicassen</th>\n",
       "    </tr>\n",
       "  </thead>\n",
       "  <tbody>\n",
       "    <tr>\n",
       "      <th>0</th>\n",
       "      <td>2</td>\n",
       "      <td>3</td>\n",
       "      <td>12669</td>\n",
       "      <td>9656</td>\n",
       "      <td>7561</td>\n",
       "      <td>214</td>\n",
       "      <td>2674</td>\n",
       "      <td>1338</td>\n",
       "    </tr>\n",
       "    <tr>\n",
       "      <th>1</th>\n",
       "      <td>2</td>\n",
       "      <td>3</td>\n",
       "      <td>7057</td>\n",
       "      <td>9810</td>\n",
       "      <td>9568</td>\n",
       "      <td>1762</td>\n",
       "      <td>3293</td>\n",
       "      <td>1776</td>\n",
       "    </tr>\n",
       "    <tr>\n",
       "      <th>2</th>\n",
       "      <td>2</td>\n",
       "      <td>3</td>\n",
       "      <td>6353</td>\n",
       "      <td>8808</td>\n",
       "      <td>7684</td>\n",
       "      <td>2405</td>\n",
       "      <td>3516</td>\n",
       "      <td>7844</td>\n",
       "    </tr>\n",
       "    <tr>\n",
       "      <th>3</th>\n",
       "      <td>1</td>\n",
       "      <td>3</td>\n",
       "      <td>13265</td>\n",
       "      <td>1196</td>\n",
       "      <td>4221</td>\n",
       "      <td>6404</td>\n",
       "      <td>507</td>\n",
       "      <td>1788</td>\n",
       "    </tr>\n",
       "    <tr>\n",
       "      <th>4</th>\n",
       "      <td>2</td>\n",
       "      <td>3</td>\n",
       "      <td>22615</td>\n",
       "      <td>5410</td>\n",
       "      <td>7198</td>\n",
       "      <td>3915</td>\n",
       "      <td>1777</td>\n",
       "      <td>5185</td>\n",
       "    </tr>\n",
       "  </tbody>\n",
       "</table>\n",
       "</div>"
      ],
      "text/plain": [
       "   Channel  Region  Fresh  Milk  Grocery  Frozen  Detergents_Paper  Delicassen\n",
       "0        2       3  12669  9656     7561     214              2674        1338\n",
       "1        2       3   7057  9810     9568    1762              3293        1776\n",
       "2        2       3   6353  8808     7684    2405              3516        7844\n",
       "3        1       3  13265  1196     4221    6404               507        1788\n",
       "4        2       3  22615  5410     7198    3915              1777        5185"
      ]
     },
     "execution_count": 10,
     "metadata": {},
     "output_type": "execute_result"
    }
   ],
   "source": [
    "import pandas as pd\n",
    "\n",
    "df = pd.read_csv('Wholesale customers data.csv')\n",
    "df.head()"
   ]
  },
  {
   "cell_type": "code",
   "execution_count": 11,
   "metadata": {},
   "outputs": [
    {
     "data": {
      "text/html": [
       "<div>\n",
       "<style scoped>\n",
       "    .dataframe tbody tr th:only-of-type {\n",
       "        vertical-align: middle;\n",
       "    }\n",
       "\n",
       "    .dataframe tbody tr th {\n",
       "        vertical-align: top;\n",
       "    }\n",
       "\n",
       "    .dataframe thead th {\n",
       "        text-align: right;\n",
       "    }\n",
       "</style>\n",
       "<table border=\"1\" class=\"dataframe\">\n",
       "  <thead>\n",
       "    <tr style=\"text-align: right;\">\n",
       "      <th></th>\n",
       "      <th>Fresh</th>\n",
       "      <th>Milk</th>\n",
       "      <th>Grocery</th>\n",
       "      <th>Frozen</th>\n",
       "      <th>Detergents_Paper</th>\n",
       "      <th>Delicassen</th>\n",
       "    </tr>\n",
       "  </thead>\n",
       "  <tbody>\n",
       "    <tr>\n",
       "      <th>0</th>\n",
       "      <td>12669</td>\n",
       "      <td>9656</td>\n",
       "      <td>7561</td>\n",
       "      <td>214</td>\n",
       "      <td>2674</td>\n",
       "      <td>1338</td>\n",
       "    </tr>\n",
       "    <tr>\n",
       "      <th>1</th>\n",
       "      <td>7057</td>\n",
       "      <td>9810</td>\n",
       "      <td>9568</td>\n",
       "      <td>1762</td>\n",
       "      <td>3293</td>\n",
       "      <td>1776</td>\n",
       "    </tr>\n",
       "    <tr>\n",
       "      <th>2</th>\n",
       "      <td>6353</td>\n",
       "      <td>8808</td>\n",
       "      <td>7684</td>\n",
       "      <td>2405</td>\n",
       "      <td>3516</td>\n",
       "      <td>7844</td>\n",
       "    </tr>\n",
       "    <tr>\n",
       "      <th>3</th>\n",
       "      <td>13265</td>\n",
       "      <td>1196</td>\n",
       "      <td>4221</td>\n",
       "      <td>6404</td>\n",
       "      <td>507</td>\n",
       "      <td>1788</td>\n",
       "    </tr>\n",
       "    <tr>\n",
       "      <th>4</th>\n",
       "      <td>22615</td>\n",
       "      <td>5410</td>\n",
       "      <td>7198</td>\n",
       "      <td>3915</td>\n",
       "      <td>1777</td>\n",
       "      <td>5185</td>\n",
       "    </tr>\n",
       "    <tr>\n",
       "      <th>...</th>\n",
       "      <td>...</td>\n",
       "      <td>...</td>\n",
       "      <td>...</td>\n",
       "      <td>...</td>\n",
       "      <td>...</td>\n",
       "      <td>...</td>\n",
       "    </tr>\n",
       "    <tr>\n",
       "      <th>435</th>\n",
       "      <td>29703</td>\n",
       "      <td>12051</td>\n",
       "      <td>16027</td>\n",
       "      <td>13135</td>\n",
       "      <td>182</td>\n",
       "      <td>2204</td>\n",
       "    </tr>\n",
       "    <tr>\n",
       "      <th>436</th>\n",
       "      <td>39228</td>\n",
       "      <td>1431</td>\n",
       "      <td>764</td>\n",
       "      <td>4510</td>\n",
       "      <td>93</td>\n",
       "      <td>2346</td>\n",
       "    </tr>\n",
       "    <tr>\n",
       "      <th>437</th>\n",
       "      <td>14531</td>\n",
       "      <td>15488</td>\n",
       "      <td>30243</td>\n",
       "      <td>437</td>\n",
       "      <td>14841</td>\n",
       "      <td>1867</td>\n",
       "    </tr>\n",
       "    <tr>\n",
       "      <th>438</th>\n",
       "      <td>10290</td>\n",
       "      <td>1981</td>\n",
       "      <td>2232</td>\n",
       "      <td>1038</td>\n",
       "      <td>168</td>\n",
       "      <td>2125</td>\n",
       "    </tr>\n",
       "    <tr>\n",
       "      <th>439</th>\n",
       "      <td>2787</td>\n",
       "      <td>1698</td>\n",
       "      <td>2510</td>\n",
       "      <td>65</td>\n",
       "      <td>477</td>\n",
       "      <td>52</td>\n",
       "    </tr>\n",
       "  </tbody>\n",
       "</table>\n",
       "<p>440 rows × 6 columns</p>\n",
       "</div>"
      ],
      "text/plain": [
       "     Fresh   Milk  Grocery  Frozen  Detergents_Paper  Delicassen\n",
       "0    12669   9656     7561     214              2674        1338\n",
       "1     7057   9810     9568    1762              3293        1776\n",
       "2     6353   8808     7684    2405              3516        7844\n",
       "3    13265   1196     4221    6404               507        1788\n",
       "4    22615   5410     7198    3915              1777        5185\n",
       "..     ...    ...      ...     ...               ...         ...\n",
       "435  29703  12051    16027   13135               182        2204\n",
       "436  39228   1431      764    4510                93        2346\n",
       "437  14531  15488    30243     437             14841        1867\n",
       "438  10290   1981     2232    1038               168        2125\n",
       "439   2787   1698     2510      65               477          52\n",
       "\n",
       "[440 rows x 6 columns]"
      ]
     },
     "execution_count": 11,
     "metadata": {},
     "output_type": "execute_result"
    }
   ],
   "source": [
    "data = df.iloc[:, (df.columns != \"Channel\") & (df.columns != \"Region\")]\n",
    "data"
   ]
  },
  {
   "cell_type": "code",
   "execution_count": 12,
   "metadata": {},
   "outputs": [
    {
     "data": {
      "text/plain": [
       "array([[   650.02212207,   1585.51909007],\n",
       "       [ -4426.80497937,   4042.45150884],\n",
       "       [ -4841.9987068 ,   2578.762176  ],\n",
       "       [   990.34643689,  -6279.80599663],\n",
       "       [ 10657.99873116,  -2159.72581518],\n",
       "       [ -2765.96159271,   -959.87072713],\n",
       "       [  -715.55089221,  -2013.00226567],\n",
       "       [ -4474.58366697,   1429.49697204],\n",
       "       [ -6712.09539718,  -2205.90915598],\n",
       "       [ -4823.63435407,  13480.55920489],\n",
       "       [ -7974.82898455,   5711.21892518],\n",
       "       [    36.39377903,  -6037.89640947],\n",
       "       [ 19940.20205019,   4591.28647966],\n",
       "       [  9396.69557902,   5913.15703681],\n",
       "       [ 12660.37043259,   4541.94543497],\n",
       "       [ -2997.72589991,  -6093.8792994 ],\n",
       "       [-10589.52355862,   6584.21594303],\n",
       "       [ -6367.09518029,  -3680.71267259],\n",
       "       [  6623.82533598,   1254.71952554],\n",
       "       [ -4861.53156911,   -225.59226591]])"
      ]
     },
     "execution_count": 12,
     "metadata": {},
     "output_type": "execute_result"
    }
   ],
   "source": [
    "from sklearn.decomposition import PCA\n",
    "pca = PCA(n_components = 2)\n",
    "pca = pca.fit(data)\n",
    "data_pca = pca.transform(data)\n",
    "data_pca[:20]"
   ]
  },
  {
   "cell_type": "code",
   "execution_count": 13,
   "metadata": {},
   "outputs": [
    {
     "name": "stdout",
     "output_type": "stream",
     "text": [
      "[0.45961362 0.86478588 0.93481597 0.97883941 0.99386152 1.        ]\n"
     ]
    },
    {
     "data": {
      "image/png": "[encoded data removed]",
      "text/plain": [
       "<Figure size 432x288 with 1 Axes>"
      ]
     },
     "metadata": {
      "needs_background": "light"
     },
     "output_type": "display_data"
    }
   ],
   "source": [
    "from sklearn.decomposition import PCA\n",
    "import matplotlib.pyplot as plt\n",
    "\n",
    "pca = PCA(n_components=None)\n",
    "pca = pca.fit(data)\n",
    "var_exp = pca.explained_variance_ratio_\n",
    "cum_var_exp = np.cumsum(var_exp)\n",
    "print(cum_var_exp)\n",
    "plt.bar(range(1,7), var_exp, alpha=0.5, align='center', label='individual explained variance')\n",
    "plt.step(range(1,7), cum_var_exp, where='mid', label='cumulative expalined variance')\n",
    "plt.ylabel('Explained variance ratio')\n",
    "plt.xlabel('Principal components')\n",
    "plt.hlines(0.7, 0, 6,  \"blue\", linestyles='dashed')\n",
    "plt.legend(loc='best')\n",
    "plt.grid()\n",
    "plt.show()"
   ]
  },
  {
   "cell_type": "markdown",
   "metadata": {},
   "source": [
    "### [Problem 10] Selection of the number of clusters k"
   ]
  },
  {
   "cell_type": "code",
   "execution_count": 14,
   "metadata": {},
   "outputs": [
    {
     "name": "stdout",
     "output_type": "stream",
     "text": [
      "2  clusters\n",
      "Smallest error:  91919932364.82265\n",
      "Centers:\n",
      " [[-4175.31101293  -211.15109304]\n",
      " [24088.33276689  1218.17938291]]\n"
     ]
    },
    {
     "data": {
      "image/png": "[encoded data removed]",
      "text/plain": [
       "<Figure size 432x288 with 1 Axes>"
      ]
     },
     "metadata": {
      "needs_background": "light"
     },
     "output_type": "display_data"
    },
    {
     "name": "stdout",
     "output_type": "stream",
     "text": [
      "3  clusters\n",
      "Smallest error:  59085149481.990555\n",
      "Centers:\n",
      " [[-1341.31124554 25261.39189714]\n",
      " [23978.86566553 -4445.56611772]\n",
      " [-4165.1217824  -3105.15811456]]\n"
     ]
    },
    {
     "data": {
      "image/png": "[encoded data removed]",
      "text/plain": [
       "<Figure size 432x288 with 1 Axes>"
      ]
     },
     "metadata": {
      "needs_background": "light"
     },
     "output_type": "display_data"
    },
    {
     "name": "stdout",
     "output_type": "stream",
     "text": [
      "4  clusters\n",
      "Smallest error:  43987034372.52692\n",
      "Centers:\n",
      " [[14526.87614929 50607.64137279]\n",
      " [-6166.17305058 11736.81384052]\n",
      " [23984.5576181  -4910.93673404]\n",
      " [-3496.78818727 -5024.80811368]]\n"
     ]
    },
    {
     "data": {
      "image/png": "[encoded data removed]",
      "text/plain": [
       "<Figure size 432x288 with 1 Axes>"
      ]
     },
     "metadata": {
      "needs_background": "light"
     },
     "output_type": "display_data"
    },
    {
     "name": "stdout",
     "output_type": "stream",
     "text": [
      "5  clusters\n",
      "Smallest error:  32044670443.780148\n",
      "Centers:\n",
      " [[ 9052.39957144 -4808.55909102]\n",
      " [14537.71774395 61715.67085248]\n",
      " [-6399.7117556  -4169.29690862]\n",
      " [37704.64157991 -5488.35405895]\n",
      " [-5607.91709853 14199.18040025]]\n"
     ]
    },
    {
     "data": {
      "image/png": "[encoded data removed]",
      "text/plain": [
       "<Figure size 432x288 with 1 Axes>"
      ]
     },
     "metadata": {
      "needs_background": "light"
     },
     "output_type": "display_data"
    },
    {
     "name": "stdout",
     "output_type": "stream",
     "text": [
      "6  clusters\n",
      "Smallest error:  26535916698.192562\n",
      "Centers:\n",
      " [[37704.64157991 -5488.35405895]\n",
      " [ 9351.85448379 -4667.83404401]\n",
      " [-6035.6523743  -5702.59417982]\n",
      " [-7177.17913696  6446.09370654]\n",
      " [20964.64986166 68819.21772923]\n",
      " [-2787.06628956 24275.2601508 ]]\n"
     ]
    },
    {
     "data": {
      "image/png": "[encoded data removed]",
      "text/plain": [
       "<Figure size 432x288 with 1 Axes>"
      ]
     },
     "metadata": {
      "needs_background": "light"
     },
     "output_type": "display_data"
    },
    {
     "name": "stdout",
     "output_type": "stream",
     "text": [
      "7  clusters\n",
      "Smallest error:  21760570662.547955\n",
      "Centers:\n",
      " [[-7819.72184944 -5373.09999267]\n",
      " [20964.64986166 68819.21772923]\n",
      " [ 3477.09902714 -5484.93607232]\n",
      " [54314.5101146  -1754.26873721]\n",
      " [20026.97343588 -4765.30279326]\n",
      " [-7012.62228466  6928.39601904]\n",
      " [-2787.06628956 24275.2601508 ]]\n"
     ]
    },
    {
     "data": {
      "image/png": "[encoded data removed]",
      "text/plain": [
       "<Figure size 432x288 with 1 Axes>"
      ]
     },
     "metadata": {
      "needs_background": "light"
     },
     "output_type": "display_data"
    },
    {
     "name": "stdout",
     "output_type": "stream",
     "text": [
      "8  clusters\n",
      "Smallest error:  18312359085.613495\n",
      "Centers:\n",
      " [[14389.27388383 -2507.41605083]\n",
      " [31677.01702205 -6255.39517189]\n",
      " [ 2900.14423445 -6032.43569237]\n",
      " [-7855.70387893 -5357.47365718]\n",
      " [-7012.62228466  6928.39601904]\n",
      " [74982.98228094 -1461.38586695]\n",
      " [20964.64986166 68819.21772923]\n",
      " [-2787.06628956 24275.2601508 ]]\n"
     ]
    },
    {
     "data": {
      "image/png": "[encoded data removed]",
      "text/plain": [
       "<Figure size 432x288 with 1 Axes>"
      ]
     },
     "metadata": {
      "needs_background": "light"
     },
     "output_type": "display_data"
    },
    {
     "name": "stdout",
     "output_type": "stream",
     "text": [
      "9  clusters\n",
      "Smallest error:  16695446611.759323\n",
      "Centers:\n",
      " [[-6596.84480809 15112.1858082 ]\n",
      " [20964.64986166 68819.21772923]\n",
      " [  852.9010538  29627.10876987]\n",
      " [14389.27388383 -2507.41605083]\n",
      " [-7815.49738167 -5816.65149987]\n",
      " [31364.98491194 -7934.73743858]\n",
      " [ 2900.14423445 -6032.43569237]\n",
      " [65716.6515168   5736.82314024]\n",
      " [-7316.11032573  4072.33845324]]\n"
     ]
    },
    {
     "data": {
      "image/png": "[encoded data removed]",
      "text/plain": [
       "<Figure size 432x288 with 1 Axes>"
      ]
     },
     "metadata": {
      "needs_background": "light"
     },
     "output_type": "display_data"
    },
    {
     "name": "stdout",
     "output_type": "stream",
     "text": [
      "10  clusters\n",
      "Smallest error:  14612794914.73448\n",
      "Centers:\n",
      " [[-9873.44560477 -5165.81872087]\n",
      " [-7336.38332461  4986.73210533]\n",
      " [14612.08734006 -2378.5472163 ]\n",
      " [-5353.2050791  16736.9681705 ]\n",
      " [ 1634.03823642 35312.64993926]\n",
      " [-2770.26678555 -5918.34727738]\n",
      " [26335.57276386 71463.75736216]\n",
      " [74982.98228094 -1461.38586695]\n",
      " [31677.01702205 -6255.39517189]\n",
      " [ 5389.93970839 -6238.14177912]]\n"
     ]
    },
    {
     "data": {
      "image/png": "[encoded data removed]",
      "text/plain": [
       "<Figure size 432x288 with 1 Axes>"
      ]
     },
     "metadata": {
      "needs_background": "light"
     },
     "output_type": "display_data"
    },
    {
     "name": "stdout",
     "output_type": "stream",
     "text": [
      "[9.19199324e+10 5.90851495e+10 4.39870344e+10 3.20446704e+10\n",
      " 2.65359167e+10 2.17605707e+10 1.83123591e+10 1.66954466e+10\n",
      " 1.46127949e+10]\n"
     ]
    },
    {
     "data": {
      "image/png": "[encoded data removed]",
      "text/plain": [
       "<Figure size 432x288 with 1 Axes>"
      ]
     },
     "metadata": {
      "needs_background": "light"
     },
     "output_type": "display_data"
    }
   ],
   "source": [
    "elbow(data_pca, max_clusters=10, max_iter=50, n_init=20, verbose=True)"
   ]
  },
  {
   "cell_type": "markdown",
   "metadata": {},
   "source": [
    "From the above diagram, when the number of clusters increase, the loss function gives a smaller amount. However, the change of the slope at `n_clusters = 3` and `n_clusters = 5` can be seen easier than other values. And based on the number of features, I will choose `n_clusters = 5` as the hyperparameters."
   ]
  },
  {
   "cell_type": "markdown",
   "metadata": {},
   "source": [
    "### [Problem 11] Comparison with known groups"
   ]
  },
  {
   "cell_type": "code",
   "execution_count": 15,
   "metadata": {},
   "outputs": [
    {
     "data": {
      "text/plain": [
       "array([2, 2, 2, 2, 4, 2, 2, 2, 2, 3, 3, 2, 4, 4, 4, 2, 3, 2, 4, 2, 4, 2,\n",
       "       4, 3, 4, 4, 2, 2, 3, 1, 4, 2, 4, 4, 2, 2, 4, 3, 3, 1, 4, 4, 3, 3,\n",
       "       2, 3, 3, 0, 2, 3, 2, 2, 1, 3, 4, 2, 3, 3, 2, 2, 2, 0, 2, 3, 2, 0,\n",
       "       2, 4, 2, 2, 4, 4, 2, 4, 2, 4, 2, 3, 2, 2, 2, 3, 2, 4, 2, 0, 0, 1,\n",
       "       2, 4, 2, 2, 3, 4, 3, 2, 2, 2, 2, 2, 3, 3, 2, 1, 2, 4, 2, 3, 2, 3,\n",
       "       2, 3, 4, 4, 4, 2, 2, 2, 4, 2, 4, 2, 2, 2, 4, 1, 4, 4, 2, 1, 2, 2,\n",
       "       4, 2, 2, 2, 2, 2, 2, 2, 4, 4, 1, 2, 4, 3, 2, 2, 2, 4, 4, 2, 4, 2,\n",
       "       2, 3, 3, 4, 2, 3, 2, 2, 4, 3, 2, 3, 2, 2, 2, 2, 3, 3, 2, 3, 2, 3,\n",
       "       1, 2, 2, 2, 2, 1, 3, 1, 2, 2, 2, 2, 3, 3, 4, 2, 2, 3, 2, 4, 4, 2,\n",
       "       2, 2, 3, 3, 4, 2, 2, 3, 2, 2, 2, 3, 4, 0, 2, 2, 3, 3, 3, 4, 3, 2,\n",
       "       4, 2, 2, 2, 2, 2, 4, 2, 2, 2, 2, 2, 4, 2, 4, 2, 2, 4, 2, 1, 4, 4,\n",
       "       4, 2, 2, 3, 2, 2, 4, 2, 2, 3, 2, 4, 2, 4, 2, 2, 1, 1, 2, 2, 4, 2,\n",
       "       3, 3, 3, 4, 3, 4, 2, 2, 2, 1, 2, 2, 4, 2, 2, 4, 2, 2, 1, 4, 1, 1,\n",
       "       2, 4, 4, 1, 2, 2, 2, 3, 4, 2, 4, 2, 2, 2, 4, 3, 2, 3, 3, 3, 3, 4,\n",
       "       2, 3, 2, 4, 3, 2, 2, 3, 2, 2, 2, 3, 2, 2, 4, 2, 4, 1, 2, 2, 4, 2,\n",
       "       2, 3, 4, 0, 4, 4, 2, 2, 2, 2, 2, 2, 2, 3, 2, 2, 3, 4, 2, 3, 2, 3,\n",
       "       2, 3, 4, 2, 4, 3, 2, 2, 4, 2, 2, 2, 2, 2, 2, 2, 4, 2, 1, 4, 2, 4,\n",
       "       2, 2, 3, 1, 2, 2, 4, 4, 4, 2, 3, 2, 2, 4, 2, 2, 2, 2, 2, 4, 2, 2,\n",
       "       3, 2, 2, 2, 2, 4, 4, 4, 4, 2, 4, 3, 2, 2, 2, 2, 2, 2, 2, 2, 3, 2,\n",
       "       3, 2, 3, 4, 4, 4, 4, 2, 3, 4, 2, 2, 3, 2, 4, 2, 4, 4, 1, 3, 2, 2],\n",
       "      dtype=int64)"
      ]
     },
     "execution_count": 15,
     "metadata": {},
     "output_type": "execute_result"
    }
   ],
   "source": [
    "km5 = ScratchKMeans(n_clusters=5, max_iter=50, n_init=20, tol=1e-5)\n",
    "km5.fit(data_pca)\n",
    "clusters_pred = km5.predict(data_pca)\n",
    "clusters_pred"
   ]
  },
  {
   "cell_type": "code",
   "execution_count": 16,
   "metadata": {},
   "outputs": [
    {
     "data": {
      "image/png": "[encoded data removed]",
      "text/plain": [
       "<Figure size 432x288 with 1 Axes>"
      ]
     },
     "metadata": {
      "needs_background": "light"
     },
     "output_type": "display_data"
    }
   ],
   "source": [
    "plt.title('Clusters')\n",
    "km5.plot(data_pca)"
   ]
  },
  {
   "cell_type": "code",
   "execution_count": 17,
   "metadata": {},
   "outputs": [
    {
     "data": {
      "image/png": "[encoded data removed]",
      "text/plain": [
       "<Figure size 432x288 with 1 Axes>"
      ]
     },
     "metadata": {
      "needs_background": "light"
     },
     "output_type": "display_data"
    },
    {
     "data": {
      "image/png": "[encoded data removed]",
      "text/plain": [
       "<Figure size 432x288 with 1 Axes>"
      ]
     },
     "metadata": {
      "needs_background": "light"
     },
     "output_type": "display_data"
    }
   ],
   "source": [
    "import seaborn as sns\n",
    "\n",
    "plt.title('Region')\n",
    "sns.scatterplot(x=data_pca[:, 0], y=data_pca[:, 1], hue=df['Region'], palette='tab10')\n",
    "plt.show()\n",
    "\n",
    "plt.title('Channel')\n",
    "sns.scatterplot(x=data_pca[:, 0], y=data_pca[:, 1], hue=df['Channel'], palette='tab10')\n",
    "plt.show()"
   ]
  },
  {
   "cell_type": "markdown",
   "metadata": {},
   "source": [
    "### [Problem 12] Useful information for wholesalers"
   ]
  },
  {
   "cell_type": "code",
   "execution_count": 18,
   "metadata": {},
   "outputs": [
    {
     "data": {
      "text/html": [
       "<div>\n",
       "<style scoped>\n",
       "    .dataframe tbody tr th:only-of-type {\n",
       "        vertical-align: middle;\n",
       "    }\n",
       "\n",
       "    .dataframe tbody tr th {\n",
       "        vertical-align: top;\n",
       "    }\n",
       "\n",
       "    .dataframe thead th {\n",
       "        text-align: right;\n",
       "    }\n",
       "</style>\n",
       "<table border=\"1\" class=\"dataframe\">\n",
       "  <thead>\n",
       "    <tr style=\"text-align: right;\">\n",
       "      <th></th>\n",
       "      <th>Channel</th>\n",
       "      <th>Region</th>\n",
       "      <th>Fresh</th>\n",
       "      <th>Milk</th>\n",
       "      <th>Grocery</th>\n",
       "      <th>Frozen</th>\n",
       "      <th>Detergents_Paper</th>\n",
       "      <th>Delicassen</th>\n",
       "      <th>Cluster</th>\n",
       "    </tr>\n",
       "  </thead>\n",
       "  <tbody>\n",
       "    <tr>\n",
       "      <th>0</th>\n",
       "      <td>2</td>\n",
       "      <td>3</td>\n",
       "      <td>12669</td>\n",
       "      <td>9656</td>\n",
       "      <td>7561</td>\n",
       "      <td>214</td>\n",
       "      <td>2674</td>\n",
       "      <td>1338</td>\n",
       "      <td>2</td>\n",
       "    </tr>\n",
       "    <tr>\n",
       "      <th>1</th>\n",
       "      <td>2</td>\n",
       "      <td>3</td>\n",
       "      <td>7057</td>\n",
       "      <td>9810</td>\n",
       "      <td>9568</td>\n",
       "      <td>1762</td>\n",
       "      <td>3293</td>\n",
       "      <td>1776</td>\n",
       "      <td>2</td>\n",
       "    </tr>\n",
       "    <tr>\n",
       "      <th>2</th>\n",
       "      <td>2</td>\n",
       "      <td>3</td>\n",
       "      <td>6353</td>\n",
       "      <td>8808</td>\n",
       "      <td>7684</td>\n",
       "      <td>2405</td>\n",
       "      <td>3516</td>\n",
       "      <td>7844</td>\n",
       "      <td>2</td>\n",
       "    </tr>\n",
       "    <tr>\n",
       "      <th>3</th>\n",
       "      <td>1</td>\n",
       "      <td>3</td>\n",
       "      <td>13265</td>\n",
       "      <td>1196</td>\n",
       "      <td>4221</td>\n",
       "      <td>6404</td>\n",
       "      <td>507</td>\n",
       "      <td>1788</td>\n",
       "      <td>2</td>\n",
       "    </tr>\n",
       "    <tr>\n",
       "      <th>4</th>\n",
       "      <td>2</td>\n",
       "      <td>3</td>\n",
       "      <td>22615</td>\n",
       "      <td>5410</td>\n",
       "      <td>7198</td>\n",
       "      <td>3915</td>\n",
       "      <td>1777</td>\n",
       "      <td>5185</td>\n",
       "      <td>4</td>\n",
       "    </tr>\n",
       "    <tr>\n",
       "      <th>...</th>\n",
       "      <td>...</td>\n",
       "      <td>...</td>\n",
       "      <td>...</td>\n",
       "      <td>...</td>\n",
       "      <td>...</td>\n",
       "      <td>...</td>\n",
       "      <td>...</td>\n",
       "      <td>...</td>\n",
       "      <td>...</td>\n",
       "    </tr>\n",
       "    <tr>\n",
       "      <th>435</th>\n",
       "      <td>1</td>\n",
       "      <td>3</td>\n",
       "      <td>29703</td>\n",
       "      <td>12051</td>\n",
       "      <td>16027</td>\n",
       "      <td>13135</td>\n",
       "      <td>182</td>\n",
       "      <td>2204</td>\n",
       "      <td>4</td>\n",
       "    </tr>\n",
       "    <tr>\n",
       "      <th>436</th>\n",
       "      <td>1</td>\n",
       "      <td>3</td>\n",
       "      <td>39228</td>\n",
       "      <td>1431</td>\n",
       "      <td>764</td>\n",
       "      <td>4510</td>\n",
       "      <td>93</td>\n",
       "      <td>2346</td>\n",
       "      <td>1</td>\n",
       "    </tr>\n",
       "    <tr>\n",
       "      <th>437</th>\n",
       "      <td>2</td>\n",
       "      <td>3</td>\n",
       "      <td>14531</td>\n",
       "      <td>15488</td>\n",
       "      <td>30243</td>\n",
       "      <td>437</td>\n",
       "      <td>14841</td>\n",
       "      <td>1867</td>\n",
       "      <td>3</td>\n",
       "    </tr>\n",
       "    <tr>\n",
       "      <th>438</th>\n",
       "      <td>1</td>\n",
       "      <td>3</td>\n",
       "      <td>10290</td>\n",
       "      <td>1981</td>\n",
       "      <td>2232</td>\n",
       "      <td>1038</td>\n",
       "      <td>168</td>\n",
       "      <td>2125</td>\n",
       "      <td>2</td>\n",
       "    </tr>\n",
       "    <tr>\n",
       "      <th>439</th>\n",
       "      <td>1</td>\n",
       "      <td>3</td>\n",
       "      <td>2787</td>\n",
       "      <td>1698</td>\n",
       "      <td>2510</td>\n",
       "      <td>65</td>\n",
       "      <td>477</td>\n",
       "      <td>52</td>\n",
       "      <td>2</td>\n",
       "    </tr>\n",
       "  </tbody>\n",
       "</table>\n",
       "<p>440 rows × 9 columns</p>\n",
       "</div>"
      ],
      "text/plain": [
       "     Channel  Region  Fresh   Milk  Grocery  Frozen  Detergents_Paper  \\\n",
       "0          2       3  12669   9656     7561     214              2674   \n",
       "1          2       3   7057   9810     9568    1762              3293   \n",
       "2          2       3   6353   8808     7684    2405              3516   \n",
       "3          1       3  13265   1196     4221    6404               507   \n",
       "4          2       3  22615   5410     7198    3915              1777   \n",
       "..       ...     ...    ...    ...      ...     ...               ...   \n",
       "435        1       3  29703  12051    16027   13135               182   \n",
       "436        1       3  39228   1431      764    4510                93   \n",
       "437        2       3  14531  15488    30243     437             14841   \n",
       "438        1       3  10290   1981     2232    1038               168   \n",
       "439        1       3   2787   1698     2510      65               477   \n",
       "\n",
       "     Delicassen  Cluster  \n",
       "0          1338        2  \n",
       "1          1776        2  \n",
       "2          7844        2  \n",
       "3          1788        2  \n",
       "4          5185        4  \n",
       "..          ...      ...  \n",
       "435        2204        4  \n",
       "436        2346        1  \n",
       "437        1867        3  \n",
       "438        2125        2  \n",
       "439          52        2  \n",
       "\n",
       "[440 rows x 9 columns]"
      ]
     },
     "execution_count": 18,
     "metadata": {},
     "output_type": "execute_result"
    }
   ],
   "source": [
    "clusters = pd.DataFrame(clusters_pred, columns=['Cluster'])\n",
    "df_cl = pd.concat([df, clusters], axis=1)\n",
    "df_cl"
   ]
  },
  {
   "cell_type": "code",
   "execution_count": 19,
   "metadata": {},
   "outputs": [
    {
     "data": {
      "text/html": [
       "<div>\n",
       "<style scoped>\n",
       "    .dataframe tbody tr th:only-of-type {\n",
       "        vertical-align: middle;\n",
       "    }\n",
       "\n",
       "    .dataframe tbody tr th {\n",
       "        vertical-align: top;\n",
       "    }\n",
       "\n",
       "    .dataframe thead th {\n",
       "        text-align: right;\n",
       "    }\n",
       "</style>\n",
       "<table border=\"1\" class=\"dataframe\">\n",
       "  <thead>\n",
       "    <tr style=\"text-align: right;\">\n",
       "      <th></th>\n",
       "      <th>Channel</th>\n",
       "      <th>Region</th>\n",
       "      <th>Fresh</th>\n",
       "      <th>Milk</th>\n",
       "      <th>Grocery</th>\n",
       "      <th>Frozen</th>\n",
       "      <th>Detergents_Paper</th>\n",
       "      <th>Delicassen</th>\n",
       "      <th>Cluster</th>\n",
       "    </tr>\n",
       "  </thead>\n",
       "  <tbody>\n",
       "    <tr>\n",
       "      <th>count</th>\n",
       "      <td>440.000000</td>\n",
       "      <td>440.000000</td>\n",
       "      <td>440.000000</td>\n",
       "      <td>440.000000</td>\n",
       "      <td>440.000000</td>\n",
       "      <td>440.000000</td>\n",
       "      <td>440.000000</td>\n",
       "      <td>440.000000</td>\n",
       "      <td>440.000000</td>\n",
       "    </tr>\n",
       "    <tr>\n",
       "      <th>mean</th>\n",
       "      <td>1.322727</td>\n",
       "      <td>2.543182</td>\n",
       "      <td>12000.297727</td>\n",
       "      <td>5796.265909</td>\n",
       "      <td>7951.277273</td>\n",
       "      <td>3071.931818</td>\n",
       "      <td>2881.493182</td>\n",
       "      <td>1524.870455</td>\n",
       "      <td>2.565909</td>\n",
       "    </tr>\n",
       "    <tr>\n",
       "      <th>std</th>\n",
       "      <td>0.468052</td>\n",
       "      <td>0.774272</td>\n",
       "      <td>12647.328865</td>\n",
       "      <td>7380.377175</td>\n",
       "      <td>9503.162829</td>\n",
       "      <td>4854.673333</td>\n",
       "      <td>4767.854448</td>\n",
       "      <td>2820.105937</td>\n",
       "      <td>0.957037</td>\n",
       "    </tr>\n",
       "    <tr>\n",
       "      <th>min</th>\n",
       "      <td>1.000000</td>\n",
       "      <td>1.000000</td>\n",
       "      <td>3.000000</td>\n",
       "      <td>55.000000</td>\n",
       "      <td>3.000000</td>\n",
       "      <td>25.000000</td>\n",
       "      <td>3.000000</td>\n",
       "      <td>3.000000</td>\n",
       "      <td>0.000000</td>\n",
       "    </tr>\n",
       "    <tr>\n",
       "      <th>25%</th>\n",
       "      <td>1.000000</td>\n",
       "      <td>2.000000</td>\n",
       "      <td>3127.750000</td>\n",
       "      <td>1533.000000</td>\n",
       "      <td>2153.000000</td>\n",
       "      <td>742.250000</td>\n",
       "      <td>256.750000</td>\n",
       "      <td>408.250000</td>\n",
       "      <td>2.000000</td>\n",
       "    </tr>\n",
       "    <tr>\n",
       "      <th>50%</th>\n",
       "      <td>1.000000</td>\n",
       "      <td>3.000000</td>\n",
       "      <td>8504.000000</td>\n",
       "      <td>3627.000000</td>\n",
       "      <td>4755.500000</td>\n",
       "      <td>1526.000000</td>\n",
       "      <td>816.500000</td>\n",
       "      <td>965.500000</td>\n",
       "      <td>2.000000</td>\n",
       "    </tr>\n",
       "    <tr>\n",
       "      <th>75%</th>\n",
       "      <td>2.000000</td>\n",
       "      <td>3.000000</td>\n",
       "      <td>16933.750000</td>\n",
       "      <td>7190.250000</td>\n",
       "      <td>10655.750000</td>\n",
       "      <td>3554.250000</td>\n",
       "      <td>3922.000000</td>\n",
       "      <td>1820.250000</td>\n",
       "      <td>3.000000</td>\n",
       "    </tr>\n",
       "    <tr>\n",
       "      <th>max</th>\n",
       "      <td>2.000000</td>\n",
       "      <td>3.000000</td>\n",
       "      <td>112151.000000</td>\n",
       "      <td>73498.000000</td>\n",
       "      <td>92780.000000</td>\n",
       "      <td>60869.000000</td>\n",
       "      <td>40827.000000</td>\n",
       "      <td>47943.000000</td>\n",
       "      <td>4.000000</td>\n",
       "    </tr>\n",
       "  </tbody>\n",
       "</table>\n",
       "</div>"
      ],
      "text/plain": [
       "          Channel      Region          Fresh          Milk       Grocery  \\\n",
       "count  440.000000  440.000000     440.000000    440.000000    440.000000   \n",
       "mean     1.322727    2.543182   12000.297727   5796.265909   7951.277273   \n",
       "std      0.468052    0.774272   12647.328865   7380.377175   9503.162829   \n",
       "min      1.000000    1.000000       3.000000     55.000000      3.000000   \n",
       "25%      1.000000    2.000000    3127.750000   1533.000000   2153.000000   \n",
       "50%      1.000000    3.000000    8504.000000   3627.000000   4755.500000   \n",
       "75%      2.000000    3.000000   16933.750000   7190.250000  10655.750000   \n",
       "max      2.000000    3.000000  112151.000000  73498.000000  92780.000000   \n",
       "\n",
       "             Frozen  Detergents_Paper    Delicassen     Cluster  \n",
       "count    440.000000        440.000000    440.000000  440.000000  \n",
       "mean    3071.931818       2881.493182   1524.870455    2.565909  \n",
       "std     4854.673333       4767.854448   2820.105937    0.957037  \n",
       "min       25.000000          3.000000      3.000000    0.000000  \n",
       "25%      742.250000        256.750000    408.250000    2.000000  \n",
       "50%     1526.000000        816.500000    965.500000    2.000000  \n",
       "75%     3554.250000       3922.000000   1820.250000    3.000000  \n",
       "max    60869.000000      40827.000000  47943.000000    4.000000  "
      ]
     },
     "execution_count": 19,
     "metadata": {},
     "output_type": "execute_result"
    }
   ],
   "source": [
    "df_cl.describe()"
   ]
  },
  {
   "cell_type": "code",
   "execution_count": 20,
   "metadata": {},
   "outputs": [
    {
     "data": {
      "text/html": [
       "<div>\n",
       "<style scoped>\n",
       "    .dataframe tbody tr th:only-of-type {\n",
       "        vertical-align: middle;\n",
       "    }\n",
       "\n",
       "    .dataframe tbody tr th {\n",
       "        vertical-align: top;\n",
       "    }\n",
       "\n",
       "    .dataframe thead th {\n",
       "        text-align: right;\n",
       "    }\n",
       "</style>\n",
       "<table border=\"1\" class=\"dataframe\">\n",
       "  <thead>\n",
       "    <tr style=\"text-align: right;\">\n",
       "      <th></th>\n",
       "      <th>Channel</th>\n",
       "      <th>Region</th>\n",
       "      <th>Fresh</th>\n",
       "      <th>Milk</th>\n",
       "      <th>Grocery</th>\n",
       "      <th>Frozen</th>\n",
       "      <th>Detergents_Paper</th>\n",
       "      <th>Delicassen</th>\n",
       "    </tr>\n",
       "    <tr>\n",
       "      <th>Cluster</th>\n",
       "      <th></th>\n",
       "      <th></th>\n",
       "      <th></th>\n",
       "      <th></th>\n",
       "      <th></th>\n",
       "      <th></th>\n",
       "      <th></th>\n",
       "      <th></th>\n",
       "    </tr>\n",
       "  </thead>\n",
       "  <tbody>\n",
       "    <tr>\n",
       "      <th>0</th>\n",
       "      <td>2.000000</td>\n",
       "      <td>2.571429</td>\n",
       "      <td>20031.285714</td>\n",
       "      <td>38084.000000</td>\n",
       "      <td>56126.142857</td>\n",
       "      <td>2564.571429</td>\n",
       "      <td>27644.571429</td>\n",
       "      <td>2548.142857</td>\n",
       "    </tr>\n",
       "    <tr>\n",
       "      <th>1</th>\n",
       "      <td>1.086957</td>\n",
       "      <td>2.695652</td>\n",
       "      <td>49330.739130</td>\n",
       "      <td>6823.260870</td>\n",
       "      <td>6338.521739</td>\n",
       "      <td>9666.086957</td>\n",
       "      <td>950.913043</td>\n",
       "      <td>4557.695652</td>\n",
       "    </tr>\n",
       "    <tr>\n",
       "      <th>2</th>\n",
       "      <td>1.171806</td>\n",
       "      <td>2.537445</td>\n",
       "      <td>6123.211454</td>\n",
       "      <td>3290.273128</td>\n",
       "      <td>4144.189427</td>\n",
       "      <td>2428.193833</td>\n",
       "      <td>1245.414097</td>\n",
       "      <td>996.233480</td>\n",
       "    </tr>\n",
       "    <tr>\n",
       "      <th>3</th>\n",
       "      <td>1.912500</td>\n",
       "      <td>2.512500</td>\n",
       "      <td>5035.700000</td>\n",
       "      <td>12213.087500</td>\n",
       "      <td>18603.025000</td>\n",
       "      <td>1609.337500</td>\n",
       "      <td>8164.725000</td>\n",
       "      <td>1822.300000</td>\n",
       "    </tr>\n",
       "    <tr>\n",
       "      <th>4</th>\n",
       "      <td>1.203883</td>\n",
       "      <td>2.543689</td>\n",
       "      <td>21480.388350</td>\n",
       "      <td>3911.601942</td>\n",
       "      <td>5154.563107</td>\n",
       "      <td>4188.650485</td>\n",
       "      <td>1131.912621</td>\n",
       "      <td>1712.135922</td>\n",
       "    </tr>\n",
       "  </tbody>\n",
       "</table>\n",
       "</div>"
      ],
      "text/plain": [
       "          Channel    Region         Fresh          Milk       Grocery  \\\n",
       "Cluster                                                                 \n",
       "0        2.000000  2.571429  20031.285714  38084.000000  56126.142857   \n",
       "1        1.086957  2.695652  49330.739130   6823.260870   6338.521739   \n",
       "2        1.171806  2.537445   6123.211454   3290.273128   4144.189427   \n",
       "3        1.912500  2.512500   5035.700000  12213.087500  18603.025000   \n",
       "4        1.203883  2.543689  21480.388350   3911.601942   5154.563107   \n",
       "\n",
       "              Frozen  Detergents_Paper   Delicassen  \n",
       "Cluster                                              \n",
       "0        2564.571429      27644.571429  2548.142857  \n",
       "1        9666.086957        950.913043  4557.695652  \n",
       "2        2428.193833       1245.414097   996.233480  \n",
       "3        1609.337500       8164.725000  1822.300000  \n",
       "4        4188.650485       1131.912621  1712.135922  "
      ]
     },
     "execution_count": 20,
     "metadata": {},
     "output_type": "execute_result"
    }
   ],
   "source": [
    "df_cl.groupby('Cluster').mean()"
   ]
  },
  {
   "cell_type": "markdown",
   "metadata": {},
   "source": [
    "- In cluster 0, the money spent on `Fresh` and `Frozen` are highest among all.\n",
    "- Cluster 1 spent the least amount of money on `Delicassen`.\n",
    "- Cluster 2 spent the most on `Milk`, `Grocery` and `Detergents_Paper`.\n",
    "- Cluster 3 is in average in all categories.\n",
    "- Cluster 4 spent the least on `Fresh` and `Frozen` products."
   ]
  },
  {
   "cell_type": "code",
   "execution_count": 21,
   "metadata": {},
   "outputs": [
    {
     "data": {
      "text/html": [
       "<div>\n",
       "<style scoped>\n",
       "    .dataframe tbody tr th:only-of-type {\n",
       "        vertical-align: middle;\n",
       "    }\n",
       "\n",
       "    .dataframe tbody tr th {\n",
       "        vertical-align: top;\n",
       "    }\n",
       "\n",
       "    .dataframe thead th {\n",
       "        text-align: right;\n",
       "    }\n",
       "</style>\n",
       "<table border=\"1\" class=\"dataframe\">\n",
       "  <thead>\n",
       "    <tr style=\"text-align: right;\">\n",
       "      <th></th>\n",
       "      <th>Region</th>\n",
       "      <th>Fresh</th>\n",
       "      <th>Milk</th>\n",
       "      <th>Grocery</th>\n",
       "      <th>Frozen</th>\n",
       "      <th>Detergents_Paper</th>\n",
       "      <th>Delicassen</th>\n",
       "      <th>Cluster</th>\n",
       "    </tr>\n",
       "    <tr>\n",
       "      <th>Channel</th>\n",
       "      <th></th>\n",
       "      <th></th>\n",
       "      <th></th>\n",
       "      <th></th>\n",
       "      <th></th>\n",
       "      <th></th>\n",
       "      <th></th>\n",
       "      <th></th>\n",
       "    </tr>\n",
       "  </thead>\n",
       "  <tbody>\n",
       "    <tr>\n",
       "      <th>1</th>\n",
       "      <td>2.510067</td>\n",
       "      <td>13475.560403</td>\n",
       "      <td>3451.724832</td>\n",
       "      <td>3962.137584</td>\n",
       "      <td>3748.251678</td>\n",
       "      <td>790.560403</td>\n",
       "      <td>1415.956376</td>\n",
       "      <td>2.503356</td>\n",
       "    </tr>\n",
       "    <tr>\n",
       "      <th>2</th>\n",
       "      <td>2.612676</td>\n",
       "      <td>8904.323944</td>\n",
       "      <td>10716.500000</td>\n",
       "      <td>16322.852113</td>\n",
       "      <td>1652.612676</td>\n",
       "      <td>7269.507042</td>\n",
       "      <td>1753.436620</td>\n",
       "      <td>2.697183</td>\n",
       "    </tr>\n",
       "  </tbody>\n",
       "</table>\n",
       "</div>"
      ],
      "text/plain": [
       "           Region         Fresh          Milk       Grocery       Frozen  \\\n",
       "Channel                                                                    \n",
       "1        2.510067  13475.560403   3451.724832   3962.137584  3748.251678   \n",
       "2        2.612676   8904.323944  10716.500000  16322.852113  1652.612676   \n",
       "\n",
       "         Detergents_Paper   Delicassen   Cluster  \n",
       "Channel                                           \n",
       "1              790.560403  1415.956376  2.503356  \n",
       "2             7269.507042  1753.436620  2.697183  "
      ]
     },
     "execution_count": 21,
     "metadata": {},
     "output_type": "execute_result"
    }
   ],
   "source": [
    "df_cl.groupby('Channel').mean()"
   ]
  },
  {
   "cell_type": "markdown",
   "metadata": {},
   "source": [
    "- The highest distinction between the 2 channel is `Detergents_Paper`, where Channel 2 spent 10 times greater amount than Channel 1.\n",
    "- The smallest distinction is `Delicassen`.\n",
    "- The money spent on `Fresh`, `Frozen` products of channel 1 is twice higher than channel 2.\n",
    "- The money spent on `Milk`, `Grocery` products of channel 2 is 3 times higher than channel 1."
   ]
  },
  {
   "cell_type": "code",
   "execution_count": 22,
   "metadata": {},
   "outputs": [
    {
     "data": {
      "text/html": [
       "<div>\n",
       "<style scoped>\n",
       "    .dataframe tbody tr th:only-of-type {\n",
       "        vertical-align: middle;\n",
       "    }\n",
       "\n",
       "    .dataframe tbody tr th {\n",
       "        vertical-align: top;\n",
       "    }\n",
       "\n",
       "    .dataframe thead th {\n",
       "        text-align: right;\n",
       "    }\n",
       "</style>\n",
       "<table border=\"1\" class=\"dataframe\">\n",
       "  <thead>\n",
       "    <tr style=\"text-align: right;\">\n",
       "      <th></th>\n",
       "      <th>Channel</th>\n",
       "      <th>Fresh</th>\n",
       "      <th>Milk</th>\n",
       "      <th>Grocery</th>\n",
       "      <th>Frozen</th>\n",
       "      <th>Detergents_Paper</th>\n",
       "      <th>Delicassen</th>\n",
       "      <th>Cluster</th>\n",
       "    </tr>\n",
       "    <tr>\n",
       "      <th>Region</th>\n",
       "      <th></th>\n",
       "      <th></th>\n",
       "      <th></th>\n",
       "      <th></th>\n",
       "      <th></th>\n",
       "      <th></th>\n",
       "      <th></th>\n",
       "      <th></th>\n",
       "    </tr>\n",
       "  </thead>\n",
       "  <tbody>\n",
       "    <tr>\n",
       "      <th>1</th>\n",
       "      <td>1.233766</td>\n",
       "      <td>11101.727273</td>\n",
       "      <td>5486.415584</td>\n",
       "      <td>7403.077922</td>\n",
       "      <td>3000.337662</td>\n",
       "      <td>2651.116883</td>\n",
       "      <td>1354.896104</td>\n",
       "      <td>2.584416</td>\n",
       "    </tr>\n",
       "    <tr>\n",
       "      <th>2</th>\n",
       "      <td>1.404255</td>\n",
       "      <td>9887.680851</td>\n",
       "      <td>5088.170213</td>\n",
       "      <td>9218.595745</td>\n",
       "      <td>4045.361702</td>\n",
       "      <td>3687.468085</td>\n",
       "      <td>1159.702128</td>\n",
       "      <td>2.638298</td>\n",
       "    </tr>\n",
       "    <tr>\n",
       "      <th>3</th>\n",
       "      <td>1.332278</td>\n",
       "      <td>12533.471519</td>\n",
       "      <td>5977.085443</td>\n",
       "      <td>7896.363924</td>\n",
       "      <td>2944.594937</td>\n",
       "      <td>2817.753165</td>\n",
       "      <td>1620.601266</td>\n",
       "      <td>2.550633</td>\n",
       "    </tr>\n",
       "  </tbody>\n",
       "</table>\n",
       "</div>"
      ],
      "text/plain": [
       "         Channel         Fresh         Milk      Grocery       Frozen  \\\n",
       "Region                                                                  \n",
       "1       1.233766  11101.727273  5486.415584  7403.077922  3000.337662   \n",
       "2       1.404255   9887.680851  5088.170213  9218.595745  4045.361702   \n",
       "3       1.332278  12533.471519  5977.085443  7896.363924  2944.594937   \n",
       "\n",
       "        Detergents_Paper   Delicassen   Cluster  \n",
       "Region                                           \n",
       "1            2651.116883  1354.896104  2.584416  \n",
       "2            3687.468085  1159.702128  2.638298  \n",
       "3            2817.753165  1620.601266  2.550633  "
      ]
     },
     "execution_count": 22,
     "metadata": {},
     "output_type": "execute_result"
    }
   ],
   "source": [
    "df_cl.groupby('Region').mean()"
   ]
  },
  {
   "cell_type": "markdown",
   "metadata": {},
   "source": [
    "- There is no big difference between all categories from different regions. It may be difficult to know a data point from which region from there records."
   ]
  }
 ],
 "metadata": {
  "kernelspec": {
   "display_name": "Python 3",
   "language": "python",
   "name": "python3"
  },
  "language_info": {
   "codemirror_mode": {
    "name": "ipython",
    "version": 3
   },
   "file_extension": ".py",
   "mimetype": "text/x-python",
   "name": "python",
   "nbconvert_exporter": "python",
   "pygments_lexer": "ipython3",
   "version": "3.8.5"
  }
 },
 "nbformat": 4,
 "nbformat_minor": 4
}
