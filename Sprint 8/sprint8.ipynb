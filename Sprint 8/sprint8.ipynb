{
 "cells": [
  {
   "cell_type": "markdown",
   "metadata": {},
   "source": [
    "# Sprint 8\n",
    "\n",
    "## Ensemble Learning"
   ]
  },
  {
   "cell_type": "code",
   "execution_count": 1,
   "metadata": {},
   "outputs": [],
   "source": [
    "import numpy as np\n",
    "import pandas as pd\n",
    "from sklearn.linear_model import LinearRegression\n",
    "from sklearn.svm import SVR\n",
    "from sklearn.tree import DecisionTreeRegressor\n",
    "from sklearn.model_selection import train_test_split, KFold\n",
    "from sklearn.preprocessing import StandardScaler\n",
    "from sklearn.metrics import mean_squared_error"
   ]
  },
  {
   "cell_type": "code",
   "execution_count": 2,
   "metadata": {},
   "outputs": [
    {
     "data": {
      "text/plain": [
       "(array([[1710, 2003],\n",
       "        [1262, 1976],\n",
       "        [1786, 2001],\n",
       "        [1717, 1915],\n",
       "        [2198, 2000],\n",
       "        [1362, 1993],\n",
       "        [1694, 2004],\n",
       "        [2090, 1973],\n",
       "        [1774, 1931],\n",
       "        [1077, 1939]], dtype=int64),\n",
       " array([208500, 181500, 223500, 140000, 250000, 143000, 307000, 200000,\n",
       "        129900, 118000], dtype=int64))"
      ]
     },
     "execution_count": 2,
     "metadata": {},
     "output_type": "execute_result"
    }
   ],
   "source": [
    "df = pd.read_csv(\"train.csv\")\n",
    "X = df[['GrLivArea', 'YearBuilt']].values\n",
    "y = df['SalePrice'].values\n",
    "X[:10], y[:10]"
   ]
  },
  {
   "cell_type": "code",
   "execution_count": 3,
   "metadata": {},
   "outputs": [
    {
     "data": {
      "text/plain": [
       "((1168, 2), (1168,), (292, 2), (292,))"
      ]
     },
     "execution_count": 3,
     "metadata": {},
     "output_type": "execute_result"
    }
   ],
   "source": [
    "X_train, X_test, y_train, y_test = train_test_split(X, y, train_size=0.8)\n",
    "X_train.shape, y_train.shape, X_test.shape, y_test.shape"
   ]
  },
  {
   "cell_type": "code",
   "execution_count": 4,
   "metadata": {},
   "outputs": [],
   "source": [
    "s = StandardScaler()\n",
    "s.fit(X_train)\n",
    "X_train = s.transform(X_train)\n",
    "X_test = s.transform(X_test)"
   ]
  },
  {
   "cell_type": "code",
   "execution_count": 5,
   "metadata": {},
   "outputs": [
    {
     "name": "stdout",
     "output_type": "stream",
     "text": [
      "[175938.78781975 122729.19598676 135261.23092683 233729.97912765\n",
      " 225000.3471398  198669.47703876 167614.07775664 312053.6729979\n",
      " 177128.05973106 112409.47690588]\n",
      "2087542129.4462168\n"
     ]
    }
   ],
   "source": [
    "lr = LinearRegression()\n",
    "lr.fit(X_train, y_train)\n",
    "lr_pred = lr.predict(X_test)\n",
    "print(lr_pred[:10])\n",
    "print(mean_squared_error(y_test, lr_pred))"
   ]
  },
  {
   "cell_type": "code",
   "execution_count": 6,
   "metadata": {},
   "outputs": [
    {
     "name": "stdout",
     "output_type": "stream",
     "text": [
      "[161955.50890178 161734.38210749 161705.54250398 162070.98897002\n",
      " 162149.37677863 161941.31944279 161882.72199242 162029.10235423\n",
      " 161904.17932941 161739.20549816]\n",
      "7451386269.047913\n"
     ]
    }
   ],
   "source": [
    "svm = SVR()\n",
    "svm.fit(X_train, y_train)\n",
    "svm_pred = svm.predict(X_test)\n",
    "print(svm_pred[:10])\n",
    "print(mean_squared_error(y_test, svm_pred))"
   ]
  },
  {
   "cell_type": "code",
   "execution_count": 7,
   "metadata": {},
   "outputs": [
    {
     "name": "stdout",
     "output_type": "stream",
     "text": [
      "[157000. 125000. 142000. 375000. 173000. 141000. 124000. 466500. 149500.\n",
      " 153900.]\n",
      "2753675215.8359966\n"
     ]
    }
   ],
   "source": [
    "dtr = DecisionTreeRegressor()\n",
    "dtr.fit(X_train, y_train)\n",
    "dtr_pred = dtr.predict(X_test)\n",
    "print(dtr_pred[:10])\n",
    "print(mean_squared_error(y_test, dtr_pred))"
   ]
  },
  {
   "cell_type": "markdown",
   "metadata": {},
   "source": [
    "### [Problem 1] Blending scratch mounting"
   ]
  },
  {
   "cell_type": "code",
   "execution_count": 8,
   "metadata": {},
   "outputs": [],
   "source": [
    "class ScratchBlending():\n",
    "    \n",
    "    def __init__(self, models, weights=None):\n",
    "        self.models = models\n",
    "        self.weights = weights\n",
    "        \n",
    "    def fit(self, X, y):\n",
    "        for model in self.models:\n",
    "            model.fit(X, y)\n",
    "            \n",
    "    def predict(self, X):\n",
    "        y_preds = []\n",
    "        for model in self.models:\n",
    "            y_preds.append(model.predict(X))\n",
    "        y_pred = np.average(y_preds, axis=0, weights=self.weights)\n",
    "        return y_pred"
   ]
  },
  {
   "cell_type": "code",
   "execution_count": 9,
   "metadata": {},
   "outputs": [
    {
     "name": "stdout",
     "output_type": "stream",
     "text": [
      "[172151.0302558  125183.35678941 136608.98474147 261983.98330212\n",
      " 213500.27771184 183935.58163101 158891.26220531 342942.93839832\n",
      " 171602.44778485 120707.5815247 ]\n",
      "1919521899.0450652\n"
     ]
    }
   ],
   "source": [
    "sb_1 = ScratchBlending([LinearRegression(), DecisionTreeRegressor()], weights=[0.8, 0.2])\n",
    "sb_1.fit(X_train, y_train)\n",
    "sb_1_pred = sb_1.predict(X_test)\n",
    "print(sb_1_pred[:10])\n",
    "print(mean_squared_error(y_test, sb_1_pred))"
   ]
  },
  {
   "cell_type": "code",
   "execution_count": 10,
   "metadata": {},
   "outputs": [
    {
     "name": "stdout",
     "output_type": "stream",
     "text": [
      "[164964.76557384 138821.19269808 146322.25781027 256933.65603256\n",
      " 184883.24130614 161870.26549385 151165.59991635 313527.59178404\n",
      " 162844.07968683 142682.89413468]\n",
      "2587235003.384756\n"
     ]
    }
   ],
   "source": [
    "sb_2 = ScratchBlending([LinearRegression(), SVR(), DecisionTreeRegressor()])\n",
    "sb_2.fit(X_train, y_train)\n",
    "sb_2_pred = sb_2.predict(X_test)\n",
    "print(sb_2_pred[:10])\n",
    "print(mean_squared_error(y_test, sb_2_pred))"
   ]
  },
  {
   "cell_type": "code",
   "execution_count": 11,
   "metadata": {},
   "outputs": [
    {
     "name": "stdout",
     "output_type": "stream",
     "text": [
      "[168858.82358203 127310.9558028  139927.2928065  268945.08637359\n",
      " 201465.14596174 177695.81816753 153956.71885322 343385.11403416\n",
      " 167317.25377158 129789.60669334]\n",
      "1944138389.9036586\n"
     ]
    }
   ],
   "source": [
    "sb_3 = ScratchBlending([LinearRegression(), SVR(), DecisionTreeRegressor()], weights=[0.6, 0.1, 0.3])\n",
    "sb_3.fit(X_train, y_train)\n",
    "sb_3_pred = sb_3.predict(X_test)\n",
    "print(sb_3_pred[:10])\n",
    "print(mean_squared_error(y_test, sb_3_pred))"
   ]
  },
  {
   "cell_type": "markdown",
   "metadata": {},
   "source": [
    "### [Problem 2] Scratch mounting of bagging"
   ]
  },
  {
   "cell_type": "code",
   "execution_count": 12,
   "metadata": {},
   "outputs": [],
   "source": [
    "class ScratchBagging():\n",
    "    \n",
    "    def __init__(self, model, N=3, train_size=0.8):\n",
    "        self.models = []\n",
    "        self.train_size = train_size\n",
    "        for i in range(N):\n",
    "            self.models.append(model)\n",
    "            \n",
    "    def fit(self, X, y):\n",
    "        for model in self.models:\n",
    "            X_train, X_test, y_train, y_test = train_test_split(X, y, train_size=self.train_size, shuffle=True)\n",
    "            model.fit(X_train, y_train)\n",
    "            \n",
    "    def predict(self, X):\n",
    "        y_preds = []\n",
    "        for model in self.models:\n",
    "            y_preds.append(model.predict(X))\n",
    "        y_pred = np.average(y_preds, axis=0)\n",
    "        return y_pred"
   ]
  },
  {
   "cell_type": "code",
   "execution_count": 13,
   "metadata": {},
   "outputs": [
    {
     "name": "stdout",
     "output_type": "stream",
     "text": [
      "[179237.13583842 122025.70358414 137324.01653754 233668.10889843\n",
      " 226917.82753204 198707.95869394 169843.05855766 311312.49494082\n",
      " 178649.35127787 111659.66778822]\n",
      "2097282106.1870823\n"
     ]
    }
   ],
   "source": [
    "sbag = ScratchBagging(LinearRegression())\n",
    "sbag.fit(X_train, y_train)\n",
    "sbag_pred = sbag.predict(X_test)\n",
    "print(sbag_pred[:10])\n",
    "print(mean_squared_error(y_test, sbag_pred))"
   ]
  },
  {
   "cell_type": "code",
   "execution_count": 14,
   "metadata": {},
   "outputs": [
    {
     "name": "stdout",
     "output_type": "stream",
     "text": [
      "[163137.12522571 162961.64492067 162937.95820867 163225.21958965\n",
      " 163288.98853826 163124.88722094 163079.38882711 163188.54259107\n",
      " 163096.32909932 162965.24136808]\n",
      "7407930767.40372\n"
     ]
    }
   ],
   "source": [
    "sbag = ScratchBagging(SVR())\n",
    "sbag.fit(X_train, y_train)\n",
    "sbag_pred = sbag.predict(X_test)\n",
    "print(sbag_pred[:10])\n",
    "print(mean_squared_error(y_test, sbag_pred))"
   ]
  },
  {
   "cell_type": "code",
   "execution_count": 15,
   "metadata": {},
   "outputs": [
    {
     "name": "stdout",
     "output_type": "stream",
     "text": [
      "[141000. 143000. 132000. 375000. 163500. 141000. 152000. 466500. 149500.\n",
      "  89500.]\n",
      "2501293107.25\n"
     ]
    }
   ],
   "source": [
    "sbag = ScratchBagging(DecisionTreeRegressor())\n",
    "sbag.fit(X_train, y_train)\n",
    "sbag_pred = sbag.predict(X_test)\n",
    "print(sbag_pred[:10])\n",
    "print(mean_squared_error(y_test, sbag_pred))"
   ]
  },
  {
   "cell_type": "markdown",
   "metadata": {},
   "source": [
    "### [Problem 3] Stacking scratch mounting"
   ]
  },
  {
   "cell_type": "code",
   "execution_count": 21,
   "metadata": {},
   "outputs": [],
   "source": [
    "class ScratchStacking():\n",
    "\n",
    "    def __init__(self, stage_0_models, stage_1_model, K=3):\n",
    "        self.stage_0_models = stage_0_models\n",
    "        self.stage_1_model = stage_1_model\n",
    "        self.K = K\n",
    "        self.fitted_models = []\n",
    "    \n",
    "    def fit(self, X, y):\n",
    "\n",
    "        kf = KFold(n_splits=self.K)\n",
    "\n",
    "        blend_data = np.zeros([X.shape[0], len(self.stage_0_models)])\n",
    "\n",
    "        for i, model in enumerate(self.stage_0_models):\n",
    "\n",
    "            model_list = []\n",
    "\n",
    "            for train_index, test_index in kf.split(X):\n",
    "                X_train, X_test = X[train_index], X[test_index]\n",
    "                y_train, y_test = y[train_index], y[test_index]\n",
    "\n",
    "                model_list.append(model.fit(X_train, y_train))\n",
    "\n",
    "                blend_data[test_index, i] = model.predict(X_test)\n",
    "\n",
    "            self.fitted_models.append(model_list)\n",
    "\n",
    "        self.stage_1_model.fit(blend_data, y)\n",
    "    \n",
    "    def predict(self, X):\n",
    "\n",
    "        preds = [] \n",
    "\n",
    "        blend_data = np.zeros([X.shape[0], len(self.stage_0_models)])\n",
    "        \n",
    "        for i, models in enumerate(self.fitted_models):\n",
    "            for j in range(self.K):\n",
    "                pred = models[j].predict(X)\n",
    "                blend_data[:, i] += pred\n",
    "            blend_data[:, i] /= self.K\n",
    "   \n",
    "        return self.stage_1_model.predict(blend_data)"
   ]
  },
  {
   "cell_type": "code",
   "execution_count": 23,
   "metadata": {},
   "outputs": [
    {
     "name": "stdout",
     "output_type": "stream",
     "text": [
      "[157000. 130000. 128500. 144000. 230000. 145000. 144000. 336000. 158900.\n",
      " 105000.]\n",
      "2906502181.917808\n"
     ]
    }
   ],
   "source": [
    "lr = LinearRegression()\n",
    "svm = SVR()\n",
    "dtr = DecisionTreeRegressor()\n",
    "\n",
    "ss = ScratchStacking([lr, svm], dtr, K=3)\n",
    "ss.fit(X_train, y_train)\n",
    "ss_pred = ss.predict(X_test)\n",
    "print(ss_pred[:10])\n",
    "print(mean_squared_error(y_test, ss_pred))"
   ]
  },
  {
   "cell_type": "code",
   "execution_count": null,
   "metadata": {},
   "outputs": [],
   "source": []
  }
 ],
 "metadata": {
  "kernelspec": {
   "display_name": "Python 3",
   "language": "python",
   "name": "python3"
  },
  "language_info": {
   "codemirror_mode": {
    "name": "ipython",
    "version": 3
   },
   "file_extension": ".py",
   "mimetype": "text/x-python",
   "name": "python",
   "nbconvert_exporter": "python",
   "pygments_lexer": "ipython3",
   "version": "3.8.5"
  }
 },
 "nbformat": 4,
 "nbformat_minor": 4
}
