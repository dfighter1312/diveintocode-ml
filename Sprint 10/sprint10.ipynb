{
 "cells": [
  {
   "cell_type": "markdown",
   "id": "ff5a0903",
   "metadata": {},
   "source": [
    "# Sprint 10\n",
    "\n",
    "## Deep Neural Network"
   ]
  },
  {
   "cell_type": "markdown",
   "id": "4946dddc",
   "metadata": {},
   "source": [
    "### [Problem 1] Classifying fully connected layers"
   ]
  },
  {
   "cell_type": "code",
   "execution_count": 1,
   "id": "2cfa745e",
   "metadata": {},
   "outputs": [],
   "source": [
    "class FC:\n",
    "    \"\"\"\n",
    "    Number of nodes Fully connected layer from n_nodes1 to n_nodes2\n",
    "    Parameters\n",
    "    ----------\n",
    "    n_nodes1 : int\n",
    "      Number of nodes in the previous layer\n",
    "    n_nodes2 : int\n",
    "      Number of nodes in the later layer\n",
    "    initializer: instance of initialization method\n",
    "    optimizer: instance of optimization method\n",
    "    \"\"\"\n",
    "    def __init__(self, n_nodes1, n_nodes2, initializer, optimizer):\n",
    "        self.optimizer = optimizer\n",
    "        self.n_nodes1 = n_nodes1\n",
    "        self.n_nodes2 = n_nodes2\n",
    "        self.W = initializer.W(self.n_nodes1, self.n_nodes2)\n",
    "        self.B = initializer.B(self.n_nodes2)\n",
    "        self.optimizer = optimizer\n",
    "        self.HW = 0\n",
    "        self.HB = 0\n",
    "        pass\n",
    "    \n",
    "    def forward(self, X):\n",
    "        \"\"\"\n",
    "        forward\n",
    "        Parameters\n",
    "        ----------\n",
    "        X : The following forms of ndarray, shape (batch_size, n_nodes1)\n",
    "            入力\n",
    "        Returns\n",
    "        ----------\n",
    "        A : The following forms of ndarray, shape (batch_size, n_nodes2)\n",
    "            output\n",
    "        \"\"\"       \n",
    "        self.Z = X\n",
    "        self.A = X @ self.W + self.B\n",
    "        return self.A\n",
    "    \n",
    "    def backward(self, dA):\n",
    "        \"\"\"\n",
    "        Backward\n",
    "        Parameters\n",
    "        ----------\n",
    "        dA : The following forms of ndarray, shape (batch_size, n_nodes2)\n",
    "            Gradient flowing from behind\n",
    "        Returns\n",
    "        ----------\n",
    "        dZ : The following forms of ndarray, shape (batch_size, n_nodes1)\n",
    "            Gradient to flow forward\n",
    "        \"\"\"\n",
    "        self.dB = np.sum(dA, axis=0)\n",
    "        self.dW = self.Z.T @ dA\n",
    "        self.dZ = dA @ self.W.T\n",
    "        self = self.optimizer.update(self)\n",
    "        return self.dZ"
   ]
  },
  {
   "cell_type": "markdown",
   "id": "6333fa20",
   "metadata": {},
   "source": [
    "### [Problem 2] Classifying the initialization method"
   ]
  },
  {
   "cell_type": "code",
   "execution_count": 2,
   "id": "60c000b7",
   "metadata": {},
   "outputs": [],
   "source": [
    "class SimpleInitializer:\n",
    "    \"\"\"\n",
    "    Simple initialization with Gaussian distribution\n",
    "    Parameters\n",
    "    ----------\n",
    "    sigma : float\n",
    "      Standard deviation of Gaussian distribution\n",
    "    \"\"\"\n",
    "    def __init__(self, sigma):\n",
    "        self.sigma = sigma\n",
    "        \n",
    "    def W(self, n_nodes1, n_nodes2):\n",
    "        \"\"\"\n",
    "        Weight initialization\n",
    "        Parameters\n",
    "        ----------\n",
    "        n_nodes1 : int\n",
    "          Number of nodes in the previous layer\n",
    "        n_nodes2 : int\n",
    "          Number of nodes in the later layer\n",
    "        Returns\n",
    "        ----------\n",
    "        W :\n",
    "        \"\"\"\n",
    "        W = self.sigma * np.random.randn(n_nodes1, n_nodes2)\n",
    "        return W\n",
    "    \n",
    "    def B(self, n_nodes2):\n",
    "        \"\"\"\n",
    "        Bias initialization\n",
    "        Parameters\n",
    "        ----------\n",
    "        n_nodes2 : int\n",
    "          Number of nodes in the later layer\n",
    "        Returns\n",
    "        ----------\n",
    "        B :\n",
    "        \"\"\"\n",
    "        B = self.sigma * np.random.randn(n_nodes2)\n",
    "        return B"
   ]
  },
  {
   "cell_type": "markdown",
   "id": "50f71dbc",
   "metadata": {},
   "source": [
    "### [Problem 3] Classifying optimization methods"
   ]
  },
  {
   "cell_type": "code",
   "execution_count": 3,
   "id": "73a02d1d",
   "metadata": {},
   "outputs": [],
   "source": [
    "class SGD:\n",
    "    \"\"\"\n",
    "    Stochastic gradient descent\n",
    "    Parameters\n",
    "    ----------\n",
    "    lr : Learning rate\n",
    "    \"\"\"\n",
    "    \n",
    "    def __init__(self, lr):\n",
    "        self.lr = lr\n",
    "        \n",
    "    def update(self, layer):\n",
    "        \"\"\"\n",
    "        Update weights and biases for a layer\n",
    "        Parameters\n",
    "        ----------\n",
    "        layer : Instance of the layer before update\n",
    "        \"\"\"\n",
    "        layer.W -= self.lr * layer.dW / len(layer.Z)\n",
    "        layer.B -= self.lr * layer.dB / len(layer.Z)\n",
    "        return layer"
   ]
  },
  {
   "cell_type": "markdown",
   "id": "33bf3cb6",
   "metadata": {},
   "source": [
    "### [Problem 4] Classifying activation functions"
   ]
  },
  {
   "cell_type": "code",
   "execution_count": 4,
   "id": "d7d39ea2",
   "metadata": {},
   "outputs": [],
   "source": [
    "class Sigmoid:\n",
    "    \n",
    "    def forward(self, A):\n",
    "        self.A = A\n",
    "        Z = 1 / (1 + np.exp(-self.A))\n",
    "        return Z\n",
    "    \n",
    "    def backward(self, dZ):\n",
    "        dA = dZ * ((1 / (1 + np.exp(-self.A))) - (1 / (1 + np.exp(-self.A))) ** 2)\n",
    "        return dA"
   ]
  },
  {
   "cell_type": "code",
   "execution_count": 5,
   "id": "812c2f71",
   "metadata": {},
   "outputs": [],
   "source": [
    "class Tanh:\n",
    "    \n",
    "    def forward(self, A):\n",
    "        self.A = A\n",
    "        Z = np.tanh(self.A)\n",
    "        return Z\n",
    "    \n",
    "    def backward(self, dZ):\n",
    "        dA = dZ + (1 - np.tanh(self.A) ** 2)\n",
    "        return dA"
   ]
  },
  {
   "cell_type": "code",
   "execution_count": 6,
   "id": "741635af",
   "metadata": {},
   "outputs": [],
   "source": [
    "class Softmax:\n",
    "    \n",
    "    def forward(self, A):\n",
    "        Z = np.exp(A) / np.sum(np.exp(A), axis=1).reshape(-1, 1)\n",
    "        return Z\n",
    "    \n",
    "    def backward(self, Z, y):\n",
    "        dA = Z - y\n",
    "        loss = -np.sum(y * np.log(Z)) / len(y)\n",
    "        return dA, loss"
   ]
  },
  {
   "cell_type": "markdown",
   "id": "9e9ed6cc",
   "metadata": {},
   "source": [
    "### [Problem 5] ReLU class creation"
   ]
  },
  {
   "cell_type": "code",
   "execution_count": 7,
   "id": "f7c565c6",
   "metadata": {},
   "outputs": [],
   "source": [
    "class ReLU:\n",
    "    \n",
    "    def forward(self, A):\n",
    "        self.A = A\n",
    "        Z = np.maximum(0, A)\n",
    "        return Z\n",
    "    \n",
    "    def backward(self, dZ):\n",
    "        dA = dZ * np.where(self.A > 0, 1, 0)\n",
    "        return dA"
   ]
  },
  {
   "cell_type": "markdown",
   "id": "b79d7f74",
   "metadata": {},
   "source": [
    "### [Problem 6] Initial value of weight"
   ]
  },
  {
   "cell_type": "code",
   "execution_count": 8,
   "id": "ea25d42f",
   "metadata": {},
   "outputs": [],
   "source": [
    "class XavierInitializer:\n",
    "    \n",
    "    def __init__(self, sigma):\n",
    "        pass\n",
    "    \n",
    "    def W(self, n_nodes1, n_nodes2):\n",
    "        self.sigma = 1 / np.sqrt(n_nodes1)\n",
    "        W = self.sigma * np.random.randn(n_nodes1, n_nodes2)\n",
    "        return W\n",
    "    \n",
    "    def B(self, n_nodes2):\n",
    "        B = self.sigma * np.random.randn(1, n_nodes2)\n",
    "        return B"
   ]
  },
  {
   "cell_type": "code",
   "execution_count": 9,
   "id": "8c0d77e1",
   "metadata": {},
   "outputs": [],
   "source": [
    "class HeInitializer:\n",
    "    \n",
    "    def __init__(self, sigma):\n",
    "        pass\n",
    "    \n",
    "    def W(self, n_nodes1, n_nodes2):\n",
    "        self.sigma = np.sqrt(2 / n_nodes1)\n",
    "        W = self.sigma * np.random.randn(n_nodes1, n_nodes2)\n",
    "        return W\n",
    "    \n",
    "    def B(self, n_nodes2):\n",
    "        B = self.sigma * np.random.randn(1, n_nodes2)\n",
    "        return B"
   ]
  },
  {
   "cell_type": "markdown",
   "id": "3d5cad40",
   "metadata": {},
   "source": [
    "### [Problem 7] Optimization method"
   ]
  },
  {
   "cell_type": "code",
   "execution_count": 10,
   "id": "a9ab5c41",
   "metadata": {},
   "outputs": [],
   "source": [
    "class AdaGrad:\n",
    "    \n",
    "    def __init__(self, lr):\n",
    "        self.lr = lr\n",
    "        \n",
    "    def update(self, layer):\n",
    "        layer.HW += layer.dW * layer.dW\n",
    "        layer.HB += layer.dB * layer.dB\n",
    "        delta = 1e-7\n",
    "        layer.W -= self.lr * layer.dW / (np.sqrt(layer.HW) + delta) / len(layer.Z)\n",
    "        layer.B -= self.lr * layer.dB / (np.sqrt(layer.HB) + delta) / len(layer.Z)\n",
    "        return layer"
   ]
  },
  {
   "cell_type": "markdown",
   "id": "ec22b913",
   "metadata": {},
   "source": [
    "### [Problem 8] Class Completion"
   ]
  },
  {
   "cell_type": "code",
   "execution_count": 11,
   "id": "a68d72c0",
   "metadata": {},
   "outputs": [],
   "source": [
    "class GetMiniBatch:\n",
    "    \"\"\"\n",
    "    Iterator to get a mini-batch\n",
    "    Parameters\n",
    "    ----------\n",
    "    X : The following forms of ndarray, shape (n_samples, n_features)\n",
    "      Training data\n",
    "    y : The following form of ndarray, shape (n_samples, 1)\n",
    "      Correct answer value\n",
    "    batch_size : int\n",
    "      Batch size\n",
    "    seed : int\n",
    "      NumPy random number seed\n",
    "    \"\"\"\n",
    "    \n",
    "    def __init__(self, X, y, batch_size = 20, seed=0):\n",
    "        self.batch_size = batch_size\n",
    "        np.random.seed(seed)\n",
    "        shuffle_index = np.random.permutation(np.arange(X.shape[0]))\n",
    "        self._X = X[shuffle_index]\n",
    "        self._y = y[shuffle_index]\n",
    "        self._stop = np.ceil(X.shape[0]/self.batch_size).astype(np.int)\n",
    "        \n",
    "    def __len__(self):\n",
    "        return self._stop\n",
    "    \n",
    "    def __getitem__(self,item):\n",
    "        p0 = item*self.batch_size\n",
    "        p1 = item*self.batch_size + self.batch_size\n",
    "        return self._X[p0:p1], self._y[p0:p1]        \n",
    "    \n",
    "    def __iter__(self):\n",
    "        self._counter = 0\n",
    "        return self\n",
    "    \n",
    "    def __next__(self):\n",
    "        if self._counter >= self._stop:\n",
    "            raise StopIteration()\n",
    "        p0 = self._counter*self.batch_size\n",
    "        p1 = self._counter*self.batch_size + self.batch_size\n",
    "        self._counter += 1\n",
    "        return self._X[p0:p1], self._y[p0:p1]"
   ]
  },
  {
   "cell_type": "code",
   "execution_count": 12,
   "id": "920c1fca",
   "metadata": {},
   "outputs": [],
   "source": [
    "class ScratchDeepNeuralNetworkClassifier():\n",
    "    \"\"\"\n",
    "    Simple three-layer neural network classifier\n",
    "    Parameters\n",
    "    ----------\n",
    "    Attributes\n",
    "    ----------\n",
    "    \"\"\"\n",
    "    def __init__(self, sigma=0.01, n_features=784, n_nodes1=400, n_nodes2=200,\n",
    "                 n_output=10, learning_rate=0.01, epochs=10, \n",
    "                 batch_size=32, verbose=True, optimizer=SGD, initializer=HeInitializer,\n",
    "                 activater=ReLU):\n",
    "        self.verbose = verbose\n",
    "        self.sigma = sigma\n",
    "        self.n_features = n_features\n",
    "        self.n_nodes1 = n_nodes1\n",
    "        self.n_nodes2 = n_nodes2\n",
    "        self.n_output = n_output\n",
    "        self.lr = learning_rate\n",
    "        self.epochs = epochs\n",
    "        self.batch_size = batch_size\n",
    "        \n",
    "        # Update\n",
    "        self.optimizer = optimizer\n",
    "        self.initializer = initializer\n",
    "        self.activater = activater\n",
    "    \n",
    "    def fit(self, X, y, X_val=None, y_val=None):\n",
    "        \"\"\"\n",
    "        Learn a neural network classifier.\n",
    "        Parameters\n",
    "        ----------\n",
    "        X : The following forms of ndarray, shape (n_samples, n_features)\n",
    "            Features of training data\n",
    "        y : The following form of ndarray, shape (n_samples,)\n",
    "            Correct answer value of training data\n",
    "        X_val : The following forms of ndarray, shape (n_samples, n_features)\n",
    "            Features of verification data\n",
    "        y_val : The following form of ndarray, shape (n_samples,)\n",
    "            Correct value of verification data\n",
    "        \"\"\"\n",
    "        self.train_loss = []\n",
    "        self.val_loss = []\n",
    "        \n",
    "        optimizer = self.optimizer(self.lr)\n",
    "        \n",
    "        self.FC1 = FC(self.n_features, self.n_nodes1, self.initializer(self.sigma), optimizer)\n",
    "        self.activation1 = self.activater()\n",
    "        self.FC2 = FC(self.n_nodes1, self.n_nodes2, self.initializer(self.sigma), optimizer)\n",
    "        self.activation2 = self.activater()\n",
    "        self.FC3 = FC(self.n_nodes2, self.n_output, self.initializer(self.sigma), optimizer)\n",
    "        self.activation3 = Softmax()\n",
    "        \n",
    "        for i in range(self.epochs):\n",
    "            get_mini_batch = GetMiniBatch(X, y, batch_size=self.batch_size, seed=i)\n",
    "            # Get batch\n",
    "            for mini_X_train, mini_y_train in get_mini_batch:\n",
    "                self.forward(mini_X_train)\n",
    "                self.backward(mini_X_train, mini_y_train)\n",
    "            \n",
    "            if self.verbose:\n",
    "                print(f\"Epoch {i+1}:\")\n",
    "                self.forward(X)\n",
    "                train_loss = self.activation3.backward(self.Z3, y)[1]\n",
    "                self.train_loss.append(train_loss)\n",
    "                print(f\"train_loss: {train_loss}\")\n",
    "            \n",
    "                if X_val is not None and y_val is not None:\n",
    "                    self.forward(X_val)\n",
    "                    val_loss = self.activation3.backward(self.Z3, y_val)[1]\n",
    "                    self.val_loss.append(val_loss)\n",
    "                    if self.verbose:\n",
    "                        print(f\"val_loss: {val_loss}\")\n",
    "    \n",
    "    def predict(self, X):\n",
    "        \"\"\"\n",
    "        Estimate using a neural network classifier.\n",
    "        Parameters\n",
    "        ----------\n",
    "        X : The following forms of ndarray, shape (n_samples, n_features)\n",
    "            sample\n",
    "        Returns\n",
    "        -------\n",
    "            The following form of ndarray, shape (n_samples, 1)\n",
    "            Estimated result\n",
    "        \"\"\"\n",
    "        self.forward(X)\n",
    "        return np.argmax(self.Z3, axis=1)\n",
    "    \n",
    "    def forward(self, X):\n",
    "        self.A1 = self.FC1.forward(X)\n",
    "        self.Z1 = self.activation1.forward(self.A1)\n",
    "        self.A2 = self.FC2.forward(self.Z1)\n",
    "        self.Z2 = self.activation2.forward(self.A2)\n",
    "        self.A3 = self.FC3.forward(self.Z2)\n",
    "        self.Z3 = self.activation3.forward(self.A3)\n",
    "    \n",
    "    def backward(self, X, Y):\n",
    "        dA3, loss = self.activation3.backward(self.Z3, Y)\n",
    "        dZ2 = self.FC3.backward(dA3)\n",
    "        dA2 = self.activation2.backward(dZ2)\n",
    "        dZ1 = self.FC2.backward(dA2)\n",
    "        dA1 = self.activation1.backward(dZ1)\n",
    "        dZ0 = self.FC1.backward(dA1)"
   ]
  },
  {
   "cell_type": "markdown",
   "id": "aff05d9f",
   "metadata": {},
   "source": [
    "### [Problem 9] Learning and estimation"
   ]
  },
  {
   "cell_type": "code",
   "execution_count": 13,
   "id": "ae779950",
   "metadata": {},
   "outputs": [],
   "source": [
    "import numpy as np\n",
    "from tensorflow.keras.datasets import mnist\n",
    "(X_train, y_train), (X_test, y_test) = mnist.load_data()"
   ]
  },
  {
   "cell_type": "code",
   "execution_count": 14,
   "id": "a23ca86a",
   "metadata": {},
   "outputs": [],
   "source": [
    "X_train = X_train.reshape(-1, 784)\n",
    "X_test = X_test.reshape(-1, 784)\n",
    "\n",
    "X_train = X_train.astype(np.float)\n",
    "X_test = X_test.astype(np.float)\n",
    "X_train /= 255\n",
    "X_test /= 255"
   ]
  },
  {
   "cell_type": "code",
   "execution_count": 15,
   "id": "bd2775fa",
   "metadata": {},
   "outputs": [],
   "source": [
    "from sklearn.model_selection import train_test_split\n",
    "\n",
    "X_train, X_val, y_train, y_val = train_test_split(X_train, y_train, test_size=0.2)"
   ]
  },
  {
   "cell_type": "code",
   "execution_count": 16,
   "id": "fd9921e3",
   "metadata": {},
   "outputs": [],
   "source": [
    "from sklearn.preprocessing import OneHotEncoder\n",
    "enc = OneHotEncoder(handle_unknown='ignore', sparse=False)\n",
    "y_train_one_hot = enc.fit_transform(y_train[:, np.newaxis])\n",
    "y_val_one_hot = enc.transform(y_val[:, np.newaxis])"
   ]
  },
  {
   "cell_type": "code",
   "execution_count": 17,
   "id": "c0dd94d3",
   "metadata": {},
   "outputs": [],
   "source": [
    "SDNN = ScratchDeepNeuralNetworkClassifier(verbose=True, epochs=10, optimizer=AdaGrad, initializer=HeInitializer, activater=ReLU)"
   ]
  },
  {
   "cell_type": "code",
   "execution_count": 18,
   "id": "ce6d1813",
   "metadata": {},
   "outputs": [
    {
     "name": "stdout",
     "output_type": "stream",
     "text": [
      "Epoch 1:\n",
      "train_loss: 0.5042175482351622\n",
      "val_loss: 0.513192261806831\n",
      "Epoch 2:\n",
      "train_loss: 0.4010243181160156\n",
      "val_loss: 0.41041481583397876\n",
      "Epoch 3:\n",
      "train_loss: 0.3579543529199582\n",
      "val_loss: 0.36765975342195617\n",
      "Epoch 4:\n",
      "train_loss: 0.3315118786638317\n",
      "val_loss: 0.3414226549722536\n",
      "Epoch 5:\n",
      "train_loss: 0.3135046005691651\n",
      "val_loss: 0.32377371148687684\n",
      "Epoch 6:\n",
      "train_loss: 0.3000389801486477\n",
      "val_loss: 0.31052897415239267\n",
      "Epoch 7:\n",
      "train_loss: 0.2895187968854492\n",
      "val_loss: 0.300020939468969\n",
      "Epoch 8:\n",
      "train_loss: 0.2805866926426714\n",
      "val_loss: 0.291499784309799\n",
      "Epoch 9:\n",
      "train_loss: 0.273147006833077\n",
      "val_loss: 0.2839401034350941\n",
      "Epoch 10:\n",
      "train_loss: 0.26669803477757587\n",
      "val_loss: 0.2777970173537836\n"
     ]
    }
   ],
   "source": [
    "SDNN.fit(X_train, y_train_one_hot, X_val, y_val_one_hot)"
   ]
  },
  {
   "cell_type": "code",
   "execution_count": 19,
   "id": "a3b72598",
   "metadata": {},
   "outputs": [
    {
     "name": "stdout",
     "output_type": "stream",
     "text": [
      "[9 4 9 ... 0 2 6] [9 4 9 ... 0 2 6]\n",
      "[0 9 7 ... 3 8 5] [6 9 7 ... 2 8 5]\n"
     ]
    }
   ],
   "source": [
    "y_train_pred = SDNN.predict(X_train)\n",
    "y_val_pred = SDNN.predict(X_val)\n",
    "print(y_train, y_train_pred)\n",
    "print(y_val, y_val_pred)"
   ]
  },
  {
   "cell_type": "code",
   "execution_count": 20,
   "id": "a3c7dec2",
   "metadata": {},
   "outputs": [
    {
     "name": "stdout",
     "output_type": "stream",
     "text": [
      "              precision    recall  f1-score   support\n",
      "\n",
      "           0       0.96      0.97      0.96      4761\n",
      "           1       0.95      0.98      0.96      5453\n",
      "           2       0.93      0.91      0.92      4786\n",
      "           3       0.92      0.89      0.91      4830\n",
      "           4       0.92      0.93      0.92      4668\n",
      "           5       0.91      0.89      0.90      4287\n",
      "           6       0.94      0.95      0.95      4750\n",
      "           7       0.94      0.94      0.94      5019\n",
      "           8       0.91      0.90      0.90      4702\n",
      "           9       0.89      0.90      0.90      4744\n",
      "\n",
      "    accuracy                           0.93     48000\n",
      "   macro avg       0.93      0.93      0.93     48000\n",
      "weighted avg       0.93      0.93      0.93     48000\n",
      "\n"
     ]
    }
   ],
   "source": [
    "from sklearn.metrics import classification_report\n",
    "\n",
    "print(classification_report(y_train, y_train_pred))"
   ]
  },
  {
   "cell_type": "code",
   "execution_count": 21,
   "id": "9f7050bc",
   "metadata": {},
   "outputs": [
    {
     "name": "stdout",
     "output_type": "stream",
     "text": [
      "              precision    recall  f1-score   support\n",
      "\n",
      "           0       0.96      0.97      0.96      1162\n",
      "           1       0.94      0.97      0.96      1289\n",
      "           2       0.93      0.89      0.91      1172\n",
      "           3       0.92      0.89      0.91      1301\n",
      "           4       0.92      0.93      0.93      1174\n",
      "           5       0.90      0.90      0.90      1134\n",
      "           6       0.95      0.95      0.95      1168\n",
      "           7       0.93      0.94      0.93      1246\n",
      "           8       0.90      0.89      0.90      1149\n",
      "           9       0.90      0.90      0.90      1205\n",
      "\n",
      "    accuracy                           0.93     12000\n",
      "   macro avg       0.92      0.92      0.92     12000\n",
      "weighted avg       0.92      0.93      0.92     12000\n",
      "\n"
     ]
    }
   ],
   "source": [
    "print(classification_report(y_val, y_val_pred))"
   ]
  },
  {
   "cell_type": "code",
   "execution_count": 24,
   "id": "7722bbe9",
   "metadata": {},
   "outputs": [
    {
     "data": {
      "image/png": "[encoded data removed]",
      "text/plain": [
       "<Figure size 432x288 with 1 Axes>"
      ]
     },
     "metadata": {
      "needs_background": "light"
     },
     "output_type": "display_data"
    }
   ],
   "source": [
    "import matplotlib.pyplot as plt\n",
    "\n",
    "plt.plot(np.arange(1, SDNN.epochs+1), SDNN.train_loss, label='train')\n",
    "plt.plot(np.arange(1, SDNN.epochs+1), SDNN.val_loss, label='val')\n",
    "plt.xlabel('Epochs')\n",
    "plt.xticks(np.arange(1, SDNN.epochs+1))\n",
    "plt.legend()\n",
    "plt.show()"
   ]
  }
 ],
 "metadata": {
  "kernelspec": {
   "display_name": "Python 3",
   "language": "python",
   "name": "python3"
  },
  "language_info": {
   "codemirror_mode": {
    "name": "ipython",
    "version": 3
   },
   "file_extension": ".py",
   "mimetype": "text/x-python",
   "name": "python",
   "nbconvert_exporter": "python",
   "pygments_lexer": "ipython3",
   "version": "3.8.8"
  }
 },
 "nbformat": 4,
 "nbformat_minor": 5
}
