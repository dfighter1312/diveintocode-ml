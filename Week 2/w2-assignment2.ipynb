{
 "cells": [
  {
   "cell_type": "markdown",
   "metadata": {},
   "source": [
    "# Python Introductory Class\n",
    "## Assignment 2 - How many diffractions will cross Mt. Fuji\n",
    "\n",
    "**[Problem 1] Minimum number of folds over Mt. Fuji**\n",
    "\n",
    "Solution 1: Using while loop until the thickness is greater than the height of Mt. Fuji\n",
    "\n",
    "Solution 2: Using math\n",
    "\n",
    "We have the thickness is greater than the height of Mt. Fuji, this means that $$0.00008 \\times 2^{n} = 3776$$\n",
    "or $$n =\\left\\lceil{\\log_2 \\frac{3776}{0.00008}}\\right\\rceil \\text{(since n }\\in N\\text{)}$$"
   ]
  },
  {
   "cell_type": "code",
   "execution_count": 1,
   "metadata": {},
   "outputs": [
    {
     "name": "stdout",
     "output_type": "stream",
     "text": [
      "It takes 26 times to get a paper higher than Mt.Fuji\n"
     ]
    }
   ],
   "source": [
    "#Using while loop\n",
    "THICKNESS = 0.00008\n",
    "HEIGHT = 3776\n",
    "fold = 0\n",
    "while THICKNESS <= HEIGHT:\n",
    "    THICKNESS *= 2\n",
    "    fold += 1\n",
    "print(\"It takes {} times to get a paper higher than Mt.Fuji\".format(fold))"
   ]
  },
  {
   "cell_type": "code",
   "execution_count": 2,
   "metadata": {},
   "outputs": [
    {
     "name": "stdout",
     "output_type": "stream",
     "text": [
      "It takes 26 times to get a paper higher than Mt.Fuji\n"
     ]
    }
   ],
   "source": [
    "#Using math\n",
    "import math\n",
    "THICKNESS = 0.00008\n",
    "HEIGHT = 3776\n",
    "fold_m = math.ceil(math.log(HEIGHT/THICKNESS, 2))\n",
    "print(\"It takes {} times to get a paper higher than Mt.Fuji\".format(fold_m))"
   ]
  },
  {
   "cell_type": "markdown",
   "metadata": {},
   "source": [
    "**[Problem 2] Creating a function corresponding to an arbitrary thickness**\n",
    "\n",
    "*The closest star to Earth are three stars in the Alpha Centauri system. The two main stars are Alpha Centauri A and Alpha Centauri B, which form a binary pair. They are an average of 4.3 light-years from Earth. The third star is Proxima Centauri. It is about 4.22 light-years ($4 \\times 10^{13}$ km) from Earth and is the closest star other than the sun.* (via [space.com](https://www.space.com/18090-alpha-centauri-nearest-star-system.html))\n",
    "\n",
    "I will use math only to solve the problem."
   ]
  },
  {
   "cell_type": "code",
   "execution_count": 3,
   "metadata": {},
   "outputs": [],
   "source": [
    "import math\n",
    "def fold_to_distance(height, thickness=0.00008):\n",
    "    \"\"\"\n",
    "    Calculate how many folds of an object will need to reach the distance (height).\n",
    "    Parameters:\n",
    "    --------------\n",
    "    height: float\n",
    "        The height you need to reach after folding.\n",
    "    thickness: float\n",
    "        The thickness of the object you are going to fold.\n",
    "    Returns:\n",
    "    --------------\n",
    "    fold: int\n",
    "        The number of folds you need.\n",
    "    \"\"\"\n",
    "    fold = math.ceil(math.log(height/thickness, 2))\n",
    "    return fold"
   ]
  },
  {
   "cell_type": "code",
   "execution_count": 4,
   "metadata": {},
   "outputs": [
    {
     "name": "stdout",
     "output_type": "stream",
     "text": [
      "It takes 59 times to get a paper reach the closest non-sun star\n"
     ]
    }
   ],
   "source": [
    "# Test the function\n",
    "f1 = fold_to_distance(4e13)\n",
    "print(\"It takes {} times to get a paper reach the closest non-sun star\".format(f1))"
   ]
  },
  {
   "cell_type": "code",
   "execution_count": 5,
   "metadata": {},
   "outputs": [
    {
     "name": "stdout",
     "output_type": "stream",
     "text": [
      "It takes 17 times to get an object from 1 meter to 100,000 meters\n"
     ]
    }
   ],
   "source": [
    "# Test the function will different thickness\n",
    "f2 = fold_to_distance(100000, 1)\n",
    "print(\"It takes {} times to get an object from 1 meter to 100,000 meters\".format(f2))"
   ]
  },
  {
   "cell_type": "markdown",
   "metadata": {},
   "source": [
    "**[Problem 3] Required paper length**"
   ]
  },
  {
   "cell_type": "code",
   "execution_count": 6,
   "metadata": {},
   "outputs": [],
   "source": [
    "import math\n",
    "def length_to_fold(n, thickness=0.00008):\n",
    "    \"\"\"\n",
    "    Calculate the length need to be able to fold n times.\n",
    "    Parameters:\n",
    "    ------------\n",
    "    n: int\n",
    "        Number of folds.\n",
    "    thickness: float\n",
    "        The thickness of the object you are going to fold.\n",
    "    Returns:\n",
    "    ------------\n",
    "    length: float\n",
    "        The minimum length of the object you need to be able to fold.\n",
    "    \"\"\"\n",
    "    length = (math.pi * thickness) * (2**n + 4) * (2**n - 1) / 6\n",
    "    return length"
   ]
  },
  {
   "cell_type": "code",
   "execution_count": 7,
   "metadata": {},
   "outputs": [
    {
     "name": "stdout",
     "output_type": "stream",
     "text": [
      "You need a paper with length 1.3919643021679256e+31 meters to fold to the closest non-sun star\n"
     ]
    }
   ],
   "source": [
    "# Test the function\n",
    "len1 = length_to_fold(fold_to_distance(4e13))\n",
    "print(\"You need a paper with length {} meters to fold to the closest non-sun star\".format(len1))"
   ]
  },
  {
   "cell_type": "code",
   "execution_count": 8,
   "metadata": {},
   "outputs": [
    {
     "name": "stdout",
     "output_type": "stream",
     "text": [
      "You need a paper with length 3.240919444170781e+21 meters to fold to the Moon\n"
     ]
    }
   ],
   "source": [
    "# Test the function\n",
    "len2 = length_to_fold(fold_to_distance(384400000))\n",
    "print(\"You need a paper with length {} meters to fold to the Moon\".format(len2))"
   ]
  }
 ],
 "metadata": {
  "kernelspec": {
   "display_name": "Python 3",
   "language": "python",
   "name": "python3"
  },
  "language_info": {
   "codemirror_mode": {
    "name": "ipython",
    "version": 3
   },
   "file_extension": ".py",
   "mimetype": "text/x-python",
   "name": "python",
   "nbconvert_exporter": "python",
   "pygments_lexer": "ipython3",
   "version": "3.8.5"
  }
 },
 "nbformat": 4,
 "nbformat_minor": 4
}
