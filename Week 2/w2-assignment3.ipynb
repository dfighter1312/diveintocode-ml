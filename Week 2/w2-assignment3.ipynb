{
 "cells": [
  {
   "cell_type": "markdown",
   "metadata": {},
   "source": [
    "# Python Introductory Class\n",
    "## Assignment 3 - The chestnut bun problem\n",
    "\n",
    "**[Problem] The day when chestnut buns cover the solar system**"
   ]
  },
  {
   "cell_type": "markdown",
   "metadata": {},
   "source": [
    "Firstly, we will need to get through some researches to know the volumn of a chestnut bun as well as the solar system.\n",
    "\n",
    "However, these information are quite difficult to find. Hence, some assumptions will be made:\n",
    "- The volume of a chestnut bun is $6cm \\times 4cm \\times 3cm = 72 cm^{3} = 7.2 \\times 10^{-5} m^{3}$\n",
    "- Suppose that the solar system is in the shape of a sphere, the volume of the solar system will be $$V=\\frac{4}{3}\\pi r^{3}$$ The radius of the solar system can be considered as the distance from the Sun to heliopause, as illustrated in the figure below: <p><a href=\"https://commons.wikimedia.org/wiki/File:PIA17046_-_Voyager_1_Goes_Interstellar.jpg#/media/File:PIA17046_-_Voyager_1_Goes_Interstellar.jpg\"><img src=\"https://upload.wikimedia.org/wikipedia/commons/thumb/d/da/PIA17046_-_Voyager_1_Goes_Interstellar.jpg/1200px-PIA17046_-_Voyager_1_Goes_Interstellar.jpg\" alt=\"PIA17046 - Voyager 1 Goes Interstellar.jpg\"></a></p>\n",
    "\n",
    "From [Wikipedia](https://en.wikipedia.org/wiki/Heliosphere), the distance is 120 AU = $1.79517445 × 10^{13}$ meters. Therefore, the volume of the solar system is:"
   ]
  },
  {
   "cell_type": "code",
   "execution_count": 1,
   "metadata": {},
   "outputs": [
    {
     "name": "stdout",
     "output_type": "stream",
     "text": [
      "The volume of the solar system is 2.423307825393497e+40 meters\n"
     ]
    }
   ],
   "source": [
    "import math\n",
    "radius = 1.79517445e13\n",
    "volume=4/3 * math.pi * radius **3\n",
    "print(\"The volume of the solar system is {} meters\".format(volume))"
   ]
  },
  {
   "cell_type": "code",
   "execution_count": 2,
   "metadata": {},
   "outputs": [],
   "source": [
    "def chestnut_problem(bun, ssys, time=5):\n",
    "    \"\"\"\n",
    "    Return the time that a small object can cover a large space.\n",
    "    In term of the assignment, the small object here is a chestnut bun and the large space is the solar system.\n",
    "    Parameters:\n",
    "    ------------\n",
    "    bun: float\n",
    "        Volume of the small object (i.e. chestnut bun).\n",
    "    ssys: float\n",
    "        Volumn of the large space (i.e. solar system).\n",
    "    time: float\n",
    "        The time need to double the small objects (minute). Default is 5 minutes.\n",
    "    Returns:\n",
    "    -----------\n",
    "    res: float\n",
    "        The times that it takes for a small object to cover a large space after sprinkled.\n",
    "    \"\"\"\n",
    "    res = 0\n",
    "    while bun <= ssys:\n",
    "        bun *= 2\n",
    "        res += time\n",
    "    return res"
   ]
  },
  {
   "cell_type": "code",
   "execution_count": 3,
   "metadata": {},
   "outputs": [
    {
     "name": "stdout",
     "output_type": "stream",
     "text": [
      "740\n"
     ]
    }
   ],
   "source": [
    "# Test the problem of chestnut buns and solar system\n",
    "bun = 7.2e-5\n",
    "ssys = volume\n",
    "prob1 = chestnut_problem(bun, ssys)\n",
    "print(prob1)"
   ]
  },
  {
   "cell_type": "code",
   "execution_count": 4,
   "metadata": {},
   "outputs": [
    {
     "name": "stdout",
     "output_type": "stream",
     "text": [
      "1645\n"
     ]
    }
   ],
   "source": [
    "# Test another problem\n",
    "prob2 = chestnut_problem(1, 1e99)\n",
    "print(prob2)"
   ]
  },
  {
   "cell_type": "markdown",
   "metadata": {},
   "source": [
    "Now let us draw it in a graph for better illustration."
   ]
  },
  {
   "cell_type": "code",
   "execution_count": 5,
   "metadata": {},
   "outputs": [],
   "source": [
    "def chestnut_problem_with_record(bun, ssys, time=5):\n",
    "    \"\"\"\n",
    "    Return the time that a small object can cover a large space. Followed by a record that store the value every time the small object grows.\n",
    "    In term of the assignment, the small object here is a chestnut bun and the large space is the solar system.\n",
    "    Parameters:\n",
    "    ------------\n",
    "    bun: float\n",
    "        Volume of the small object (i.e. chestnut bun).\n",
    "    ssys: float\n",
    "        Volumn of the large space (i.e. solar system).\n",
    "    time: float\n",
    "        The time need to double the small objects (minute). Default is 5 minutes.\n",
    "    Returns:\n",
    "    -----------\n",
    "    res: float\n",
    "        The times that it takes for a small object to cover a large space after sprinkled.\n",
    "    growth_lst: list of float\n",
    "        The list contains the growth of the small object after the double period.\n",
    "    \"\"\"\n",
    "    res = 0\n",
    "    growth_lst = [bun]\n",
    "    while bun <= ssys:\n",
    "        bun *= 2\n",
    "        growth_lst.append(bun)\n",
    "        res += time\n",
    "    return growth_lst, res"
   ]
  },
  {
   "cell_type": "code",
   "execution_count": 7,
   "metadata": {},
   "outputs": [
    {
     "data": {
      "image/png": "[encoded data removed]",
      "text/plain": [
       "<Figure size 432x288 with 1 Axes>"
      ]
     },
     "metadata": {
      "needs_background": "light"
     },
     "output_type": "display_data"
    }
   ],
   "source": [
    "bun = 7.2e-5\n",
    "ssys = volume\n",
    "time = 5\n",
    "lst, res = chestnut_problem_with_record(bun, ssys, time)\n",
    "\n",
    "import matplotlib.pyplot as plt\n",
    "%matplotlib inline\n",
    "plt.title(\"Chestnut buns problem\")\n",
    "plt.xlabel(\"Minute\")\n",
    "plt.ylabel(\"Volume\")\n",
    "plt.plot(range(0, res + time, time), lst, label=\"kurimanju\")\n",
    "plt.hlines(ssys, 0, res, linestyle='--', color='red', label='solar system')\n",
    "plt.legend()\n",
    "plt.show()"
   ]
  }
 ],
 "metadata": {
  "kernelspec": {
   "display_name": "Python 3",
   "language": "python",
   "name": "python3"
  },
  "language_info": {
   "codemirror_mode": {
    "name": "ipython",
    "version": 3
   },
   "file_extension": ".py",
   "mimetype": "text/x-python",
   "name": "python",
   "nbconvert_exporter": "python",
   "pygments_lexer": "ipython3",
   "version": "3.8.5"
  }
 },
 "nbformat": 4,
 "nbformat_minor": 4
}
