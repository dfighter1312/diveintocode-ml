{
 "cells": [
  {
   "cell_type": "markdown",
   "metadata": {},
   "source": [
    "# Mathematics for Machine Learning\n",
    "## Assignment 3 - Matrix Scratch\n",
    "\n",
    "**[Problem 1] Matrix product is calculated manually**\n",
    "\n",
    "If $A$ is an $m \\times n$ matrix and $B$ is an $n \\times p$ matrix,\n",
    "$$\\displaystyle \\mathbf {A} ={\\begin{pmatrix}a_{11}&a_{12}&\\cdots &a_{1n}\\\\a_{21}&a_{22}&\\cdots &a_{2n}\\\\\\vdots &\\vdots &\\ddots &\\vdots \\\\a_{m1}&a_{m2}&\\cdots &a_{mn}\\\\\\end{pmatrix}},\\quad \\mathbf {B} ={\\begin{pmatrix}b_{11}&b_{12}&\\cdots &b_{1p}\\\\b_{21}&b_{22}&\\cdots &b_{2p}\\\\\\vdots &\\vdots &\\ddots &\\vdots \\\\b_{n1}&b_{n2}&\\cdots &b_{np}\\\\\\end{pmatrix}}$$\n",
    "\n",
    "the matrix product $C = AB$ (denoted without multiplication signs or dots) is defined to be the $m \\times p$ matrix\n",
    "$$\\displaystyle \\mathbf {C} ={\\begin{pmatrix}c_{11}&c_{12}&\\cdots &c_{1p}\\\\c_{21}&c_{22}&\\cdots &c_{2p}\\\\\\vdots &\\vdots &\\ddots &\\vdots \\\\c_{m1}&c_{m2}&\\cdots &c_{mp}\\\\\\end{pmatrix}}$$\n",
    "\n",
    "such that\n",
    "$${\\displaystyle c_{ij}=a_{i1}b_{1j}+a_{i2}b_{2j}+\\cdots +a_{in}b_{nj}=\\sum _{k=1}^{n}a_{ik}b_{kj},}$$\n",
    "for $i = 1, ..., m$ and $j = 1, ..., p$.\n",
    "\n",
    "Therefore, with\n",
    "$$A = \\left[\n",
    "\\begin{array}{ccc}\n",
    "  -1 & 2 & 3 \\\\\n",
    "  4 & -5 & 6 \\\\\n",
    "  7 & 8 & -9\n",
    "\\end{array}\n",
    "\\right],\n",
    "B = \\left[\n",
    "\\begin{array}{ccc}\n",
    "  0 & 2 & 1 \\\\\n",
    "  0 & 2 & -8 \\\\\n",
    "  2 & 9 & -1\n",
    "\\end{array}\n",
    "\\right]$$\n",
    "\n",
    "We will have C is an 3x3 matrix with:\n",
    "\n",
    "$ C_{11} = -1 \\times 0 + 2 \\times 0 + 3 \\times 2 = 6 $\n",
    "\n",
    "$ C_{12} = -1 \\times 2 + 2 \\times 2 + 3 \\times 9 = 29 $\n",
    "\n",
    "$ C_{13} = -1 \\times 1 + 2 \\times -8 + 3 \\times -1 = -20$\n",
    "\n",
    "$ C_{21} = 4 \\times 0 + -5 \\times 0 + 6 \\times 2 = 12 $\n",
    "\n",
    "$ C_{22} = 4 \\times 2 + -5 \\times 2 + 6 \\times 9 = 52 $\n",
    "\n",
    "$ C_{23} = 4 \\times 1 + -5 \\times -8 + 6 \\times -1 = 38 $\n",
    "\n",
    "$ C_{31} = 7 \\times 0 + 8 \\times 0 + -9 \\times 2 = -18 $\n",
    "\n",
    "$ C_{32} = 7 \\times 2 + 8 \\times 2 + -9 \\times 9 = -51 $\n",
    "\n",
    "$ C_{33} = 7 \\times 1 + 8 \\times -8 + -9 \\times -1 = -48 $\n",
    "\n",
    "The result matrix is:\n",
    "$$C = \\left[\n",
    "\\begin{array}{ccc}\n",
    "  6 & 29 & -20 \\\\\n",
    "  12 & 52 & 38 \\\\\n",
    "  -18 & -51 & -48\n",
    "\\end{array}\n",
    "\\right]$$"
   ]
  },
  {
   "cell_type": "markdown",
   "metadata": {},
   "source": [
    "**[Problem 2] Calculation by NumPy function**"
   ]
  },
  {
   "cell_type": "code",
   "execution_count": 1,
   "metadata": {},
   "outputs": [
    {
     "name": "stdout",
     "output_type": "stream",
     "text": [
      "[[  6  29 -20]\n",
      " [ 12  52  38]\n",
      " [-18 -51 -48]]\n"
     ]
    }
   ],
   "source": [
    "import numpy as np\n",
    "A = np.array([[-1, 2, 3], [4, -5, 6], [7, 8, -9]])\n",
    "B = np.array([[0, 2, 1], [0, 2, -8], [2, 9, -1]])\n",
    "print(A @ B)"
   ]
  },
  {
   "cell_type": "code",
   "execution_count": 2,
   "metadata": {},
   "outputs": [
    {
     "name": "stdout",
     "output_type": "stream",
     "text": [
      "[[  6  29 -20]\n",
      " [ 12  52  38]\n",
      " [-18 -51 -48]]\n"
     ]
    }
   ],
   "source": [
    "#Testing np.matmul()\n",
    "print(np.matmul(A, B))"
   ]
  },
  {
   "cell_type": "code",
   "execution_count": 3,
   "metadata": {},
   "outputs": [
    {
     "name": "stdout",
     "output_type": "stream",
     "text": [
      "[[  6  29 -20]\n",
      " [ 12  52  38]\n",
      " [-18 -51 -48]]\n"
     ]
    }
   ],
   "source": [
    "#Testing np.dot()\n",
    "print(np.dot(A, B))"
   ]
  },
  {
   "cell_type": "markdown",
   "metadata": {},
   "source": [
    "**[Problem 3] Implementation of calculation of a certain element**"
   ]
  },
  {
   "cell_type": "code",
   "execution_count": 4,
   "metadata": {},
   "outputs": [
    {
     "name": "stdout",
     "output_type": "stream",
     "text": [
      "6\n"
     ]
    }
   ],
   "source": [
    "ele_0_0 = 0\n",
    "for k in range(0,3):\n",
    "    ele_0_0 += A[0][k] * B[k][0]\n",
    "print(ele_0_0)"
   ]
  },
  {
   "cell_type": "code",
   "execution_count": 5,
   "metadata": {},
   "outputs": [],
   "source": [
    "def matrix_mul(a, b):\n",
    "    c = np.array([])\n",
    "    for i in range(a.shape[0]):\n",
    "        for j in range(b.shape[1]):\n",
    "            c_ij = 0\n",
    "            for k in range(a.shape[1]):\n",
    "                c_ij += a[i][k] * b[k][j]\n",
    "            c = np.append(c, c_ij)\n",
    "    c = c.reshape(a.shape[0], b.shape[1])\n",
    "    return c"
   ]
  },
  {
   "cell_type": "code",
   "execution_count": 6,
   "metadata": {},
   "outputs": [
    {
     "name": "stdout",
     "output_type": "stream",
     "text": [
      "[[  6.  29. -20.]\n",
      " [ 12.  52.  38.]\n",
      " [-18. -51. -48.]]\n"
     ]
    }
   ],
   "source": [
    "C = matrix_mul(A, B)\n",
    "print(C)"
   ]
  },
  {
   "cell_type": "code",
   "execution_count": 7,
   "metadata": {},
   "outputs": [
    {
     "name": "stdout",
     "output_type": "stream",
     "text": [
      "(2, 4)\n",
      "(4, 2)\n",
      "[[-15.  43.]\n",
      " [  9.  65.]]\n"
     ]
    }
   ],
   "source": [
    "#Test with another matrix\n",
    "At = np.array([[1, 0, 5, -3], [3, 2, 7, -2]])\n",
    "Bt = np.array([[0, 6], [4, 2], [3, 5], [10, -4]])\n",
    "print(At.shape)\n",
    "print(Bt.shape)\n",
    "Ct = matrix_mul(At, Bt)\n",
    "print(Ct)"
   ]
  },
  {
   "cell_type": "markdown",
   "metadata": {},
   "source": [
    "**[Problem 5] Judge the input whose calculation is not defined**"
   ]
  },
  {
   "cell_type": "code",
   "execution_count": 8,
   "metadata": {},
   "outputs": [],
   "source": [
    "def matrix_mul_with_checker(a, b):\n",
    "    #Check if the number of columns of a != the number of rows of b\n",
    "    if a.shape[1] != b.shape[0]:\n",
    "        raise Exception(\"The matrix product can't be done. Please check the dimension!\")\n",
    "    c = np.array([])\n",
    "    for i in range(a.shape[0]):\n",
    "        for j in range(b.shape[1]):\n",
    "            c_ij = 0\n",
    "            for k in range(a.shape[1]):\n",
    "                c_ij += a[i][k] * b[k][j]\n",
    "            c = np.append(c, c_ij)\n",
    "    c = c.reshape(a.shape[0], b.shape[1])\n",
    "    return c"
   ]
  },
  {
   "cell_type": "code",
   "execution_count": 9,
   "metadata": {},
   "outputs": [
    {
     "ename": "Exception",
     "evalue": "The matrix product can't be done. Please check the dimension!",
     "output_type": "error",
     "traceback": [
      "\u001b[1;31m---------------------------------------------------------------------------\u001b[0m",
      "\u001b[1;31mException\u001b[0m                                 Traceback (most recent call last)",
      "\u001b[1;32m<ipython-input-9-63076fc5e2ff>\u001b[0m in \u001b[0;36m<module>\u001b[1;34m\u001b[0m\n\u001b[0;32m      1\u001b[0m \u001b[0md_ndarray_\u001b[0m \u001b[1;33m=\u001b[0m \u001b[0mnp\u001b[0m\u001b[1;33m.\u001b[0m\u001b[0marray\u001b[0m\u001b[1;33m(\u001b[0m\u001b[1;33m[\u001b[0m\u001b[1;33m[\u001b[0m\u001b[1;33m-\u001b[0m\u001b[1;36m1\u001b[0m\u001b[1;33m,\u001b[0m \u001b[1;36m2\u001b[0m\u001b[1;33m,\u001b[0m \u001b[1;36m3\u001b[0m\u001b[1;33m]\u001b[0m\u001b[1;33m,\u001b[0m \u001b[1;33m[\u001b[0m\u001b[1;36m4\u001b[0m\u001b[1;33m,\u001b[0m \u001b[1;33m-\u001b[0m\u001b[1;36m5\u001b[0m\u001b[1;33m,\u001b[0m \u001b[1;36m6\u001b[0m\u001b[1;33m]\u001b[0m\u001b[1;33m]\u001b[0m\u001b[1;33m)\u001b[0m\u001b[1;33m\u001b[0m\u001b[1;33m\u001b[0m\u001b[0m\n\u001b[0;32m      2\u001b[0m \u001b[0me_ndarray\u001b[0m \u001b[1;33m=\u001b[0m \u001b[0mnp\u001b[0m\u001b[1;33m.\u001b[0m\u001b[0marray\u001b[0m\u001b[1;33m(\u001b[0m\u001b[1;33m[\u001b[0m\u001b[1;33m[\u001b[0m\u001b[1;33m-\u001b[0m\u001b[1;36m9\u001b[0m\u001b[1;33m,\u001b[0m \u001b[1;36m8\u001b[0m\u001b[1;33m,\u001b[0m \u001b[1;36m7\u001b[0m\u001b[1;33m]\u001b[0m\u001b[1;33m,\u001b[0m \u001b[1;33m[\u001b[0m\u001b[1;36m6\u001b[0m\u001b[1;33m,\u001b[0m \u001b[1;33m-\u001b[0m\u001b[1;36m5\u001b[0m\u001b[1;33m,\u001b[0m \u001b[1;36m4\u001b[0m\u001b[1;33m]\u001b[0m\u001b[1;33m]\u001b[0m\u001b[1;33m)\u001b[0m\u001b[1;33m\u001b[0m\u001b[1;33m\u001b[0m\u001b[0m\n\u001b[1;32m----> 3\u001b[1;33m \u001b[0mf_ndarray\u001b[0m \u001b[1;33m=\u001b[0m \u001b[0mmatrix_mul_with_checker\u001b[0m\u001b[1;33m(\u001b[0m\u001b[0md_ndarray_\u001b[0m\u001b[1;33m,\u001b[0m \u001b[0me_ndarray\u001b[0m\u001b[1;33m)\u001b[0m\u001b[1;33m\u001b[0m\u001b[1;33m\u001b[0m\u001b[0m\n\u001b[0m",
      "\u001b[1;32m<ipython-input-8-9628ccea74d3>\u001b[0m in \u001b[0;36mmatrix_mul_with_checker\u001b[1;34m(a, b)\u001b[0m\n\u001b[0;32m      2\u001b[0m     \u001b[1;31m#Check if the number of columns of a != the number of rows of b\u001b[0m\u001b[1;33m\u001b[0m\u001b[1;33m\u001b[0m\u001b[1;33m\u001b[0m\u001b[0m\n\u001b[0;32m      3\u001b[0m     \u001b[1;32mif\u001b[0m \u001b[0ma\u001b[0m\u001b[1;33m.\u001b[0m\u001b[0mshape\u001b[0m\u001b[1;33m[\u001b[0m\u001b[1;36m1\u001b[0m\u001b[1;33m]\u001b[0m \u001b[1;33m!=\u001b[0m \u001b[0mb\u001b[0m\u001b[1;33m.\u001b[0m\u001b[0mshape\u001b[0m\u001b[1;33m[\u001b[0m\u001b[1;36m0\u001b[0m\u001b[1;33m]\u001b[0m\u001b[1;33m:\u001b[0m\u001b[1;33m\u001b[0m\u001b[1;33m\u001b[0m\u001b[0m\n\u001b[1;32m----> 4\u001b[1;33m         \u001b[1;32mraise\u001b[0m \u001b[0mException\u001b[0m\u001b[1;33m(\u001b[0m\u001b[1;34m\"The matrix product can't be done. Please check the dimension!\"\u001b[0m\u001b[1;33m)\u001b[0m\u001b[1;33m\u001b[0m\u001b[1;33m\u001b[0m\u001b[0m\n\u001b[0m\u001b[0;32m      5\u001b[0m     \u001b[0mc\u001b[0m \u001b[1;33m=\u001b[0m \u001b[0mnp\u001b[0m\u001b[1;33m.\u001b[0m\u001b[0marray\u001b[0m\u001b[1;33m(\u001b[0m\u001b[1;33m[\u001b[0m\u001b[1;33m]\u001b[0m\u001b[1;33m)\u001b[0m\u001b[1;33m\u001b[0m\u001b[1;33m\u001b[0m\u001b[0m\n\u001b[0;32m      6\u001b[0m     \u001b[1;32mfor\u001b[0m \u001b[0mi\u001b[0m \u001b[1;32min\u001b[0m \u001b[0mrange\u001b[0m\u001b[1;33m(\u001b[0m\u001b[0ma\u001b[0m\u001b[1;33m.\u001b[0m\u001b[0mshape\u001b[0m\u001b[1;33m[\u001b[0m\u001b[1;36m0\u001b[0m\u001b[1;33m]\u001b[0m\u001b[1;33m)\u001b[0m\u001b[1;33m:\u001b[0m\u001b[1;33m\u001b[0m\u001b[1;33m\u001b[0m\u001b[0m\n",
      "\u001b[1;31mException\u001b[0m: The matrix product can't be done. Please check the dimension!"
     ]
    }
   ],
   "source": [
    "d_ndarray_ = np.array([[-1, 2, 3], [4, -5, 6]])\n",
    "e_ndarray = np.array([[-9, 8, 7], [6, -5, 4]])\n",
    "f_ndarray = matrix_mul_with_checker(d_ndarray_, e_ndarray)"
   ]
  },
  {
   "cell_type": "markdown",
   "metadata": {},
   "source": [
    "**[Problem 6] Transposition**"
   ]
  },
  {
   "cell_type": "code",
   "execution_count": null,
   "metadata": {},
   "outputs": [],
   "source": [
    "#Transpose the matrix D\n",
    "d_ndarray = d_ndarray_.T\n",
    "\n",
    "#Check the shape of 2 arrays\n",
    "print(d_ndarray.shape, e_ndarray.shape)\n",
    "\n",
    "f_ndarray = matrix_mul_with_checker(d_ndarray, e_ndarray)\n",
    "print(f_ndarray)"
   ]
  }
 ],
 "metadata": {
  "kernelspec": {
   "display_name": "Python 3",
   "language": "python",
   "name": "python3"
  },
  "language_info": {
   "codemirror_mode": {
    "name": "ipython",
    "version": 3
   },
   "file_extension": ".py",
   "mimetype": "text/x-python",
   "name": "python",
   "nbconvert_exporter": "python",
   "pygments_lexer": "ipython3",
   "version": "3.8.5"
  }
 },
 "nbformat": 4,
 "nbformat_minor": 4
}
