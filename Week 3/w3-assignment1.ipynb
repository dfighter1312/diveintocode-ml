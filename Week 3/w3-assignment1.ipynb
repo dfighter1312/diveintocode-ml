{
 "cells": [
  {
   "cell_type": "markdown",
   "metadata": {},
   "source": [
    "# Mathematics lesson for Machine Learning\n",
    "## Assignment 1 - Two-dimensional array and gradient problem\n",
    "\n",
    "**[Problem 1] Linear function**"
   ]
  },
  {
   "cell_type": "code",
   "execution_count": 1,
   "metadata": {},
   "outputs": [],
   "source": [
    "import numpy as np\n",
    "import matplotlib.pyplot as plt\n",
    "%matplotlib inline"
   ]
  },
  {
   "cell_type": "code",
   "execution_count": 2,
   "metadata": {},
   "outputs": [
    {
     "name": "stdout",
     "output_type": "stream",
     "text": [
      "[-50.  -49.9 -49.8 ...  49.8  49.9  50. ]\n",
      "[-24.   -23.95 -23.9  ...  25.9   25.95  26.  ]\n"
     ]
    }
   ],
   "source": [
    "x = np.arange(-50, 50 + 0.1, 0.1)\n",
    "y = (1/2)*x + 1\n",
    "print(x)\n",
    "print(y)"
   ]
  },
  {
   "cell_type": "markdown",
   "metadata": {},
   "source": [
    "**[Problem 2] Array combination**"
   ]
  },
  {
   "cell_type": "code",
   "execution_count": 3,
   "metadata": {},
   "outputs": [
    {
     "name": "stdout",
     "output_type": "stream",
     "text": [
      "(1001, 2)\n"
     ]
    }
   ],
   "source": [
    "# np.column_stack(): Stack 1-D arrays as columns into a 2-D array.\n",
    "xy = np.column_stack((x, y))\n",
    "print(xy.shape)"
   ]
  },
  {
   "cell_type": "markdown",
   "metadata": {},
   "source": [
    "**[Problem 3] Find the gradient**"
   ]
  },
  {
   "cell_type": "code",
   "execution_count": 4,
   "metadata": {},
   "outputs": [
    {
     "name": "stdout",
     "output_type": "stream",
     "text": [
      "[0.5 0.5 0.5 0.5 0.5 0.5 0.5 0.5 0.5 0.5]\n"
     ]
    }
   ],
   "source": [
    "# Calcute the amount of change in X and Y\n",
    "# We need to transpose before making calculation between diff X and diff Y (2 columns)\n",
    "diff = (xy[1:] - xy[:-1]).T\n",
    "gradient = diff[1] / diff[0]\n",
    "\n",
    "#Print out the first 10 elements\n",
    "print(gradient[:10])"
   ]
  },
  {
   "cell_type": "markdown",
   "metadata": {},
   "source": [
    "**[Problem 4] Draw a graph**"
   ]
  },
  {
   "cell_type": "code",
   "execution_count": 5,
   "metadata": {},
   "outputs": [
    {
     "data": {
      "image/png": "[encoded data removed]",
      "text/plain": [
       "<Figure size 432x288 with 1 Axes>"
      ]
     },
     "metadata": {
      "needs_background": "light"
     },
     "output_type": "display_data"
    }
   ],
   "source": [
    "plt.title(\"Value and gradient\")\n",
    "plt.plot(xy.T[0][:-1], gradient)\n",
    "plt.show()"
   ]
  },
  {
   "cell_type": "markdown",
   "metadata": {},
   "source": [
    "**[Problem 5] Python functionalization**"
   ]
  },
  {
   "cell_type": "code",
   "execution_count": 6,
   "metadata": {},
   "outputs": [],
   "source": [
    "def compute_gradient(function, x_range=(-50, 50.1, 0.1)):\n",
    "    \"\"\"\n",
    "    Calculate the gradient using the amount of change.\n",
    "    Parameters\n",
    "    ----------------\n",
    "    function : function\n",
    "      The function you want to find, the one that returns the ndarray of y when you put the ndarray of x.\n",
    "    x_range : tuple\n",
    "      Specify the range in the same way as the argument of np.arange ().\n",
    "    Returns\n",
    "    ----------------\n",
    "    array_xy : ndarray, shape(n, 2)\n",
    "      A combination of x and y. n depends on x_range.\n",
    "    gradient : ndarray, shape(n-1,)\n",
    "      Function gradient. One factor is reduced to make a difference\n",
    "    \"\"\"\n",
    "    array_x = np.arange(*x_range)\n",
    "    array_y = function(array_x)\n",
    "    array_xy = np.column_stack((array_x, array_y))\n",
    "    diff = (array_xy[1:] - array_xy[:-1]).T\n",
    "    gradient = diff[1] / diff[0]\n",
    "    return array_xy, gradient\n",
    "\n",
    "def plot_gradient(array_xy, gradient, title=\"\"):\n",
    "    plt.title(title)\n",
    "    plt.plot(array_xy.T[0][:-1], gradient)\n",
    "    plt.show()\n",
    "\n",
    "def function1(array_x):\n",
    "    array_y = array_x ** 2\n",
    "    return array_y\n",
    "\n",
    "def function2(array_x):\n",
    "    array_y = 2 * (array_x**2) + 2 ** array_x\n",
    "    return array_y\n",
    "\n",
    "def function3(array_x):\n",
    "    array_y = np.sin(array_x**(1/2))\n",
    "    return array_y"
   ]
  },
  {
   "cell_type": "markdown",
   "metadata": {},
   "source": [
    "Gradient with $y=x^{2}$"
   ]
  },
  {
   "cell_type": "code",
   "execution_count": 7,
   "metadata": {},
   "outputs": [
    {
     "data": {
      "image/png": "[encoded data removed]",
      "text/plain": [
       "<Figure size 432x288 with 1 Axes>"
      ]
     },
     "metadata": {
      "needs_background": "light"
     },
     "output_type": "display_data"
    }
   ],
   "source": [
    "array_xy, gradient = compute_gradient(function1)\n",
    "plot_gradient(array_xy, gradient, \"Gradient for function 1\")"
   ]
  },
  {
   "cell_type": "markdown",
   "metadata": {},
   "source": [
    "Gradient with $y = 2x^{2} + 2^{x}$"
   ]
  },
  {
   "cell_type": "code",
   "execution_count": 8,
   "metadata": {},
   "outputs": [
    {
     "data": {
      "image/png": "[encoded data removed]",
      "text/plain": [
       "<Figure size 432x288 with 1 Axes>"
      ]
     },
     "metadata": {
      "needs_background": "light"
     },
     "output_type": "display_data"
    }
   ],
   "source": [
    "array_xy, gradient = compute_gradient(function2)\n",
    "plot_gradient(array_xy, gradient, \"Gradient for function 2\")"
   ]
  },
  {
   "cell_type": "markdown",
   "metadata": {},
   "source": [
    "Gradient with $y= sin\\left( x^{\\frac{1}{2}} \\right)$"
   ]
  },
  {
   "cell_type": "code",
   "execution_count": 9,
   "metadata": {},
   "outputs": [
    {
     "data": {
      "image/png": "[encoded data removed]",
      "text/plain": [
       "<Figure size 432x288 with 1 Axes>"
      ]
     },
     "metadata": {
      "needs_background": "light"
     },
     "output_type": "display_data"
    }
   ],
   "source": [
    "x_range = (0, 50.05, 0.05)\n",
    "array_xy, gradient = compute_gradient(function3, x_range)\n",
    "plot_gradient(array_xy, gradient, \"Gradient for function 3\")"
   ]
  },
  {
   "cell_type": "markdown",
   "metadata": {},
   "source": [
    "**[Problem 6] Find the minimum value**"
   ]
  },
  {
   "cell_type": "code",
   "execution_count": 10,
   "metadata": {},
   "outputs": [],
   "source": [
    "def min_in_func(function, x_range=(-50, 50.1, 0.1)):\n",
    "    array_x = np.arange(*x_range)\n",
    "    array_y = function(array_x)\n",
    "    min_y_value = array_y.min()\n",
    "    min_y_idx = array_y.argmin()\n",
    "    _, gradient = compute_gradient(function, x_range)\n",
    "    print('Minimum of the function is {}'.format(min_y_value))\n",
    "    print('Before taking min y, gradient = {}'.format(gradient[min_y_idx - 1]))\n",
    "    print('After taking min y, gradient = {}'.format(gradient[min_y_idx]))"
   ]
  },
  {
   "cell_type": "code",
   "execution_count": 11,
   "metadata": {},
   "outputs": [
    {
     "name": "stdout",
     "output_type": "stream",
     "text": [
      "Minimum of the function is 5.048709793414476e-25\n",
      "Before taking min y, gradient = -0.09999999999858034\n",
      "After taking min y, gradient = 0.1000000000014225\n"
     ]
    }
   ],
   "source": [
    "min_in_func(function1)"
   ]
  },
  {
   "cell_type": "code",
   "execution_count": 12,
   "metadata": {},
   "outputs": [
    {
     "name": "stdout",
     "output_type": "stream",
     "text": [
      "Minimum of the function is 0.9505505632959851\n",
      "Before taking min y, gradient = -0.4170183305979998\n",
      "After taking min y, gradient = 0.024824282409972788\n"
     ]
    }
   ],
   "source": [
    "min_in_func(function2)"
   ]
  },
  {
   "cell_type": "code",
   "execution_count": 13,
   "metadata": {},
   "outputs": [
    {
     "name": "stdout",
     "output_type": "stream",
     "text": [
      "Minimum of the function is -0.9999997540298113\n",
      "Before taking min y, gradient = -0.0003563201860368131\n",
      "After taking min y, gradient = 0.00020682612694501512\n"
     ]
    }
   ],
   "source": [
    "min_in_func(function3, x_range=(0, 50.05, 0.05))"
   ]
  },
  {
   "cell_type": "markdown",
   "metadata": {},
   "source": [
    "As can be seen in the result, before taking $y_{min}$, the gradient value is negative while after taking $y_{min}$ the value becomes positive."
   ]
  }
 ],
 "metadata": {
  "kernelspec": {
   "display_name": "Python 3",
   "language": "python",
   "name": "python3"
  },
  "language_info": {
   "codemirror_mode": {
    "name": "ipython",
    "version": 3
   },
   "file_extension": ".py",
   "mimetype": "text/x-python",
   "name": "python",
   "nbconvert_exporter": "python",
   "pygments_lexer": "ipython3",
   "version": "3.8.5"
  }
 },
 "nbformat": 4,
 "nbformat_minor": 4
}
