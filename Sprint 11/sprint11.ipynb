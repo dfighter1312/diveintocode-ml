{
 "cells": [
  {
   "cell_type": "markdown",
   "id": "a4dbe3c7",
   "metadata": {},
   "source": [
    "# Sprint 11\n",
    "\n",
    "## SimpleConv1D"
   ]
  },
  {
   "cell_type": "code",
   "execution_count": 1,
   "id": "0f24a38e",
   "metadata": {},
   "outputs": [],
   "source": [
    "import numpy as np\n",
    "from tensorflow.keras.datasets import mnist\n",
    "from sklearn.model_selection import train_test_split\n",
    "from sklearn.preprocessing import OneHotEncoder\n",
    "from sklearn.metrics import classification_report"
   ]
  },
  {
   "cell_type": "markdown",
   "id": "6c3882cc",
   "metadata": {},
   "source": [
    "## [Problem 1] Creating a one-dimensional convolutional layer class that limits the number of channels to one"
   ]
  },
  {
   "cell_type": "code",
   "execution_count": 2,
   "id": "cb6ddc94",
   "metadata": {},
   "outputs": [],
   "source": [
    "class SimpleConv1d():\n",
    "    \n",
    "    def forward(self, x, w, b):\n",
    "        a = np.empty((len(w) - 1))\n",
    "        for i in range(a.shape[0]):\n",
    "            a[i] = (x[i:i + len(w)] @ w) + b[0]\n",
    "        return a\n",
    "    \n",
    "    def backward(self, x, w, da):\n",
    "        db = np.sum(da)\n",
    "        \n",
    "        dw = np.empty((len(w)))\n",
    "        for i in range(dw.shape[0]):\n",
    "            dw[i] = da @ x[i:i + len(da)]\n",
    "        \n",
    "        \n",
    "        new_w = np.insert(w[::-1], 0, 0)\n",
    "        new_w = np.append(new_w, 0)\n",
    "        dx = np.empty((len(new_w) - 1))\n",
    "        for i in range(dx.shape[0]):\n",
    "            dx[i] = new_w[i:i + len(da)] @ da\n",
    "        dx = dx[::-1]\n",
    "        return db, dw, dx\n",
    "    "
   ]
  },
  {
   "cell_type": "markdown",
   "id": "7591df30",
   "metadata": {},
   "source": [
    "## [Problem 2] Output size calculation after one-dimensional convolution"
   ]
  },
  {
   "cell_type": "code",
   "execution_count": 3,
   "id": "c402da47",
   "metadata": {},
   "outputs": [],
   "source": [
    "def output_size_calculation(n_in, P, F, S):\n",
    "    n_out = int((n_in + 2*P - F) / S + 1)\n",
    "    return n_out"
   ]
  },
  {
   "cell_type": "markdown",
   "id": "fd032aaa",
   "metadata": {},
   "source": [
    "## [Problem 3] Experiment of one-dimensional convolutional layer with small array"
   ]
  },
  {
   "cell_type": "code",
   "execution_count": 4,
   "id": "99676490",
   "metadata": {},
   "outputs": [],
   "source": [
    "x = np.array([1, 2, 3, 4])\n",
    "w = np.array([3, 5, 7])\n",
    "b = np.array([1])"
   ]
  },
  {
   "cell_type": "code",
   "execution_count": 5,
   "id": "9f4d9a82",
   "metadata": {},
   "outputs": [
    {
     "name": "stdout",
     "output_type": "stream",
     "text": [
      "[35. 50.]\n"
     ]
    }
   ],
   "source": [
    "sc1d = SimpleConv1d()\n",
    "a = sc1d.forward(x, w, b)\n",
    "print(a)"
   ]
  },
  {
   "cell_type": "code",
   "execution_count": 6,
   "id": "ac1b6ff7",
   "metadata": {},
   "outputs": [],
   "source": [
    "delta_a = np.array([10, 20])"
   ]
  },
  {
   "cell_type": "code",
   "execution_count": 7,
   "id": "cbe27a72",
   "metadata": {},
   "outputs": [
    {
     "name": "stdout",
     "output_type": "stream",
     "text": [
      "30 [ 50.  80. 110.] [ 30. 110. 170. 140.]\n"
     ]
    }
   ],
   "source": [
    "delta_b, delta_w, delta_x = sc1d.backward(x, w, delta_a)\n",
    "print(delta_b, delta_w, delta_x)"
   ]
  },
  {
   "cell_type": "markdown",
   "id": "f00b8d9f",
   "metadata": {},
   "source": [
    "## [Problem 4-6]"
   ]
  },
  {
   "cell_type": "code",
   "execution_count": 8,
   "id": "57f38699",
   "metadata": {},
   "outputs": [],
   "source": [
    "class SimpleInitializer:\n",
    "    \"\"\"\n",
    "    Simple initialization with Gaussian distribution\n",
    "    Parameters\n",
    "    ----------\n",
    "    sigma : float\n",
    "      Standard deviation of Gaussian distribution\n",
    "    \"\"\"\n",
    "    def __init__(self, sigma):\n",
    "        self.sigma = sigma\n",
    "        \n",
    "    def W(self, *shape):\n",
    "        \"\"\"\n",
    "        Weight initialization\n",
    "        Parameters\n",
    "        ----------\n",
    "        n_nodes1 : int\n",
    "          Number of nodes in the previous layer\n",
    "        n_nodes2 : int\n",
    "          Number of nodes in the later layer\n",
    "        Returns\n",
    "        ----------\n",
    "        W :\n",
    "        \"\"\"\n",
    "        W = self.sigma * np.random.randn(*shape)\n",
    "        return W\n",
    "    \n",
    "    def B(self, *shape):\n",
    "        \"\"\"\n",
    "        Bias initialization\n",
    "        Parameters\n",
    "        ----------\n",
    "        n_nodes2 : int\n",
    "          Number of nodes in the later layer\n",
    "        Returns\n",
    "        ----------\n",
    "        B :\n",
    "        \"\"\"\n",
    "        B = self.sigma * np.random.randn(*shape)\n",
    "        return B"
   ]
  },
  {
   "cell_type": "code",
   "execution_count": 9,
   "id": "b101e445",
   "metadata": {},
   "outputs": [],
   "source": [
    "class SGD:\n",
    "    \"\"\"\n",
    "    Stochastic gradient descent\n",
    "    Parameters\n",
    "    ----------\n",
    "    lr : Learning rate\n",
    "    \"\"\"\n",
    "    \n",
    "    def __init__(self, lr):\n",
    "        self.lr = lr\n",
    "        \n",
    "    def update(self, layer):\n",
    "        \"\"\"\n",
    "        Update weights and biases for a layer\n",
    "        Parameters\n",
    "        ----------\n",
    "        layer : Instance of the layer before update\n",
    "        \"\"\"\n",
    "        layer.W -= self.lr * layer.dW\n",
    "        layer.B -= self.lr * layer.dB\n",
    "        return layer"
   ]
  },
  {
   "cell_type": "code",
   "execution_count": 10,
   "id": "32eca881",
   "metadata": {},
   "outputs": [],
   "source": [
    "class Conv1d:\n",
    "    \n",
    "    def __init__(self, b_size, initializer, optimizer, n_in_channels=1, n_out_channels=1, pa=0, s=1):\n",
    "        self.b_size = b_size\n",
    "        self.optimizer = optimizer\n",
    "        self.n_in_channels = n_in_channels\n",
    "        self.n_out_channels = n_out_channels\n",
    "        self.pa = pa\n",
    "        self.s = s\n",
    "        self.W = initializer.W(n_out_channels, n_in_channels, b_size)\n",
    "        self.B = initializer.B(n_out_channels)\n",
    "        self.n_out = None\n",
    "        \n",
    "    def forward(self, X):\n",
    "        self.n_in = X.shape[-1]\n",
    "        self.n_out = output_size_calculation(self.n_in, self.pa, self.b_size, self.s)\n",
    "        X = X.reshape(self.n_in_channels, self.n_in)\n",
    "        self.X = np.pad(X, ((0, 0), ((self.b_size - 1), 0)))\n",
    "        self.X1 = np.zeros((self.n_in_channels, self.b_size, self.n_in + (self.b_size - 1)))\n",
    "        for i in range(self.b_size):\n",
    "            self.X1[:, i] = np.roll(self.X, -i, axis=-1)\n",
    "        A = np.sum(self.X1[:, :, (self.b_size - 1 - self.pa):(self.n_in + self.pa)] * self.W[:, :, :, np.newaxis], axis=(1, 2)) + self.B.reshape(-1, 1)\n",
    "        return A\n",
    "\n",
    "    def backward(self, dA):\n",
    "        self.dW = np.sum(np.dot(dA, self.X1[:, :, (self.b_size - 1 - self.pa):(self.n_in + self.pa), np.newaxis]), axis=-1)\n",
    "        self.dB = np.sum(dA, axis=1)\n",
    "        self.dA = np.pad(dA, ((0, 0), (0, (self.b_size - 1))))\n",
    "        self.dA1 = np.zeros((self.n_out_channels, self.b_size, self.dA.shape[-1]))\n",
    "        for i in range(self.b_size):\n",
    "            self.dA1[:, i] = np.roll(self.dA, i, axis=-1)\n",
    "        dX = np.sum(self.W @ self.dA1, axis=0)\n",
    "        self.optimizer.update(self)\n",
    "        return dX"
   ]
  },
  {
   "cell_type": "code",
   "execution_count": 11,
   "id": "3d576b2d",
   "metadata": {},
   "outputs": [],
   "source": [
    "c1d = Conv1d(b_size=3, initializer=SimpleInitializer(0.01), optimizer=SGD(0.01), n_in_channels=2, n_out_channels=3, pa=0, s=1)"
   ]
  },
  {
   "cell_type": "code",
   "execution_count": 12,
   "id": "4da62cb8",
   "metadata": {},
   "outputs": [],
   "source": [
    "x = np.array([[1, 2, 3, 4], [2, 3, 4, 5]]) #shape (2, 4), (number of input channels, number of features).\n",
    "c1d.W = np.ones((3, 2, 3)) # Set to 1 for simplification of the example. (Number of output channels, number of input channels, filter size).\n",
    "c1d.B = np.array([1, 2, 3]) # (Number of output channels)"
   ]
  },
  {
   "cell_type": "code",
   "execution_count": 13,
   "id": "d631f348",
   "metadata": {},
   "outputs": [
    {
     "data": {
      "text/plain": [
       "array([[16., 22.],\n",
       "       [17., 23.],\n",
       "       [18., 24.]])"
      ]
     },
     "execution_count": 13,
     "metadata": {},
     "output_type": "execute_result"
    }
   ],
   "source": [
    "a = c1d.forward(x)\n",
    "a"
   ]
  },
  {
   "cell_type": "markdown",
   "id": "64695bc7",
   "metadata": {},
   "source": [
    "## [Problem 7] (Advance assignment) Arbitrary number of strides"
   ]
  },
  {
   "cell_type": "code",
   "execution_count": 14,
   "id": "997114ec",
   "metadata": {},
   "outputs": [],
   "source": [
    "class Conv1dWithStride:\n",
    "    \n",
    "    def __init__(self, b_size, initializer, optimizer, n_in_channels=1, n_out_channels=1, pa=0, s=1):\n",
    "        self.b_size = b_size\n",
    "        self.optimizer = optimizer\n",
    "        self.n_in_channels = n_in_channels\n",
    "        self.n_out_channels = n_out_channels\n",
    "        self.pa = pa\n",
    "        self.s = s\n",
    "        self.W = initializer.W(n_out_channels, n_in_channels, b_size)\n",
    "        self.B = initializer.B(n_out_channels)\n",
    "        self.n_out = None\n",
    "        \n",
    "    def forward(self, X):\n",
    "        self.n_samples = X.shape[0]\n",
    "        self.n_in = X.shape[-1]\n",
    "        self.n_out = output_size_calculation(self.n_in, self.pa, self.b_size, self.s)\n",
    "        X = X.reshape(self.n_samples, self.n_in_channels, self.n_in)\n",
    "        self.X = np.pad(X, ((0, 0), (0, 0), ((self.b_size - 1), 0)))\n",
    "        self.X1 = np.zeros((self.n_samples, self.n_in_channels, self.b_size, self.n_in + (self.b_size - 1)))\n",
    "        for i in range(self.b_size):\n",
    "            self.X1[:, :, i] = np.roll(self.X, -i, axis=-1)\n",
    "        A = np.sum(self.X1[:, np.newaxis, :, :, (self.b_size - 1 - self.pa):(self.n_in + self.pa):self.s] * self.W[:, :, :, np.newaxis], axis=(2, 3)) + self.B.reshape(-1, 1)\n",
    "        return A\n",
    "\n",
    "    def backward(self, dA):\n",
    "        self.dW = np.sum(dA[:, :, np.newaxis, np.newaxis] * self.X1[:, np.newaxis, :, :, (self.b_size - 1 - self.pa):(self.n_in + self.pa):self.s], axis=(0, -1))\n",
    "        self.dB = np.sum(dA, axis=(0, -1))\n",
    "        self.dA = np.pad(dA, ((0, 0), (0, 0), (0, (self.b_size - 1))))\n",
    "        self.dA1 = np.zeros((self.n_samples, self.n_out_channels, self.b_size, self.dA.shape[-1]))\n",
    "        for i in range(self.b_size):\n",
    "            self.dA1[:, :, i] = np.roll(self.dA, i, axis=-1)\n",
    "        dX = np.sum(self.W[:, :, :, np.newaxis] * self.dA1[:, :, np.newaxis], axis=(1, 3))\n",
    "        self.optimizer.update(self)\n",
    "        return dX"
   ]
  },
  {
   "cell_type": "code",
   "execution_count": 15,
   "id": "86b95b88",
   "metadata": {},
   "outputs": [],
   "source": [
    "c1ds = Conv1dWithStride(b_size=3, initializer=SimpleInitializer(0.01), optimizer=SGD(0.01), n_in_channels=2, n_out_channels=3, pa=0, s=1)"
   ]
  },
  {
   "cell_type": "code",
   "execution_count": 16,
   "id": "88a02b35",
   "metadata": {},
   "outputs": [],
   "source": [
    "x = np.array([[[1, 2, 3, 4], [2, 3, 4, 5]]]) #shape (2, 4), (number of input channels, number of features).\n",
    "c1ds.W = np.ones((3, 2, 3)) # Set to 1 for simplification of the example. (Number of output channels, number of input channels, filter size).\n",
    "c1ds.B = np.array([1, 2, 3]) # (Number of output channels)"
   ]
  },
  {
   "cell_type": "code",
   "execution_count": 17,
   "id": "cd539f5d",
   "metadata": {},
   "outputs": [
    {
     "data": {
      "text/plain": [
       "array([[[16., 22.],\n",
       "        [17., 23.],\n",
       "        [18., 24.]]])"
      ]
     },
     "execution_count": 17,
     "metadata": {},
     "output_type": "execute_result"
    }
   ],
   "source": [
    "a = c1ds.forward(x)\n",
    "a"
   ]
  },
  {
   "cell_type": "markdown",
   "id": "98de445c",
   "metadata": {},
   "source": [
    "## [Problem 8] Learning and estimation"
   ]
  },
  {
   "cell_type": "code",
   "execution_count": 18,
   "id": "20fba03b",
   "metadata": {},
   "outputs": [],
   "source": [
    "class FC:\n",
    "    \"\"\"\n",
    "    Number of nodes Fully connected layer from n_nodes1 to n_nodes2\n",
    "    Parameters\n",
    "    ----------\n",
    "    n_nodes1 : int\n",
    "      Number of nodes in the previous layer\n",
    "    n_nodes2 : int\n",
    "      Number of nodes in the later layer\n",
    "    initializer: instance of initialization method\n",
    "    optimizer: instance of optimization method\n",
    "    \"\"\"\n",
    "    def __init__(self, n_nodes1, n_nodes2, initializer, optimizer):\n",
    "        self.optimizer = optimizer\n",
    "        self.n_nodes1 = n_nodes1\n",
    "        self.n_nodes2 = n_nodes2\n",
    "        self.W = initializer.W(self.n_nodes1, self.n_nodes2)\n",
    "        self.B = initializer.B(self.n_nodes2)\n",
    "        self.optimizer = optimizer\n",
    "        self.HW = 0\n",
    "        self.HB = 0\n",
    "        pass\n",
    "    \n",
    "    def forward(self, X):\n",
    "        \"\"\"\n",
    "        forward\n",
    "        Parameters\n",
    "        ----------\n",
    "        X : The following forms of ndarray, shape (batch_size, n_nodes1)\n",
    "            入力\n",
    "        Returns\n",
    "        ----------\n",
    "        A : The following forms of ndarray, shape (batch_size, n_nodes2)\n",
    "            output\n",
    "        \"\"\"       \n",
    "        self.Z = X\n",
    "        self.A = X @ self.W + self.B\n",
    "        return self.A\n",
    "    \n",
    "    def backward(self, dA):\n",
    "        \"\"\"\n",
    "        Backward\n",
    "        Parameters\n",
    "        ----------\n",
    "        dA : The following forms of ndarray, shape (batch_size, n_nodes2)\n",
    "            Gradient flowing from behind\n",
    "        Returns\n",
    "        ----------\n",
    "        dZ : The following forms of ndarray, shape (batch_size, n_nodes1)\n",
    "            Gradient to flow forward\n",
    "        \"\"\"\n",
    "        self.dB = np.sum(dA, axis=0)\n",
    "        self.dW = self.Z.T @ dA\n",
    "        self.dZ = dA @ self.W.T\n",
    "        self = self.optimizer.update(self)\n",
    "        return self.dZ"
   ]
  },
  {
   "cell_type": "code",
   "execution_count": 19,
   "id": "d1e90d0e",
   "metadata": {},
   "outputs": [],
   "source": [
    "class GetMiniBatch:\n",
    "    \"\"\"\n",
    "    Iterator to get a mini-batch\n",
    "    Parameters\n",
    "    ----------\n",
    "    X : The following forms of ndarray, shape (n_samples, n_features)\n",
    "      Training data\n",
    "    y : The following form of ndarray, shape (n_samples, 1)\n",
    "      Correct answer value\n",
    "    batch_size : int\n",
    "      Batch size\n",
    "    seed : int\n",
    "      NumPy random number seed\n",
    "    \"\"\"\n",
    "    \n",
    "    def __init__(self, X, y, batch_size = 20, seed=0):\n",
    "        self.batch_size = batch_size\n",
    "        np.random.seed(seed)\n",
    "        shuffle_index = np.random.permutation(np.arange(X.shape[0]))\n",
    "        self._X = X[shuffle_index]\n",
    "        self._y = y[shuffle_index]\n",
    "        self._stop = np.ceil(X.shape[0]/self.batch_size).astype(np.int)\n",
    "        \n",
    "    def __len__(self):\n",
    "        return self._stop\n",
    "    \n",
    "    def __getitem__(self,item):\n",
    "        p0 = item*self.batch_size\n",
    "        p1 = item*self.batch_size + self.batch_size\n",
    "        return self._X[p0:p1], self._y[p0:p1]        \n",
    "    \n",
    "    def __iter__(self):\n",
    "        self._counter = 0\n",
    "        return self\n",
    "    \n",
    "    def __next__(self):\n",
    "        if self._counter >= self._stop:\n",
    "            raise StopIteration()\n",
    "        p0 = self._counter*self.batch_size\n",
    "        p1 = self._counter*self.batch_size + self.batch_size\n",
    "        self._counter += 1\n",
    "        return self._X[p0:p1], self._y[p0:p1]"
   ]
  },
  {
   "cell_type": "code",
   "execution_count": 20,
   "id": "74d43d7f",
   "metadata": {},
   "outputs": [],
   "source": [
    "class Sigmoid:\n",
    "    \n",
    "    def forward(self, A):\n",
    "        self.A = A\n",
    "        Z = 1 / (1 + np.exp(-self.A))\n",
    "        return Z\n",
    "    \n",
    "    def backward(self, dZ):\n",
    "        dA = dZ * ((1 / (1 + np.exp(-self.A))) - (1 / (1 + np.exp(-self.A))) ** 2)\n",
    "        return dA"
   ]
  },
  {
   "cell_type": "code",
   "execution_count": 21,
   "id": "79a90f5e",
   "metadata": {},
   "outputs": [],
   "source": [
    "class Tanh:\n",
    "    \n",
    "    def forward(self, A):\n",
    "        self.A = A\n",
    "        Z = np.tanh(self.A)\n",
    "        return Z\n",
    "    \n",
    "    def backward(self, dZ):\n",
    "        dA = dZ + (1 - np.tanh(self.A) ** 2)\n",
    "        return dA"
   ]
  },
  {
   "cell_type": "code",
   "execution_count": 22,
   "id": "2a4b7801",
   "metadata": {},
   "outputs": [],
   "source": [
    "class Softmax:\n",
    "    \n",
    "    def forward(self, A):\n",
    "        self.Z = np.exp(A) / np.sum(np.exp(A), axis=1).reshape(-1, 1)\n",
    "        return self.Z\n",
    "    \n",
    "    def backward(self, y, Z=None):\n",
    "        if Z is None:\n",
    "            Z = self.Z\n",
    "        dA = Z - y\n",
    "        loss = -np.average(np.sum(y * np.log(Z), axis=1))\n",
    "        return dA, loss"
   ]
  },
  {
   "cell_type": "code",
   "execution_count": 23,
   "id": "0e90748e",
   "metadata": {},
   "outputs": [],
   "source": [
    "class ReLU:\n",
    "    \n",
    "    def forward(self, A):\n",
    "        self.A = A\n",
    "        Z = np.maximum(0, A)\n",
    "        return Z\n",
    "    \n",
    "    def backward(self, dZ):\n",
    "        dA = dZ * np.where(self.A > 0, 1, 0)\n",
    "        return dA"
   ]
  },
  {
   "cell_type": "code",
   "execution_count": 24,
   "id": "68038b56",
   "metadata": {},
   "outputs": [],
   "source": [
    "class XavierInitializer:\n",
    "    \n",
    "    def __init__(self, sigma):\n",
    "        pass\n",
    "    \n",
    "    def W(self, n_nodes1, n_nodes2):\n",
    "        self.sigma = 1 / np.sqrt(n_nodes1)\n",
    "        W = self.sigma * np.random.randn(n_nodes1, n_nodes2)\n",
    "        return W\n",
    "    \n",
    "    def B(self, n_nodes2):\n",
    "        B = self.sigma * np.random.randn(1, n_nodes2)\n",
    "        return B"
   ]
  },
  {
   "cell_type": "code",
   "execution_count": 25,
   "id": "c9214576",
   "metadata": {},
   "outputs": [],
   "source": [
    "class HeInitializer:\n",
    "    \n",
    "    def __init__(self, sigma):\n",
    "        pass\n",
    "    \n",
    "    def W(self, n_nodes1, n_nodes2):\n",
    "        self.sigma = np.sqrt(2 / n_nodes1)\n",
    "        W = self.sigma * np.random.randn(n_nodes1, n_nodes2)\n",
    "        return W\n",
    "    \n",
    "    def B(self, n_nodes2):\n",
    "        B = self.sigma * np.random.randn(1, n_nodes2)\n",
    "        return B"
   ]
  },
  {
   "cell_type": "code",
   "execution_count": 26,
   "id": "bc7e8746",
   "metadata": {},
   "outputs": [],
   "source": [
    "class AdaGrad:\n",
    "    \n",
    "    def __init__(self, lr):\n",
    "        self.lr = lr\n",
    "        self.HW = 1\n",
    "        self.HB = 1\n",
    "        \n",
    "    def update(self, layer):\n",
    "        self.HW += layer.dW ** 2\n",
    "        self.HB += layer.dB ** 2\n",
    "        layer.W -= self.lr * np.sqrt(1 / self.HW) * layer.dW\n",
    "        layer.B -= self.lr * np.sqrt(1 / self.HB) * layer.dB\n",
    "        return layer"
   ]
  },
  {
   "cell_type": "code",
   "execution_count": 27,
   "id": "3962a665",
   "metadata": {},
   "outputs": [],
   "source": [
    "class ScratchCNNClassifier():\n",
    "    \"\"\"\n",
    "    Simple three-layer CNN classifier\n",
    "    Parameters\n",
    "    ----------\n",
    "    Attributes\n",
    "    ----------\n",
    "    \"\"\"\n",
    "    def __init__(self, sigma=0.01, n_features=784, n_nodes1=400, n_nodes2=200,\n",
    "                 n_output=10, learning_rate=0.01, epochs=10, \n",
    "                 batch_size=32, verbose=True, optimizer=SGD,\n",
    "                 activater=ReLU):\n",
    "        self.verbose = verbose\n",
    "        self.sigma = sigma\n",
    "        self.n_features = n_features\n",
    "#         self.n_nodes1 = n_nodes1\n",
    "        self.n_nodes2 = n_nodes2\n",
    "        self.n_output = n_output\n",
    "        self.lr = learning_rate\n",
    "        self.epochs = epochs\n",
    "        self.batch_size = batch_size\n",
    "        \n",
    "        # Update\n",
    "        self.optimizer = optimizer\n",
    "        self.activater = activater\n",
    "        self.initializer = HeInitializer if activater == ReLU else XavierInitializer\n",
    "    \n",
    "    def fit(self, X, y, X_val=None, y_val=None):\n",
    "        \"\"\"\n",
    "        Learn a neural network classifier.\n",
    "        Parameters\n",
    "        ----------\n",
    "        X : The following forms of ndarray, shape (n_samples, n_features)\n",
    "            Features of training data\n",
    "        y : The following form of ndarray, shape (n_samples,)\n",
    "            Correct answer value of training data\n",
    "        X_val : The following forms of ndarray, shape (n_samples, n_features)\n",
    "            Features of verification data\n",
    "        y_val : The following form of ndarray, shape (n_samples,)\n",
    "            Correct value of verification data\n",
    "        \"\"\"\n",
    "        self.train_loss = []\n",
    "        self.val_loss = []\n",
    "        \n",
    "        \n",
    "        self.Conv1d = Conv1dWithStride(b_size=7, initializer=SimpleInitializer(0.01), optimizer=self.optimizer(self.lr), n_in_channels=1, n_out_channels=1, pa=3, s=2)\n",
    "        self.Conv1d.n_out = output_size_calculation(X.shape[-1], self.Conv1d.pa, self.Conv1d.b_size, self.Conv1d.s)\n",
    "        self.activation1 = self.activater()\n",
    "        self.FC2 = FC(self.Conv1d.n_out, self.n_nodes2, self.initializer(self.sigma), self.optimizer(self.lr))\n",
    "        self.activation2 = self.activater()\n",
    "        self.FC3 = FC(self.n_nodes2, self.n_output, self.initializer(self.sigma), self.optimizer(self.lr))\n",
    "        self.activation3 = Softmax()\n",
    "        \n",
    "        for i in range(self.epochs):\n",
    "            get_mini_batch = GetMiniBatch(X, y, batch_size=self.batch_size, seed=i)\n",
    "            # Get batch\n",
    "            for mini_X_train, mini_y_train in get_mini_batch:\n",
    "                self.forward(mini_X_train)\n",
    "                self.backward(mini_X_train, mini_y_train)\n",
    "            \n",
    "            if self.verbose:\n",
    "                print(f\"Epoch {i+1}:\")\n",
    "                self.forward(X)\n",
    "                train_loss = self.activation3.backward(y, self.Z3)[1]\n",
    "                self.train_loss.append(train_loss)\n",
    "                print(f\"train_loss: {train_loss}\")\n",
    "            \n",
    "                if X_val is not None and y_val is not None:\n",
    "                    self.forward(X_val)\n",
    "                    val_loss = self.activation3.backward(y_val, self.Z3)[1]\n",
    "                    self.val_loss.append(val_loss)\n",
    "                    if self.verbose:\n",
    "                        print(f\"val_loss: {val_loss}\")\n",
    "    \n",
    "    def predict(self, X):\n",
    "        \"\"\"\n",
    "        Estimate using a neural network classifier.\n",
    "        Parameters\n",
    "        ----------\n",
    "        X : The following forms of ndarray, shape (n_samples, n_features)\n",
    "            sample\n",
    "        Returns\n",
    "        -------\n",
    "            The following form of ndarray, shape (n_samples, 1)\n",
    "            Estimated result\n",
    "        \"\"\"\n",
    "        self.forward(X)\n",
    "        return np.argmax(self.Z3, axis=1)\n",
    "    \n",
    "    def forward(self, X):\n",
    "        self.A1 = self.Conv1d.forward(X)\n",
    "        self.A1 = self.A1.reshape(self.A1.shape[0], self.A1.shape[-1])\n",
    "        self.Z1 = self.activation1.forward(self.A1)\n",
    "        self.A2 = self.FC2.forward(self.Z1)\n",
    "        self.Z2 = self.activation2.forward(self.A2)\n",
    "        self.A3 = self.FC3.forward(self.Z2)\n",
    "        self.Z3 = self.activation3.forward(self.A3)\n",
    "    \n",
    "    def backward(self, X, Y):\n",
    "        dA3, loss = self.activation3.backward(Y)\n",
    "        dZ2 = self.FC3.backward(dA3)\n",
    "        dA2 = self.activation2.backward(dZ2)\n",
    "        dZ1 = self.FC2.backward(dA2)\n",
    "        dA1 = self.activation1.backward(dZ1)\n",
    "        dA1 = dA1[:, np.newaxis]\n",
    "        dZ0 = self.Conv1d.backward(dA1)"
   ]
  },
  {
   "cell_type": "code",
   "execution_count": 28,
   "id": "2e34ec00",
   "metadata": {},
   "outputs": [],
   "source": [
    "(X_train, y_train), (X_test, y_test) = mnist.load_data()"
   ]
  },
  {
   "cell_type": "code",
   "execution_count": 29,
   "id": "f61370ce",
   "metadata": {},
   "outputs": [],
   "source": [
    "X_train = X_train.reshape(-1, 784)\n",
    "X_test = X_test.reshape(-1, 784)\n",
    "\n",
    "X_train = X_train.astype(np.float)\n",
    "X_test = X_test.astype(np.float)\n",
    "X_train /= 255\n",
    "X_test /= 255"
   ]
  },
  {
   "cell_type": "code",
   "execution_count": 30,
   "id": "e02237d8",
   "metadata": {},
   "outputs": [
    {
     "name": "stdout",
     "output_type": "stream",
     "text": [
      "(48000, 784)\n",
      "(48000,)\n",
      "(12000, 784)\n",
      "(12000,)\n"
     ]
    }
   ],
   "source": [
    "X_train, X_val, y_train, y_val = train_test_split(X_train, y_train, test_size=0.2)\n",
    "print(X_train.shape)\n",
    "print(y_train.shape)\n",
    "print(X_val.shape)\n",
    "print(y_val.shape)"
   ]
  },
  {
   "cell_type": "code",
   "execution_count": 31,
   "id": "fb999ea5",
   "metadata": {},
   "outputs": [],
   "source": [
    "enc = OneHotEncoder(handle_unknown='ignore', sparse=False)\n",
    "y_train_one_hot = enc.fit_transform(y_train[:, np.newaxis])\n",
    "y_val_one_hot = enc.transform(y_val[:, np.newaxis])"
   ]
  },
  {
   "cell_type": "code",
   "execution_count": 32,
   "id": "38b6be83",
   "metadata": {},
   "outputs": [],
   "source": [
    "SCNN = ScratchCNNClassifier(verbose=True, epochs=10, optimizer=AdaGrad, activater=ReLU)"
   ]
  },
  {
   "cell_type": "code",
   "execution_count": 33,
   "id": "cedf2b0c",
   "metadata": {},
   "outputs": [
    {
     "name": "stdout",
     "output_type": "stream",
     "text": [
      "Epoch 1:\n",
      "train_loss: 0.19950240251846568\n",
      "val_loss: 0.20475360745721424\n",
      "Epoch 2:\n",
      "train_loss: 0.15213026100227175\n",
      "val_loss: 0.1634210588613348\n",
      "Epoch 3:\n",
      "train_loss: 0.1256272924573344\n",
      "val_loss: 0.13810969138965368\n",
      "Epoch 4:\n",
      "train_loss: 0.11162386777805586\n",
      "val_loss: 0.12849233846239244\n",
      "Epoch 5:\n",
      "train_loss: 0.10081346023703697\n",
      "val_loss: 0.1186870153799514\n",
      "Epoch 6:\n",
      "train_loss: 0.09102931968021057\n",
      "val_loss: 0.11253712089303423\n",
      "Epoch 7:\n",
      "train_loss: 0.0852299090309255\n",
      "val_loss: 0.10905039332909999\n",
      "Epoch 8:\n",
      "train_loss: 0.07890483326110273\n",
      "val_loss: 0.10562769652786488\n",
      "Epoch 9:\n",
      "train_loss: 0.07201397907493129\n",
      "val_loss: 0.09957932784293358\n",
      "Epoch 10:\n",
      "train_loss: 0.06783803348275294\n",
      "val_loss: 0.09735316046755285\n"
     ]
    }
   ],
   "source": [
    "SCNN.fit(X_train, y_train_one_hot, X_val, y_val_one_hot)"
   ]
  },
  {
   "cell_type": "code",
   "execution_count": 34,
   "id": "d567835d",
   "metadata": {},
   "outputs": [
    {
     "name": "stdout",
     "output_type": "stream",
     "text": [
      "[3 3 4 ... 0 7 5] [3 3 4 ... 0 7 5]\n",
      "[1 3 9 ... 0 1 2] [1 3 7 ... 0 1 2]\n"
     ]
    }
   ],
   "source": [
    "y_train_pred = SCNN.predict(X_train)\n",
    "y_val_pred = SCNN.predict(X_val)\n",
    "print(y_train, y_train_pred)\n",
    "print(y_val, y_val_pred)"
   ]
  },
  {
   "cell_type": "code",
   "execution_count": 35,
   "id": "9806a493",
   "metadata": {},
   "outputs": [
    {
     "name": "stdout",
     "output_type": "stream",
     "text": [
      "              precision    recall  f1-score   support\n",
      "\n",
      "           0       0.99      0.99      0.99      4721\n",
      "           1       0.98      0.99      0.99      5441\n",
      "           2       0.98      0.98      0.98      4765\n",
      "           3       0.98      0.97      0.98      4882\n",
      "           4       0.98      0.97      0.98      4635\n",
      "           5       0.98      0.98      0.98      4360\n",
      "           6       0.99      0.99      0.99      4740\n",
      "           7       0.98      0.98      0.98      5021\n",
      "           8       0.98      0.97      0.97      4646\n",
      "           9       0.96      0.97      0.97      4789\n",
      "\n",
      "    accuracy                           0.98     48000\n",
      "   macro avg       0.98      0.98      0.98     48000\n",
      "weighted avg       0.98      0.98      0.98     48000\n",
      "\n"
     ]
    }
   ],
   "source": [
    "print(classification_report(y_train, y_train_pred))"
   ]
  },
  {
   "cell_type": "code",
   "execution_count": 37,
   "id": "21b140b7",
   "metadata": {},
   "outputs": [
    {
     "data": {
      "image/png": "[encoded data removed]",
      "text/plain": [
       "<Figure size 432x288 with 1 Axes>"
      ]
     },
     "metadata": {
      "needs_background": "light"
     },
     "output_type": "display_data"
    }
   ],
   "source": [
    "import matplotlib.pyplot as plt\n",
    "\n",
    "plt.plot(np.arange(1, SCNN.epochs+1), SCNN.train_loss, label='train')\n",
    "plt.plot(np.arange(1, SCNN.epochs+1), SCNN.val_loss, label='val')\n",
    "plt.xlabel('Epochs')\n",
    "plt.xticks(np.arange(1, SCNN.epochs+1))\n",
    "plt.legend()\n",
    "plt.show()"
   ]
  },
  {
   "cell_type": "code",
   "execution_count": null,
   "id": "5d9e78af",
   "metadata": {},
   "outputs": [],
   "source": []
  }
 ],
 "metadata": {
  "kernelspec": {
   "display_name": "Python 3",
   "language": "python",
   "name": "python3"
  },
  "language_info": {
   "codemirror_mode": {
    "name": "ipython",
    "version": 3
   },
   "file_extension": ".py",
   "mimetype": "text/x-python",
   "name": "python",
   "nbconvert_exporter": "python",
   "pygments_lexer": "ipython3",
   "version": "3.8.8"
  }
 },
 "nbformat": 4,
 "nbformat_minor": 5
}
