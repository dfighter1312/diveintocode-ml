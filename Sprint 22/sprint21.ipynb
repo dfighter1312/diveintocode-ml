{
 "cells": [
  {
   "cell_type": "markdown",
   "id": "564d0822",
   "metadata": {},
   "source": [
    "# Sprint 21\n",
    "\n",
    "## Recurrent Neural Network\n",
    "\n",
    "### [Problem 1-3] Scratch Implementation of RNN, learning and estimation"
   ]
  },
  {
   "cell_type": "code",
   "execution_count": 1,
   "id": "9e7ac090",
   "metadata": {},
   "outputs": [],
   "source": [
    "import numpy as np"
   ]
  },
  {
   "cell_type": "code",
   "execution_count": 2,
   "id": "c5e8424f",
   "metadata": {},
   "outputs": [],
   "source": [
    "class ConstantInitializer:\n",
    "    \n",
    "    def __init__(self, Wx, Wh, b):\n",
    "        self.Wx_val = Wx\n",
    "        self.Wh_val = Wh\n",
    "        self.b_val = b\n",
    "    \n",
    "    def Wx(self):\n",
    "        return self.Wx_val\n",
    "    \n",
    "    def Wh(self):\n",
    "        return self.Wh_val\n",
    "    \n",
    "    def b(self):\n",
    "        return self.b_val"
   ]
  },
  {
   "cell_type": "code",
   "execution_count": 3,
   "id": "b6b83954",
   "metadata": {},
   "outputs": [],
   "source": [
    "class Tanh:\n",
    "\n",
    "    def forward(self, A):\n",
    "        self.A = A\n",
    "        Z = np.tanh(self.A)\n",
    "        return Z\n",
    "    \n",
    "    def backward(self, dZ):\n",
    "        dA = dZ * (1 - np.tanh(self.A)**2)\n",
    "        return dA"
   ]
  },
  {
   "cell_type": "code",
   "execution_count": 4,
   "id": "ce01aa80",
   "metadata": {},
   "outputs": [],
   "source": [
    "class AdaGrad:\n",
    "    \n",
    "    def __init__(self, lr):\n",
    "        self.lr = lr\n",
    "        self.HW = 0.0\n",
    "        self.HB = 0.0\n",
    "        \n",
    "    def update(self, layer):\n",
    "        self.HW += layer.dW * layer.dW\n",
    "        self.HB = layer.dB * layer.dB\n",
    "        delta = 1e-7\n",
    "        layer.W -= self.lr * layer.dW / (np.sqrt(self.HW) + delta)\n",
    "        layer.B -= self.lr * layer.dB / (np.sqrt(self.HB) + delta)\n",
    "        return layer"
   ]
  },
  {
   "cell_type": "code",
   "execution_count": 5,
   "id": "19bf730b",
   "metadata": {},
   "outputs": [],
   "source": [
    "class ScratchRNNClassifier:\n",
    "    \n",
    "    def __init__(self, initializer, activator):\n",
    "        self.Wx = initializer.Wx()\n",
    "        self.Wh = initializer.Wh()\n",
    "        self.b = initializer.b()\n",
    "        self.dB = 0\n",
    "        self.dWx = 0\n",
    "        self.dWh = 0\n",
    "        self.activator = activator\n",
    "    \n",
    "    def forward(self, x):\n",
    "        self.x = x.copy()\n",
    "        batch_size = x.shape[0] \n",
    "        self.n_sequences = x.shape[1] \n",
    "        n_features = x.shape[2] \n",
    "        n_nodes = w_x.shape[1] \n",
    "        h = np.zeros((batch_size, n_nodes))\n",
    "        for n in range(self.n_sequences):\n",
    "            A = x[:, n, :] @ self.Wx + h @ self.Wh + self.b\n",
    "            h = self.activator.forward(A)\n",
    "        return h"
   ]
  },
  {
   "cell_type": "code",
   "execution_count": 6,
   "id": "56b8b234",
   "metadata": {},
   "outputs": [],
   "source": [
    "x = np.array([[[1, 2], [2, 3], [3, 4]]])/100 # (batch_size, n_sequences, n_features)\n",
    "w_x = np.array([[1, 3, 5, 7], [3, 5, 7, 8]])/100 # (n_features, n_nodes)\n",
    "w_h = np.array([[1, 3, 5, 7], [2, 4, 6, 8], [3, 5, 7, 8], [4, 6, 8, 10]])/100 # (n_nodes, n_nodes)\n",
    "batch_size = x.shape[0] # 1\n",
    "n_sequences = x.shape[1] # 3\n",
    "n_features = x.shape[2] # 2\n",
    "n_nodes = w_x.shape[1] # 4\n",
    "h = np.zeros((batch_size, n_nodes)) # (batch_size, n_nodes)\n",
    "b = np.array([1, 1, 1, 1]) # (n_nodes,)"
   ]
  },
  {
   "cell_type": "code",
   "execution_count": 7,
   "id": "8180c257",
   "metadata": {},
   "outputs": [],
   "source": [
    "initializer = ConstantInitializer(\n",
    "    Wx = w_x,\n",
    "    Wh = w_h,\n",
    "    b = b\n",
    ")\n",
    "activator = Tanh()"
   ]
  },
  {
   "cell_type": "code",
   "execution_count": 8,
   "id": "0d2ff303",
   "metadata": {},
   "outputs": [
    {
     "data": {
      "text/plain": [
       "array([[0.79494228, 0.81839002, 0.83939649, 0.85584174]])"
      ]
     },
     "execution_count": 8,
     "metadata": {},
     "output_type": "execute_result"
    }
   ],
   "source": [
    "model = ScratchRNNClassifier(\n",
    "    initializer=initializer,\n",
    "    activator=activator\n",
    ")\n",
    "model.forward(x)"
   ]
  }
 ],
 "metadata": {
  "kernelspec": {
   "display_name": "Python 3 (ipykernel)",
   "language": "python",
   "name": "python3"
  },
  "language_info": {
   "codemirror_mode": {
    "name": "ipython",
    "version": 3
   },
   "file_extension": ".py",
   "mimetype": "text/x-python",
   "name": "python",
   "nbconvert_exporter": "python",
   "pygments_lexer": "ipython3",
   "version": "3.7.11"
  }
 },
 "nbformat": 4,
 "nbformat_minor": 5
}
