{
 "cells": [
  {
   "cell_type": "markdown",
   "metadata": {},
   "source": [
    "# Sprint 3\n",
    "\n",
    "## Machine Learning - Scratch Linear Regression\n",
    "\n",
    "### [Problem 1-5] Implement ScratchLinearRegression"
   ]
  },
  {
   "cell_type": "code",
   "execution_count": 1,
   "metadata": {},
   "outputs": [],
   "source": [
    "import numpy as np\n",
    "import pandas as pd"
   ]
  },
  {
   "cell_type": "code",
   "execution_count": 2,
   "metadata": {},
   "outputs": [],
   "source": [
    "class ScratchLinearRegression():\n",
    "    \"\"\"\n",
    "    Scratch implementation of linear regression\n",
    "    \n",
    "    Parameters\n",
    "    ----------\n",
    "    num_iter : int\n",
    "      Number of iterations\n",
    "    lr : float\n",
    "      Learning rate\n",
    "    no_bias : bool\n",
    "      True if no bias term is included\n",
    "    verbose : bool\n",
    "      True to output the learning process\n",
    "    \n",
    "    Attributes\n",
    "    ----------\n",
    "    self.coef_ : ndarray, shape (n_features,)\n",
    "      Parameters\n",
    "    self.loss : ndarray, shape (self.iter,)\n",
    "      Record losses on training data\n",
    "    self.val_loss : ndarray, shape (self.iter,)\n",
    "      Record loss on validation data\n",
    "    \"\"\"\n",
    "    \n",
    "    def __init__(self, num_iter=1000, lr=0.01, no_bias=False, verbose=False):\n",
    "        # Record hyperparameters as attributes\n",
    "        self.iter = num_iter\n",
    "        self.lr = lr\n",
    "        self.no_bias = no_bias\n",
    "        self.verbose = verbose\n",
    "        # Prepare an array to record the loss\n",
    "        self.loss = np.zeros(self.iter)\n",
    "        self.val_loss = np.zeros(self.iter)\n",
    "        \n",
    "    def fit(self, X, y, X_val=None, y_val=None):\n",
    "        \"\"\"\n",
    "        Learn linear regression. If validation data is entered, \n",
    "        the loss and accuracy for it are also calculated for each iteration.\n",
    "        Parameters\n",
    "        ----------\n",
    "        X : ndarray, shape (n_samples, n_features)\n",
    "            Features of training data\n",
    "        y : ndarray, shape (n_samples,)\n",
    "            Correct answer value of training data\n",
    "        X_val : ndarray, shape (n_samples, n_features)\n",
    "            Features of verification data\n",
    "        y_val : ndarray, shape (n_samples,)\n",
    "            Correct value of verification data\n",
    "        \"\"\"\n",
    "        n_samples = X.shape[0]\n",
    "        n_features = X.shape[1]\n",
    "        \n",
    "        if not self.no_bias:\n",
    "            # Append bias column to X\n",
    "            X = np.hstack([np.ones([n_samples, 1]), X])\n",
    "        \n",
    "        # Prepare theta for hypotheis function\n",
    "        self.theta = np.random.rand(n_features + (1 - self.no_bias))\n",
    "        \n",
    "        for i in range(self.iter):\n",
    "            y_hyp = self._linear_hypothesis(X)\n",
    "            self.theta = self._gradient_descent(X, y, y_hyp)\n",
    "            self.loss[i] = self._loss_function(y_hyp, y)\n",
    "            \n",
    "            if X_val is not None and y_val is not None:\n",
    "                y_predict = self.predict(X_val)\n",
    "                self.val_loss[i] = self._loss_function(y_predict, y_val)\n",
    "                \n",
    "        if self.verbose:\n",
    "            #Output learning process when verbose is set to True\n",
    "            print(\"Loss: {}\".format(self.loss))\n",
    "            print(\"Val_loss: {}\".format(self.val_loss))\n",
    "        pass\n",
    "        \n",
    "    def predict(self, X):\n",
    "        \"\"\"\n",
    "        Estimate using linear regression.\n",
    "        Parameters\n",
    "        ----------\n",
    "        X : The following forms of ndarray, shape (n_samples, n_features)\n",
    "            sample\n",
    "        Returns\n",
    "        -------\n",
    "            ndarray, shape (n_samples, 1)\n",
    "            Estimated result by linear regression\n",
    "        \"\"\"\n",
    "        if not self.no_bias:\n",
    "            n_samples = X.shape[0]\n",
    "            X = np.hstack([np.ones([n_samples, 1]), X])\n",
    "        return X @ self.theta\n",
    "    \n",
    "    def _linear_hypothesis(self, X):\n",
    "        \"\"\"\n",
    "        Compute a linear hypothetical function\n",
    "        Parameters\n",
    "        ----------\n",
    "        X : The following forms of ndarray, shape (n_samples, n_features)\n",
    "          Training data\n",
    "        Returns\n",
    "        -------\n",
    "          ndarray, shape (n_samples, 1)\n",
    "          Estimated result by linear hypothetical function\n",
    "        \"\"\"\n",
    "        y_hyp = np.dot(X, self.theta.T)\n",
    "        return y_hyp\n",
    "    \n",
    "    def _gradient_descent(self, X, y, y_hyp):\n",
    "        \"\"\"\n",
    "        Update new theta j in the steepest decent method\n",
    "        Parameters\n",
    "        ----------\n",
    "        X: ndarray, shape (n_samples, n_features)\n",
    "            Training data\n",
    "        y: ndarray, shape (n_samples,)\n",
    "            Correct answer value of training data\n",
    "        y_hyp: ndarray, shape (n_samples, 1)\n",
    "        Returns\n",
    "        -------\n",
    "        update_theta: ndarray, shape (n_features, 1)\n",
    "          New theta value\n",
    "        \"\"\"\n",
    "        n_samples = X.shape[0]\n",
    "        update_theta = self.theta - (self.lr * np.dot((y_hyp - y), X) / n_samples)\n",
    "        return update_theta\n",
    "    \n",
    "    def _loss_function(self, y_pred, y):\n",
    "        \"\"\"\n",
    "        Calculation of objective function.\n",
    "        Parameters\n",
    "        ----------\n",
    "        y_pred : The following forms of ndarray, shape (n_samples,)\n",
    "          Estimated value\n",
    "        y : The following forms of ndarray, shape (n_samples,)\n",
    "          Correct answer value\n",
    "        Returns\n",
    "        ----------\n",
    "        loss: numpy.float\n",
    "          Result of the loss function\n",
    "        \"\"\"\n",
    "        loss = np.mean((y_pred - y) ** 2)\n",
    "        return loss\n",
    "        \n",
    "\n",
    "def MSE(y_pred, y):\n",
    "    \"\"\"\n",
    "    Calculation of mean square error\n",
    "    Parameters\n",
    "    ----------\n",
    "    y_pred : The following forms of ndarray, shape (n_samples,)\n",
    "      Estimated value\n",
    "    y : The following forms of ndarray, shape (n_samples,)\n",
    "      Correct answer value\n",
    "    Returns\n",
    "    ----------\n",
    "    mse : numpy.float\n",
    "      Mean squared error\n",
    "    \"\"\"\n",
    "    n_samples = y.shape[0]\n",
    "    mse = np.mean((y_pred - y) ** 2)\n",
    "    return mse"
   ]
  },
  {
   "cell_type": "markdown",
   "metadata": {},
   "source": [
    "#### [Problem 1] Hypothetical function\n",
    "Implemented in `def _linear_hypothesis(self, X)`\n",
    "\n",
    "#### [Problem 2] Steepest descent\n",
    "Implemented in `def _gradient_descent(self, X, y, y_hyp)`\n",
    "\n",
    "#### [Problem 3] Estimated\n",
    "Implemented in `def fit(self, X, y, X_val=None, y_val=None)`, `def predict(self, X)`\n",
    "\n",
    "#### [Problem 4] Mean squared error\n",
    "Implemented in `def MSE(y_pred, y)` (outside the class)\n",
    "\n",
    "#### [Problem 5] Objective function\n",
    "Implemented in `def _loss_function(self, y_pred, y)`\n",
    "\n",
    "Now we will test our Scratch Linear Regression which has just been constructed."
   ]
  },
  {
   "cell_type": "code",
   "execution_count": 3,
   "metadata": {},
   "outputs": [
    {
     "data": {
      "text/plain": [
       "(5, 2)"
      ]
     },
     "execution_count": 3,
     "metadata": {},
     "output_type": "execute_result"
    }
   ],
   "source": [
    "X = np.array([\n",
    "    [1, 2],\n",
    "    [3, 4],\n",
    "    [5, 6],\n",
    "    [7, 8],\n",
    "    [9, 10]\n",
    "])\n",
    "X.shape"
   ]
  },
  {
   "cell_type": "code",
   "execution_count": 4,
   "metadata": {},
   "outputs": [
    {
     "data": {
      "text/plain": [
       "(5,)"
      ]
     },
     "execution_count": 4,
     "metadata": {},
     "output_type": "execute_result"
    }
   ],
   "source": [
    "# Let y = 2x1 + 1x2\n",
    "y = np.array([4, 10, 16, 22, 28])\n",
    "y.shape"
   ]
  },
  {
   "cell_type": "code",
   "execution_count": 5,
   "metadata": {},
   "outputs": [],
   "source": [
    "slr = ScratchLinearRegression(100, 0.01, False, True)"
   ]
  },
  {
   "cell_type": "code",
   "execution_count": 6,
   "metadata": {},
   "outputs": [
    {
     "name": "stdout",
     "output_type": "stream",
     "text": [
      "Loss: [1.42615442e+02 7.25203856e+00 5.14216648e-01 1.77937903e-01\n",
      " 1.60261935e-01 1.58448234e-01 1.57429739e-01 1.56456547e-01\n",
      " 1.55491301e-01 1.54532105e-01 1.53578832e-01 1.52631439e-01\n",
      " 1.51689890e-01 1.50754150e-01 1.49824182e-01 1.48899951e-01\n",
      " 1.47981421e-01 1.47068557e-01 1.46161325e-01 1.45259689e-01\n",
      " 1.44363615e-01 1.43473069e-01 1.42588016e-01 1.41708423e-01\n",
      " 1.40834256e-01 1.39965482e-01 1.39102066e-01 1.38243977e-01\n",
      " 1.37391182e-01 1.36543647e-01 1.35701340e-01 1.34864230e-01\n",
      " 1.34032283e-01 1.33205468e-01 1.32383754e-01 1.31567109e-01\n",
      " 1.30755501e-01 1.29948900e-01 1.29147275e-01 1.28350595e-01\n",
      " 1.27558830e-01 1.26771948e-01 1.25989921e-01 1.25212718e-01\n",
      " 1.24440309e-01 1.23672665e-01 1.22909757e-01 1.22151554e-01\n",
      " 1.21398029e-01 1.20649152e-01 1.19904895e-01 1.19165229e-01\n",
      " 1.18430126e-01 1.17699558e-01 1.16973496e-01 1.16251913e-01\n",
      " 1.15534782e-01 1.14822074e-01 1.14113763e-01 1.13409821e-01\n",
      " 1.12710221e-01 1.12014938e-01 1.11323943e-01 1.10637211e-01\n",
      " 1.09954715e-01 1.09276430e-01 1.08602328e-01 1.07932385e-01\n",
      " 1.07266575e-01 1.06604872e-01 1.05947251e-01 1.05293686e-01\n",
      " 1.04644153e-01 1.03998628e-01 1.03357084e-01 1.02719497e-01\n",
      " 1.02085844e-01 1.01456100e-01 1.00830240e-01 1.00208242e-01\n",
      " 9.95900797e-02 9.89757312e-02 9.83651725e-02 9.77583801e-02\n",
      " 9.71553309e-02 9.65560018e-02 9.59603698e-02 9.53684122e-02\n",
      " 9.47801062e-02 9.41954293e-02 9.36143591e-02 9.30368735e-02\n",
      " 9.24629502e-02 9.18925673e-02 9.13257030e-02 9.07623355e-02\n",
      " 9.02024434e-02 8.96460050e-02 8.90929993e-02 8.85434048e-02]\n",
      "Val_loss: [0. 0. 0. 0. 0. 0. 0. 0. 0. 0. 0. 0. 0. 0. 0. 0. 0. 0. 0. 0. 0. 0. 0. 0.\n",
      " 0. 0. 0. 0. 0. 0. 0. 0. 0. 0. 0. 0. 0. 0. 0. 0. 0. 0. 0. 0. 0. 0. 0. 0.\n",
      " 0. 0. 0. 0. 0. 0. 0. 0. 0. 0. 0. 0. 0. 0. 0. 0. 0. 0. 0. 0. 0. 0. 0. 0.\n",
      " 0. 0. 0. 0. 0. 0. 0. 0. 0. 0. 0. 0. 0. 0. 0. 0. 0. 0. 0. 0. 0. 0. 0. 0.\n",
      " 0. 0. 0. 0.]\n"
     ]
    }
   ],
   "source": [
    "theta = slr.fit(X, y)"
   ]
  },
  {
   "cell_type": "code",
   "execution_count": 7,
   "metadata": {},
   "outputs": [
    {
     "data": {
      "text/plain": [
       "array([ 4.5081559, 10.3208678, 16.1335797, 21.9462916, 27.7590035])"
      ]
     },
     "execution_count": 7,
     "metadata": {},
     "output_type": "execute_result"
    }
   ],
   "source": [
    "slr_predict = slr.predict(X)\n",
    "slr_predict"
   ]
  },
  {
   "cell_type": "code",
   "execution_count": 8,
   "metadata": {},
   "outputs": [
    {
     "data": {
      "text/plain": [
       "0.08799720074104403"
      ]
     },
     "execution_count": 8,
     "metadata": {},
     "output_type": "execute_result"
    }
   ],
   "source": [
    "MSE(y, slr_predict)"
   ]
  },
  {
   "cell_type": "markdown",
   "metadata": {},
   "source": [
    "### [Problem 6] Learning and estimation"
   ]
  },
  {
   "cell_type": "code",
   "execution_count": 9,
   "metadata": {},
   "outputs": [
    {
     "data": {
      "text/html": [
       "<div>\n",
       "<style scoped>\n",
       "    .dataframe tbody tr th:only-of-type {\n",
       "        vertical-align: middle;\n",
       "    }\n",
       "\n",
       "    .dataframe tbody tr th {\n",
       "        vertical-align: top;\n",
       "    }\n",
       "\n",
       "    .dataframe thead th {\n",
       "        text-align: right;\n",
       "    }\n",
       "</style>\n",
       "<table border=\"1\" class=\"dataframe\">\n",
       "  <thead>\n",
       "    <tr style=\"text-align: right;\">\n",
       "      <th></th>\n",
       "      <th>Id</th>\n",
       "      <th>MSSubClass</th>\n",
       "      <th>MSZoning</th>\n",
       "      <th>LotFrontage</th>\n",
       "      <th>LotArea</th>\n",
       "      <th>Street</th>\n",
       "      <th>Alley</th>\n",
       "      <th>LotShape</th>\n",
       "      <th>LandContour</th>\n",
       "      <th>Utilities</th>\n",
       "      <th>...</th>\n",
       "      <th>PoolArea</th>\n",
       "      <th>PoolQC</th>\n",
       "      <th>Fence</th>\n",
       "      <th>MiscFeature</th>\n",
       "      <th>MiscVal</th>\n",
       "      <th>MoSold</th>\n",
       "      <th>YrSold</th>\n",
       "      <th>SaleType</th>\n",
       "      <th>SaleCondition</th>\n",
       "      <th>SalePrice</th>\n",
       "    </tr>\n",
       "  </thead>\n",
       "  <tbody>\n",
       "    <tr>\n",
       "      <th>0</th>\n",
       "      <td>1</td>\n",
       "      <td>60</td>\n",
       "      <td>RL</td>\n",
       "      <td>65.0</td>\n",
       "      <td>8450</td>\n",
       "      <td>Pave</td>\n",
       "      <td>NaN</td>\n",
       "      <td>Reg</td>\n",
       "      <td>Lvl</td>\n",
       "      <td>AllPub</td>\n",
       "      <td>...</td>\n",
       "      <td>0</td>\n",
       "      <td>NaN</td>\n",
       "      <td>NaN</td>\n",
       "      <td>NaN</td>\n",
       "      <td>0</td>\n",
       "      <td>2</td>\n",
       "      <td>2008</td>\n",
       "      <td>WD</td>\n",
       "      <td>Normal</td>\n",
       "      <td>208500</td>\n",
       "    </tr>\n",
       "    <tr>\n",
       "      <th>1</th>\n",
       "      <td>2</td>\n",
       "      <td>20</td>\n",
       "      <td>RL</td>\n",
       "      <td>80.0</td>\n",
       "      <td>9600</td>\n",
       "      <td>Pave</td>\n",
       "      <td>NaN</td>\n",
       "      <td>Reg</td>\n",
       "      <td>Lvl</td>\n",
       "      <td>AllPub</td>\n",
       "      <td>...</td>\n",
       "      <td>0</td>\n",
       "      <td>NaN</td>\n",
       "      <td>NaN</td>\n",
       "      <td>NaN</td>\n",
       "      <td>0</td>\n",
       "      <td>5</td>\n",
       "      <td>2007</td>\n",
       "      <td>WD</td>\n",
       "      <td>Normal</td>\n",
       "      <td>181500</td>\n",
       "    </tr>\n",
       "    <tr>\n",
       "      <th>2</th>\n",
       "      <td>3</td>\n",
       "      <td>60</td>\n",
       "      <td>RL</td>\n",
       "      <td>68.0</td>\n",
       "      <td>11250</td>\n",
       "      <td>Pave</td>\n",
       "      <td>NaN</td>\n",
       "      <td>IR1</td>\n",
       "      <td>Lvl</td>\n",
       "      <td>AllPub</td>\n",
       "      <td>...</td>\n",
       "      <td>0</td>\n",
       "      <td>NaN</td>\n",
       "      <td>NaN</td>\n",
       "      <td>NaN</td>\n",
       "      <td>0</td>\n",
       "      <td>9</td>\n",
       "      <td>2008</td>\n",
       "      <td>WD</td>\n",
       "      <td>Normal</td>\n",
       "      <td>223500</td>\n",
       "    </tr>\n",
       "    <tr>\n",
       "      <th>3</th>\n",
       "      <td>4</td>\n",
       "      <td>70</td>\n",
       "      <td>RL</td>\n",
       "      <td>60.0</td>\n",
       "      <td>9550</td>\n",
       "      <td>Pave</td>\n",
       "      <td>NaN</td>\n",
       "      <td>IR1</td>\n",
       "      <td>Lvl</td>\n",
       "      <td>AllPub</td>\n",
       "      <td>...</td>\n",
       "      <td>0</td>\n",
       "      <td>NaN</td>\n",
       "      <td>NaN</td>\n",
       "      <td>NaN</td>\n",
       "      <td>0</td>\n",
       "      <td>2</td>\n",
       "      <td>2006</td>\n",
       "      <td>WD</td>\n",
       "      <td>Abnorml</td>\n",
       "      <td>140000</td>\n",
       "    </tr>\n",
       "    <tr>\n",
       "      <th>4</th>\n",
       "      <td>5</td>\n",
       "      <td>60</td>\n",
       "      <td>RL</td>\n",
       "      <td>84.0</td>\n",
       "      <td>14260</td>\n",
       "      <td>Pave</td>\n",
       "      <td>NaN</td>\n",
       "      <td>IR1</td>\n",
       "      <td>Lvl</td>\n",
       "      <td>AllPub</td>\n",
       "      <td>...</td>\n",
       "      <td>0</td>\n",
       "      <td>NaN</td>\n",
       "      <td>NaN</td>\n",
       "      <td>NaN</td>\n",
       "      <td>0</td>\n",
       "      <td>12</td>\n",
       "      <td>2008</td>\n",
       "      <td>WD</td>\n",
       "      <td>Normal</td>\n",
       "      <td>250000</td>\n",
       "    </tr>\n",
       "  </tbody>\n",
       "</table>\n",
       "<p>5 rows × 81 columns</p>\n",
       "</div>"
      ],
      "text/plain": [
       "   Id  MSSubClass MSZoning  LotFrontage  LotArea Street Alley LotShape  \\\n",
       "0   1          60       RL         65.0     8450   Pave   NaN      Reg   \n",
       "1   2          20       RL         80.0     9600   Pave   NaN      Reg   \n",
       "2   3          60       RL         68.0    11250   Pave   NaN      IR1   \n",
       "3   4          70       RL         60.0     9550   Pave   NaN      IR1   \n",
       "4   5          60       RL         84.0    14260   Pave   NaN      IR1   \n",
       "\n",
       "  LandContour Utilities  ... PoolArea PoolQC Fence MiscFeature MiscVal MoSold  \\\n",
       "0         Lvl    AllPub  ...        0    NaN   NaN         NaN       0      2   \n",
       "1         Lvl    AllPub  ...        0    NaN   NaN         NaN       0      5   \n",
       "2         Lvl    AllPub  ...        0    NaN   NaN         NaN       0      9   \n",
       "3         Lvl    AllPub  ...        0    NaN   NaN         NaN       0      2   \n",
       "4         Lvl    AllPub  ...        0    NaN   NaN         NaN       0     12   \n",
       "\n",
       "  YrSold  SaleType  SaleCondition  SalePrice  \n",
       "0   2008        WD         Normal     208500  \n",
       "1   2007        WD         Normal     181500  \n",
       "2   2008        WD         Normal     223500  \n",
       "3   2006        WD        Abnorml     140000  \n",
       "4   2008        WD         Normal     250000  \n",
       "\n",
       "[5 rows x 81 columns]"
      ]
     },
     "execution_count": 9,
     "metadata": {},
     "output_type": "execute_result"
    }
   ],
   "source": [
    "df = pd.read_csv('train.csv')\n",
    "df.head()"
   ]
  },
  {
   "cell_type": "code",
   "execution_count": 10,
   "metadata": {},
   "outputs": [],
   "source": [
    "X = df[['GrLivArea']].values\n",
    "y = df['SalePrice'].values"
   ]
  },
  {
   "cell_type": "code",
   "execution_count": 11,
   "metadata": {},
   "outputs": [
    {
     "name": "stdout",
     "output_type": "stream",
     "text": [
      "(1095, 1) (365, 1) (1095,) (365,)\n"
     ]
    }
   ],
   "source": [
    "from sklearn.model_selection import train_test_split\n",
    "X_train, X_test, y_train, y_test = train_test_split(X, y)\n",
    "print(X_train.shape, X_test.shape, y_train.shape, y_test.shape)"
   ]
  },
  {
   "cell_type": "code",
   "execution_count": 12,
   "metadata": {},
   "outputs": [
    {
     "data": {
      "text/plain": [
       "array([[1710],\n",
       "       [1262],\n",
       "       [1786],\n",
       "       [1717],\n",
       "       [2198]], dtype=int64)"
      ]
     },
     "execution_count": 12,
     "metadata": {},
     "output_type": "execute_result"
    }
   ],
   "source": [
    "X[:5]"
   ]
  },
  {
   "cell_type": "code",
   "execution_count": 13,
   "metadata": {},
   "outputs": [
    {
     "data": {
      "text/plain": [
       "array([208500, 181500, 223500, 140000, 250000], dtype=int64)"
      ]
     },
     "execution_count": 13,
     "metadata": {},
     "output_type": "execute_result"
    }
   ],
   "source": [
    "y[:5]"
   ]
  },
  {
   "cell_type": "code",
   "execution_count": 14,
   "metadata": {},
   "outputs": [],
   "source": [
    "from sklearn.preprocessing import StandardScaler\n",
    "\n",
    "scaler = StandardScaler()\n",
    "scaler.fit(X_train)\n",
    "\n",
    "X_train_scaled = scaler.transform(X_train)\n",
    "X_test_scaled = scaler.transform(X_test)"
   ]
  },
  {
   "cell_type": "code",
   "execution_count": 15,
   "metadata": {},
   "outputs": [
    {
     "data": {
      "text/html": [
       "<div>\n",
       "<style scoped>\n",
       "    .dataframe tbody tr th:only-of-type {\n",
       "        vertical-align: middle;\n",
       "    }\n",
       "\n",
       "    .dataframe tbody tr th {\n",
       "        vertical-align: top;\n",
       "    }\n",
       "\n",
       "    .dataframe thead th {\n",
       "        text-align: right;\n",
       "    }\n",
       "</style>\n",
       "<table border=\"1\" class=\"dataframe\">\n",
       "  <thead>\n",
       "    <tr style=\"text-align: right;\">\n",
       "      <th></th>\n",
       "      <th>0</th>\n",
       "      <th>1</th>\n",
       "      <th>2</th>\n",
       "      <th>3</th>\n",
       "      <th>4</th>\n",
       "      <th>5</th>\n",
       "      <th>6</th>\n",
       "      <th>7</th>\n",
       "      <th>8</th>\n",
       "      <th>9</th>\n",
       "      <th>...</th>\n",
       "      <th>355</th>\n",
       "      <th>356</th>\n",
       "      <th>357</th>\n",
       "      <th>358</th>\n",
       "      <th>359</th>\n",
       "      <th>360</th>\n",
       "      <th>361</th>\n",
       "      <th>362</th>\n",
       "      <th>363</th>\n",
       "      <th>364</th>\n",
       "    </tr>\n",
       "  </thead>\n",
       "  <tbody>\n",
       "    <tr>\n",
       "      <th>0</th>\n",
       "      <td>143511.930345</td>\n",
       "      <td>141735.888585</td>\n",
       "      <td>149989.259116</td>\n",
       "      <td>185719.040399</td>\n",
       "      <td>204942.080622</td>\n",
       "      <td>232105.072241</td>\n",
       "      <td>137034.601574</td>\n",
       "      <td>182375.902969</td>\n",
       "      <td>162839.443613</td>\n",
       "      <td>95872.221967</td>\n",
       "      <td>...</td>\n",
       "      <td>203479.457997</td>\n",
       "      <td>399888.782012</td>\n",
       "      <td>265745.392631</td>\n",
       "      <td>224478.539979</td>\n",
       "      <td>190211.381321</td>\n",
       "      <td>181017.753388</td>\n",
       "      <td>163361.808836</td>\n",
       "      <td>158973.940959</td>\n",
       "      <td>141422.469451</td>\n",
       "      <td>227717.204364</td>\n",
       "    </tr>\n",
       "    <tr>\n",
       "      <th>1</th>\n",
       "      <td>125500.000000</td>\n",
       "      <td>176000.000000</td>\n",
       "      <td>118500.000000</td>\n",
       "      <td>152000.000000</td>\n",
       "      <td>168000.000000</td>\n",
       "      <td>145000.000000</td>\n",
       "      <td>75000.000000</td>\n",
       "      <td>85000.000000</td>\n",
       "      <td>139000.000000</td>\n",
       "      <td>118000.000000</td>\n",
       "      <td>...</td>\n",
       "      <td>190000.000000</td>\n",
       "      <td>475000.000000</td>\n",
       "      <td>345000.000000</td>\n",
       "      <td>226000.000000</td>\n",
       "      <td>157000.000000</td>\n",
       "      <td>137500.000000</td>\n",
       "      <td>97000.000000</td>\n",
       "      <td>106000.000000</td>\n",
       "      <td>126000.000000</td>\n",
       "      <td>216500.000000</td>\n",
       "    </tr>\n",
       "  </tbody>\n",
       "</table>\n",
       "<p>2 rows × 365 columns</p>\n",
       "</div>"
      ],
      "text/plain": [
       "             0              1              2              3              4    \\\n",
       "0  143511.930345  141735.888585  149989.259116  185719.040399  204942.080622   \n",
       "1  125500.000000  176000.000000  118500.000000  152000.000000  168000.000000   \n",
       "\n",
       "             5              6              7              8              9    \\\n",
       "0  232105.072241  137034.601574  182375.902969  162839.443613   95872.221967   \n",
       "1  145000.000000   75000.000000   85000.000000  139000.000000  118000.000000   \n",
       "\n",
       "   ...            355            356            357            358  \\\n",
       "0  ...  203479.457997  399888.782012  265745.392631  224478.539979   \n",
       "1  ...  190000.000000  475000.000000  345000.000000  226000.000000   \n",
       "\n",
       "             359            360            361            362            363  \\\n",
       "0  190211.381321  181017.753388  163361.808836  158973.940959  141422.469451   \n",
       "1  157000.000000  137500.000000   97000.000000  106000.000000  126000.000000   \n",
       "\n",
       "             364  \n",
       "0  227717.204364  \n",
       "1  216500.000000  \n",
       "\n",
       "[2 rows x 365 columns]"
      ]
     },
     "execution_count": 15,
     "metadata": {},
     "output_type": "execute_result"
    }
   ],
   "source": [
    "slr_house = ScratchLinearRegression()\n",
    "slr_house.fit(X_train_scaled, y_train, X_test_scaled, y_test)\n",
    "y_house_predict = slr_house.predict(X_test_scaled)\n",
    "\n",
    "pd.DataFrame([y_house_predict, y_test])"
   ]
  },
  {
   "cell_type": "code",
   "execution_count": 16,
   "metadata": {},
   "outputs": [
    {
     "data": {
      "text/plain": [
       "2698767497.678833"
      ]
     },
     "execution_count": 16,
     "metadata": {},
     "output_type": "execute_result"
    }
   ],
   "source": [
    "MSE(y_house_predict, y_test)"
   ]
  },
  {
   "cell_type": "code",
   "execution_count": 17,
   "metadata": {},
   "outputs": [
    {
     "data": {
      "image/png": "[encoded data removed]",
      "text/plain": [
       "<Figure size 432x288 with 1 Axes>"
      ]
     },
     "metadata": {
      "needs_background": "light"
     },
     "output_type": "display_data"
    }
   ],
   "source": [
    "import matplotlib.pyplot as plt\n",
    "%matplotlib inline\n",
    "\n",
    "plt.title('Predict with ScartchLinearRegression')\n",
    "plt.xlabel('GrLivArea')\n",
    "plt.ylabel('SalePrice')\n",
    "plt.scatter(X_test, y_test, label='Truth value')\n",
    "plt.scatter(X_test, y_house_predict, label='Predicted value')\n",
    "plt.legend()\n",
    "plt.show()"
   ]
  },
  {
   "cell_type": "code",
   "execution_count": 18,
   "metadata": {},
   "outputs": [
    {
     "data": {
      "text/html": [
       "<div>\n",
       "<style scoped>\n",
       "    .dataframe tbody tr th:only-of-type {\n",
       "        vertical-align: middle;\n",
       "    }\n",
       "\n",
       "    .dataframe tbody tr th {\n",
       "        vertical-align: top;\n",
       "    }\n",
       "\n",
       "    .dataframe thead th {\n",
       "        text-align: right;\n",
       "    }\n",
       "</style>\n",
       "<table border=\"1\" class=\"dataframe\">\n",
       "  <thead>\n",
       "    <tr style=\"text-align: right;\">\n",
       "      <th></th>\n",
       "      <th>0</th>\n",
       "      <th>1</th>\n",
       "      <th>2</th>\n",
       "      <th>3</th>\n",
       "      <th>4</th>\n",
       "      <th>5</th>\n",
       "      <th>6</th>\n",
       "      <th>7</th>\n",
       "      <th>8</th>\n",
       "      <th>9</th>\n",
       "      <th>...</th>\n",
       "      <th>355</th>\n",
       "      <th>356</th>\n",
       "      <th>357</th>\n",
       "      <th>358</th>\n",
       "      <th>359</th>\n",
       "      <th>360</th>\n",
       "      <th>361</th>\n",
       "      <th>362</th>\n",
       "      <th>363</th>\n",
       "      <th>364</th>\n",
       "    </tr>\n",
       "  </thead>\n",
       "  <tbody>\n",
       "    <tr>\n",
       "      <th>Predict value</th>\n",
       "      <td>143518.126202</td>\n",
       "      <td>141742.007766</td>\n",
       "      <td>149995.734616</td>\n",
       "      <td>185727.058446</td>\n",
       "      <td>204950.928576</td>\n",
       "      <td>232115.092892</td>\n",
       "      <td>137040.517789</td>\n",
       "      <td>182383.776684</td>\n",
       "      <td>162846.473888</td>\n",
       "      <td>95876.361096</td>\n",
       "      <td>...</td>\n",
       "      <td>203488.242806</td>\n",
       "      <td>399906.046315</td>\n",
       "      <td>265756.86562</td>\n",
       "      <td>224488.231372</td>\n",
       "      <td>190219.593313</td>\n",
       "      <td>181025.568468</td>\n",
       "      <td>163368.861663</td>\n",
       "      <td>158980.804351</td>\n",
       "      <td>141428.575101</td>\n",
       "      <td>227727.035579</td>\n",
       "    </tr>\n",
       "    <tr>\n",
       "      <th>Truth value</th>\n",
       "      <td>125500.000000</td>\n",
       "      <td>176000.000000</td>\n",
       "      <td>118500.000000</td>\n",
       "      <td>152000.000000</td>\n",
       "      <td>168000.000000</td>\n",
       "      <td>145000.000000</td>\n",
       "      <td>75000.000000</td>\n",
       "      <td>85000.000000</td>\n",
       "      <td>139000.000000</td>\n",
       "      <td>118000.000000</td>\n",
       "      <td>...</td>\n",
       "      <td>190000.000000</td>\n",
       "      <td>475000.000000</td>\n",
       "      <td>345000.00000</td>\n",
       "      <td>226000.000000</td>\n",
       "      <td>157000.000000</td>\n",
       "      <td>137500.000000</td>\n",
       "      <td>97000.000000</td>\n",
       "      <td>106000.000000</td>\n",
       "      <td>126000.000000</td>\n",
       "      <td>216500.000000</td>\n",
       "    </tr>\n",
       "  </tbody>\n",
       "</table>\n",
       "<p>2 rows × 365 columns</p>\n",
       "</div>"
      ],
      "text/plain": [
       "                         0              1              2              3    \\\n",
       "Predict value  143518.126202  141742.007766  149995.734616  185727.058446   \n",
       "Truth value    125500.000000  176000.000000  118500.000000  152000.000000   \n",
       "\n",
       "                         4              5              6              7    \\\n",
       "Predict value  204950.928576  232115.092892  137040.517789  182383.776684   \n",
       "Truth value    168000.000000  145000.000000   75000.000000   85000.000000   \n",
       "\n",
       "                         8              9    ...            355  \\\n",
       "Predict value  162846.473888   95876.361096  ...  203488.242806   \n",
       "Truth value    139000.000000  118000.000000  ...  190000.000000   \n",
       "\n",
       "                         356           357            358            359  \\\n",
       "Predict value  399906.046315  265756.86562  224488.231372  190219.593313   \n",
       "Truth value    475000.000000  345000.00000  226000.000000  157000.000000   \n",
       "\n",
       "                         360            361            362            363  \\\n",
       "Predict value  181025.568468  163368.861663  158980.804351  141428.575101   \n",
       "Truth value    137500.000000   97000.000000  106000.000000  126000.000000   \n",
       "\n",
       "                         364  \n",
       "Predict value  227727.035579  \n",
       "Truth value    216500.000000  \n",
       "\n",
       "[2 rows x 365 columns]"
      ]
     },
     "execution_count": 18,
     "metadata": {},
     "output_type": "execute_result"
    }
   ],
   "source": [
    "from sklearn.linear_model import LinearRegression\n",
    "from sklearn.metrics import mean_squared_error\n",
    "\n",
    "lr = LinearRegression()\n",
    "lr.fit(X_train_scaled, y_train)\n",
    "lr_predict = lr.predict(X_test_scaled)\n",
    "\n",
    "pd.DataFrame([lr_predict, y_test], index=['Predict value', 'Truth value'])"
   ]
  },
  {
   "cell_type": "code",
   "execution_count": 19,
   "metadata": {},
   "outputs": [
    {
     "data": {
      "text/plain": [
       "2698763666.106235"
      ]
     },
     "execution_count": 19,
     "metadata": {},
     "output_type": "execute_result"
    }
   ],
   "source": [
    "mean_squared_error(y_test, lr_predict)"
   ]
  },
  {
   "cell_type": "markdown",
   "metadata": {},
   "source": [
    "### [Problem 7] Learning curve plot"
   ]
  },
  {
   "cell_type": "code",
   "execution_count": 20,
   "metadata": {},
   "outputs": [
    {
     "data": {
      "image/png": "[encoded data removed]",
      "text/plain": [
       "<Figure size 432x288 with 1 Axes>"
      ]
     },
     "metadata": {
      "needs_background": "light"
     },
     "output_type": "display_data"
    }
   ],
   "source": [
    "plt.title('Learning Curve Plot')\n",
    "plt.xlabel('iter')\n",
    "plt.ylabel('loss')\n",
    "plt.scatter(range(slr_house.iter), slr_house.loss, label='train_loss')\n",
    "plt.scatter(range(slr_house.iter), slr_house.val_loss, label='val_loss')\n",
    "plt.legend()\n",
    "plt.show()"
   ]
  },
  {
   "cell_type": "markdown",
   "metadata": {},
   "source": [
    "### [Problem 8] (Advance task) Removal of bias term"
   ]
  },
  {
   "cell_type": "code",
   "execution_count": 21,
   "metadata": {},
   "outputs": [
    {
     "data": {
      "text/html": [
       "<div>\n",
       "<style scoped>\n",
       "    .dataframe tbody tr th:only-of-type {\n",
       "        vertical-align: middle;\n",
       "    }\n",
       "\n",
       "    .dataframe tbody tr th {\n",
       "        vertical-align: top;\n",
       "    }\n",
       "\n",
       "    .dataframe thead th {\n",
       "        text-align: right;\n",
       "    }\n",
       "</style>\n",
       "<table border=\"1\" class=\"dataframe\">\n",
       "  <thead>\n",
       "    <tr style=\"text-align: right;\">\n",
       "      <th></th>\n",
       "      <th>0</th>\n",
       "      <th>1</th>\n",
       "      <th>2</th>\n",
       "      <th>3</th>\n",
       "      <th>4</th>\n",
       "      <th>5</th>\n",
       "      <th>6</th>\n",
       "      <th>7</th>\n",
       "      <th>8</th>\n",
       "      <th>9</th>\n",
       "      <th>...</th>\n",
       "      <th>355</th>\n",
       "      <th>356</th>\n",
       "      <th>357</th>\n",
       "      <th>358</th>\n",
       "      <th>359</th>\n",
       "      <th>360</th>\n",
       "      <th>361</th>\n",
       "      <th>362</th>\n",
       "      <th>363</th>\n",
       "      <th>364</th>\n",
       "    </tr>\n",
       "  </thead>\n",
       "  <tbody>\n",
       "    <tr>\n",
       "      <th>Predict value</th>\n",
       "      <td>-36946.725286</td>\n",
       "      <td>-38722.767045</td>\n",
       "      <td>-30469.396516</td>\n",
       "      <td>5260.384766</td>\n",
       "      <td>24483.424987</td>\n",
       "      <td>51646.416605</td>\n",
       "      <td>-43424.054056</td>\n",
       "      <td>1917.247336</td>\n",
       "      <td>-17619.21202</td>\n",
       "      <td>-84586.433661</td>\n",
       "      <td>...</td>\n",
       "      <td>23020.802362</td>\n",
       "      <td>219430.126365</td>\n",
       "      <td>85286.736992</td>\n",
       "      <td>44019.884343</td>\n",
       "      <td>9752.725687</td>\n",
       "      <td>559.097755</td>\n",
       "      <td>-17096.846796</td>\n",
       "      <td>-21484.714673</td>\n",
       "      <td>-39036.186179</td>\n",
       "      <td>47258.548728</td>\n",
       "    </tr>\n",
       "    <tr>\n",
       "      <th>Truth value</th>\n",
       "      <td>125500.000000</td>\n",
       "      <td>176000.000000</td>\n",
       "      <td>118500.000000</td>\n",
       "      <td>152000.000000</td>\n",
       "      <td>168000.000000</td>\n",
       "      <td>145000.000000</td>\n",
       "      <td>75000.000000</td>\n",
       "      <td>85000.000000</td>\n",
       "      <td>139000.00000</td>\n",
       "      <td>118000.000000</td>\n",
       "      <td>...</td>\n",
       "      <td>190000.000000</td>\n",
       "      <td>475000.000000</td>\n",
       "      <td>345000.000000</td>\n",
       "      <td>226000.000000</td>\n",
       "      <td>157000.000000</td>\n",
       "      <td>137500.000000</td>\n",
       "      <td>97000.000000</td>\n",
       "      <td>106000.000000</td>\n",
       "      <td>126000.000000</td>\n",
       "      <td>216500.000000</td>\n",
       "    </tr>\n",
       "  </tbody>\n",
       "</table>\n",
       "<p>2 rows × 365 columns</p>\n",
       "</div>"
      ],
      "text/plain": [
       "                         0              1              2              3    \\\n",
       "Predict value  -36946.725286  -38722.767045  -30469.396516    5260.384766   \n",
       "Truth value    125500.000000  176000.000000  118500.000000  152000.000000   \n",
       "\n",
       "                         4              5             6             7    \\\n",
       "Predict value   24483.424987   51646.416605 -43424.054056   1917.247336   \n",
       "Truth value    168000.000000  145000.000000  75000.000000  85000.000000   \n",
       "\n",
       "                        8              9    ...            355            356  \\\n",
       "Predict value  -17619.21202  -84586.433661  ...   23020.802362  219430.126365   \n",
       "Truth value    139000.00000  118000.000000  ...  190000.000000  475000.000000   \n",
       "\n",
       "                         357            358            359            360  \\\n",
       "Predict value   85286.736992   44019.884343    9752.725687     559.097755   \n",
       "Truth value    345000.000000  226000.000000  157000.000000  137500.000000   \n",
       "\n",
       "                        361            362            363            364  \n",
       "Predict value -17096.846796  -21484.714673  -39036.186179   47258.548728  \n",
       "Truth value    97000.000000  106000.000000  126000.000000  216500.000000  \n",
       "\n",
       "[2 rows x 365 columns]"
      ]
     },
     "execution_count": 21,
     "metadata": {},
     "output_type": "execute_result"
    }
   ],
   "source": [
    "slr_nobias = ScratchLinearRegression(no_bias=True)\n",
    "slr_nobias.fit(X_train_scaled, y_train)\n",
    "slr_nobias_predict = slr_nobias.predict(X_test_scaled)\n",
    "\n",
    "pd.DataFrame([slr_nobias_predict, y_test], index=['Predict value', 'Truth value'])"
   ]
  },
  {
   "cell_type": "code",
   "execution_count": 22,
   "metadata": {},
   "outputs": [
    {
     "data": {
      "image/png": "[encoded data removed]",
      "text/plain": [
       "<Figure size 432x288 with 1 Axes>"
      ]
     },
     "metadata": {
      "needs_background": "light"
     },
     "output_type": "display_data"
    }
   ],
   "source": [
    "plt.title('Predict with ScartchLinearRegression (no bias)')\n",
    "plt.xlabel('GrLivArea')\n",
    "plt.ylabel('SalePrice')\n",
    "plt.scatter(X_test, y_test, label='Truth value')\n",
    "plt.scatter(X_test, slr_nobias_predict, label='Predicted value')\n",
    "plt.legend()\n",
    "plt.show()"
   ]
  },
  {
   "cell_type": "markdown",
   "metadata": {},
   "source": [
    "The bias term is used to allow models to represent patterns that do not pass through the origin. In this problem, when there is no bias term, the predicted sale price can be negative and most predicted values is smaller than expected values. The bias term now shifts the sale price up on y-axis.\n",
    "\n",
    "### [Problem 9] (Advance task) Multidimensional feature quantity"
   ]
  },
  {
   "cell_type": "code",
   "execution_count": 23,
   "metadata": {},
   "outputs": [],
   "source": [
    "X = df[['GrLivArea', 'YearBuilt']].values\n",
    "y = df['SalePrice'].values"
   ]
  },
  {
   "cell_type": "code",
   "execution_count": 24,
   "metadata": {},
   "outputs": [
    {
     "name": "stdout",
     "output_type": "stream",
     "text": [
      "(1095, 2) (365, 2) (1095,) (365,)\n"
     ]
    }
   ],
   "source": [
    "X_train, X_test, y_train, y_test = train_test_split(X, y)\n",
    "print(X_train.shape, X_test.shape, y_train.shape, y_test.shape)"
   ]
  },
  {
   "cell_type": "code",
   "execution_count": 25,
   "metadata": {},
   "outputs": [],
   "source": [
    "scaler = StandardScaler()\n",
    "scaler.fit(X_train)\n",
    "\n",
    "X_train_scaled = scaler.transform(X_train)\n",
    "X_test_scaled = scaler.transform(X_test)"
   ]
  },
  {
   "cell_type": "code",
   "execution_count": 26,
   "metadata": {},
   "outputs": [
    {
     "data": {
      "text/html": [
       "<div>\n",
       "<style scoped>\n",
       "    .dataframe tbody tr th:only-of-type {\n",
       "        vertical-align: middle;\n",
       "    }\n",
       "\n",
       "    .dataframe tbody tr th {\n",
       "        vertical-align: top;\n",
       "    }\n",
       "\n",
       "    .dataframe thead th {\n",
       "        text-align: right;\n",
       "    }\n",
       "</style>\n",
       "<table border=\"1\" class=\"dataframe\">\n",
       "  <thead>\n",
       "    <tr style=\"text-align: right;\">\n",
       "      <th></th>\n",
       "      <th>0</th>\n",
       "      <th>1</th>\n",
       "      <th>2</th>\n",
       "      <th>3</th>\n",
       "      <th>4</th>\n",
       "      <th>5</th>\n",
       "      <th>6</th>\n",
       "      <th>7</th>\n",
       "      <th>8</th>\n",
       "      <th>9</th>\n",
       "      <th>...</th>\n",
       "      <th>355</th>\n",
       "      <th>356</th>\n",
       "      <th>357</th>\n",
       "      <th>358</th>\n",
       "      <th>359</th>\n",
       "      <th>360</th>\n",
       "      <th>361</th>\n",
       "      <th>362</th>\n",
       "      <th>363</th>\n",
       "      <th>364</th>\n",
       "    </tr>\n",
       "  </thead>\n",
       "  <tbody>\n",
       "    <tr>\n",
       "      <th>0</th>\n",
       "      <td>251681.900515</td>\n",
       "      <td>93003.974768</td>\n",
       "      <td>26983.607961</td>\n",
       "      <td>162798.009101</td>\n",
       "      <td>250959.694972</td>\n",
       "      <td>196730.673685</td>\n",
       "      <td>167588.830623</td>\n",
       "      <td>229153.383083</td>\n",
       "      <td>127437.935669</td>\n",
       "      <td>208500.171171</td>\n",
       "      <td>...</td>\n",
       "      <td>123444.567369</td>\n",
       "      <td>97328.700913</td>\n",
       "      <td>181983.753441</td>\n",
       "      <td>189728.331015</td>\n",
       "      <td>125667.622753</td>\n",
       "      <td>167514.791397</td>\n",
       "      <td>278064.801153</td>\n",
       "      <td>200256.726171</td>\n",
       "      <td>85564.061209</td>\n",
       "      <td>248126.713322</td>\n",
       "    </tr>\n",
       "    <tr>\n",
       "      <th>1</th>\n",
       "      <td>215000.000000</td>\n",
       "      <td>110000.000000</td>\n",
       "      <td>60000.000000</td>\n",
       "      <td>176000.000000</td>\n",
       "      <td>219210.000000</td>\n",
       "      <td>150000.000000</td>\n",
       "      <td>144000.000000</td>\n",
       "      <td>328900.000000</td>\n",
       "      <td>115000.000000</td>\n",
       "      <td>126000.000000</td>\n",
       "      <td>...</td>\n",
       "      <td>125000.000000</td>\n",
       "      <td>86000.000000</td>\n",
       "      <td>148500.000000</td>\n",
       "      <td>170000.000000</td>\n",
       "      <td>135000.000000</td>\n",
       "      <td>122500.000000</td>\n",
       "      <td>262280.000000</td>\n",
       "      <td>254000.000000</td>\n",
       "      <td>81000.000000</td>\n",
       "      <td>257000.000000</td>\n",
       "    </tr>\n",
       "  </tbody>\n",
       "</table>\n",
       "<p>2 rows × 365 columns</p>\n",
       "</div>"
      ],
      "text/plain": [
       "             0              1             2              3              4    \\\n",
       "0  251681.900515   93003.974768  26983.607961  162798.009101  250959.694972   \n",
       "1  215000.000000  110000.000000  60000.000000  176000.000000  219210.000000   \n",
       "\n",
       "             5              6              7              8              9    \\\n",
       "0  196730.673685  167588.830623  229153.383083  127437.935669  208500.171171   \n",
       "1  150000.000000  144000.000000  328900.000000  115000.000000  126000.000000   \n",
       "\n",
       "   ...            355           356            357            358  \\\n",
       "0  ...  123444.567369  97328.700913  181983.753441  189728.331015   \n",
       "1  ...  125000.000000  86000.000000  148500.000000  170000.000000   \n",
       "\n",
       "             359            360            361            362           363  \\\n",
       "0  125667.622753  167514.791397  278064.801153  200256.726171  85564.061209   \n",
       "1  135000.000000  122500.000000  262280.000000  254000.000000  81000.000000   \n",
       "\n",
       "             364  \n",
       "0  248126.713322  \n",
       "1  257000.000000  \n",
       "\n",
       "[2 rows x 365 columns]"
      ]
     },
     "execution_count": 26,
     "metadata": {},
     "output_type": "execute_result"
    }
   ],
   "source": [
    "slr_house = ScratchLinearRegression()\n",
    "slr_house.fit(X_train_scaled, y_train, X_test_scaled, y_test)\n",
    "y_house_predict = slr_house.predict(X_test_scaled)\n",
    "\n",
    "pd.DataFrame([y_house_predict, y_test])"
   ]
  },
  {
   "cell_type": "code",
   "execution_count": 27,
   "metadata": {},
   "outputs": [
    {
     "data": {
      "text/plain": [
       "1741338161.0782123"
      ]
     },
     "execution_count": 27,
     "metadata": {},
     "output_type": "execute_result"
    }
   ],
   "source": [
    "MSE(y_house_predict, y_test)"
   ]
  },
  {
   "cell_type": "code",
   "execution_count": 28,
   "metadata": {},
   "outputs": [
    {
     "data": {
      "image/png": "[encoded data removed]",
      "text/plain": [
       "<Figure size 432x288 with 1 Axes>"
      ]
     },
     "metadata": {
      "needs_background": "light"
     },
     "output_type": "display_data"
    }
   ],
   "source": [
    "plt.title('Predict with ScratchLinearRegression (GrLivArea / SalePrice)')\n",
    "plt.xlabel('GrLivArea')\n",
    "plt.ylabel('SalePrice')\n",
    "plt.scatter(X_test[:, 0], y_test, label='Truth value')\n",
    "plt.scatter(X_test[:, 0], y_house_predict, label='Predicted value')\n",
    "plt.legend()\n",
    "plt.show()"
   ]
  },
  {
   "cell_type": "code",
   "execution_count": 29,
   "metadata": {},
   "outputs": [
    {
     "data": {
      "image/png": "[encoded data removed]",
      "text/plain": [
       "<Figure size 432x288 with 1 Axes>"
      ]
     },
     "metadata": {
      "needs_background": "light"
     },
     "output_type": "display_data"
    }
   ],
   "source": [
    "plt.title('Predict with ScratchLinearRegression (YearBuilt / SalePrice)')\n",
    "plt.xlabel('YearBuilt')\n",
    "plt.ylabel('SalePrice')\n",
    "plt.scatter(X_test[:, 1], y_test, label='Truth value')\n",
    "plt.scatter(X_test[:, 1], y_house_predict, label='Predicted value')\n",
    "plt.legend()\n",
    "plt.show()"
   ]
  },
  {
   "cell_type": "markdown",
   "metadata": {},
   "source": [
    "### [Problem 10] (Advance task) Derivation of update formula\n",
    "\n",
    "Prove that:\n",
    "\n",
    "$\\theta_j := \\theta_j - \\alpha \\frac{1}{m} \\sum_{i=1}^{m}[(h_\\theta(x^{(i)}) - y^{(i)} )x_{j}^{(i)}]$\n",
    "\n",
    "We have \n",
    "\n",
    "$\\theta_j := \\theta_j - \\alpha \\frac{\\partial}{\\partial \\theta_j}J(\\theta)$\n",
    "\n",
    "with \n",
    "\n",
    "$ J(\\theta)=  \\frac{1 }{ 2m}  \\sum_{i=1}^{m} (h_\\theta(x^{(i)})-y^{(i)})^2 $.\n",
    "\n",
    "Hence, \n",
    "\n",
    "$\\frac{\\partial J}{\\partial x} = \\frac{1}{2m} \\frac{\\partial  \\sum_{i=1}^{m} (h_\\theta(x^{(i)})-y^{(i)})^2}{\\partial x}$\n",
    "\n",
    "$\\frac{\\partial J}{\\partial x} = \\frac{1}{2m} \\sum_{i=1}^{m} 2(h_\\theta(x^{(i)}) - y^{(i)}) \\frac{\\partial (h_\\theta(x^{(i)}) - y^{(i)})}{\\partial \\theta_j}$\n",
    "\n",
    "$\\frac{\\partial J}{\\partial x} = \\frac{1}{m} \\sum_{i=1}^{m} (h_\\theta(x^{(i)}) - y^{(i)}) \\frac{\\partial (\\theta_j x_j^{(i)} - y^{(i)})}{\\partial \\theta_j}$\n",
    "\n",
    "$\\frac{\\partial J}{\\partial x} = \\frac{1}{m} \\sum_{i=1}^{m} (h_\\theta(x^{(i)}) - y^{(i)}) x_j^{(i)}$.\n",
    "\n",
    "Therefore, $\\theta_j = \\theta_j - \\alpha \\frac{\\partial}{\\partial \\theta_j}J(\\theta) = \\theta_j - \\alpha \\frac{1}{m} \\sum_{i=1}^{m}[(h_\\theta(x^{(i)}) - y^{(i)} )x_{j}^{(i)}]$."
   ]
  }
 ],
 "metadata": {
  "kernelspec": {
   "display_name": "Python 3",
   "language": "python",
   "name": "python3"
  },
  "language_info": {
   "codemirror_mode": {
    "name": "ipython",
    "version": 3
   },
   "file_extension": ".py",
   "mimetype": "text/x-python",
   "name": "python",
   "nbconvert_exporter": "python",
   "pygments_lexer": "ipython3",
   "version": "3.8.5"
  }
 },
 "nbformat": 4,
 "nbformat_minor": 4
}
