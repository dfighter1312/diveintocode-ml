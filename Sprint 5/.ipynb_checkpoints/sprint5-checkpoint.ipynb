{
 "cells": [
  {
   "cell_type": "markdown",
   "metadata": {},
   "source": [
    "# Sprint 5\n",
    "\n",
    "## Machine Learning - Scratch SVM\n",
    "\n",
    "### [Problem 1-3] Implement ScratchSVMClassifier"
   ]
  },
  {
   "cell_type": "code",
   "execution_count": 130,
   "metadata": {},
   "outputs": [],
   "source": [
    "import numpy as np\n",
    "import pandas as pd\n",
    "from sklearn.svm import SVC\n",
    "from sklearn.metrics import classification_report, accuracy_score\n",
    "import matplotlib.pyplot as plt\n",
    "%matplotlib inline"
   ]
  },
  {
   "cell_type": "code",
   "execution_count": 131,
   "metadata": {},
   "outputs": [],
   "source": [
    "class ScratchSVMClassifier():\n",
    "    \"\"\"\n",
    "    Scratch implementation of SVM classifier\n",
    "    Parameters\n",
    "    ----------\n",
    "    num_iter : int\n",
    "      Number of iterations\n",
    "    lr : float\n",
    "      Learning rate\n",
    "    kernel : str\n",
    "      Kernel type. Linear kernel (linear) or polynomial kernel (polly)\n",
    "    threshold : float\n",
    "      Threshold for choosing a support vector\n",
    "    verbose : bool\n",
    "      True to output the learning process\n",
    "    Attributes\n",
    "    ----------\n",
    "    self.n_support_vectors : int\n",
    "      Number of support vectors\n",
    "    self.index_support_vectors : The following form of ndarray, shape (n_support_vectors,)\n",
    "      Support vector index\n",
    "    self.X_sv :  The following forms of ndarray, shape (n_support_vectors, n_features)\n",
    "      Support vector features\n",
    "    self.lam_sv :  The following forms of ndarray, shape (n_support_vectors, 1)\n",
    "      Support vector undetermined multiplier\n",
    "    self.y_sv :  The following forms of ndarray, shape (n_support_vectors, 1)\n",
    "      Support vector label\n",
    "    \"\"\"\n",
    "    def __init__(self, num_iter=100, lr=0.01, kernel='linear', threshold=1e-5, verbose=False):\n",
    "        # Record hyperparameters as attributes\n",
    "        self.iter = num_iter\n",
    "        self.lr = lr\n",
    "        self.kernel = kernel\n",
    "        self.threshold = threshold\n",
    "        self.verbose = verbose\n",
    "        self.accuracy_i = []\n",
    "        self.n_support_i = []\n",
    "        self.idx_support_i = []\n",
    "        \n",
    "    def fit(self, X, y, X_val=None, y_val=None):\n",
    "        \"\"\"\n",
    "        Learn the SVM classifier. If verification data is input, the accuracy for it is also calculated for each iteration.\n",
    "        Parameters\n",
    "        ----------\n",
    "        X : The following forms of ndarray, shape (n_samples, n_features)\n",
    "            Features of training data\n",
    "        y : The following form of ndarray, shape (n_samples,)\n",
    "            Correct answer value of training data\n",
    "        X_val : The following forms of ndarray, shape (n_samples, n_features)\n",
    "            Features of verification data\n",
    "        y_val : The following form of ndarray, shape (n_samples,)\n",
    "            Correct value of verification data\n",
    "        \"\"\"\n",
    "        n_samples, n_features = X.shape\n",
    "        lam = np.random.rand(n_samples)\n",
    "        \n",
    "        for i in range(self.iter):\n",
    "            lam = self._lagrange_update(lam, X, y)\n",
    "            \n",
    "            self._determine_support_vector(lam, X, y)\n",
    "            \n",
    "            if X_val is not None and y_val is not None:\n",
    "                y_pred = self.predict(X_val)\n",
    "                self.accuracy_i.append(accuracy_score(y_val, y_pred))\n",
    "            \n",
    "            self.n_support_i.append(self.n_support_vectors)\n",
    "            self.idx_support_i.append(self.index_support_vectors)\n",
    "            \n",
    "        self._determine_support_vector(lam, X, y)\n",
    "        \n",
    "        if self.verbose:\n",
    "            if X_val is not None and y_val is not None:\n",
    "                info = pd.DataFrame([self.accuracy_i, self.n_support_i, self.idx_support_i], index=['Accuracy', 'Number of support vectors', 'Index of support vectors'])\n",
    "            else:\n",
    "                info = pd.DataFrame([self.n_support_i, self.idx_support_i], index=['Number of support vectors', 'Index of support vectors'])\n",
    "            print('[VERBOSE RESULT]')\n",
    "            display(info.T)\n",
    "    \n",
    "    def predict(self, X):\n",
    "        \"\"\"\n",
    "        Estimate the label using the SVM classifier.\n",
    "        Parameters\n",
    "        ----------\n",
    "        X : The following forms of ndarray, shape (n_samples, n_features)\n",
    "            sample\n",
    "        Returns\n",
    "        -------\n",
    "            The following form of ndarray, shape (n_samples, 1)\n",
    "            Estimated result by SVM classifier\n",
    "        \"\"\"\n",
    "        n_samples = X.shape[0]\n",
    "        y_pred = np.zeros([n_samples,])\n",
    "        \n",
    "        for i in range(n_samples):\n",
    "            sig = 0\n",
    "            for n in range(n_support_vectors):\n",
    "                sig += self.lam_sv[n] * self.y_sv[n] * self._kernel_function(X[i], self.X_sv[n])\n",
    "            y_pred[i] = sig\n",
    "                    \n",
    "        return np.where(y_pred <= 0, -1, 1)\n",
    "    \n",
    "    def _lagrange_update(self, lam, X, y):\n",
    "        n_samples = X.shape[0]\n",
    "        \n",
    "        lam_new = np.zeros([n_samples,])\n",
    "        for i in range(n_samples):\n",
    "            sig = 0\n",
    "            for j in range(n_samples):\n",
    "                sig += lam[j] * y[i] * y[j] * np.dot(X[i], X[j])\n",
    "            lam_new[i] = lam[i] + self.lr * (1 - sig)\n",
    "                \n",
    "        return np.where(lam_new > 0, lam_new, 0)\n",
    "    \n",
    "    def _kernel_function(self, Xi, Xj):\n",
    "        return np.dot(Xj, Xi.T)\n",
    "    \n",
    "    def _determine_support_vector(self, lam, X, y):\n",
    "        self.index_support_vectors = np.where(lam > self.threshold)[0]\n",
    "        self.n_support_vectors = len(self.index_support_vectors)\n",
    "        self.X_sv = X[self.index_support_vectors]\n",
    "        self.y_sv = y[self.index_support_vectors]\n",
    "        self.lam_sv = lam[self.index_support_vectors]"
   ]
  },
  {
   "cell_type": "markdown",
   "metadata": {},
   "source": [
    "### [Problem 1] Lagrange's steepest descent by the undetermined multiplier method"
   ]
  },
  {
   "cell_type": "code",
   "execution_count": 132,
   "metadata": {},
   "outputs": [
    {
     "data": {
      "text/plain": [
       "(5, 3)"
      ]
     },
     "execution_count": 132,
     "metadata": {},
     "output_type": "execute_result"
    }
   ],
   "source": [
    "X = np.array([\n",
    "    [1, 2, 3],\n",
    "    [0.4, 1.4, 2.4],\n",
    "    [1.5, 2.5, 3.2],\n",
    "    [2, 3.1, 4.2],\n",
    "    [1, 1.8, 2.5]\n",
    "])\n",
    "X.shape"
   ]
  },
  {
   "cell_type": "code",
   "execution_count": 133,
   "metadata": {},
   "outputs": [
    {
     "data": {
      "text/plain": [
       "(5,)"
      ]
     },
     "execution_count": 133,
     "metadata": {},
     "output_type": "execute_result"
    }
   ],
   "source": [
    "y = np.array([1, 1, -1, -1, 1])\n",
    "y.shape"
   ]
  },
  {
   "cell_type": "code",
   "execution_count": 134,
   "metadata": {},
   "outputs": [
    {
     "data": {
      "text/plain": [
       "(5,)"
      ]
     },
     "execution_count": 134,
     "metadata": {},
     "output_type": "execute_result"
    }
   ],
   "source": [
    "lam = np.array([0, 1, 2, 3, 4])\n",
    "lam.shape"
   ]
  },
  {
   "cell_type": "code",
   "execution_count": 135,
   "metadata": {},
   "outputs": [
    {
     "name": "stdout",
     "output_type": "stream",
     "text": [
      "[0.368  1.2666 1.5873 2.4641 4.3236]\n",
      "[0.4396861  1.31487476 1.51753167 2.37112828 4.39027692]\n",
      "[0.45767684 1.32357353 1.50989078 2.3584005  4.41040245]\n",
      "[0.46593146 1.32508333 1.51349945 2.3602032  4.4220931 ]\n",
      "[0.4724148  1.32527235 1.51913931 2.36463004 4.43225505]\n",
      "[0.47857002 1.3252039  1.52514017 2.3695238  4.44213963]\n",
      "[0.48465864 1.32507073 1.53119944 2.37449365 4.45197355]\n",
      "[0.49072806 1.32490785 1.53726232 2.37946882 4.46179789]\n",
      "[0.49678692 1.32472168 1.54331892 2.38443653 4.4716201 ]\n",
      "[0.50283681 1.32451346 1.54936748 2.3893945  4.48144154]\n",
      "[0.50887805 1.32428352 1.55540771 2.39434236 4.49126244]\n",
      "[0.51491073 1.32403199 1.5614396  2.39928008 4.50108285]\n",
      "[0.52093491 1.32375897 1.56746316 2.4042077  4.51090279]\n",
      "[0.52695062 1.32346458 1.57347844 2.40912525 4.52072226]\n",
      "[0.53295791 1.3231489  1.57948547 2.4140328  4.53054125]\n",
      "[0.53895681 1.32281205 1.5854843  2.41893038 4.54035978]\n",
      "[0.54494736 1.32245411 1.59147496 2.42381804 4.55017785]\n",
      "[0.5509296  1.3220752  1.59745748 2.42869583 4.55999545]\n",
      "[0.55690357 1.3216754  1.60343192 2.4335638  4.56981259]\n",
      "[0.56286932 1.32125481 1.60939829 2.43842199 4.57962928]\n",
      "[0.56882687 1.32081354 1.61535665 2.44327044 4.58944551]\n",
      "[0.57477627 1.32035167 1.62130703 2.44810921 4.59926128]\n",
      "[0.58071755 1.31986931 1.62724946 2.45293834 4.60907661]\n",
      "[0.58665075 1.31936655 1.63318398 2.45775788 4.61889148]\n",
      "[0.59257591 1.31884349 1.63911063 2.46256786 4.62870591]\n",
      "[0.59849307 1.31830022 1.64502944 2.46736834 4.63851989]\n",
      "[0.60440227 1.31773684 1.65094046 2.47215936 4.64833343]\n",
      "[0.61030354 1.31715344 1.65684371 2.47694097 4.65814653]\n",
      "[0.61619691 1.31655012 1.66273924 2.4817132  4.66795919]\n",
      "[0.62208243 1.31592696 1.66862708 2.48647611 4.67777141]\n",
      "[0.62796014 1.31528407 1.67450726 2.49122974 4.68758321]\n",
      "[0.63383006 1.31462153 1.68037982 2.49597413 4.69739456]\n",
      "[0.63969224 1.31393943 1.68624479 2.50070932 4.70720549]\n",
      "[0.64554671 1.31323788 1.69210222 2.50543536 4.71701599]\n",
      "[0.65139351 1.31251695 1.69795213 2.5101523  4.72682607]\n",
      "[0.65723267 1.31177675 1.70379456 2.51486017 4.73663572]\n",
      "[0.66306423 1.31101735 1.70962955 2.51955902 4.74644495]\n",
      "[0.66888823 1.31023886 1.71545712 2.52424889 4.75625376]\n",
      "[0.6747047  1.30944135 1.72127732 2.52892982 4.76606216]\n",
      "[0.68051367 1.30862493 1.72709018 2.53360185 4.77587014]\n",
      "[0.68631518 1.30778967 1.73289573 2.53826504 4.7856777 ]\n",
      "[0.69210927 1.30693567 1.738694   2.54291941 4.79548486]\n",
      "[0.69789596 1.30606301 1.74448503 2.54756501 4.8052916 ]\n",
      "[0.70367531 1.30517179 1.75026886 2.55220189 4.81509794]\n",
      "[0.70944733 1.30426208 1.75604551 2.55683008 4.82490387]\n",
      "[0.71521206 1.30333398 1.76181502 2.56144962 4.8347094 ]\n",
      "[0.72096954 1.30238758 1.76757742 2.56606056 4.84451453]\n",
      "[0.7267198  1.30142294 1.77333275 2.57066294 4.85431926]\n",
      "[0.73246287 1.30044018 1.77908103 2.57525679 4.86412359]\n",
      "[0.7381988  1.29943936 1.78482231 2.57984216 4.87392753]\n",
      "[0.7439276  1.29842057 1.79055661 2.58441909 4.88373107]\n",
      "[0.74964932 1.2973839  1.79628396 2.58898761 4.89353422]\n",
      "[0.75536399 1.29632943 1.8020044  2.59354777 4.90333698]\n",
      "[0.76107164 1.29525725 1.80771796 2.5980996  4.91313936]\n",
      "[0.7667723  1.29416743 1.81342467 2.60264315 4.92294135]\n",
      "[0.77246601 1.29306006 1.81912456 2.60717846 4.93274295]\n",
      "[0.7781528  1.29193523 1.82481766 2.61170556 4.94254417]\n",
      "[0.7838327  1.290793   1.83050401 2.61622449 4.95234502]\n",
      "[0.78950574 1.28963348 1.83618364 2.62073529 4.96214548]\n",
      "[0.79517196 1.28845673 1.84185657 2.625238   4.97194557]\n",
      "[0.80083138 1.28726284 1.84752285 2.62973266 4.98174528]\n",
      "[0.80648405 1.28605189 1.85318249 2.63421931 4.99154462]\n",
      "[0.81212998 1.28482395 1.85883553 2.63869798 5.00134359]\n",
      "[0.81776922 1.28357912 1.864482   2.64316871 5.01114219]\n",
      "[0.82340179 1.28231746 1.87012194 2.64763154 5.02094043]\n",
      "[0.82902772 1.28103905 1.87575536 2.6520865  5.0307383 ]\n",
      "[0.83464705 1.27974399 1.88138231 2.65653364 5.0405358 ]\n",
      "[0.84025981 1.27843233 1.8870028  2.66097299 5.05033295]\n",
      "[0.84586602 1.27710416 1.89261688 2.66540459 5.06012973]\n",
      "[0.85146572 1.27575956 1.89822457 2.66982847 5.06992616]\n",
      "[0.85705894 1.27439861 1.9038259  2.67424468 5.07972222]\n",
      "[0.8626457  1.27302138 1.90942089 2.67865324 5.08951794]\n",
      "[0.86822605 1.27162794 1.91500959 2.68305419 5.0993133 ]\n",
      "[0.8738     1.27021838 1.92059201 2.68744757 5.10910831]\n",
      "[0.87936759 1.26879277 1.92616819 2.69183342 5.11890297]\n",
      "[0.88492885 1.26735119 1.93173815 2.69621177 5.12869728]\n",
      "[0.89048381 1.2658937  1.93730193 2.70058265 5.13849125]\n",
      "[0.89603249 1.26442039 1.94285955 2.70494611 5.14828487]\n",
      "[0.90157493 1.26293133 1.94841104 2.70930217 5.15807815]\n",
      "[0.90711115 1.26142658 1.95395643 2.71365087 5.16787109]\n",
      "[0.91264119 1.25990624 1.95949575 2.71799225 5.17766369]\n",
      "[0.91816508 1.25837036 1.96502903 2.72232635 5.18745596]\n",
      "[0.92368283 1.25681903 1.97055628 2.72665318 5.19724788]\n",
      "[0.92919448 1.25525231 1.97607755 2.7309728  5.20703947]\n",
      "[0.93470007 1.25367027 1.98159286 2.73528523 5.21683073]\n",
      "[0.94019961 1.252073   1.98710223 2.73959051 5.22662166]\n",
      "[0.94569314 1.25046055 1.9926057  2.74388867 5.23641226]\n",
      "[0.95118068 1.24883301 1.99810329 2.74817975 5.24620254]\n",
      "[0.95666226 1.24719044 2.00359502 2.75246378 5.25599248]\n",
      "[0.96213791 1.2455329  2.00908093 2.75674079 5.2657821 ]\n",
      "[0.96760766 1.24386049 2.01456104 2.76101081 5.2755714 ]\n",
      "[0.97307153 1.24217325 2.02003538 2.76527389 5.28536038]\n",
      "[0.97852956 1.24047127 2.02550398 2.76953004 5.29514904]\n",
      "[0.98398177 1.2387546  2.03096686 2.77377931 5.30493738]\n",
      "[0.98942818 1.23702333 2.03642404 2.77802173 5.31472541]\n",
      "[0.99486882 1.23527751 2.04187556 2.78225733 5.32451311]\n",
      "[1.00030373 1.23351723 2.04732144 2.78648614 5.33430051]\n",
      "[1.00573292 1.23174253 2.05276171 2.7907082  5.3440876 ]\n",
      "[1.01115643 1.2299535  2.05819638 2.79492353 5.35387437]\n",
      "[1.01657428 1.22815019 2.0636255  2.79913216 5.36366084]\n"
     ]
    },
    {
     "data": {
      "text/plain": [
       "array([1.01657428, 1.22815019, 2.0636255 , 2.79913216, 5.36366084])"
      ]
     },
     "execution_count": 135,
     "metadata": {},
     "output_type": "execute_result"
    }
   ],
   "source": [
    "for i in range(100):\n",
    "    lam = ScratchSVMClassifier()._lagrange_update(lam, X, y)\n",
    "    print(lam)\n",
    "lam"
   ]
  },
  {
   "cell_type": "markdown",
   "metadata": {},
   "source": [
    "### [Problem 2] Support vector determination"
   ]
  },
  {
   "cell_type": "code",
   "execution_count": 136,
   "metadata": {},
   "outputs": [
    {
     "data": {
      "text/plain": [
       "array([0, 1, 2, 3, 4], dtype=int64)"
      ]
     },
     "execution_count": 136,
     "metadata": {},
     "output_type": "execute_result"
    }
   ],
   "source": [
    "threshold = 1e-5\n",
    "index_support_vectors = np.where(lam > threshold)[0]\n",
    "index_support_vectors"
   ]
  },
  {
   "cell_type": "code",
   "execution_count": 137,
   "metadata": {},
   "outputs": [
    {
     "data": {
      "text/plain": [
       "5"
      ]
     },
     "execution_count": 137,
     "metadata": {},
     "output_type": "execute_result"
    }
   ],
   "source": [
    "n_support_vectors = len(index_support_vectors)\n",
    "n_support_vectors"
   ]
  },
  {
   "cell_type": "code",
   "execution_count": 138,
   "metadata": {},
   "outputs": [
    {
     "data": {
      "text/plain": [
       "array([[1. , 2. , 3. ],\n",
       "       [0.4, 1.4, 2.4],\n",
       "       [1.5, 2.5, 3.2],\n",
       "       [2. , 3.1, 4.2],\n",
       "       [1. , 1.8, 2.5]])"
      ]
     },
     "execution_count": 138,
     "metadata": {},
     "output_type": "execute_result"
    }
   ],
   "source": [
    "X_sv = X[index_support_vectors]\n",
    "X_sv"
   ]
  },
  {
   "cell_type": "code",
   "execution_count": 139,
   "metadata": {},
   "outputs": [
    {
     "data": {
      "text/plain": [
       "array([ 1,  1, -1, -1,  1])"
      ]
     },
     "execution_count": 139,
     "metadata": {},
     "output_type": "execute_result"
    }
   ],
   "source": [
    "y_sv = y[index_support_vectors]\n",
    "y_sv"
   ]
  },
  {
   "cell_type": "code",
   "execution_count": 140,
   "metadata": {},
   "outputs": [
    {
     "data": {
      "text/plain": [
       "array([1.01657428, 1.22815019, 2.0636255 , 2.79913216, 5.36366084])"
      ]
     },
     "execution_count": 140,
     "metadata": {},
     "output_type": "execute_result"
    }
   ],
   "source": [
    "lam_sv = lam[index_support_vectors]\n",
    "lam_sv"
   ]
  },
  {
   "cell_type": "markdown",
   "metadata": {},
   "source": [
    "### [Problem 3] Estimation"
   ]
  },
  {
   "cell_type": "code",
   "execution_count": 141,
   "metadata": {},
   "outputs": [],
   "source": [
    "X_test = np.array([\n",
    "    [3, 3, 4],\n",
    "    [1, 2, 3],\n",
    "    [2, 2.7, 3.4]\n",
    "])"
   ]
  },
  {
   "cell_type": "code",
   "execution_count": 142,
   "metadata": {},
   "outputs": [],
   "source": [
    "y_test = np.array([-1, 1, -1])"
   ]
  },
  {
   "cell_type": "code",
   "execution_count": 143,
   "metadata": {},
   "outputs": [
    {
     "data": {
      "text/plain": [
       "array([-2.56838274,  0.45877846, -1.24529503])"
      ]
     },
     "execution_count": 143,
     "metadata": {},
     "output_type": "execute_result"
    }
   ],
   "source": [
    "n_samples = X_test.shape[0]\n",
    "y_pred = np.zeros([n_samples,])\n",
    "for i in range(n_samples):\n",
    "    sig = 0\n",
    "    for n in range(n_support_vectors):\n",
    "        sig += lam_sv[n] * y_sv[n] * np.dot(X_sv[n], X_test[i].T)\n",
    "    y_pred[i] = sig\n",
    "y_pred"
   ]
  },
  {
   "cell_type": "code",
   "execution_count": 144,
   "metadata": {},
   "outputs": [
    {
     "data": {
      "text/plain": [
       "array([-1,  1, -1])"
      ]
     },
     "execution_count": 144,
     "metadata": {},
     "output_type": "execute_result"
    }
   ],
   "source": [
    "y_result = np.where(y_pred >= 0, 1, -1)\n",
    "y_result"
   ]
  },
  {
   "cell_type": "code",
   "execution_count": 145,
   "metadata": {},
   "outputs": [
    {
     "name": "stdout",
     "output_type": "stream",
     "text": [
      "[VERBOSE RESULT]\n"
     ]
    },
    {
     "data": {
      "text/html": [
       "<div>\n",
       "<style scoped>\n",
       "    .dataframe tbody tr th:only-of-type {\n",
       "        vertical-align: middle;\n",
       "    }\n",
       "\n",
       "    .dataframe tbody tr th {\n",
       "        vertical-align: top;\n",
       "    }\n",
       "\n",
       "    .dataframe thead th {\n",
       "        text-align: right;\n",
       "    }\n",
       "</style>\n",
       "<table border=\"1\" class=\"dataframe\">\n",
       "  <thead>\n",
       "    <tr style=\"text-align: right;\">\n",
       "      <th></th>\n",
       "      <th>Accuracy</th>\n",
       "      <th>Number of support vectors</th>\n",
       "      <th>Index of support vectors</th>\n",
       "    </tr>\n",
       "  </thead>\n",
       "  <tbody>\n",
       "    <tr>\n",
       "      <th>0</th>\n",
       "      <td>0.666667</td>\n",
       "      <td>5</td>\n",
       "      <td>[0, 1, 2, 3, 4]</td>\n",
       "    </tr>\n",
       "    <tr>\n",
       "      <th>1</th>\n",
       "      <td>1.0</td>\n",
       "      <td>5</td>\n",
       "      <td>[0, 1, 2, 3, 4]</td>\n",
       "    </tr>\n",
       "    <tr>\n",
       "      <th>2</th>\n",
       "      <td>1.0</td>\n",
       "      <td>5</td>\n",
       "      <td>[0, 1, 2, 3, 4]</td>\n",
       "    </tr>\n",
       "    <tr>\n",
       "      <th>3</th>\n",
       "      <td>1.0</td>\n",
       "      <td>5</td>\n",
       "      <td>[0, 1, 2, 3, 4]</td>\n",
       "    </tr>\n",
       "    <tr>\n",
       "      <th>4</th>\n",
       "      <td>1.0</td>\n",
       "      <td>5</td>\n",
       "      <td>[0, 1, 2, 3, 4]</td>\n",
       "    </tr>\n",
       "    <tr>\n",
       "      <th>...</th>\n",
       "      <td>...</td>\n",
       "      <td>...</td>\n",
       "      <td>...</td>\n",
       "    </tr>\n",
       "    <tr>\n",
       "      <th>95</th>\n",
       "      <td>1.0</td>\n",
       "      <td>5</td>\n",
       "      <td>[0, 1, 2, 3, 4]</td>\n",
       "    </tr>\n",
       "    <tr>\n",
       "      <th>96</th>\n",
       "      <td>1.0</td>\n",
       "      <td>5</td>\n",
       "      <td>[0, 1, 2, 3, 4]</td>\n",
       "    </tr>\n",
       "    <tr>\n",
       "      <th>97</th>\n",
       "      <td>1.0</td>\n",
       "      <td>5</td>\n",
       "      <td>[0, 1, 2, 3, 4]</td>\n",
       "    </tr>\n",
       "    <tr>\n",
       "      <th>98</th>\n",
       "      <td>1.0</td>\n",
       "      <td>5</td>\n",
       "      <td>[0, 1, 2, 3, 4]</td>\n",
       "    </tr>\n",
       "    <tr>\n",
       "      <th>99</th>\n",
       "      <td>1.0</td>\n",
       "      <td>5</td>\n",
       "      <td>[0, 1, 2, 3, 4]</td>\n",
       "    </tr>\n",
       "  </tbody>\n",
       "</table>\n",
       "<p>100 rows × 3 columns</p>\n",
       "</div>"
      ],
      "text/plain": [
       "    Accuracy Number of support vectors Index of support vectors\n",
       "0   0.666667                         5          [0, 1, 2, 3, 4]\n",
       "1        1.0                         5          [0, 1, 2, 3, 4]\n",
       "2        1.0                         5          [0, 1, 2, 3, 4]\n",
       "3        1.0                         5          [0, 1, 2, 3, 4]\n",
       "4        1.0                         5          [0, 1, 2, 3, 4]\n",
       "..       ...                       ...                      ...\n",
       "95       1.0                         5          [0, 1, 2, 3, 4]\n",
       "96       1.0                         5          [0, 1, 2, 3, 4]\n",
       "97       1.0                         5          [0, 1, 2, 3, 4]\n",
       "98       1.0                         5          [0, 1, 2, 3, 4]\n",
       "99       1.0                         5          [0, 1, 2, 3, 4]\n",
       "\n",
       "[100 rows x 3 columns]"
      ]
     },
     "metadata": {},
     "output_type": "display_data"
    }
   ],
   "source": [
    "scratch_svm = ScratchSVMClassifier(verbose=True)\n",
    "scratch_svm.fit(X, y, X_test, y_test)"
   ]
  },
  {
   "cell_type": "code",
   "execution_count": 146,
   "metadata": {},
   "outputs": [],
   "source": [
    "np.random.seed(seed=0)\n",
    "n_samples = 500\n",
    "f0 = [-1, 2]\n",
    "f1 = [2, -1]\n",
    "cov = [[1.0,0.8], [0.8, 1.0]]\n",
    "f0 = np.random.multivariate_normal(f0, cov, n_samples // 2)\n",
    "f1 = np.random.multivariate_normal(f1, cov, n_samples // 2)\n",
    "X = np.concatenate([f0, f1])\n",
    "y = np.concatenate([\n",
    "    np.full(n_samples // 2, 1),\n",
    "    np.full(n_samples // 2, -1)\n",
    "])"
   ]
  },
  {
   "cell_type": "code",
   "execution_count": 147,
   "metadata": {},
   "outputs": [
    {
     "data": {
      "text/plain": [
       "(375, 2)"
      ]
     },
     "metadata": {},
     "output_type": "display_data"
    },
    {
     "data": {
      "text/plain": [
       "(125, 2)"
      ]
     },
     "metadata": {},
     "output_type": "display_data"
    },
    {
     "data": {
      "text/plain": [
       "(375,)"
      ]
     },
     "metadata": {},
     "output_type": "display_data"
    },
    {
     "data": {
      "text/plain": [
       "(125,)"
      ]
     },
     "metadata": {},
     "output_type": "display_data"
    }
   ],
   "source": [
    "from sklearn.model_selection import train_test_split\n",
    "\n",
    "X_train, X_test, y_train, y_test = train_test_split(X, y, random_state=0)\n",
    "display(X_train.shape)\n",
    "display(X_test.shape)\n",
    "display(y_train.shape)\n",
    "display(y_test.shape)"
   ]
  },
  {
   "cell_type": "code",
   "execution_count": 148,
   "metadata": {},
   "outputs": [],
   "source": [
    "from sklearn.preprocessing import StandardScaler\n",
    "\n",
    "scaler = StandardScaler() \n",
    "scaler.fit(X_train)\n",
    "X_train_scaled = scaler.transform(X_train) \n",
    "X_test_scaled = scaler.transform(X_test) "
   ]
  },
  {
   "cell_type": "code",
   "execution_count": 150,
   "metadata": {},
   "outputs": [
    {
     "ename": "IndexError",
     "evalue": "index 0 is out of bounds for axis 0 with size 0",
     "output_type": "error",
     "traceback": [
      "\u001b[1;31m---------------------------------------------------------------------------\u001b[0m",
      "\u001b[1;31mIndexError\u001b[0m                                Traceback (most recent call last)",
      "\u001b[1;32m<ipython-input-150-e30f9c779074>\u001b[0m in \u001b[0;36m<module>\u001b[1;34m\u001b[0m\n\u001b[0;32m      1\u001b[0m \u001b[0mscratch_svm\u001b[0m \u001b[1;33m=\u001b[0m \u001b[0mScratchSVMClassifier\u001b[0m\u001b[1;33m(\u001b[0m\u001b[0mnum_iter\u001b[0m\u001b[1;33m=\u001b[0m\u001b[1;36m1\u001b[0m\u001b[1;33m,\u001b[0m \u001b[0mverbose\u001b[0m\u001b[1;33m=\u001b[0m\u001b[1;32mFalse\u001b[0m\u001b[1;33m)\u001b[0m\u001b[1;33m\u001b[0m\u001b[1;33m\u001b[0m\u001b[0m\n\u001b[0;32m      2\u001b[0m \u001b[0mscratch_svm\u001b[0m\u001b[1;33m.\u001b[0m\u001b[0mfit\u001b[0m\u001b[1;33m(\u001b[0m\u001b[0mX_train_scaled\u001b[0m\u001b[1;33m,\u001b[0m \u001b[0my_train\u001b[0m\u001b[1;33m)\u001b[0m\u001b[1;33m\u001b[0m\u001b[1;33m\u001b[0m\u001b[0m\n\u001b[1;32m----> 3\u001b[1;33m \u001b[0mscratch_svm_predict\u001b[0m \u001b[1;33m=\u001b[0m \u001b[0mscratch_svm\u001b[0m\u001b[1;33m.\u001b[0m\u001b[0mpredict\u001b[0m\u001b[1;33m(\u001b[0m\u001b[0mX_test_scaled\u001b[0m\u001b[1;33m)\u001b[0m\u001b[1;33m\u001b[0m\u001b[1;33m\u001b[0m\u001b[0m\n\u001b[0m\u001b[0;32m      4\u001b[0m \u001b[1;33m\u001b[0m\u001b[0m\n\u001b[0;32m      5\u001b[0m \u001b[0mpd\u001b[0m\u001b[1;33m.\u001b[0m\u001b[0mDataFrame\u001b[0m\u001b[1;33m(\u001b[0m\u001b[1;33m[\u001b[0m\u001b[0mscratch_svm_predict\u001b[0m\u001b[1;33m,\u001b[0m \u001b[0my_test\u001b[0m\u001b[1;33m]\u001b[0m\u001b[1;33m,\u001b[0m \u001b[0mindex\u001b[0m\u001b[1;33m=\u001b[0m\u001b[1;33m[\u001b[0m\u001b[1;34m'Predict value'\u001b[0m\u001b[1;33m,\u001b[0m \u001b[1;34m'Actual value'\u001b[0m\u001b[1;33m]\u001b[0m\u001b[1;33m)\u001b[0m\u001b[1;33m\u001b[0m\u001b[1;33m\u001b[0m\u001b[0m\n",
      "\u001b[1;32m<ipython-input-131-833e9708e5e1>\u001b[0m in \u001b[0;36mpredict\u001b[1;34m(self, X)\u001b[0m\n\u001b[0;32m     95\u001b[0m             \u001b[0msig\u001b[0m \u001b[1;33m=\u001b[0m \u001b[1;36m0\u001b[0m\u001b[1;33m\u001b[0m\u001b[1;33m\u001b[0m\u001b[0m\n\u001b[0;32m     96\u001b[0m             \u001b[1;32mfor\u001b[0m \u001b[0mn\u001b[0m \u001b[1;32min\u001b[0m \u001b[0mrange\u001b[0m\u001b[1;33m(\u001b[0m\u001b[0mn_support_vectors\u001b[0m\u001b[1;33m)\u001b[0m\u001b[1;33m:\u001b[0m\u001b[1;33m\u001b[0m\u001b[1;33m\u001b[0m\u001b[0m\n\u001b[1;32m---> 97\u001b[1;33m                 \u001b[0msig\u001b[0m \u001b[1;33m+=\u001b[0m \u001b[0mself\u001b[0m\u001b[1;33m.\u001b[0m\u001b[0mlam_sv\u001b[0m\u001b[1;33m[\u001b[0m\u001b[0mn\u001b[0m\u001b[1;33m]\u001b[0m \u001b[1;33m*\u001b[0m \u001b[0mself\u001b[0m\u001b[1;33m.\u001b[0m\u001b[0my_sv\u001b[0m\u001b[1;33m[\u001b[0m\u001b[0mn\u001b[0m\u001b[1;33m]\u001b[0m \u001b[1;33m*\u001b[0m \u001b[0mself\u001b[0m\u001b[1;33m.\u001b[0m\u001b[0m_kernel_function\u001b[0m\u001b[1;33m(\u001b[0m\u001b[0mX\u001b[0m\u001b[1;33m[\u001b[0m\u001b[0mi\u001b[0m\u001b[1;33m]\u001b[0m\u001b[1;33m,\u001b[0m \u001b[0mself\u001b[0m\u001b[1;33m.\u001b[0m\u001b[0mX_sv\u001b[0m\u001b[1;33m[\u001b[0m\u001b[0mn\u001b[0m\u001b[1;33m]\u001b[0m\u001b[1;33m)\u001b[0m\u001b[1;33m\u001b[0m\u001b[1;33m\u001b[0m\u001b[0m\n\u001b[0m\u001b[0;32m     98\u001b[0m             \u001b[0my_pred\u001b[0m\u001b[1;33m[\u001b[0m\u001b[0mi\u001b[0m\u001b[1;33m]\u001b[0m \u001b[1;33m=\u001b[0m \u001b[0msig\u001b[0m\u001b[1;33m\u001b[0m\u001b[1;33m\u001b[0m\u001b[0m\n\u001b[0;32m     99\u001b[0m \u001b[1;33m\u001b[0m\u001b[0m\n",
      "\u001b[1;31mIndexError\u001b[0m: index 0 is out of bounds for axis 0 with size 0"
     ]
    }
   ],
   "source": [
    "scratch_svm = ScratchSVMClassifier(num_iter=1, verbose=False)\n",
    "scratch_svm.fit(X_train_scaled, y_train)\n",
    "scratch_svm_predict = scratch_svm.predict(X_test_scaled)\n",
    "\n",
    "pd.DataFrame([scratch_svm_predict, y_test], index=['Predict value', 'Actual value'])"
   ]
  },
  {
   "cell_type": "code",
   "execution_count": 218,
   "metadata": {},
   "outputs": [
    {
     "name": "stdout",
     "output_type": "stream",
     "text": [
      "              precision    recall  f1-score   support\n",
      "\n",
      "          -1       1.00      0.50      0.67       125\n",
      "           1       0.00      0.00      0.00         0\n",
      "\n",
      "    accuracy                           0.50       125\n",
      "   macro avg       0.50      0.25      0.34       125\n",
      "weighted avg       1.00      0.50      0.67       125\n",
      "\n"
     ]
    },
    {
     "name": "stderr",
     "output_type": "stream",
     "text": [
      "C:\\Users\\Administrator\\anaconda3\\lib\\site-packages\\sklearn\\metrics\\_classification.py:1221: UndefinedMetricWarning: Recall and F-score are ill-defined and being set to 0.0 in labels with no true samples. Use `zero_division` parameter to control this behavior.\n",
      "  _warn_prf(average, modifier, msg_start, len(result))\n"
     ]
    }
   ],
   "source": [
    "print(classification_report(scratch_svm_predict, y_test))"
   ]
  },
  {
   "cell_type": "code",
   "execution_count": null,
   "metadata": {},
   "outputs": [],
   "source": [
    "svc = SVC()\n",
    "svc.fit(X_train, y_train)\n",
    "svc_predict = svc.predict(X_test)\n",
    "\n",
    "pd.DataFrame([scratch_svm_predict, y_test], index=['Predict value', 'Actual value'])"
   ]
  },
  {
   "cell_type": "code",
   "execution_count": null,
   "metadata": {},
   "outputs": [],
   "source": [
    "print(classification_report(scratch_svm_predict, y_test))"
   ]
  },
  {
   "cell_type": "code",
   "execution_count": null,
   "metadata": {},
   "outputs": [],
   "source": [
    "import matplotlib.pyplot as plt\n",
    "from matplotlib.colors import ListedColormap\n",
    "import matplotlib.patches as mpatches\n",
    "\n",
    "def decision_region(X, y, model, Xh=None, support_indices=[], step=0.01, title='decision region', xlabel='xlabel', ylabel='ylabel', target_names=['versicolor', 'virginica']):\n",
    "    \"\"\"\n",
    "    Draw the determination area of the model that learned binary classification with two-dimensional features.\n",
    "    The background color is drawn from the estimated values of the trained model.\n",
    "    The points on the scatter plot are training or validation data.\n",
    "    Parameters\n",
    "    ----------------\n",
    "    X : ndarray, shape(n_samples, 2)\n",
    "        Feature value\n",
    "    y : ndarray, shape(n_samples,)\n",
    "        label\n",
    "    model : object\n",
    "        Insert the installed model of the learned model\n",
    "    step : float, (default : 0.1)\n",
    "        Set the interval to calculate the estimate\n",
    "    title : str\n",
    "        Give the text of the graph Title\n",
    "    xlabel, ylabel : str\n",
    "        Give the text of the axis label\n",
    "    target_names= : list of str\n",
    "        Give a list of legends\n",
    "    \"\"\"\n",
    "    # setting\n",
    "    scatter_color = ['red', 'blue']\n",
    "    contourf_color = ['pink', 'skyblue']\n",
    "    n_class = 2\n",
    "    \n",
    "    # pred\n",
    "    mesh_f0, mesh_f1  = np.meshgrid(np.arange(np.min(X[:,0])-0.5, np.max(X[:,0])+0.5, step), np.arange(np.min(X[:,1])-0.5, np.max(X[:,1])+0.5, step))\n",
    "    mesh = np.c_[np.ravel(mesh_f0),np.ravel(mesh_f1)]\n",
    "    y_pred = model.predict(mesh).reshape(mesh_f0.shape)\n",
    "    \n",
    "    # plot\n",
    "    plt.title(title)\n",
    "    plt.xlabel(xlabel)\n",
    "    plt.ylabel(ylabel)\n",
    "    plt.contourf(mesh_f0, mesh_f1, y_pred, n_class-1, cmap=ListedColormap(contourf_color))\n",
    "    plt.contour(mesh_f0, mesh_f1, y_pred, n_class-1, colors='y', linewidths=3, alpha=0.5)\n",
    "    \n",
    "    for i, target in enumerate(set(y)):\n",
    "        plt.scatter(X[y==target][:, 0], X[y==target][:, 1], s=80, color=scatter_color[i], label=target_names[i], marker='o')\n",
    "    if Xh is not None:\n",
    "        plt.scatter(Xh[:, 0], Xh[:, 1], s=80, color='y', label='support', marker='o')\n",
    "    \n",
    "    patches = [mpatches.Patch(color=scatter_color[i], label=target_names[i]) for i in range(n_class)]\n",
    "    \n",
    "    plt.legend(handles=patches)\n",
    "    plt.legend()\n",
    "    plt.show()"
   ]
  },
  {
   "cell_type": "code",
   "execution_count": null,
   "metadata": {
    "scrolled": true
   },
   "outputs": [],
   "source": [
    "decision_region(X_train, y_train, scratch_svm, Xh=scratch_svm.X_sv)"
   ]
  },
  {
   "cell_type": "code",
   "execution_count": null,
   "metadata": {},
   "outputs": [],
   "source": [
    "print(scratch_svm.index_support_vectors)"
   ]
  },
  {
   "cell_type": "code",
   "execution_count": null,
   "metadata": {},
   "outputs": [],
   "source": [
    "decision_region(X_test, y_test, svc)"
   ]
  },
  {
   "cell_type": "code",
   "execution_count": null,
   "metadata": {},
   "outputs": [],
   "source": []
  }
 ],
 "metadata": {
  "kernelspec": {
   "display_name": "Python 3",
   "language": "python",
   "name": "python3"
  },
  "language_info": {
   "codemirror_mode": {
    "name": "ipython",
    "version": 3
   },
   "file_extension": ".py",
   "mimetype": "text/x-python",
   "name": "python",
   "nbconvert_exporter": "python",
   "pygments_lexer": "ipython3",
   "version": "3.8.5"
  }
 },
 "nbformat": 4,
 "nbformat_minor": 4
}
