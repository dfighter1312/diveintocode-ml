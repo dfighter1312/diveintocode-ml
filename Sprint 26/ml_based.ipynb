{
 "cells": [
  {
   "cell_type": "markdown",
   "id": "08ab8a31",
   "metadata": {},
   "source": [
    "# Machine Learning-based for Vietnamese Topic Modeling\n",
    "\n",
    "## TF-IDF (Term Frequency - Inverse Document Frequency) + SVM (Support Vector Machine)"
   ]
  },
  {
   "cell_type": "code",
   "execution_count": 1,
   "id": "b15912d5",
   "metadata": {},
   "outputs": [],
   "source": [
    "import pandas as pd\n",
    "from sklearn.feature_extraction.text import TfidfVectorizer\n",
    "from sklearn.svm import SVC\n",
    "from sklearn.metrics import classification_report"
   ]
  },
  {
   "cell_type": "code",
   "execution_count": 2,
   "id": "540bfa88",
   "metadata": {},
   "outputs": [
    {
     "data": {
      "text/plain": [
       "((33759, 2), (50373, 2))"
      ]
     },
     "execution_count": 2,
     "metadata": {},
     "output_type": "execute_result"
    }
   ],
   "source": [
    "train_df = pd.read_csv(\"./csv/train.csv\", encoding='utf-16')\n",
    "test_df = pd.read_csv(\"./csv/test.csv\", encoding='utf-16')\n",
    "train_df.shape, test_df.shape"
   ]
  },
  {
   "cell_type": "code",
   "execution_count": 3,
   "id": "f006740e",
   "metadata": {},
   "outputs": [
    {
     "data": {
      "text/html": [
       "<div>\n",
       "<style scoped>\n",
       "    .dataframe tbody tr th:only-of-type {\n",
       "        vertical-align: middle;\n",
       "    }\n",
       "\n",
       "    .dataframe tbody tr th {\n",
       "        vertical-align: top;\n",
       "    }\n",
       "\n",
       "    .dataframe thead th {\n",
       "        text-align: right;\n",
       "    }\n",
       "</style>\n",
       "<table border=\"1\" class=\"dataframe\">\n",
       "  <thead>\n",
       "    <tr style=\"text-align: right;\">\n",
       "      <th></th>\n",
       "      <th>text</th>\n",
       "      <th>label</th>\n",
       "    </tr>\n",
       "  </thead>\n",
       "  <tbody>\n",
       "    <tr>\n",
       "      <th>33754</th>\n",
       "      <td>Điện thoại di động tương lai trông như thế nào...</td>\n",
       "      <td>Vi tinh</td>\n",
       "    </tr>\n",
       "    <tr>\n",
       "      <th>33755</th>\n",
       "      <td>Internet sẽ tăng tốc 1.000 lần \\nTrong tương l...</td>\n",
       "      <td>Vi tinh</td>\n",
       "    </tr>\n",
       "    <tr>\n",
       "      <th>33756</th>\n",
       "      <td>Phần lớn thế giới thứ 3 thất bại với chính phủ...</td>\n",
       "      <td>Vi tinh</td>\n",
       "    </tr>\n",
       "    <tr>\n",
       "      <th>33757</th>\n",
       "      <td>'Doom 3' giành chiến thắng kép \\nTrò chơi hành...</td>\n",
       "      <td>Vi tinh</td>\n",
       "    </tr>\n",
       "    <tr>\n",
       "      <th>33758</th>\n",
       "      <td>Lỗi về Window Media Player (1)\\nTôi đang dùng ...</td>\n",
       "      <td>Vi tinh</td>\n",
       "    </tr>\n",
       "  </tbody>\n",
       "</table>\n",
       "</div>"
      ],
      "text/plain": [
       "                                                    text    label\n",
       "33754  Điện thoại di động tương lai trông như thế nào...  Vi tinh\n",
       "33755  Internet sẽ tăng tốc 1.000 lần \\nTrong tương l...  Vi tinh\n",
       "33756  Phần lớn thế giới thứ 3 thất bại với chính phủ...  Vi tinh\n",
       "33757  'Doom 3' giành chiến thắng kép \\nTrò chơi hành...  Vi tinh\n",
       "33758  Lỗi về Window Media Player (1)\\nTôi đang dùng ...  Vi tinh"
      ]
     },
     "execution_count": 3,
     "metadata": {},
     "output_type": "execute_result"
    }
   ],
   "source": [
    "train_df.tail()"
   ]
  },
  {
   "cell_type": "code",
   "execution_count": 4,
   "id": "5e17e708",
   "metadata": {},
   "outputs": [
    {
     "name": "stdout",
     "output_type": "stream",
     "text": [
      "<class 'pandas.core.frame.DataFrame'>\n",
      "RangeIndex: 33759 entries, 0 to 33758\n",
      "Data columns (total 2 columns):\n",
      " #   Column  Non-Null Count  Dtype \n",
      "---  ------  --------------  ----- \n",
      " 0   text    33759 non-null  object\n",
      " 1   label   33759 non-null  object\n",
      "dtypes: object(2)\n",
      "memory usage: 527.6+ KB\n"
     ]
    }
   ],
   "source": [
    "train_df.info()"
   ]
  },
  {
   "cell_type": "code",
   "execution_count": 5,
   "id": "e74d2731",
   "metadata": {},
   "outputs": [
    {
     "data": {
      "text/html": [
       "<div>\n",
       "<style scoped>\n",
       "    .dataframe tbody tr th:only-of-type {\n",
       "        vertical-align: middle;\n",
       "    }\n",
       "\n",
       "    .dataframe tbody tr th {\n",
       "        vertical-align: top;\n",
       "    }\n",
       "\n",
       "    .dataframe thead th {\n",
       "        text-align: right;\n",
       "    }\n",
       "</style>\n",
       "<table border=\"1\" class=\"dataframe\">\n",
       "  <thead>\n",
       "    <tr style=\"text-align: right;\">\n",
       "      <th></th>\n",
       "      <th>text</th>\n",
       "      <th>label</th>\n",
       "    </tr>\n",
       "  </thead>\n",
       "  <tbody>\n",
       "    <tr>\n",
       "      <th>50368</th>\n",
       "      <td>Phần mềm chống tải nhạc bất hợp pháp\\nNhóm ngh...</td>\n",
       "      <td>Vi tinh</td>\n",
       "    </tr>\n",
       "    <tr>\n",
       "      <th>50369</th>\n",
       "      <td>Linux tăng ảnh hưởng trên thị trường máy chủ\\n...</td>\n",
       "      <td>Vi tinh</td>\n",
       "    </tr>\n",
       "    <tr>\n",
       "      <th>50370</th>\n",
       "      <td>Napster phát không máy nghe nhạc\\nCông ty phát...</td>\n",
       "      <td>Vi tinh</td>\n",
       "    </tr>\n",
       "    <tr>\n",
       "      <th>50371</th>\n",
       "      <td>Intel giới thiệu chip và chipset chuyên biệt h...</td>\n",
       "      <td>Vi tinh</td>\n",
       "    </tr>\n",
       "    <tr>\n",
       "      <th>50372</th>\n",
       "      <td>Yahoo lại bị trì trệ\\nLần thứ 2 trong chưa đầy...</td>\n",
       "      <td>Vi tinh</td>\n",
       "    </tr>\n",
       "  </tbody>\n",
       "</table>\n",
       "</div>"
      ],
      "text/plain": [
       "                                                    text    label\n",
       "50368  Phần mềm chống tải nhạc bất hợp pháp\\nNhóm ngh...  Vi tinh\n",
       "50369  Linux tăng ảnh hưởng trên thị trường máy chủ\\n...  Vi tinh\n",
       "50370  Napster phát không máy nghe nhạc\\nCông ty phát...  Vi tinh\n",
       "50371  Intel giới thiệu chip và chipset chuyên biệt h...  Vi tinh\n",
       "50372  Yahoo lại bị trì trệ\\nLần thứ 2 trong chưa đầy...  Vi tinh"
      ]
     },
     "execution_count": 5,
     "metadata": {},
     "output_type": "execute_result"
    }
   ],
   "source": [
    "test_df.tail()"
   ]
  },
  {
   "cell_type": "code",
   "execution_count": 6,
   "id": "c2d9b4de",
   "metadata": {},
   "outputs": [
    {
     "name": "stdout",
     "output_type": "stream",
     "text": [
      "<class 'pandas.core.frame.DataFrame'>\n",
      "RangeIndex: 50373 entries, 0 to 50372\n",
      "Data columns (total 2 columns):\n",
      " #   Column  Non-Null Count  Dtype \n",
      "---  ------  --------------  ----- \n",
      " 0   text    50373 non-null  object\n",
      " 1   label   50373 non-null  object\n",
      "dtypes: object(2)\n",
      "memory usage: 787.2+ KB\n"
     ]
    }
   ],
   "source": [
    "test_df.info()"
   ]
  },
  {
   "cell_type": "code",
   "execution_count": 7,
   "id": "790db618",
   "metadata": {},
   "outputs": [
    {
     "data": {
      "text/plain": [
       "array(['Chinh tri Xa hoi', 'Doi song', 'Khoa hoc', 'Kinh doanh',\n",
       "       'Phap luat', 'Suc khoe', 'The gioi', 'The thao', 'Van hoa',\n",
       "       'Vi tinh'], dtype=object)"
      ]
     },
     "execution_count": 7,
     "metadata": {},
     "output_type": "execute_result"
    }
   ],
   "source": [
    "train_df[\"label\"].unique()"
   ]
  },
  {
   "cell_type": "code",
   "execution_count": 8,
   "id": "6c441049",
   "metadata": {},
   "outputs": [
    {
     "data": {
      "text/plain": [
       "10"
      ]
     },
     "execution_count": 8,
     "metadata": {},
     "output_type": "execute_result"
    }
   ],
   "source": [
    "train_df[\"label\"].nunique()"
   ]
  },
  {
   "cell_type": "code",
   "execution_count": 9,
   "id": "44c65976",
   "metadata": {},
   "outputs": [],
   "source": [
    "X_train = train_df[\"text\"]\n",
    "y_train = train_df[\"label\"]\n",
    "X_test = test_df[\"text\"]\n",
    "y_test = test_df[\"label\"]"
   ]
  },
  {
   "cell_type": "code",
   "execution_count": 10,
   "id": "9fbf8291",
   "metadata": {},
   "outputs": [],
   "source": [
    "# Applied max_df parameter as an alternative way to remove corpus-specific stopwords\n",
    "vect_shortened = TfidfVectorizer(\n",
    "    min_df=2,\n",
    "    max_df=0.3,\n",
    "    max_features=20000,\n",
    "    ngram_range=(1, 3),\n",
    "    encoding='utf-16'\n",
    ")"
   ]
  },
  {
   "cell_type": "code",
   "execution_count": 11,
   "id": "822f2568",
   "metadata": {},
   "outputs": [],
   "source": [
    "X_train_vect = vect_shortened.fit_transform(X_train)\n",
    "X_test_vect = vect_shortened.transform(X_test)"
   ]
  },
  {
   "cell_type": "code",
   "execution_count": 12,
   "id": "1c39bf3b",
   "metadata": {
    "scrolled": true
   },
   "outputs": [
    {
     "data": {
      "text/plain": [
       "20000"
      ]
     },
     "execution_count": 12,
     "metadata": {},
     "output_type": "execute_result"
    }
   ],
   "source": [
    "len(vect_shortened.vocabulary_)"
   ]
  },
  {
   "cell_type": "code",
   "execution_count": 13,
   "id": "169995f4",
   "metadata": {},
   "outputs": [
    {
     "data": {
      "text/plain": [
       "8862531"
      ]
     },
     "execution_count": 13,
     "metadata": {},
     "output_type": "execute_result"
    }
   ],
   "source": [
    "len(vect_shortened.stop_words_)"
   ]
  },
  {
   "cell_type": "code",
   "execution_count": 14,
   "id": "ab2d309f",
   "metadata": {},
   "outputs": [
    {
     "data": {
      "text/plain": [
       "(33759, 20000)"
      ]
     },
     "execution_count": 14,
     "metadata": {},
     "output_type": "execute_result"
    }
   ],
   "source": [
    "X_train_vect.shape"
   ]
  },
  {
   "cell_type": "code",
   "execution_count": 15,
   "id": "e0197783",
   "metadata": {},
   "outputs": [
    {
     "data": {
      "text/plain": [
       "SVC()"
      ]
     },
     "execution_count": 15,
     "metadata": {},
     "output_type": "execute_result"
    }
   ],
   "source": [
    "model = SVC()\n",
    "model.fit(X_train_vect, y_train)"
   ]
  },
  {
   "cell_type": "code",
   "execution_count": 16,
   "id": "c6d86b14",
   "metadata": {},
   "outputs": [],
   "source": [
    "y_pred = model.predict(X_test_vect)"
   ]
  },
  {
   "cell_type": "code",
   "execution_count": 17,
   "id": "865f92a4",
   "metadata": {},
   "outputs": [
    {
     "name": "stdout",
     "output_type": "stream",
     "text": [
      "['Chinh tri Xa hoi', 'Chinh tri Xa hoi', 'Chinh tri Xa hoi', 'Doi song', 'Kinh doanh', 'Kinh doanh', 'Phap luat', 'Suc khoe', 'Suc khoe', 'The gioi', 'The gioi', 'The thao', 'The thao', 'The thao', 'Van hoa', 'Van hoa', 'Vi tinh']\n",
      "['Chinh tri Xa hoi' 'Chinh tri Xa hoi' 'Chinh tri Xa hoi' 'Doi song'\n",
      " 'Kinh doanh' 'Kinh doanh' 'Phap luat' 'Suc khoe' 'Suc khoe' 'The gioi'\n",
      " 'The gioi' 'The thao' 'The thao' 'The thao' 'Van hoa' 'Van hoa' 'Vi tinh']\n"
     ]
    }
   ],
   "source": [
    "print(y_test[::3000].tolist())\n",
    "print(y_pred[::3000])"
   ]
  },
  {
   "cell_type": "code",
   "execution_count": 18,
   "id": "547b5981",
   "metadata": {},
   "outputs": [
    {
     "name": "stdout",
     "output_type": "stream",
     "text": [
      "                  precision    recall  f1-score   support\n",
      "\n",
      "Chinh tri Xa hoi     0.8506    0.9260    0.8867      7567\n",
      "        Doi song     0.8140    0.7200    0.7641      2036\n",
      "        Khoa hoc     0.8843    0.8025    0.8414      2096\n",
      "      Kinh doanh     0.9493    0.8846    0.9158      5276\n",
      "       Phap luat     0.9340    0.9153    0.9245      3788\n",
      "        Suc khoe     0.9273    0.9559    0.9414      5417\n",
      "        The gioi     0.9635    0.9306    0.9468      6716\n",
      "        The thao     0.9817    0.9822    0.9819      6667\n",
      "         Van hoa     0.9334    0.9510    0.9421      6250\n",
      "         Vi tinh     0.9310    0.9586    0.9446      4560\n",
      "\n",
      "        accuracy                         0.9247     50373\n",
      "       macro avg     0.9169    0.9027    0.9089     50373\n",
      "    weighted avg     0.9253    0.9247    0.9244     50373\n",
      "\n"
     ]
    }
   ],
   "source": [
    "print(classification_report(y_test, y_pred, digits=4))"
   ]
  }
 ],
 "metadata": {
  "kernelspec": {
   "display_name": "Python 3 (ipykernel)",
   "language": "python",
   "name": "python3"
  },
  "language_info": {
   "codemirror_mode": {
    "name": "ipython",
    "version": 3
   },
   "file_extension": ".py",
   "mimetype": "text/x-python",
   "name": "python",
   "nbconvert_exporter": "python",
   "pygments_lexer": "ipython3",
   "version": "3.9.7"
  }
 },
 "nbformat": 4,
 "nbformat_minor": 5
}
