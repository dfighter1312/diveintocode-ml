{
  "cells": [
    {
      "cell_type": "markdown",
      "id": "4379cab2",
      "metadata": {
        "id": "4379cab2"
      },
      "source": [
        "# Deep Learning-based for Vietnamese Text Classification\n",
        "\n",
        "## CNN (Convolutional Neural Network)"
      ]
    },
    {
      "cell_type": "code",
      "execution_count": null,
      "id": "jjfRO1aD7Szz",
      "metadata": {
        "colab": {
          "base_uri": "https://localhost:8080/"
        },
        "id": "jjfRO1aD7Szz",
        "outputId": "fdcd4cea-98d6-4282-8296-2dca1b69eb4f"
      },
      "outputs": [
        {
          "name": "stdout",
          "output_type": "stream",
          "text": [
            "Mounted at /content/drive\n"
          ]
        }
      ],
      "source": [
        "from google.colab import drive\n",
        "drive.mount('/content/drive', force_remount=True)\n",
        "\n",
        "repo = 'drive/MyDrive/Dive Into Code/Sprint 26/'"
      ]
    },
    {
      "cell_type": "code",
      "execution_count": null,
      "id": "5wZuDEe-ogOZ",
      "metadata": {
        "colab": {
          "base_uri": "https://localhost:8080/"
        },
        "id": "5wZuDEe-ogOZ",
        "outputId": "3edc21ca-2544-47d8-cb4d-941f61267a2a"
      },
      "outputs": [
        {
          "name": "stdout",
          "output_type": "stream",
          "text": [
            "Collecting VnCoreNLP\n",
            "  Downloading vncorenlp-1.0.3.tar.gz (2.6 MB)\n",
            "\u001b[K     |████████████████████████████████| 2.6 MB 5.5 MB/s \n",
            "\u001b[?25hRequirement already satisfied: requests in /usr/local/lib/python3.7/dist-packages (from VnCoreNLP) (2.23.0)\n",
            "Requirement already satisfied: idna<3,>=2.5 in /usr/local/lib/python3.7/dist-packages (from requests->VnCoreNLP) (2.10)\n",
            "Requirement already satisfied: certifi>=2017.4.17 in /usr/local/lib/python3.7/dist-packages (from requests->VnCoreNLP) (2021.10.8)\n",
            "Requirement already satisfied: chardet<4,>=3.0.2 in /usr/local/lib/python3.7/dist-packages (from requests->VnCoreNLP) (3.0.4)\n",
            "Requirement already satisfied: urllib3!=1.25.0,!=1.25.1,<1.26,>=1.21.1 in /usr/local/lib/python3.7/dist-packages (from requests->VnCoreNLP) (1.24.3)\n",
            "Building wheels for collected packages: VnCoreNLP\n",
            "  Building wheel for VnCoreNLP (setup.py) ... \u001b[?25l\u001b[?25hdone\n",
            "  Created wheel for VnCoreNLP: filename=vncorenlp-1.0.3-py3-none-any.whl size=2645951 sha256=a8e881218085a1b3f7177513362e42ddb277f23663a1f3f3e652a2eecad92b4b\n",
            "  Stored in directory: /root/.cache/pip/wheels/0c/d8/f2/d28d97379b4f6479bf51247c8dfd57fa00932fa7a74b6aab29\n",
            "Successfully built VnCoreNLP\n",
            "Installing collected packages: VnCoreNLP\n",
            "Successfully installed VnCoreNLP-1.0.3\n",
            "Collecting transformers\n",
            "  Downloading transformers-4.16.2-py3-none-any.whl (3.5 MB)\n",
            "\u001b[K     |████████████████████████████████| 3.5 MB 5.3 MB/s \n",
            "\u001b[?25hRequirement already satisfied: regex!=2019.12.17 in /usr/local/lib/python3.7/dist-packages (from transformers) (2019.12.20)\n",
            "Collecting huggingface-hub<1.0,>=0.1.0\n",
            "  Downloading huggingface_hub-0.4.0-py3-none-any.whl (67 kB)\n",
            "\u001b[K     |████████████████████████████████| 67 kB 5.3 MB/s \n",
            "\u001b[?25hCollecting tokenizers!=0.11.3,>=0.10.1\n",
            "  Downloading tokenizers-0.11.5-cp37-cp37m-manylinux_2_12_x86_64.manylinux2010_x86_64.whl (6.8 MB)\n",
            "\u001b[K     |████████████████████████████████| 6.8 MB 30.2 MB/s \n",
            "\u001b[?25hCollecting pyyaml>=5.1\n",
            "  Downloading PyYAML-6.0-cp37-cp37m-manylinux_2_5_x86_64.manylinux1_x86_64.manylinux_2_12_x86_64.manylinux2010_x86_64.whl (596 kB)\n",
            "\u001b[K     |████████████████████████████████| 596 kB 43.4 MB/s \n",
            "\u001b[?25hRequirement already satisfied: importlib-metadata in /usr/local/lib/python3.7/dist-packages (from transformers) (4.11.1)\n",
            "Requirement already satisfied: packaging>=20.0 in /usr/local/lib/python3.7/dist-packages (from transformers) (21.3)\n",
            "Requirement already satisfied: filelock in /usr/local/lib/python3.7/dist-packages (from transformers) (3.6.0)\n",
            "Requirement already satisfied: numpy>=1.17 in /usr/local/lib/python3.7/dist-packages (from transformers) (1.21.5)\n",
            "Requirement already satisfied: tqdm>=4.27 in /usr/local/lib/python3.7/dist-packages (from transformers) (4.62.3)\n",
            "Collecting sacremoses\n",
            "  Downloading sacremoses-0.0.47-py2.py3-none-any.whl (895 kB)\n",
            "\u001b[K     |████████████████████████████████| 895 kB 45.3 MB/s \n",
            "\u001b[?25hRequirement already satisfied: requests in /usr/local/lib/python3.7/dist-packages (from transformers) (2.23.0)\n",
            "Requirement already satisfied: typing-extensions>=3.7.4.3 in /usr/local/lib/python3.7/dist-packages (from huggingface-hub<1.0,>=0.1.0->transformers) (3.10.0.2)\n",
            "Requirement already satisfied: pyparsing!=3.0.5,>=2.0.2 in /usr/local/lib/python3.7/dist-packages (from packaging>=20.0->transformers) (3.0.7)\n",
            "Requirement already satisfied: zipp>=0.5 in /usr/local/lib/python3.7/dist-packages (from importlib-metadata->transformers) (3.7.0)\n",
            "Requirement already satisfied: urllib3!=1.25.0,!=1.25.1,<1.26,>=1.21.1 in /usr/local/lib/python3.7/dist-packages (from requests->transformers) (1.24.3)\n",
            "Requirement already satisfied: chardet<4,>=3.0.2 in /usr/local/lib/python3.7/dist-packages (from requests->transformers) (3.0.4)\n",
            "Requirement already satisfied: idna<3,>=2.5 in /usr/local/lib/python3.7/dist-packages (from requests->transformers) (2.10)\n",
            "Requirement already satisfied: certifi>=2017.4.17 in /usr/local/lib/python3.7/dist-packages (from requests->transformers) (2021.10.8)\n",
            "Requirement already satisfied: click in /usr/local/lib/python3.7/dist-packages (from sacremoses->transformers) (7.1.2)\n",
            "Requirement already satisfied: six in /usr/local/lib/python3.7/dist-packages (from sacremoses->transformers) (1.15.0)\n",
            "Requirement already satisfied: joblib in /usr/local/lib/python3.7/dist-packages (from sacremoses->transformers) (1.1.0)\n",
            "Installing collected packages: pyyaml, tokenizers, sacremoses, huggingface-hub, transformers\n",
            "  Attempting uninstall: pyyaml\n",
            "    Found existing installation: PyYAML 3.13\n",
            "    Uninstalling PyYAML-3.13:\n",
            "      Successfully uninstalled PyYAML-3.13\n",
            "Successfully installed huggingface-hub-0.4.0 pyyaml-6.0 sacremoses-0.0.47 tokenizers-0.11.5 transformers-4.16.2\n"
          ]
        }
      ],
      "source": [
        "!pip install VnCoreNLP\n",
        "!pip install transformers"
      ]
    },
    {
      "cell_type": "code",
      "execution_count": 42,
      "id": "19c249fc",
      "metadata": {
        "id": "19c249fc"
      },
      "outputs": [],
      "source": [
        "import re\n",
        "import torch\n",
        "import pandas as pd\n",
        "import numpy as np\n",
        "import tensorflow as tf\n",
        "from vncorenlp import VnCoreNLP\n",
        "from sklearn.preprocessing import OneHotEncoder\n",
        "from sklearn.metrics import classification_report\n",
        "from transformers import AutoTokenizer\n",
        "from tensorflow.keras.preprocessing.sequence import pad_sequences"
      ]
    },
    {
      "cell_type": "code",
      "execution_count": null,
      "id": "22dbde0c",
      "metadata": {
        "id": "22dbde0c"
      },
      "outputs": [],
      "source": [
        "train_df = pd.read_csv(repo + \"csv/train.csv\", encoding='utf-16')\n",
        "test_df = pd.read_csv(repo + \"csv/test.csv\", encoding='utf-16')"
      ]
    },
    {
      "cell_type": "code",
      "execution_count": null,
      "id": "e0f5bb00",
      "metadata": {
        "id": "e0f5bb00"
      },
      "outputs": [],
      "source": [
        "X_train = train_df[\"text\"]\n",
        "y_train = train_df[[\"label\"]]\n",
        "X_test = test_df[\"text\"]\n",
        "y_test = test_df[[\"label\"]]"
      ]
    },
    {
      "cell_type": "code",
      "execution_count": null,
      "id": "de721dff",
      "metadata": {
        "colab": {
          "base_uri": "https://localhost:8080/"
        },
        "id": "de721dff",
        "outputId": "175f302a-bd71-4a6e-fcd9-fb255f2b1595"
      },
      "outputs": [
        {
          "data": {
            "text/plain": [
              "array([[1., 0., 0., ..., 0., 0., 0.],\n",
              "       [1., 0., 0., ..., 0., 0., 0.],\n",
              "       [1., 0., 0., ..., 0., 0., 0.],\n",
              "       ...,\n",
              "       [0., 0., 0., ..., 0., 0., 1.],\n",
              "       [0., 0., 0., ..., 0., 0., 1.],\n",
              "       [0., 0., 0., ..., 0., 0., 1.]])"
            ]
          },
          "execution_count": 6,
          "metadata": {},
          "output_type": "execute_result"
        }
      ],
      "source": [
        "# Encode the labels\n",
        "encoder = OneHotEncoder()\n",
        "y_train_one_hot = encoder.fit_transform(y_train).toarray()\n",
        "# It is possible to directly transform y_test since the label sets are the same\n",
        "y_test_one_hot = encoder.transform(y_test).toarray()\n",
        "\n",
        "y_train_one_hot"
      ]
    },
    {
      "cell_type": "code",
      "execution_count": null,
      "id": "0dfa6ac9",
      "metadata": {
        "colab": {
          "base_uri": "https://localhost:8080/"
        },
        "id": "0dfa6ac9",
        "outputId": "28525af0-02c3-4fe5-f6ea-064f8a2bb86b"
      },
      "outputs": [
        {
          "name": "stdout",
          "output_type": "stream",
          "text": [
            "(33759, 1) (33759, 10)\n",
            "(50373, 1) (50373, 10)\n"
          ]
        }
      ],
      "source": [
        "print(y_train.shape, y_train_one_hot.shape)\n",
        "print(y_test.shape, y_test_one_hot.shape)"
      ]
    },
    {
      "cell_type": "markdown",
      "id": "604bdb46",
      "metadata": {
        "id": "604bdb46"
      },
      "source": [
        "### Preprocessing on a single sample"
      ]
    },
    {
      "cell_type": "code",
      "execution_count": null,
      "id": "988c7f6c",
      "metadata": {
        "colab": {
          "base_uri": "https://localhost:8080/"
        },
        "id": "988c7f6c",
        "outputId": "74974562-ded4-4640-a6b6-962180a64fbf",
        "scrolled": true
      },
      "outputs": [
        {
          "name": "stdout",
          "output_type": "stream",
          "text": [
            " Thành lập dự án POLICY phòng chống HIV/AIDS ở VN (NLĐ)- Quỹ hỗ trợ khẩn cấp về AIDS của Hoa Kỳ vừa thành lập dự án POLICY tại VN với cam kết hỗ trợ Chính phủ và nhân dân VN đối phó HIV/AIDS.Dự án có nhiệm vụ chính là cải thiện công tác phòng chống HIV/AIDS thông qua các lĩnh vực xây dựng chính sách, rà soát các văn bản pháp luật, xây dựng chiến lược quảng bá, xây dựng chương trình đào tạo về phòng chống HIV/AIDS, lên kế hoạch bố trí nguồn lực, huấn luyện và nghiên cứu về phương tiện truyền thông đại chúng, tổ chức các hoạt động nhằm giảm kỳ thị và phân biệt đối xử đối với người có HIV/AIDS... Theo TTXVN, dự án POLICY đặc biệt quan tâm đến công tác truyền thông phòng chống HIV/AIDS, coi đây là một biện pháp tích cực và hữu hiệu trong việc phòng chống có hiệu quả HIV/AIDS. Thời gian tới, dự án POLICY sẽ tiếp tục tổ chức các hoạt động nhằm nâng cao nhận thức cho những người có trách nhiệm với công tác chỉ đạo phòng chống HIV/AIDS.\n",
            "\n",
            "\n"
          ]
        }
      ],
      "source": [
        "# Sample text for testing\n",
        "text = X_train[0]\n",
        "print(text)"
      ]
    },
    {
      "cell_type": "code",
      "execution_count": null,
      "id": "1f478640",
      "metadata": {
        "id": "1f478640"
      },
      "outputs": [],
      "source": [
        "def text_normalization(text):\n",
        "    text = text.lower().strip()\n",
        "    return re.sub('[!\"#$%&()*+,-./:;<=>?@[\\\\]^_`{|}~\\t\\n]', ' ', text)"
      ]
    },
    {
      "cell_type": "code",
      "execution_count": null,
      "id": "d03281a6",
      "metadata": {
        "colab": {
          "base_uri": "https://localhost:8080/"
        },
        "id": "d03281a6",
        "outputId": "5e8a406e-c0b0-42af-ac3a-b1afc24f6a88"
      },
      "outputs": [
        {
          "name": "stdout",
          "output_type": "stream",
          "text": [
            "thành lập dự án policy phòng chống hiv aids ở vn  nlđ   quỹ hỗ trợ khẩn cấp về aids của hoa kỳ vừa thành lập dự án policy tại vn với cam kết hỗ trợ chính phủ và nhân dân vn đối phó hiv aids dự án có nhiệm vụ chính là cải thiện công tác phòng chống hiv aids thông qua các lĩnh vực xây dựng chính sách  rà soát các văn bản pháp luật  xây dựng chiến lược quảng bá  xây dựng chương trình đào tạo về phòng chống hiv aids  lên kế hoạch bố trí nguồn lực  huấn luyện và nghiên cứu về phương tiện truyền thông đại chúng  tổ chức các hoạt động nhằm giảm kỳ thị và phân biệt đối xử đối với người có hiv aids    theo ttxvn  dự án policy đặc biệt quan tâm đến công tác truyền thông phòng chống hiv aids  coi đây là một biện pháp tích cực và hữu hiệu trong việc phòng chống có hiệu quả hiv aids  thời gian tới  dự án policy sẽ tiếp tục tổ chức các hoạt động nhằm nâng cao nhận thức cho những người có trách nhiệm với công tác chỉ đạo phòng chống hiv aids \n"
          ]
        }
      ],
      "source": [
        "text = text_normalization(text)\n",
        "print(text)"
      ]
    },
    {
      "cell_type": "markdown",
      "id": "81d625a1",
      "metadata": {
        "id": "81d625a1"
      },
      "source": [
        "Word segmentation."
      ]
    },
    {
      "cell_type": "code",
      "execution_count": 43,
      "id": "d8397b00",
      "metadata": {
        "colab": {
          "base_uri": "https://localhost:8080/"
        },
        "id": "d8397b00",
        "outputId": "f0f06c07-992b-459c-aa7a-acbd7201265d"
      },
      "outputs": [
        {
          "name": "stdout",
          "output_type": "stream",
          "text": [
            "[['thành_lập', 'dự_án', 'policy', 'phòng_chống', 'hiv', 'aids', 'ở', 'vn', 'nlđ', 'quỹ', 'hỗ_trợ', 'khẩn_cấp', 'về', 'aids', 'của', 'hoa_kỳ', 'vừa', 'thành_lập', 'dự_án', 'policy', 'tại', 'vn', 'với', 'cam_kết', 'hỗ_trợ', 'chính_phủ', 'và', 'nhân_dân', 'vn', 'đối_phó', 'hiv', 'aids', 'dự_án', 'có', 'nhiệm_vụ', 'chính', 'là', 'cải_thiện', 'công_tác', 'phòng_chống', 'hiv', 'aids', 'thông_qua', 'các', 'lĩnh_vực', 'xây_dựng', 'chính_sách', 'rà_soát', 'các', 'văn_bản', 'pháp_luật', 'xây_dựng', 'chiến_lược', 'quảng_bá', 'xây_dựng', 'chương_trình', 'đào_tạo', 'về', 'phòng_chống', 'hiv', 'aids', 'lên', 'kế_hoạch', 'bố_trí', 'nguồn_lực', 'huấn_luyện', 'và', 'nghiên_cứu', 'về', 'phương_tiện', 'truyền_thông', 'đại_chúng', 'tổ_chức', 'các', 'hoạt_động', 'nhằm', 'giảm', 'kỳ_thị', 'và', 'phân_biệt', 'đối_xử', 'đối_với', 'người', 'có', 'hiv', 'aids', 'theo', 'ttxvn', 'dự_án', 'policy', 'đặc_biệt', 'quan_tâm', 'đến', 'công_tác', 'truyền_thông', 'phòng_chống', 'hiv', 'aids', 'coi', 'đây', 'là', 'một', 'biện_pháp', 'tích_cực', 'và', 'hữu_hiệu', 'trong', 'việc', 'phòng_chống', 'có', 'hiệu_quả', 'hiv', 'aids', 'thời_gian', 'tới', 'dự_án', 'policy', 'sẽ', 'tiếp_tục', 'tổ_chức', 'các', 'hoạt_động', 'nhằm', 'nâng', 'cao', 'nhận_thức', 'cho', 'những', 'người', 'có', 'trách_nhiệm', 'với', 'công_tác', 'chỉ_đạo', 'phòng_chống', 'hiv', 'aids']]\n"
          ]
        }
      ],
      "source": [
        "rdrsegmenter = VnCoreNLP(repo + \"vncorenlp/VnCoreNLP-1.1.1.jar\", annotators=\"wseg\", max_heap_size='-Xmx500m')\n",
        "sentences = rdrsegmenter.tokenize(text)\n",
        "print(sentences)"
      ]
    },
    {
      "cell_type": "code",
      "execution_count": null,
      "id": "3Qia4LUbbl9M",
      "metadata": {
        "colab": {
          "base_uri": "https://localhost:8080/",
          "height": 206,
          "referenced_widgets": [
            "a2be1eca4e68431f9325c3bf827a306a",
            "6d1d52b86327426eb1c1c3395747b2cd",
            "2412cb49d8f6436db4061290d011f1bc",
            "6cb2eb94649c44b980403b9d473dda28",
            "98901a7005094c9ba90d77fbb05e2933",
            "f85eda1bee0f473cb3399e68876919d4",
            "4eb43ae6cacf4982a6dd754c24cee91e",
            "af132e0264484d1faa69a136cf01f626",
            "563dcdf368bd45e9a580ecd1d06d7e5a",
            "dfb874a862f34d3a80342dea67f849db",
            "52f11d70999b433fae4596dcb5f239e5",
            "5b33f8961c4945d4832f6b838e723a78",
            "e8352179703446d88c6d49d107b6ccd1",
            "581a1096361344609796082d7e68c1d7",
            "3ea8f4bda24140ecb1abf7de05468cf8",
            "768878670d9a4af3912654f42c24b22e",
            "abae100c92cf40688206c592233c3fec",
            "71fa08edad3943c5b6501c95fdcdbdd3",
            "8a9786f7e19b48058fa3fd2fabcdf5f4",
            "0d3a1d1252da4ff68b47dcdee18bb6de",
            "5b81f88c001342868f361c376e9dfad1",
            "a2605e1cad364ca6ab05235d83c32c73",
            "36580b910d4347bea5a8ed16e064679b",
            "7762266bbfd042259db9fd6489da48f4",
            "90d90a5fbe13458a90e495395c321315",
            "e2fe6f745baf40dcb3983454d24aaea4",
            "6ce8ac5072bc4210a60462cf1f6aab2f",
            "38d4732af28f4b5b8b3c17f0d469b802",
            "a49d7c1f581e4ae58a2790f63e013eb8",
            "c836ae2673cc44448b77d6db9a48434e",
            "55ca06002af34171b9edb0ba0770434a",
            "5495f2cf7f0e4e88b2b9d811a95c7fbe",
            "3874fd868a4748779d9c8fbdeb371e61"
          ]
        },
        "id": "3Qia4LUbbl9M",
        "outputId": "218dd8cb-bdb7-4256-91c2-e78a96c7686e"
      },
      "outputs": [
        {
          "data": {
            "application/vnd.jupyter.widget-view+json": {
              "model_id": "a2be1eca4e68431f9325c3bf827a306a",
              "version_major": 2,
              "version_minor": 0
            },
            "text/plain": [
              "Downloading:   0%|          | 0.00/557 [00:00<?, ?B/s]"
            ]
          },
          "metadata": {},
          "output_type": "display_data"
        },
        {
          "data": {
            "application/vnd.jupyter.widget-view+json": {
              "model_id": "5b33f8961c4945d4832f6b838e723a78",
              "version_major": 2,
              "version_minor": 0
            },
            "text/plain": [
              "Downloading:   0%|          | 0.00/874k [00:00<?, ?B/s]"
            ]
          },
          "metadata": {},
          "output_type": "display_data"
        },
        {
          "data": {
            "application/vnd.jupyter.widget-view+json": {
              "model_id": "36580b910d4347bea5a8ed16e064679b",
              "version_major": 2,
              "version_minor": 0
            },
            "text/plain": [
              "Downloading:   0%|          | 0.00/1.08M [00:00<?, ?B/s]"
            ]
          },
          "metadata": {},
          "output_type": "display_data"
        },
        {
          "name": "stderr",
          "output_type": "stream",
          "text": [
            "Special tokens have been added in the vocabulary, make sure the associated word embeddings are fine-tuned or trained.\n"
          ]
        }
      ],
      "source": [
        "tokenizer = AutoTokenizer.from_pretrained(\"vinai/phobert-base\", use_fast=False)"
      ]
    },
    {
      "cell_type": "code",
      "execution_count": null,
      "id": "4IwBv9Q3lW1Z",
      "metadata": {
        "colab": {
          "base_uri": "https://localhost:8080/"
        },
        "id": "4IwBv9Q3lW1Z",
        "outputId": "a6b74c30-16a8-4780-b6d5-389fb999edd6"
      },
      "outputs": [
        {
          "data": {
            "text/plain": [
              "763"
            ]
          },
          "execution_count": 13,
          "metadata": {},
          "output_type": "execute_result"
        }
      ],
      "source": [
        "tokenizer.encoder['thành_lập']"
      ]
    },
    {
      "cell_type": "code",
      "execution_count": null,
      "id": "o4Z5MniHlDSq",
      "metadata": {
        "colab": {
          "base_uri": "https://localhost:8080/"
        },
        "id": "o4Z5MniHlDSq",
        "outputId": "8b5bc5d7-29a6-406a-d121-8a02ce3ffa15"
      },
      "outputs": [
        {
          "name": "stdout",
          "output_type": "stream",
          "text": [
            "[    0   763   169     3  2137     3     3    25 33756     3  1425   291\n",
            "  2498    28     3     7     3   164   763   169     3    35 33756    15\n",
            "  1253   291   926     6   603 33756  2971     3     3   169    10   527\n",
            "   159     8  1238   247  2137     3     3   652     9   518   141   502\n",
            "  1851     9   909   584   141   995  2524   141   270   643    28  2137\n",
            "     3     3    72   421  1681  2684  2019     6   410    28   715  1062\n",
            "  9847   116     9   132   272   197 12922     6  3043  4622   190    18\n",
            "    10     3     3    63     3   169     3   234   511    30   247  1062\n",
            "  2137     3     3   774]\n"
          ]
        }
      ],
      "source": [
        "tokens = [tokenizer.encode(sentences[0])]\n",
        "tokens = pad_sequences(tokens, maxlen=100, truncating=\"post\", padding=\"post\")\n",
        "print(tokens[0])"
      ]
    },
    {
      "cell_type": "code",
      "execution_count": 47,
      "id": "ca5c354e",
      "metadata": {
        "id": "ca5c354e"
      },
      "outputs": [],
      "source": [
        "def text_vectorizer(dataset, maxlen=None):\n",
        "    dataset = dataset.tolist()\n",
        "    dataset = map(lambda x: text_normalization(x), dataset)\n",
        "    sentences = [rdrsegmenter.tokenize(x) for x in dataset]\n",
        "    tokens = [tokenizer.encode(sentence[0]) for sentence in sentences]\n",
        "    tokens = pad_sequences(tokens, maxlen=maxlen, truncating=\"post\", padding=\"post\")\n",
        "    return tokens"
      ]
    },
    {
      "cell_type": "code",
      "execution_count": 66,
      "id": "9706a40f",
      "metadata": {
        "colab": {
          "base_uri": "https://localhost:8080/"
        },
        "id": "9706a40f",
        "outputId": "cbbd0097-c038-4096-d5fb-0f48e41abc06"
      },
      "outputs": [
        {
          "data": {
            "text/plain": [
              "(33759, 1000)"
            ]
          },
          "execution_count": 66,
          "metadata": {},
          "output_type": "execute_result"
        }
      ],
      "source": [
        "X_train_indices = text_vectorizer(X_train)\n",
        "maxlen = X_train_indices.shape[1]\n",
        "X_train_indices.shape"
      ]
    },
    {
      "cell_type": "code",
      "execution_count": 67,
      "id": "WU8rukSnY1Ok",
      "metadata": {
        "colab": {
          "base_uri": "https://localhost:8080/"
        },
        "id": "WU8rukSnY1Ok",
        "outputId": "1bfdfc92-a178-4cab-98d3-c6680841a03a"
      },
      "outputs": [
        {
          "data": {
            "text/plain": [
              "(50373, 1000)"
            ]
          },
          "execution_count": 67,
          "metadata": {},
          "output_type": "execute_result"
        }
      ],
      "source": [
        "X_test_indices = text_vectorizer(X_test, maxlen=maxlen)\n",
        "X_test_indices.shape"
      ]
    },
    {
      "cell_type": "code",
      "execution_count": 74,
      "id": "1d6be07c",
      "metadata": {
        "id": "1d6be07c"
      },
      "outputs": [],
      "source": [
        "def cnn_model(filters, input_dim, output_dim, dropout_rate=0.2, maxlen=200):\n",
        "  \n",
        "    # Channel 1D CNN\n",
        "    inp = tf.keras.Input(shape=(maxlen,), dtype='int32')\n",
        "    embed = tf.keras.layers.Embedding(input_dim, output_dim)(inp)\n",
        "    conv1 = tf.keras.layers.Conv1D(filters=filters, kernel_size=2, activation='relu')(embed)\n",
        "    pool1 = tf.keras.layers.GlobalMaxPool1D()(conv1)\n",
        "    conv2 = tf.keras.layers.Conv1D(filters=filters, kernel_size=3, activation='relu')(embed)\n",
        "    pool2 = tf.keras.layers.GlobalMaxPool1D()(conv2)\n",
        "    conv3 = tf.keras.layers.Conv1D(filters=filters, kernel_size=4, activation='relu')(embed)\n",
        "    pool3 = tf.keras.layers.GlobalMaxPool1D()(conv3)\n",
        "    conv4 = tf.keras.layers.Conv1D(filters=filters, kernel_size=5, activation='relu')(embed)\n",
        "    pool4 = tf.keras.layers.GlobalMaxPool1D()(conv4)\n",
        "    concat = tf.concat([pool1, pool2, pool3, pool4], axis=1)\n",
        "    drop1 = tf.keras.layers.Dropout(dropout_rate)(concat)\n",
        "    dense1 = tf.keras.layers.Dense(filters * 2, activation='relu')(drop1)\n",
        "    drop2 = tf.keras.layers.Dropout(dropout_rate)(dense1)\n",
        "    dense2 = tf.keras.layers.Dense(filters, activation='relu')(drop2)\n",
        "    drop3 = tf.keras.layers.Dropout(dropout_rate)(dense2)\n",
        "    \n",
        "    # Interpretation\n",
        "    outputs = tf.keras.layers.Dense(10, activation='softmax')(drop3)\n",
        "    model = tf.keras.Model(inputs=inp, outputs=outputs)\n",
        "    \n",
        "    # Compile\n",
        "    model.compile(loss='categorical_crossentropy', optimizer='adam', metrics=['accuracy'])\n",
        "    \n",
        "    return model"
      ]
    },
    {
      "cell_type": "code",
      "execution_count": 75,
      "id": "7b8a9446",
      "metadata": {
        "colab": {
          "base_uri": "https://localhost:8080/"
        },
        "id": "7b8a9446",
        "outputId": "6838fdac-d656-40f8-8bec-e0417222c4b2"
      },
      "outputs": [
        {
          "name": "stdout",
          "output_type": "stream",
          "text": [
            "Model: \"model_5\"\n",
            "__________________________________________________________________________________________________\n",
            " Layer (type)                   Output Shape         Param #     Connected to                     \n",
            "==================================================================================================\n",
            " input_6 (InputLayer)           [(None, 1000)]       0           []                               \n",
            "                                                                                                  \n",
            " embedding_5 (Embedding)        (None, 1000, 100)    6400000     ['input_6[0][0]']                \n",
            "                                                                                                  \n",
            " conv1d_15 (Conv1D)             (None, 999, 32)      6432        ['embedding_5[0][0]']            \n",
            "                                                                                                  \n",
            " conv1d_16 (Conv1D)             (None, 998, 32)      9632        ['embedding_5[0][0]']            \n",
            "                                                                                                  \n",
            " conv1d_17 (Conv1D)             (None, 997, 32)      12832       ['embedding_5[0][0]']            \n",
            "                                                                                                  \n",
            " conv1d_18 (Conv1D)             (None, 996, 32)      16032       ['embedding_5[0][0]']            \n",
            "                                                                                                  \n",
            " global_max_pooling1d_15 (Globa  (None, 32)          0           ['conv1d_15[0][0]']              \n",
            " lMaxPooling1D)                                                                                   \n",
            "                                                                                                  \n",
            " global_max_pooling1d_16 (Globa  (None, 32)          0           ['conv1d_16[0][0]']              \n",
            " lMaxPooling1D)                                                                                   \n",
            "                                                                                                  \n",
            " global_max_pooling1d_17 (Globa  (None, 32)          0           ['conv1d_17[0][0]']              \n",
            " lMaxPooling1D)                                                                                   \n",
            "                                                                                                  \n",
            " global_max_pooling1d_18 (Globa  (None, 32)          0           ['conv1d_18[0][0]']              \n",
            " lMaxPooling1D)                                                                                   \n",
            "                                                                                                  \n",
            " tf.concat_5 (TFOpLambda)       (None, 128)          0           ['global_max_pooling1d_15[0][0]',\n",
            "                                                                  'global_max_pooling1d_16[0][0]',\n",
            "                                                                  'global_max_pooling1d_17[0][0]',\n",
            "                                                                  'global_max_pooling1d_18[0][0]']\n",
            "                                                                                                  \n",
            " dropout_15 (Dropout)           (None, 128)          0           ['tf.concat_5[0][0]']            \n",
            "                                                                                                  \n",
            " dense_15 (Dense)               (None, 64)           8256        ['dropout_15[0][0]']             \n",
            "                                                                                                  \n",
            " dropout_16 (Dropout)           (None, 64)           0           ['dense_15[0][0]']               \n",
            "                                                                                                  \n",
            " dense_16 (Dense)               (None, 32)           2080        ['dropout_16[0][0]']             \n",
            "                                                                                                  \n",
            " dropout_17 (Dropout)           (None, 32)           0           ['dense_16[0][0]']               \n",
            "                                                                                                  \n",
            " dense_17 (Dense)               (None, 10)           330         ['dropout_17[0][0]']             \n",
            "                                                                                                  \n",
            "==================================================================================================\n",
            "Total params: 6,455,594\n",
            "Trainable params: 6,455,594\n",
            "Non-trainable params: 0\n",
            "__________________________________________________________________________________________________\n"
          ]
        }
      ],
      "source": [
        "model = cnn_model(filters=32, input_dim=len(tokenizer.encoder), output_dim=100, maxlen=maxlen)\n",
        "model.summary()"
      ]
    },
    {
      "cell_type": "code",
      "execution_count": 76,
      "id": "59d31e6b",
      "metadata": {
        "colab": {
          "base_uri": "https://localhost:8080/"
        },
        "id": "59d31e6b",
        "outputId": "118007b0-ac8a-481e-9efc-f33f38fa413e"
      },
      "outputs": [
        {
          "name": "stdout",
          "output_type": "stream",
          "text": [
            "Epoch 1/20\n",
            "528/528 [==============================] - 27s 47ms/step - loss: 1.1977 - accuracy: 0.6023\n",
            "Epoch 2/20\n",
            "528/528 [==============================] - 23s 44ms/step - loss: 0.5109 - accuracy: 0.8467\n",
            "Epoch 3/20\n",
            "528/528 [==============================] - 23s 44ms/step - loss: 0.3344 - accuracy: 0.9009\n",
            "Epoch 4/20\n",
            "528/528 [==============================] - 24s 45ms/step - loss: 0.2232 - accuracy: 0.9341\n",
            "Epoch 5/20\n",
            "528/528 [==============================] - 23s 44ms/step - loss: 0.1499 - accuracy: 0.9568\n",
            "Epoch 6/20\n",
            "528/528 [==============================] - 23s 44ms/step - loss: 0.1103 - accuracy: 0.9684\n",
            "Epoch 7/20\n",
            "528/528 [==============================] - 23s 44ms/step - loss: 0.0857 - accuracy: 0.9751\n",
            "Epoch 8/20\n",
            "528/528 [==============================] - 23s 44ms/step - loss: 0.0769 - accuracy: 0.9779\n",
            "Epoch 9/20\n",
            "528/528 [==============================] - 23s 44ms/step - loss: 0.0658 - accuracy: 0.9819\n",
            "Epoch 10/20\n",
            "528/528 [==============================] - 23s 44ms/step - loss: 0.0582 - accuracy: 0.9837\n",
            "Epoch 11/20\n",
            "528/528 [==============================] - 23s 44ms/step - loss: 0.0499 - accuracy: 0.9863\n",
            "Epoch 12/20\n",
            "528/528 [==============================] - 23s 44ms/step - loss: 0.0493 - accuracy: 0.9861\n",
            "Epoch 13/20\n",
            "528/528 [==============================] - 23s 44ms/step - loss: 0.0473 - accuracy: 0.9869\n",
            "Epoch 14/20\n",
            "528/528 [==============================] - 23s 44ms/step - loss: 0.0404 - accuracy: 0.9888\n",
            "Epoch 15/20\n",
            "528/528 [==============================] - 23s 44ms/step - loss: 0.0415 - accuracy: 0.9884\n",
            "Epoch 16/20\n",
            "528/528 [==============================] - 23s 44ms/step - loss: 0.0364 - accuracy: 0.9895\n",
            "Epoch 17/20\n",
            "528/528 [==============================] - 23s 44ms/step - loss: 0.0382 - accuracy: 0.9893\n",
            "Epoch 18/20\n",
            "528/528 [==============================] - 23s 44ms/step - loss: 0.0388 - accuracy: 0.9889\n",
            "Epoch 19/20\n",
            "528/528 [==============================] - 23s 44ms/step - loss: 0.0317 - accuracy: 0.9910\n",
            "Epoch 20/20\n",
            "528/528 [==============================] - 23s 44ms/step - loss: 0.0388 - accuracy: 0.9894\n"
          ]
        },
        {
          "data": {
            "text/plain": [
              "<keras.callbacks.History at 0x7fef30f6cf10>"
            ]
          },
          "execution_count": 76,
          "metadata": {},
          "output_type": "execute_result"
        }
      ],
      "source": [
        "model.fit(\n",
        "    X_train_indices,\n",
        "    y_train_one_hot,\n",
        "    epochs=20,\n",
        "    batch_size=64\n",
        ")"
      ]
    },
    {
      "cell_type": "code",
      "execution_count": 77,
      "id": "d007ef3a",
      "metadata": {
        "id": "d007ef3a"
      },
      "outputs": [],
      "source": [
        "y_pred_one_hot = model.predict(X_test_indices)"
      ]
    },
    {
      "cell_type": "code",
      "execution_count": 78,
      "id": "c96c54c4",
      "metadata": {
        "colab": {
          "base_uri": "https://localhost:8080/"
        },
        "id": "c96c54c4",
        "outputId": "a31ad56a-00a1-4de4-e4c0-cb9365e84430"
      },
      "outputs": [
        {
          "name": "stdout",
          "output_type": "stream",
          "text": [
            "[['Chinh tri Xa hoi']\n",
            " ['Chinh tri Xa hoi']\n",
            " ['Kinh doanh']\n",
            " ['Chinh tri Xa hoi']\n",
            " ['Phap luat']\n",
            " ['Suc khoe']\n",
            " ['The gioi']\n",
            " ['The thao']\n",
            " ['Van hoa']\n",
            " ['Van hoa']\n",
            " ['Vi tinh']]\n",
            "[['Chinh tri Xa hoi']\n",
            " ['Chinh tri Xa hoi']\n",
            " ['Khoa hoc']\n",
            " ['Kinh doanh']\n",
            " ['Phap luat']\n",
            " ['Suc khoe']\n",
            " ['The gioi']\n",
            " ['The thao']\n",
            " ['Van hoa']\n",
            " ['Van hoa']\n",
            " ['Vi tinh']]\n"
          ]
        }
      ],
      "source": [
        "y_pred = encoder.inverse_transform(y_pred_one_hot)\n",
        "print(y_pred[::5000])\n",
        "print(y_test[::5000].to_numpy())"
      ]
    },
    {
      "cell_type": "code",
      "execution_count": 79,
      "id": "88d05ea2",
      "metadata": {
        "colab": {
          "base_uri": "https://localhost:8080/"
        },
        "id": "88d05ea2",
        "outputId": "a4d0f579-e975-4640-86bb-bd8237299526"
      },
      "outputs": [
        {
          "name": "stdout",
          "output_type": "stream",
          "text": [
            "                  precision    recall  f1-score   support\n",
            "\n",
            "Chinh tri Xa hoi     0.7949    0.8669    0.8293      7567\n",
            "        Doi song     0.6160    0.6586    0.6366      2036\n",
            "        Khoa hoc     0.7647    0.7257    0.7447      2096\n",
            "      Kinh doanh     0.8720    0.8614    0.8667      5276\n",
            "       Phap luat     0.9125    0.8561    0.8834      3788\n",
            "        Suc khoe     0.9269    0.8920    0.9091      5417\n",
            "        The gioi     0.9520    0.8772    0.9131      6716\n",
            "        The thao     0.9705    0.9787    0.9746      6667\n",
            "         Van hoa     0.9148    0.9282    0.9215      6250\n",
            "         Vi tinh     0.9011    0.9333    0.9169      4560\n",
            "\n",
            "        accuracy                         0.8837     50373\n",
            "       macro avg     0.8626    0.8578    0.8596     50373\n",
            "    weighted avg     0.8862    0.8837    0.8843     50373\n",
            "\n"
          ]
        }
      ],
      "source": [
        "print(classification_report(y_test, y_pred, digits=4))"
      ]
    },
    {
      "cell_type": "code",
      "execution_count": 80,
      "id": "nt3iQnigJ48y",
      "metadata": {
        "colab": {
          "base_uri": "https://localhost:8080/"
        },
        "id": "nt3iQnigJ48y",
        "outputId": "111e2786-312d-4dd6-f50d-e005cb15884e"
      },
      "outputs": [
        {
          "name": "stdout",
          "output_type": "stream",
          "text": [
            "INFO:tensorflow:Assets written to: model/assets\n"
          ]
        }
      ],
      "source": [
        "model.save('model')"
      ]
    },
    {
      "cell_type": "code",
      "execution_count": 82,
      "id": "XZyluWuQOhpZ",
      "metadata": {
        "colab": {
          "base_uri": "https://localhost:8080/"
        },
        "id": "XZyluWuQOhpZ",
        "outputId": "12d08d1b-61c5-401b-d1e8-11839570d0ea"
      },
      "outputs": [
        {
          "name": "stdout",
          "output_type": "stream",
          "text": [
            "  adding: model/ (stored 0%)\n",
            "  adding: model/assets/ (stored 0%)\n",
            "  adding: model/keras_metadata.pb (deflated 92%)\n",
            "  adding: model/saved_model.pb (deflated 90%)\n",
            "  adding: model/variables/ (stored 0%)\n",
            "  adding: model/variables/variables.index (deflated 69%)\n",
            "  adding: model/variables/variables.data-00000-of-00001 (deflated 48%)\n"
          ]
        }
      ],
      "source": [
        "!zip -r model.zip model"
      ]
    }
  ],
  "metadata": {
    "accelerator": "GPU",
    "colab": {
      "collapsed_sections": [],
      "name": "dl_based.ipynb",
      "provenance": []
    },
    "kernelspec": {
      "display_name": "Python 3 (ipykernel)",
      "language": "python",
      "name": "python3"
    },
    "language_info": {
      "codemirror_mode": {
        "name": "ipython",
        "version": 3
      },
      "file_extension": ".py",
      "mimetype": "text/x-python",
      "name": "python",
      "nbconvert_exporter": "python",
      "pygments_lexer": "ipython3",
      "version": "3.9.7"
    },
    "widgets": {
      "application/vnd.jupyter.widget-state+json": {
        "0d3a1d1252da4ff68b47dcdee18bb6de": {
          "model_module": "@jupyter-widgets/base",
          "model_module_version": "1.2.0",
          "model_name": "LayoutModel",
          "state": {
            "_model_module": "@jupyter-widgets/base",
            "_model_module_version": "1.2.0",
            "_model_name": "LayoutModel",
            "_view_count": null,
            "_view_module": "@jupyter-widgets/base",
            "_view_module_version": "1.2.0",
            "_view_name": "LayoutView",
            "align_content": null,
            "align_items": null,
            "align_self": null,
            "border": null,
            "bottom": null,
            "display": null,
            "flex": null,
            "flex_flow": null,
            "grid_area": null,
            "grid_auto_columns": null,
            "grid_auto_flow": null,
            "grid_auto_rows": null,
            "grid_column": null,
            "grid_gap": null,
            "grid_row": null,
            "grid_template_areas": null,
            "grid_template_columns": null,
            "grid_template_rows": null,
            "height": null,
            "justify_content": null,
            "justify_items": null,
            "left": null,
            "margin": null,
            "max_height": null,
            "max_width": null,
            "min_height": null,
            "min_width": null,
            "object_fit": null,
            "object_position": null,
            "order": null,
            "overflow": null,
            "overflow_x": null,
            "overflow_y": null,
            "padding": null,
            "right": null,
            "top": null,
            "visibility": null,
            "width": null
          }
        },
        "2412cb49d8f6436db4061290d011f1bc": {
          "model_module": "@jupyter-widgets/controls",
          "model_module_version": "1.5.0",
          "model_name": "HTMLModel",
          "state": {
            "_dom_classes": [],
            "_model_module": "@jupyter-widgets/controls",
            "_model_module_version": "1.5.0",
            "_model_name": "HTMLModel",
            "_view_count": null,
            "_view_module": "@jupyter-widgets/controls",
            "_view_module_version": "1.5.0",
            "_view_name": "HTMLView",
            "description": "",
            "description_tooltip": null,
            "layout": "IPY_MODEL_4eb43ae6cacf4982a6dd754c24cee91e",
            "placeholder": "​",
            "style": "IPY_MODEL_f85eda1bee0f473cb3399e68876919d4",
            "value": "Downloading: 100%"
          }
        },
        "36580b910d4347bea5a8ed16e064679b": {
          "model_module": "@jupyter-widgets/controls",
          "model_module_version": "1.5.0",
          "model_name": "HBoxModel",
          "state": {
            "_dom_classes": [],
            "_model_module": "@jupyter-widgets/controls",
            "_model_module_version": "1.5.0",
            "_model_name": "HBoxModel",
            "_view_count": null,
            "_view_module": "@jupyter-widgets/controls",
            "_view_module_version": "1.5.0",
            "_view_name": "HBoxView",
            "box_style": "",
            "children": [
              "IPY_MODEL_90d90a5fbe13458a90e495395c321315",
              "IPY_MODEL_e2fe6f745baf40dcb3983454d24aaea4",
              "IPY_MODEL_6ce8ac5072bc4210a60462cf1f6aab2f"
            ],
            "layout": "IPY_MODEL_7762266bbfd042259db9fd6489da48f4"
          }
        },
        "3874fd868a4748779d9c8fbdeb371e61": {
          "model_module": "@jupyter-widgets/base",
          "model_module_version": "1.2.0",
          "model_name": "LayoutModel",
          "state": {
            "_model_module": "@jupyter-widgets/base",
            "_model_module_version": "1.2.0",
            "_model_name": "LayoutModel",
            "_view_count": null,
            "_view_module": "@jupyter-widgets/base",
            "_view_module_version": "1.2.0",
            "_view_name": "LayoutView",
            "align_content": null,
            "align_items": null,
            "align_self": null,
            "border": null,
            "bottom": null,
            "display": null,
            "flex": null,
            "flex_flow": null,
            "grid_area": null,
            "grid_auto_columns": null,
            "grid_auto_flow": null,
            "grid_auto_rows": null,
            "grid_column": null,
            "grid_gap": null,
            "grid_row": null,
            "grid_template_areas": null,
            "grid_template_columns": null,
            "grid_template_rows": null,
            "height": null,
            "justify_content": null,
            "justify_items": null,
            "left": null,
            "margin": null,
            "max_height": null,
            "max_width": null,
            "min_height": null,
            "min_width": null,
            "object_fit": null,
            "object_position": null,
            "order": null,
            "overflow": null,
            "overflow_x": null,
            "overflow_y": null,
            "padding": null,
            "right": null,
            "top": null,
            "visibility": null,
            "width": null
          }
        },
        "38d4732af28f4b5b8b3c17f0d469b802": {
          "model_module": "@jupyter-widgets/controls",
          "model_module_version": "1.5.0",
          "model_name": "DescriptionStyleModel",
          "state": {
            "_model_module": "@jupyter-widgets/controls",
            "_model_module_version": "1.5.0",
            "_model_name": "DescriptionStyleModel",
            "_view_count": null,
            "_view_module": "@jupyter-widgets/base",
            "_view_module_version": "1.2.0",
            "_view_name": "StyleView",
            "description_width": ""
          }
        },
        "3ea8f4bda24140ecb1abf7de05468cf8": {
          "model_module": "@jupyter-widgets/controls",
          "model_module_version": "1.5.0",
          "model_name": "FloatProgressModel",
          "state": {
            "_dom_classes": [],
            "_model_module": "@jupyter-widgets/controls",
            "_model_module_version": "1.5.0",
            "_model_name": "FloatProgressModel",
            "_view_count": null,
            "_view_module": "@jupyter-widgets/controls",
            "_view_module_version": "1.5.0",
            "_view_name": "ProgressView",
            "bar_style": "success",
            "description": "",
            "description_tooltip": null,
            "layout": "IPY_MODEL_0d3a1d1252da4ff68b47dcdee18bb6de",
            "max": 895321,
            "min": 0,
            "orientation": "horizontal",
            "style": "IPY_MODEL_8a9786f7e19b48058fa3fd2fabcdf5f4",
            "value": 895321
          }
        },
        "4eb43ae6cacf4982a6dd754c24cee91e": {
          "model_module": "@jupyter-widgets/base",
          "model_module_version": "1.2.0",
          "model_name": "LayoutModel",
          "state": {
            "_model_module": "@jupyter-widgets/base",
            "_model_module_version": "1.2.0",
            "_model_name": "LayoutModel",
            "_view_count": null,
            "_view_module": "@jupyter-widgets/base",
            "_view_module_version": "1.2.0",
            "_view_name": "LayoutView",
            "align_content": null,
            "align_items": null,
            "align_self": null,
            "border": null,
            "bottom": null,
            "display": null,
            "flex": null,
            "flex_flow": null,
            "grid_area": null,
            "grid_auto_columns": null,
            "grid_auto_flow": null,
            "grid_auto_rows": null,
            "grid_column": null,
            "grid_gap": null,
            "grid_row": null,
            "grid_template_areas": null,
            "grid_template_columns": null,
            "grid_template_rows": null,
            "height": null,
            "justify_content": null,
            "justify_items": null,
            "left": null,
            "margin": null,
            "max_height": null,
            "max_width": null,
            "min_height": null,
            "min_width": null,
            "object_fit": null,
            "object_position": null,
            "order": null,
            "overflow": null,
            "overflow_x": null,
            "overflow_y": null,
            "padding": null,
            "right": null,
            "top": null,
            "visibility": null,
            "width": null
          }
        },
        "52f11d70999b433fae4596dcb5f239e5": {
          "model_module": "@jupyter-widgets/base",
          "model_module_version": "1.2.0",
          "model_name": "LayoutModel",
          "state": {
            "_model_module": "@jupyter-widgets/base",
            "_model_module_version": "1.2.0",
            "_model_name": "LayoutModel",
            "_view_count": null,
            "_view_module": "@jupyter-widgets/base",
            "_view_module_version": "1.2.0",
            "_view_name": "LayoutView",
            "align_content": null,
            "align_items": null,
            "align_self": null,
            "border": null,
            "bottom": null,
            "display": null,
            "flex": null,
            "flex_flow": null,
            "grid_area": null,
            "grid_auto_columns": null,
            "grid_auto_flow": null,
            "grid_auto_rows": null,
            "grid_column": null,
            "grid_gap": null,
            "grid_row": null,
            "grid_template_areas": null,
            "grid_template_columns": null,
            "grid_template_rows": null,
            "height": null,
            "justify_content": null,
            "justify_items": null,
            "left": null,
            "margin": null,
            "max_height": null,
            "max_width": null,
            "min_height": null,
            "min_width": null,
            "object_fit": null,
            "object_position": null,
            "order": null,
            "overflow": null,
            "overflow_x": null,
            "overflow_y": null,
            "padding": null,
            "right": null,
            "top": null,
            "visibility": null,
            "width": null
          }
        },
        "5495f2cf7f0e4e88b2b9d811a95c7fbe": {
          "model_module": "@jupyter-widgets/controls",
          "model_module_version": "1.5.0",
          "model_name": "DescriptionStyleModel",
          "state": {
            "_model_module": "@jupyter-widgets/controls",
            "_model_module_version": "1.5.0",
            "_model_name": "DescriptionStyleModel",
            "_view_count": null,
            "_view_module": "@jupyter-widgets/base",
            "_view_module_version": "1.2.0",
            "_view_name": "StyleView",
            "description_width": ""
          }
        },
        "55ca06002af34171b9edb0ba0770434a": {
          "model_module": "@jupyter-widgets/base",
          "model_module_version": "1.2.0",
          "model_name": "LayoutModel",
          "state": {
            "_model_module": "@jupyter-widgets/base",
            "_model_module_version": "1.2.0",
            "_model_name": "LayoutModel",
            "_view_count": null,
            "_view_module": "@jupyter-widgets/base",
            "_view_module_version": "1.2.0",
            "_view_name": "LayoutView",
            "align_content": null,
            "align_items": null,
            "align_self": null,
            "border": null,
            "bottom": null,
            "display": null,
            "flex": null,
            "flex_flow": null,
            "grid_area": null,
            "grid_auto_columns": null,
            "grid_auto_flow": null,
            "grid_auto_rows": null,
            "grid_column": null,
            "grid_gap": null,
            "grid_row": null,
            "grid_template_areas": null,
            "grid_template_columns": null,
            "grid_template_rows": null,
            "height": null,
            "justify_content": null,
            "justify_items": null,
            "left": null,
            "margin": null,
            "max_height": null,
            "max_width": null,
            "min_height": null,
            "min_width": null,
            "object_fit": null,
            "object_position": null,
            "order": null,
            "overflow": null,
            "overflow_x": null,
            "overflow_y": null,
            "padding": null,
            "right": null,
            "top": null,
            "visibility": null,
            "width": null
          }
        },
        "563dcdf368bd45e9a580ecd1d06d7e5a": {
          "model_module": "@jupyter-widgets/base",
          "model_module_version": "1.2.0",
          "model_name": "LayoutModel",
          "state": {
            "_model_module": "@jupyter-widgets/base",
            "_model_module_version": "1.2.0",
            "_model_name": "LayoutModel",
            "_view_count": null,
            "_view_module": "@jupyter-widgets/base",
            "_view_module_version": "1.2.0",
            "_view_name": "LayoutView",
            "align_content": null,
            "align_items": null,
            "align_self": null,
            "border": null,
            "bottom": null,
            "display": null,
            "flex": null,
            "flex_flow": null,
            "grid_area": null,
            "grid_auto_columns": null,
            "grid_auto_flow": null,
            "grid_auto_rows": null,
            "grid_column": null,
            "grid_gap": null,
            "grid_row": null,
            "grid_template_areas": null,
            "grid_template_columns": null,
            "grid_template_rows": null,
            "height": null,
            "justify_content": null,
            "justify_items": null,
            "left": null,
            "margin": null,
            "max_height": null,
            "max_width": null,
            "min_height": null,
            "min_width": null,
            "object_fit": null,
            "object_position": null,
            "order": null,
            "overflow": null,
            "overflow_x": null,
            "overflow_y": null,
            "padding": null,
            "right": null,
            "top": null,
            "visibility": null,
            "width": null
          }
        },
        "581a1096361344609796082d7e68c1d7": {
          "model_module": "@jupyter-widgets/controls",
          "model_module_version": "1.5.0",
          "model_name": "HTMLModel",
          "state": {
            "_dom_classes": [],
            "_model_module": "@jupyter-widgets/controls",
            "_model_module_version": "1.5.0",
            "_model_name": "HTMLModel",
            "_view_count": null,
            "_view_module": "@jupyter-widgets/controls",
            "_view_module_version": "1.5.0",
            "_view_name": "HTMLView",
            "description": "",
            "description_tooltip": null,
            "layout": "IPY_MODEL_71fa08edad3943c5b6501c95fdcdbdd3",
            "placeholder": "​",
            "style": "IPY_MODEL_abae100c92cf40688206c592233c3fec",
            "value": "Downloading: 100%"
          }
        },
        "5b33f8961c4945d4832f6b838e723a78": {
          "model_module": "@jupyter-widgets/controls",
          "model_module_version": "1.5.0",
          "model_name": "HBoxModel",
          "state": {
            "_dom_classes": [],
            "_model_module": "@jupyter-widgets/controls",
            "_model_module_version": "1.5.0",
            "_model_name": "HBoxModel",
            "_view_count": null,
            "_view_module": "@jupyter-widgets/controls",
            "_view_module_version": "1.5.0",
            "_view_name": "HBoxView",
            "box_style": "",
            "children": [
              "IPY_MODEL_581a1096361344609796082d7e68c1d7",
              "IPY_MODEL_3ea8f4bda24140ecb1abf7de05468cf8",
              "IPY_MODEL_768878670d9a4af3912654f42c24b22e"
            ],
            "layout": "IPY_MODEL_e8352179703446d88c6d49d107b6ccd1"
          }
        },
        "5b81f88c001342868f361c376e9dfad1": {
          "model_module": "@jupyter-widgets/controls",
          "model_module_version": "1.5.0",
          "model_name": "DescriptionStyleModel",
          "state": {
            "_model_module": "@jupyter-widgets/controls",
            "_model_module_version": "1.5.0",
            "_model_name": "DescriptionStyleModel",
            "_view_count": null,
            "_view_module": "@jupyter-widgets/base",
            "_view_module_version": "1.2.0",
            "_view_name": "StyleView",
            "description_width": ""
          }
        },
        "6cb2eb94649c44b980403b9d473dda28": {
          "model_module": "@jupyter-widgets/controls",
          "model_module_version": "1.5.0",
          "model_name": "FloatProgressModel",
          "state": {
            "_dom_classes": [],
            "_model_module": "@jupyter-widgets/controls",
            "_model_module_version": "1.5.0",
            "_model_name": "FloatProgressModel",
            "_view_count": null,
            "_view_module": "@jupyter-widgets/controls",
            "_view_module_version": "1.5.0",
            "_view_name": "ProgressView",
            "bar_style": "success",
            "description": "",
            "description_tooltip": null,
            "layout": "IPY_MODEL_563dcdf368bd45e9a580ecd1d06d7e5a",
            "max": 557,
            "min": 0,
            "orientation": "horizontal",
            "style": "IPY_MODEL_af132e0264484d1faa69a136cf01f626",
            "value": 557
          }
        },
        "6ce8ac5072bc4210a60462cf1f6aab2f": {
          "model_module": "@jupyter-widgets/controls",
          "model_module_version": "1.5.0",
          "model_name": "HTMLModel",
          "state": {
            "_dom_classes": [],
            "_model_module": "@jupyter-widgets/controls",
            "_model_module_version": "1.5.0",
            "_model_name": "HTMLModel",
            "_view_count": null,
            "_view_module": "@jupyter-widgets/controls",
            "_view_module_version": "1.5.0",
            "_view_name": "HTMLView",
            "description": "",
            "description_tooltip": null,
            "layout": "IPY_MODEL_3874fd868a4748779d9c8fbdeb371e61",
            "placeholder": "​",
            "style": "IPY_MODEL_5495f2cf7f0e4e88b2b9d811a95c7fbe",
            "value": " 1.08M/1.08M [00:00&lt;00:00, 3.21MB/s]"
          }
        },
        "6d1d52b86327426eb1c1c3395747b2cd": {
          "model_module": "@jupyter-widgets/base",
          "model_module_version": "1.2.0",
          "model_name": "LayoutModel",
          "state": {
            "_model_module": "@jupyter-widgets/base",
            "_model_module_version": "1.2.0",
            "_model_name": "LayoutModel",
            "_view_count": null,
            "_view_module": "@jupyter-widgets/base",
            "_view_module_version": "1.2.0",
            "_view_name": "LayoutView",
            "align_content": null,
            "align_items": null,
            "align_self": null,
            "border": null,
            "bottom": null,
            "display": null,
            "flex": null,
            "flex_flow": null,
            "grid_area": null,
            "grid_auto_columns": null,
            "grid_auto_flow": null,
            "grid_auto_rows": null,
            "grid_column": null,
            "grid_gap": null,
            "grid_row": null,
            "grid_template_areas": null,
            "grid_template_columns": null,
            "grid_template_rows": null,
            "height": null,
            "justify_content": null,
            "justify_items": null,
            "left": null,
            "margin": null,
            "max_height": null,
            "max_width": null,
            "min_height": null,
            "min_width": null,
            "object_fit": null,
            "object_position": null,
            "order": null,
            "overflow": null,
            "overflow_x": null,
            "overflow_y": null,
            "padding": null,
            "right": null,
            "top": null,
            "visibility": null,
            "width": null
          }
        },
        "71fa08edad3943c5b6501c95fdcdbdd3": {
          "model_module": "@jupyter-widgets/base",
          "model_module_version": "1.2.0",
          "model_name": "LayoutModel",
          "state": {
            "_model_module": "@jupyter-widgets/base",
            "_model_module_version": "1.2.0",
            "_model_name": "LayoutModel",
            "_view_count": null,
            "_view_module": "@jupyter-widgets/base",
            "_view_module_version": "1.2.0",
            "_view_name": "LayoutView",
            "align_content": null,
            "align_items": null,
            "align_self": null,
            "border": null,
            "bottom": null,
            "display": null,
            "flex": null,
            "flex_flow": null,
            "grid_area": null,
            "grid_auto_columns": null,
            "grid_auto_flow": null,
            "grid_auto_rows": null,
            "grid_column": null,
            "grid_gap": null,
            "grid_row": null,
            "grid_template_areas": null,
            "grid_template_columns": null,
            "grid_template_rows": null,
            "height": null,
            "justify_content": null,
            "justify_items": null,
            "left": null,
            "margin": null,
            "max_height": null,
            "max_width": null,
            "min_height": null,
            "min_width": null,
            "object_fit": null,
            "object_position": null,
            "order": null,
            "overflow": null,
            "overflow_x": null,
            "overflow_y": null,
            "padding": null,
            "right": null,
            "top": null,
            "visibility": null,
            "width": null
          }
        },
        "768878670d9a4af3912654f42c24b22e": {
          "model_module": "@jupyter-widgets/controls",
          "model_module_version": "1.5.0",
          "model_name": "HTMLModel",
          "state": {
            "_dom_classes": [],
            "_model_module": "@jupyter-widgets/controls",
            "_model_module_version": "1.5.0",
            "_model_name": "HTMLModel",
            "_view_count": null,
            "_view_module": "@jupyter-widgets/controls",
            "_view_module_version": "1.5.0",
            "_view_name": "HTMLView",
            "description": "",
            "description_tooltip": null,
            "layout": "IPY_MODEL_a2605e1cad364ca6ab05235d83c32c73",
            "placeholder": "​",
            "style": "IPY_MODEL_5b81f88c001342868f361c376e9dfad1",
            "value": " 874k/874k [00:00&lt;00:00, 1.25MB/s]"
          }
        },
        "7762266bbfd042259db9fd6489da48f4": {
          "model_module": "@jupyter-widgets/base",
          "model_module_version": "1.2.0",
          "model_name": "LayoutModel",
          "state": {
            "_model_module": "@jupyter-widgets/base",
            "_model_module_version": "1.2.0",
            "_model_name": "LayoutModel",
            "_view_count": null,
            "_view_module": "@jupyter-widgets/base",
            "_view_module_version": "1.2.0",
            "_view_name": "LayoutView",
            "align_content": null,
            "align_items": null,
            "align_self": null,
            "border": null,
            "bottom": null,
            "display": null,
            "flex": null,
            "flex_flow": null,
            "grid_area": null,
            "grid_auto_columns": null,
            "grid_auto_flow": null,
            "grid_auto_rows": null,
            "grid_column": null,
            "grid_gap": null,
            "grid_row": null,
            "grid_template_areas": null,
            "grid_template_columns": null,
            "grid_template_rows": null,
            "height": null,
            "justify_content": null,
            "justify_items": null,
            "left": null,
            "margin": null,
            "max_height": null,
            "max_width": null,
            "min_height": null,
            "min_width": null,
            "object_fit": null,
            "object_position": null,
            "order": null,
            "overflow": null,
            "overflow_x": null,
            "overflow_y": null,
            "padding": null,
            "right": null,
            "top": null,
            "visibility": null,
            "width": null
          }
        },
        "8a9786f7e19b48058fa3fd2fabcdf5f4": {
          "model_module": "@jupyter-widgets/controls",
          "model_module_version": "1.5.0",
          "model_name": "ProgressStyleModel",
          "state": {
            "_model_module": "@jupyter-widgets/controls",
            "_model_module_version": "1.5.0",
            "_model_name": "ProgressStyleModel",
            "_view_count": null,
            "_view_module": "@jupyter-widgets/base",
            "_view_module_version": "1.2.0",
            "_view_name": "StyleView",
            "bar_color": null,
            "description_width": ""
          }
        },
        "90d90a5fbe13458a90e495395c321315": {
          "model_module": "@jupyter-widgets/controls",
          "model_module_version": "1.5.0",
          "model_name": "HTMLModel",
          "state": {
            "_dom_classes": [],
            "_model_module": "@jupyter-widgets/controls",
            "_model_module_version": "1.5.0",
            "_model_name": "HTMLModel",
            "_view_count": null,
            "_view_module": "@jupyter-widgets/controls",
            "_view_module_version": "1.5.0",
            "_view_name": "HTMLView",
            "description": "",
            "description_tooltip": null,
            "layout": "IPY_MODEL_a49d7c1f581e4ae58a2790f63e013eb8",
            "placeholder": "​",
            "style": "IPY_MODEL_38d4732af28f4b5b8b3c17f0d469b802",
            "value": "Downloading: 100%"
          }
        },
        "98901a7005094c9ba90d77fbb05e2933": {
          "model_module": "@jupyter-widgets/controls",
          "model_module_version": "1.5.0",
          "model_name": "HTMLModel",
          "state": {
            "_dom_classes": [],
            "_model_module": "@jupyter-widgets/controls",
            "_model_module_version": "1.5.0",
            "_model_name": "HTMLModel",
            "_view_count": null,
            "_view_module": "@jupyter-widgets/controls",
            "_view_module_version": "1.5.0",
            "_view_name": "HTMLView",
            "description": "",
            "description_tooltip": null,
            "layout": "IPY_MODEL_52f11d70999b433fae4596dcb5f239e5",
            "placeholder": "​",
            "style": "IPY_MODEL_dfb874a862f34d3a80342dea67f849db",
            "value": " 557/557 [00:00&lt;00:00, 4.63kB/s]"
          }
        },
        "a2605e1cad364ca6ab05235d83c32c73": {
          "model_module": "@jupyter-widgets/base",
          "model_module_version": "1.2.0",
          "model_name": "LayoutModel",
          "state": {
            "_model_module": "@jupyter-widgets/base",
            "_model_module_version": "1.2.0",
            "_model_name": "LayoutModel",
            "_view_count": null,
            "_view_module": "@jupyter-widgets/base",
            "_view_module_version": "1.2.0",
            "_view_name": "LayoutView",
            "align_content": null,
            "align_items": null,
            "align_self": null,
            "border": null,
            "bottom": null,
            "display": null,
            "flex": null,
            "flex_flow": null,
            "grid_area": null,
            "grid_auto_columns": null,
            "grid_auto_flow": null,
            "grid_auto_rows": null,
            "grid_column": null,
            "grid_gap": null,
            "grid_row": null,
            "grid_template_areas": null,
            "grid_template_columns": null,
            "grid_template_rows": null,
            "height": null,
            "justify_content": null,
            "justify_items": null,
            "left": null,
            "margin": null,
            "max_height": null,
            "max_width": null,
            "min_height": null,
            "min_width": null,
            "object_fit": null,
            "object_position": null,
            "order": null,
            "overflow": null,
            "overflow_x": null,
            "overflow_y": null,
            "padding": null,
            "right": null,
            "top": null,
            "visibility": null,
            "width": null
          }
        },
        "a2be1eca4e68431f9325c3bf827a306a": {
          "model_module": "@jupyter-widgets/controls",
          "model_module_version": "1.5.0",
          "model_name": "HBoxModel",
          "state": {
            "_dom_classes": [],
            "_model_module": "@jupyter-widgets/controls",
            "_model_module_version": "1.5.0",
            "_model_name": "HBoxModel",
            "_view_count": null,
            "_view_module": "@jupyter-widgets/controls",
            "_view_module_version": "1.5.0",
            "_view_name": "HBoxView",
            "box_style": "",
            "children": [
              "IPY_MODEL_2412cb49d8f6436db4061290d011f1bc",
              "IPY_MODEL_6cb2eb94649c44b980403b9d473dda28",
              "IPY_MODEL_98901a7005094c9ba90d77fbb05e2933"
            ],
            "layout": "IPY_MODEL_6d1d52b86327426eb1c1c3395747b2cd"
          }
        },
        "a49d7c1f581e4ae58a2790f63e013eb8": {
          "model_module": "@jupyter-widgets/base",
          "model_module_version": "1.2.0",
          "model_name": "LayoutModel",
          "state": {
            "_model_module": "@jupyter-widgets/base",
            "_model_module_version": "1.2.0",
            "_model_name": "LayoutModel",
            "_view_count": null,
            "_view_module": "@jupyter-widgets/base",
            "_view_module_version": "1.2.0",
            "_view_name": "LayoutView",
            "align_content": null,
            "align_items": null,
            "align_self": null,
            "border": null,
            "bottom": null,
            "display": null,
            "flex": null,
            "flex_flow": null,
            "grid_area": null,
            "grid_auto_columns": null,
            "grid_auto_flow": null,
            "grid_auto_rows": null,
            "grid_column": null,
            "grid_gap": null,
            "grid_row": null,
            "grid_template_areas": null,
            "grid_template_columns": null,
            "grid_template_rows": null,
            "height": null,
            "justify_content": null,
            "justify_items": null,
            "left": null,
            "margin": null,
            "max_height": null,
            "max_width": null,
            "min_height": null,
            "min_width": null,
            "object_fit": null,
            "object_position": null,
            "order": null,
            "overflow": null,
            "overflow_x": null,
            "overflow_y": null,
            "padding": null,
            "right": null,
            "top": null,
            "visibility": null,
            "width": null
          }
        },
        "abae100c92cf40688206c592233c3fec": {
          "model_module": "@jupyter-widgets/controls",
          "model_module_version": "1.5.0",
          "model_name": "DescriptionStyleModel",
          "state": {
            "_model_module": "@jupyter-widgets/controls",
            "_model_module_version": "1.5.0",
            "_model_name": "DescriptionStyleModel",
            "_view_count": null,
            "_view_module": "@jupyter-widgets/base",
            "_view_module_version": "1.2.0",
            "_view_name": "StyleView",
            "description_width": ""
          }
        },
        "af132e0264484d1faa69a136cf01f626": {
          "model_module": "@jupyter-widgets/controls",
          "model_module_version": "1.5.0",
          "model_name": "ProgressStyleModel",
          "state": {
            "_model_module": "@jupyter-widgets/controls",
            "_model_module_version": "1.5.0",
            "_model_name": "ProgressStyleModel",
            "_view_count": null,
            "_view_module": "@jupyter-widgets/base",
            "_view_module_version": "1.2.0",
            "_view_name": "StyleView",
            "bar_color": null,
            "description_width": ""
          }
        },
        "c836ae2673cc44448b77d6db9a48434e": {
          "model_module": "@jupyter-widgets/controls",
          "model_module_version": "1.5.0",
          "model_name": "ProgressStyleModel",
          "state": {
            "_model_module": "@jupyter-widgets/controls",
            "_model_module_version": "1.5.0",
            "_model_name": "ProgressStyleModel",
            "_view_count": null,
            "_view_module": "@jupyter-widgets/base",
            "_view_module_version": "1.2.0",
            "_view_name": "StyleView",
            "bar_color": null,
            "description_width": ""
          }
        },
        "dfb874a862f34d3a80342dea67f849db": {
          "model_module": "@jupyter-widgets/controls",
          "model_module_version": "1.5.0",
          "model_name": "DescriptionStyleModel",
          "state": {
            "_model_module": "@jupyter-widgets/controls",
            "_model_module_version": "1.5.0",
            "_model_name": "DescriptionStyleModel",
            "_view_count": null,
            "_view_module": "@jupyter-widgets/base",
            "_view_module_version": "1.2.0",
            "_view_name": "StyleView",
            "description_width": ""
          }
        },
        "e2fe6f745baf40dcb3983454d24aaea4": {
          "model_module": "@jupyter-widgets/controls",
          "model_module_version": "1.5.0",
          "model_name": "FloatProgressModel",
          "state": {
            "_dom_classes": [],
            "_model_module": "@jupyter-widgets/controls",
            "_model_module_version": "1.5.0",
            "_model_name": "FloatProgressModel",
            "_view_count": null,
            "_view_module": "@jupyter-widgets/controls",
            "_view_module_version": "1.5.0",
            "_view_name": "ProgressView",
            "bar_style": "success",
            "description": "",
            "description_tooltip": null,
            "layout": "IPY_MODEL_55ca06002af34171b9edb0ba0770434a",
            "max": 1135173,
            "min": 0,
            "orientation": "horizontal",
            "style": "IPY_MODEL_c836ae2673cc44448b77d6db9a48434e",
            "value": 1135173
          }
        },
        "e8352179703446d88c6d49d107b6ccd1": {
          "model_module": "@jupyter-widgets/base",
          "model_module_version": "1.2.0",
          "model_name": "LayoutModel",
          "state": {
            "_model_module": "@jupyter-widgets/base",
            "_model_module_version": "1.2.0",
            "_model_name": "LayoutModel",
            "_view_count": null,
            "_view_module": "@jupyter-widgets/base",
            "_view_module_version": "1.2.0",
            "_view_name": "LayoutView",
            "align_content": null,
            "align_items": null,
            "align_self": null,
            "border": null,
            "bottom": null,
            "display": null,
            "flex": null,
            "flex_flow": null,
            "grid_area": null,
            "grid_auto_columns": null,
            "grid_auto_flow": null,
            "grid_auto_rows": null,
            "grid_column": null,
            "grid_gap": null,
            "grid_row": null,
            "grid_template_areas": null,
            "grid_template_columns": null,
            "grid_template_rows": null,
            "height": null,
            "justify_content": null,
            "justify_items": null,
            "left": null,
            "margin": null,
            "max_height": null,
            "max_width": null,
            "min_height": null,
            "min_width": null,
            "object_fit": null,
            "object_position": null,
            "order": null,
            "overflow": null,
            "overflow_x": null,
            "overflow_y": null,
            "padding": null,
            "right": null,
            "top": null,
            "visibility": null,
            "width": null
          }
        },
        "f85eda1bee0f473cb3399e68876919d4": {
          "model_module": "@jupyter-widgets/controls",
          "model_module_version": "1.5.0",
          "model_name": "DescriptionStyleModel",
          "state": {
            "_model_module": "@jupyter-widgets/controls",
            "_model_module_version": "1.5.0",
            "_model_name": "DescriptionStyleModel",
            "_view_count": null,
            "_view_module": "@jupyter-widgets/base",
            "_view_module_version": "1.2.0",
            "_view_name": "StyleView",
            "description_width": ""
          }
        }
      }
    }
  },
  "nbformat": 4,
  "nbformat_minor": 5
}
