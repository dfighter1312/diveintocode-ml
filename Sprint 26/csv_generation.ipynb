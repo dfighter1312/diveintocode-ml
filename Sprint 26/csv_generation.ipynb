{
 "cells": [
  {
   "cell_type": "code",
   "execution_count": 1,
   "id": "a3c5cf0f",
   "metadata": {},
   "outputs": [],
   "source": [
    "import os\n",
    "import glob\n",
    "import pandas as pd"
   ]
  },
  {
   "cell_type": "code",
   "execution_count": 2,
   "id": "8ca67e7e",
   "metadata": {},
   "outputs": [
    {
     "data": {
      "text/plain": [
       "['Chinh tri Xa hoi',\n",
       " 'Doi song',\n",
       " 'Khoa hoc',\n",
       " 'Kinh doanh',\n",
       " 'Phap luat',\n",
       " 'Suc khoe',\n",
       " 'The gioi',\n",
       " 'The thao',\n",
       " 'Van hoa',\n",
       " 'Vi tinh']"
      ]
     },
     "execution_count": 2,
     "metadata": {},
     "output_type": "execute_result"
    }
   ],
   "source": [
    "train_folder = './Train_Full'\n",
    "test_folder = './Test_Full'\n",
    "\n",
    "sub_folders = [name for name in os.listdir(train_folder) if os.path.isdir(os.path.join(train_folder, name))]\n",
    "sub_folders"
   ]
  },
  {
   "cell_type": "code",
   "execution_count": 3,
   "id": "6c21006f",
   "metadata": {},
   "outputs": [
    {
     "name": "stdout",
     "output_type": "stream",
     "text": [
      "Reading on ./Train_Full\n",
      "0 collected\n",
      "10000 collected\n",
      "20000 collected\n",
      "30000 collected\n"
     ]
    },
    {
     "data": {
      "text/html": [
       "<div>\n",
       "<style scoped>\n",
       "    .dataframe tbody tr th:only-of-type {\n",
       "        vertical-align: middle;\n",
       "    }\n",
       "\n",
       "    .dataframe tbody tr th {\n",
       "        vertical-align: top;\n",
       "    }\n",
       "\n",
       "    .dataframe thead th {\n",
       "        text-align: right;\n",
       "    }\n",
       "</style>\n",
       "<table border=\"1\" class=\"dataframe\">\n",
       "  <thead>\n",
       "    <tr style=\"text-align: right;\">\n",
       "      <th></th>\n",
       "      <th>text</th>\n",
       "      <th>label</th>\n",
       "    </tr>\n",
       "  </thead>\n",
       "  <tbody>\n",
       "    <tr>\n",
       "      <th>0</th>\n",
       "      <td>Thành lập dự án POLICY phòng chống HIV/AIDS ở...</td>\n",
       "      <td>Chinh tri Xa hoi</td>\n",
       "    </tr>\n",
       "    <tr>\n",
       "      <th>1</th>\n",
       "      <td>Hơn 16.000 khách đến vịnh Nha Trang Theo trực...</td>\n",
       "      <td>Chinh tri Xa hoi</td>\n",
       "    </tr>\n",
       "    <tr>\n",
       "      <th>2</th>\n",
       "      <td>TPHCM: Khai trương dịch vụ lặn biển săn cá mậ...</td>\n",
       "      <td>Chinh tri Xa hoi</td>\n",
       "    </tr>\n",
       "    <tr>\n",
       "      <th>3</th>\n",
       "      <td>Du lịch VN sẽ có tư vấn nước ngoài Ông Phạm T...</td>\n",
       "      <td>Chinh tri Xa hoi</td>\n",
       "    </tr>\n",
       "    <tr>\n",
       "      <th>4</th>\n",
       "      <td>Quy chế tuyển sinh 2006: Không làm tròn điểm ...</td>\n",
       "      <td>Chinh tri Xa hoi</td>\n",
       "    </tr>\n",
       "  </tbody>\n",
       "</table>\n",
       "</div>"
      ],
      "text/plain": [
       "                                                text             label\n",
       "0   Thành lập dự án POLICY phòng chống HIV/AIDS ở...  Chinh tri Xa hoi\n",
       "1   Hơn 16.000 khách đến vịnh Nha Trang Theo trực...  Chinh tri Xa hoi\n",
       "2   TPHCM: Khai trương dịch vụ lặn biển săn cá mậ...  Chinh tri Xa hoi\n",
       "3   Du lịch VN sẽ có tư vấn nước ngoài Ông Phạm T...  Chinh tri Xa hoi\n",
       "4   Quy chế tuyển sinh 2006: Không làm tròn điểm ...  Chinh tri Xa hoi"
      ]
     },
     "metadata": {},
     "output_type": "display_data"
    },
    {
     "name": "stdout",
     "output_type": "stream",
     "text": [
      "Reading on ./Test_Full\n",
      "0 collected\n",
      "10000 collected\n",
      "20000 collected\n",
      "30000 collected\n",
      "40000 collected\n",
      "50000 collected\n"
     ]
    },
    {
     "data": {
      "text/html": [
       "<div>\n",
       "<style scoped>\n",
       "    .dataframe tbody tr th:only-of-type {\n",
       "        vertical-align: middle;\n",
       "    }\n",
       "\n",
       "    .dataframe tbody tr th {\n",
       "        vertical-align: top;\n",
       "    }\n",
       "\n",
       "    .dataframe thead th {\n",
       "        text-align: right;\n",
       "    }\n",
       "</style>\n",
       "<table border=\"1\" class=\"dataframe\">\n",
       "  <thead>\n",
       "    <tr style=\"text-align: right;\">\n",
       "      <th></th>\n",
       "      <th>text</th>\n",
       "      <th>label</th>\n",
       "    </tr>\n",
       "  </thead>\n",
       "  <tbody>\n",
       "    <tr>\n",
       "      <th>0</th>\n",
       "      <td>Mạo hiểm rừng Đa Mi Cuộc hành quân khám phá t...</td>\n",
       "      <td>Chinh tri Xa hoi</td>\n",
       "    </tr>\n",
       "    <tr>\n",
       "      <th>1</th>\n",
       "      <td>Tàu du lịch cao tốc Cần Thơ - Phnom Penh Công...</td>\n",
       "      <td>Chinh tri Xa hoi</td>\n",
       "    </tr>\n",
       "    <tr>\n",
       "      <th>2</th>\n",
       "      <td>Miền Trung được mùa khách Thái Đoàn du khách ...</td>\n",
       "      <td>Chinh tri Xa hoi</td>\n",
       "    </tr>\n",
       "    <tr>\n",
       "      <th>3</th>\n",
       "      <td>7 kỳ quan mới của thế giới Cầu Akashi - Kaiky...</td>\n",
       "      <td>Chinh tri Xa hoi</td>\n",
       "    </tr>\n",
       "    <tr>\n",
       "      <th>4</th>\n",
       "      <td>Khối A thi được mấy trường? Thi khối A vào ĐH...</td>\n",
       "      <td>Chinh tri Xa hoi</td>\n",
       "    </tr>\n",
       "  </tbody>\n",
       "</table>\n",
       "</div>"
      ],
      "text/plain": [
       "                                                text             label\n",
       "0   Mạo hiểm rừng Đa Mi Cuộc hành quân khám phá t...  Chinh tri Xa hoi\n",
       "1   Tàu du lịch cao tốc Cần Thơ - Phnom Penh Công...  Chinh tri Xa hoi\n",
       "2   Miền Trung được mùa khách Thái Đoàn du khách ...  Chinh tri Xa hoi\n",
       "3   7 kỳ quan mới của thế giới Cầu Akashi - Kaiky...  Chinh tri Xa hoi\n",
       "4   Khối A thi được mấy trường? Thi khối A vào ĐH...  Chinh tri Xa hoi"
      ]
     },
     "metadata": {},
     "output_type": "display_data"
    }
   ],
   "source": [
    "for main_folder in [train_folder, test_folder]:\n",
    "    print(f\"Reading on {main_folder}\")\n",
    "    df = {\n",
    "        'text': list(),\n",
    "        'label': list()\n",
    "    }\n",
    "    count = 0\n",
    "    for sub_folder in sub_folders:    \n",
    "        for file in glob.glob(os.path.join(main_folder, sub_folder, \"*.txt\")):\n",
    "            with open(file, encoding='utf-16') as f:\n",
    "                # Count for keeping track of reading files\n",
    "                if(count % 10000 == 0):\n",
    "                    print(f\"{count} collected\")\n",
    "                df['text'].append(f.read())\n",
    "                df['label'].append(sub_folder)\n",
    "                count += 1\n",
    "    df = pd.DataFrame(df)\n",
    "    if main_folder == train_folder:\n",
    "        df.to_csv('./csv/train.csv', index=False, encoding='utf-16')\n",
    "    else:\n",
    "        df.to_csv('./csv/test.csv', index=False, encoding='utf-16')\n",
    "    display(df.head())"
   ]
  }
 ],
 "metadata": {
  "kernelspec": {
   "display_name": "Python 3",
   "language": "python",
   "name": "python3"
  },
  "language_info": {
   "codemirror_mode": {
    "name": "ipython",
    "version": 3
   },
   "file_extension": ".py",
   "mimetype": "text/x-python",
   "name": "python",
   "nbconvert_exporter": "python",
   "pygments_lexer": "ipython3",
   "version": "3.8.8"
  }
 },
 "nbformat": 4,
 "nbformat_minor": 5
}
