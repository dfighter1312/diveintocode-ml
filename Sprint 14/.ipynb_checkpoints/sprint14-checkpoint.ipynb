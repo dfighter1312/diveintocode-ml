{
 "cells": [
  {
   "cell_type": "markdown",
   "id": "b2f9e1f6",
   "metadata": {},
   "source": [
    "# Sprint 14\n",
    "\n",
    "## Keras\n",
    "\n",
    "### [Problem 1] Sharing and executing the official tutorial model"
   ]
  },
  {
   "cell_type": "code",
   "execution_count": 1,
   "id": "5495d846",
   "metadata": {},
   "outputs": [],
   "source": [
    "import tensorflow as tf"
   ]
  },
  {
   "cell_type": "code",
   "execution_count": 2,
   "id": "87bee9e7",
   "metadata": {},
   "outputs": [],
   "source": [
    "# Load the data\n",
    "mnist = tf.keras.datasets.mnist\n",
    "\n",
    "(x_train, y_train), (x_test, y_test) = mnist.load_data()\n",
    "x_train, x_test = x_train / 255.0, x_test / 255.0"
   ]
  },
  {
   "cell_type": "code",
   "execution_count": 3,
   "id": "9480e43a",
   "metadata": {},
   "outputs": [],
   "source": [
    "# Example model\n",
    "model = tf.keras.models.Sequential([\n",
    "  tf.keras.layers.Flatten(input_shape=(28, 28)),\n",
    "  tf.keras.layers.Dense(128, activation='relu'),\n",
    "  tf.keras.layers.Dropout(0.2),\n",
    "  tf.keras.layers.Dense(10)\n",
    "])"
   ]
  },
  {
   "cell_type": "code",
   "execution_count": 4,
   "id": "3b0681f0",
   "metadata": {},
   "outputs": [
    {
     "data": {
      "text/plain": [
       "array([[ 0.39897233, -0.05583327, -0.73508793, -0.6665918 ,  0.04693446,\n",
       "         0.7848796 , -0.46473372, -0.59100634,  0.24258548, -0.6889942 ]],\n",
       "      dtype=float32)"
      ]
     },
     "execution_count": 4,
     "metadata": {},
     "output_type": "execute_result"
    }
   ],
   "source": [
    "# Logits from the first sample\n",
    "predictions = model(x_train[:1]).numpy()\n",
    "predictions"
   ]
  },
  {
   "cell_type": "code",
   "execution_count": 5,
   "id": "149d9679",
   "metadata": {},
   "outputs": [
    {
     "data": {
      "text/plain": [
       "array([[0.15479058, 0.09822566, 0.04979989, 0.05333053, 0.10885701,\n",
       "        0.22768894, 0.0652592 , 0.0575178 , 0.13238128, 0.05214908]],\n",
       "      dtype=float32)"
      ]
     },
     "execution_count": 5,
     "metadata": {},
     "output_type": "execute_result"
    }
   ],
   "source": [
    "# Convert logits to probabilities\n",
    "tf.nn.softmax(predictions).numpy()"
   ]
  },
  {
   "cell_type": "code",
   "execution_count": 6,
   "id": "d2e59f15",
   "metadata": {},
   "outputs": [],
   "source": [
    "# Objective function\n",
    "loss_fn = tf.keras.losses.SparseCategoricalCrossentropy(from_logits=True)"
   ]
  },
  {
   "cell_type": "code",
   "execution_count": 7,
   "id": "03aaeb9e",
   "metadata": {},
   "outputs": [],
   "source": [
    "# Configurate and compile the model\n",
    "model.compile(optimizer='adam',\n",
    "              loss=loss_fn,\n",
    "              metrics=['accuracy'])"
   ]
  },
  {
   "cell_type": "code",
   "execution_count": 8,
   "id": "6b49d4af",
   "metadata": {},
   "outputs": [
    {
     "name": "stdout",
     "output_type": "stream",
     "text": [
      "Epoch 1/5\n",
      "1875/1875 [==============================] - 3s 2ms/step - loss: 0.3012 - accuracy: 0.9139\n",
      "Epoch 2/5\n",
      "1875/1875 [==============================] - 3s 2ms/step - loss: 0.1449 - accuracy: 0.9571: 0s - loss: 0.1470 - ac\n",
      "Epoch 3/5\n",
      "1875/1875 [==============================] - 2s 1ms/step - loss: 0.1095 - accuracy: 0.9668\n",
      "Epoch 4/5\n",
      "1875/1875 [==============================] - 3s 2ms/step - loss: 0.0879 - accuracy: 0.9730\n",
      "Epoch 5/5\n",
      "1875/1875 [==============================] - 2s 1ms/step - loss: 0.0758 - accuracy: 0.9755\n"
     ]
    },
    {
     "data": {
      "text/plain": [
       "<tensorflow.python.keras.callbacks.History at 0x1d914e16820>"
      ]
     },
     "execution_count": 8,
     "metadata": {},
     "output_type": "execute_result"
    }
   ],
   "source": [
    "model.fit(x_train, y_train, epochs=5)"
   ]
  },
  {
   "cell_type": "code",
   "execution_count": 9,
   "id": "2ce309ed",
   "metadata": {},
   "outputs": [
    {
     "name": "stdout",
     "output_type": "stream",
     "text": [
      "WARNING:tensorflow:Callbacks method `on_test_batch_end` is slow compared to the batch time (batch time: 0.0000s vs `on_test_batch_end` time: 0.0010s). Check your callbacks.\n",
      "313/313 - 0s - loss: 0.0724 - accuracy: 0.9770\n"
     ]
    },
    {
     "data": {
      "text/plain": [
       "[0.07243641465902328, 0.9769999980926514]"
      ]
     },
     "execution_count": 9,
     "metadata": {},
     "output_type": "execute_result"
    }
   ],
   "source": [
    "model.evaluate(x_test,  y_test, verbose=2)"
   ]
  },
  {
   "cell_type": "code",
   "execution_count": 10,
   "id": "473f9c95",
   "metadata": {},
   "outputs": [],
   "source": [
    "# Return probabilities right away\n",
    "probability_model = tf.keras.Sequential([\n",
    "  model,\n",
    "  tf.keras.layers.Softmax()\n",
    "])"
   ]
  },
  {
   "cell_type": "code",
   "execution_count": 11,
   "id": "3630c249",
   "metadata": {},
   "outputs": [
    {
     "data": {
      "text/plain": [
       "<tf.Tensor: shape=(5, 10), dtype=float32, numpy=\n",
       "array([[9.53524193e-09, 1.38714782e-07, 6.01757438e-06, 1.34830843e-04,\n",
       "        7.15464701e-11, 3.83733209e-07, 8.69825655e-14, 9.99856949e-01,\n",
       "        4.37243102e-07, 1.13263286e-06],\n",
       "       [1.02295623e-07, 1.03874605e-04, 9.99884605e-01, 1.04464352e-05,\n",
       "        1.46658419e-14, 3.98723841e-07, 4.93291111e-07, 1.95466364e-12,\n",
       "        1.09474570e-07, 2.75311132e-13],\n",
       "       [1.54051378e-07, 9.99355733e-01, 7.08013613e-05, 4.44623993e-06,\n",
       "        1.29973059e-05, 8.08008372e-06, 5.44347176e-06, 3.64070293e-04,\n",
       "        1.77123889e-04, 1.17052082e-06],\n",
       "       [9.96882915e-01, 7.06612937e-08, 2.78900698e-04, 3.84474606e-06,\n",
       "        2.92759232e-05, 2.66143470e-05, 1.58052688e-04, 2.57594977e-03,\n",
       "        1.04552146e-06, 4.34298054e-05],\n",
       "       [1.17624040e-07, 2.45754617e-09, 1.39660560e-05, 9.84404210e-07,\n",
       "        9.88049924e-01, 1.06889092e-06, 1.98317352e-07, 1.44484176e-04,\n",
       "        2.76109040e-06, 1.17864357e-02]], dtype=float32)>"
      ]
     },
     "execution_count": 11,
     "metadata": {},
     "output_type": "execute_result"
    }
   ],
   "source": [
    "probability_model(x_test[:5])"
   ]
  },
  {
   "cell_type": "markdown",
   "id": "78bb43b5",
   "metadata": {},
   "source": [
    "### [Problem 2] (Advance assignment) Execute various methods\n",
    "\n",
    "I will try to execute in another workspace."
   ]
  },
  {
   "cell_type": "markdown",
   "id": "ccbdfef1",
   "metadata": {},
   "source": [
    "### [Problem 3] Learning Iris (binary classification) with Keras"
   ]
  },
  {
   "cell_type": "code",
   "execution_count": 12,
   "id": "74644606",
   "metadata": {},
   "outputs": [],
   "source": [
    "import pandas as pd\n",
    "import numpy as np\n",
    "from sklearn.model_selection import train_test_split\n",
    "from sklearn.preprocessing import OneHotEncoder\n",
    "from sklearn.preprocessing import StandardScaler"
   ]
  },
  {
   "cell_type": "code",
   "execution_count": 13,
   "id": "37fff4f5",
   "metadata": {},
   "outputs": [],
   "source": [
    "#Load dataset\n",
    "df = pd.read_csv(\"../Sprint 13/Iris.csv\")\n",
    "\n",
    "#Condition extraction from data frame\n",
    "df = df[(df[\"Species\"] == \"Iris-versicolor\") | (df[\"Species\"] == \"Iris-virginica\")]\n",
    "y = df[\"Species\"]\n",
    "X = df.loc[:, [\"SepalLengthCm\", \"SepalWidthCm\", \"PetalLengthCm\", \"PetalWidthCm\"]]\n",
    "\n",
    "# NumPy\n",
    "X = np.array(X)\n",
    "y = np.array(y)\n",
    "\n",
    "# Convert label to number\n",
    "y[y == \"Iris-versicolor\"] = 0\n",
    "y[y == \"Iris-virginica\"] = 1\n",
    "y = y.astype(np.int64)[:, np.newaxis]\n",
    "\n",
    "scaler = StandardScaler()\n",
    "scaler.fit_transform(X)\n",
    "\n",
    "#Split into train and test\n",
    "X_train, X_test, y_train, y_test = train_test_split(X, y, test_size=0.2, random_state=0)\n",
    "\n",
    "# さらにtrainとvalに分割\n",
    "X_train, X_val, y_train, y_val = train_test_split(X_train, y_train, test_size=0.2, random_state=0)"
   ]
  },
  {
   "cell_type": "code",
   "execution_count": 14,
   "id": "e2b995d1",
   "metadata": {},
   "outputs": [],
   "source": [
    "model = tf.keras.Sequential([\n",
    "    tf.keras.layers.Dense(50, activation=\"relu\", input_shape=(4,)),\n",
    "    tf.keras.layers.Dense(100, activation=\"relu\"),\n",
    "    tf.keras.layers.Dense(1, activation=\"sigmoid\")\n",
    "])"
   ]
  },
  {
   "cell_type": "code",
   "execution_count": 15,
   "id": "598c228f",
   "metadata": {},
   "outputs": [],
   "source": [
    "model.compile(optimizer='adam',\n",
    "              loss=\"binary_crossentropy\",\n",
    "              metrics=['accuracy'])"
   ]
  },
  {
   "cell_type": "code",
   "execution_count": 16,
   "id": "693d3c76",
   "metadata": {},
   "outputs": [
    {
     "name": "stdout",
     "output_type": "stream",
     "text": [
      "Model: \"sequential_2\"\n",
      "_________________________________________________________________\n",
      "Layer (type)                 Output Shape              Param #   \n",
      "=================================================================\n",
      "dense_2 (Dense)              (None, 50)                250       \n",
      "_________________________________________________________________\n",
      "dense_3 (Dense)              (None, 100)               5100      \n",
      "_________________________________________________________________\n",
      "dense_4 (Dense)              (None, 1)                 101       \n",
      "=================================================================\n",
      "Total params: 5,451\n",
      "Trainable params: 5,451\n",
      "Non-trainable params: 0\n",
      "_________________________________________________________________\n"
     ]
    }
   ],
   "source": [
    "model.summary()"
   ]
  },
  {
   "cell_type": "code",
   "execution_count": 17,
   "id": "b0a4bd2d",
   "metadata": {},
   "outputs": [
    {
     "name": "stdout",
     "output_type": "stream",
     "text": [
      "Epoch 1/100\n",
      "7/7 [==============================] - 0s 22ms/step - loss: 0.7047 - accuracy: 0.4688 - val_loss: 0.7312 - val_accuracy: 0.3750\n",
      "Epoch 2/100\n",
      "7/7 [==============================] - 0s 5ms/step - loss: 0.6724 - accuracy: 0.5312 - val_loss: 0.7141 - val_accuracy: 0.3750\n",
      "Epoch 3/100\n",
      "7/7 [==============================] - 0s 4ms/step - loss: 0.6617 - accuracy: 0.5312 - val_loss: 0.6659 - val_accuracy: 0.3750\n",
      "Epoch 4/100\n",
      "7/7 [==============================] - 0s 5ms/step - loss: 0.6436 - accuracy: 0.7344 - val_loss: 0.6622 - val_accuracy: 0.3750\n",
      "Epoch 5/100\n",
      "7/7 [==============================] - 0s 5ms/step - loss: 0.6256 - accuracy: 0.5469 - val_loss: 0.6771 - val_accuracy: 0.3750\n",
      "Epoch 6/100\n",
      "7/7 [==============================] - 0s 5ms/step - loss: 0.6232 - accuracy: 0.5312 - val_loss: 0.6687 - val_accuracy: 0.3750\n",
      "Epoch 7/100\n",
      "7/7 [==============================] - 0s 5ms/step - loss: 0.6155 - accuracy: 0.6875 - val_loss: 0.6126 - val_accuracy: 0.9375\n",
      "Epoch 8/100\n",
      "7/7 [==============================] - 0s 5ms/step - loss: 0.5945 - accuracy: 0.9062 - val_loss: 0.6109 - val_accuracy: 0.8125\n",
      "Epoch 9/100\n",
      "7/7 [==============================] - 0s 4ms/step - loss: 0.5788 - accuracy: 0.7344 - val_loss: 0.6231 - val_accuracy: 0.6250\n",
      "Epoch 10/100\n",
      "7/7 [==============================] - 0s 4ms/step - loss: 0.5862 - accuracy: 0.5781 - val_loss: 0.6369 - val_accuracy: 0.3750\n",
      "Epoch 11/100\n",
      "7/7 [==============================] - 0s 5ms/step - loss: 0.5785 - accuracy: 0.6562 - val_loss: 0.5734 - val_accuracy: 0.8750\n",
      "Epoch 12/100\n",
      "7/7 [==============================] - 0s 4ms/step - loss: 0.5453 - accuracy: 0.7812 - val_loss: 0.5893 - val_accuracy: 0.6250\n",
      "Epoch 13/100\n",
      "7/7 [==============================] - 0s 3ms/step - loss: 0.5423 - accuracy: 0.7344 - val_loss: 0.5711 - val_accuracy: 0.7500\n",
      "Epoch 14/100\n",
      "7/7 [==============================] - 0s 3ms/step - loss: 0.5460 - accuracy: 0.8594 - val_loss: 0.5211 - val_accuracy: 0.9375\n",
      "Epoch 15/100\n",
      "7/7 [==============================] - 0s 3ms/step - loss: 0.5174 - accuracy: 0.9219 - val_loss: 0.5400 - val_accuracy: 0.8750\n",
      "Epoch 16/100\n",
      "7/7 [==============================] - 0s 3ms/step - loss: 0.4971 - accuracy: 0.8594 - val_loss: 0.5214 - val_accuracy: 0.8750\n",
      "Epoch 17/100\n",
      "7/7 [==============================] - 0s 3ms/step - loss: 0.4839 - accuracy: 0.9062 - val_loss: 0.4979 - val_accuracy: 0.9375\n",
      "Epoch 18/100\n",
      "7/7 [==============================] - 0s 3ms/step - loss: 0.4707 - accuracy: 0.9531 - val_loss: 0.4814 - val_accuracy: 0.9375\n",
      "Epoch 19/100\n",
      "7/7 [==============================] - 0s 3ms/step - loss: 0.4573 - accuracy: 0.9531 - val_loss: 0.4736 - val_accuracy: 0.9375\n",
      "Epoch 20/100\n",
      "7/7 [==============================] - 0s 4ms/step - loss: 0.4462 - accuracy: 0.8906 - val_loss: 0.4642 - val_accuracy: 0.9375\n",
      "Epoch 21/100\n",
      "7/7 [==============================] - 0s 3ms/step - loss: 0.4355 - accuracy: 0.9219 - val_loss: 0.4357 - val_accuracy: 1.0000\n",
      "Epoch 22/100\n",
      "7/7 [==============================] - 0s 3ms/step - loss: 0.4261 - accuracy: 0.9688 - val_loss: 0.4278 - val_accuracy: 0.9375\n",
      "Epoch 23/100\n",
      "7/7 [==============================] - 0s 3ms/step - loss: 0.4113 - accuracy: 0.9688 - val_loss: 0.4020 - val_accuracy: 1.0000\n",
      "Epoch 24/100\n",
      "7/7 [==============================] - 0s 4ms/step - loss: 0.3925 - accuracy: 0.9688 - val_loss: 0.4146 - val_accuracy: 0.9375\n",
      "Epoch 25/100\n",
      "7/7 [==============================] - 0s 3ms/step - loss: 0.3895 - accuracy: 0.8906 - val_loss: 0.3815 - val_accuracy: 1.0000\n",
      "Epoch 26/100\n",
      "7/7 [==============================] - 0s 3ms/step - loss: 0.3911 - accuracy: 0.9219 - val_loss: 0.3575 - val_accuracy: 1.0000\n",
      "Epoch 27/100\n",
      "7/7 [==============================] - 0s 3ms/step - loss: 0.3531 - accuracy: 0.9531 - val_loss: 0.3813 - val_accuracy: 0.9375\n",
      "Epoch 28/100\n",
      "7/7 [==============================] - 0s 4ms/step - loss: 0.3472 - accuracy: 0.9062 - val_loss: 0.3428 - val_accuracy: 1.0000\n",
      "Epoch 29/100\n",
      "7/7 [==============================] - 0s 5ms/step - loss: 0.3336 - accuracy: 0.9688 - val_loss: 0.3181 - val_accuracy: 1.0000\n",
      "Epoch 30/100\n",
      "7/7 [==============================] - 0s 4ms/step - loss: 0.3244 - accuracy: 0.9688 - val_loss: 0.3227 - val_accuracy: 1.0000\n",
      "Epoch 31/100\n",
      "7/7 [==============================] - 0s 5ms/step - loss: 0.3076 - accuracy: 0.9688 - val_loss: 0.2953 - val_accuracy: 1.0000\n",
      "Epoch 32/100\n",
      "7/7 [==============================] - 0s 5ms/step - loss: 0.2978 - accuracy: 0.9688 - val_loss: 0.2859 - val_accuracy: 1.0000\n",
      "Epoch 33/100\n",
      "7/7 [==============================] - 0s 4ms/step - loss: 0.2891 - accuracy: 0.9688 - val_loss: 0.2845 - val_accuracy: 1.0000\n",
      "Epoch 34/100\n",
      "7/7 [==============================] - 0s 5ms/step - loss: 0.2870 - accuracy: 0.9688 - val_loss: 0.2625 - val_accuracy: 1.0000\n",
      "Epoch 35/100\n",
      "7/7 [==============================] - 0s 4ms/step - loss: 0.2911 - accuracy: 0.9219 - val_loss: 0.2496 - val_accuracy: 1.0000\n",
      "Epoch 36/100\n",
      "7/7 [==============================] - 0s 5ms/step - loss: 0.2721 - accuracy: 0.9219 - val_loss: 0.2913 - val_accuracy: 0.9375\n",
      "Epoch 37/100\n",
      "7/7 [==============================] - 0s 5ms/step - loss: 0.2581 - accuracy: 0.9531 - val_loss: 0.2318 - val_accuracy: 1.0000\n",
      "Epoch 38/100\n",
      "7/7 [==============================] - 0s 5ms/step - loss: 0.2486 - accuracy: 0.9375 - val_loss: 0.2319 - val_accuracy: 1.0000\n",
      "Epoch 39/100\n",
      "7/7 [==============================] - 0s 4ms/step - loss: 0.2405 - accuracy: 0.9688 - val_loss: 0.2283 - val_accuracy: 1.0000\n",
      "Epoch 40/100\n",
      "7/7 [==============================] - 0s 4ms/step - loss: 0.2256 - accuracy: 0.9688 - val_loss: 0.2061 - val_accuracy: 1.0000\n",
      "Epoch 41/100\n",
      "7/7 [==============================] - 0s 4ms/step - loss: 0.2427 - accuracy: 0.9375 - val_loss: 0.2008 - val_accuracy: 1.0000\n",
      "Epoch 42/100\n",
      "7/7 [==============================] - 0s 5ms/step - loss: 0.2322 - accuracy: 0.9531 - val_loss: 0.2151 - val_accuracy: 1.0000\n",
      "Epoch 43/100\n",
      "7/7 [==============================] - 0s 5ms/step - loss: 0.2074 - accuracy: 0.9688 - val_loss: 0.1843 - val_accuracy: 1.0000\n",
      "Epoch 44/100\n",
      "7/7 [==============================] - 0s 5ms/step - loss: 0.2162 - accuracy: 0.9531 - val_loss: 0.1793 - val_accuracy: 1.0000\n",
      "Epoch 45/100\n",
      "7/7 [==============================] - 0s 5ms/step - loss: 0.2009 - accuracy: 0.9688 - val_loss: 0.1731 - val_accuracy: 1.0000\n",
      "Epoch 46/100\n",
      "7/7 [==============================] - 0s 4ms/step - loss: 0.1934 - accuracy: 0.9688 - val_loss: 0.1765 - val_accuracy: 1.0000\n",
      "Epoch 47/100\n",
      "7/7 [==============================] - 0s 4ms/step - loss: 0.1937 - accuracy: 0.9688 - val_loss: 0.1625 - val_accuracy: 1.0000\n",
      "Epoch 48/100\n",
      "7/7 [==============================] - 0s 4ms/step - loss: 0.1902 - accuracy: 0.9688 - val_loss: 0.1737 - val_accuracy: 1.0000\n",
      "Epoch 49/100\n",
      "7/7 [==============================] - 0s 4ms/step - loss: 0.1858 - accuracy: 0.9688 - val_loss: 0.1529 - val_accuracy: 1.0000\n",
      "Epoch 50/100\n",
      "7/7 [==============================] - 0s 5ms/step - loss: 0.1784 - accuracy: 0.9688 - val_loss: 0.1541 - val_accuracy: 1.0000\n",
      "Epoch 51/100\n",
      "7/7 [==============================] - 0s 4ms/step - loss: 0.1735 - accuracy: 0.9688 - val_loss: 0.1452 - val_accuracy: 1.0000\n",
      "Epoch 52/100\n",
      "7/7 [==============================] - 0s 5ms/step - loss: 0.1753 - accuracy: 0.9688 - val_loss: 0.1402 - val_accuracy: 1.0000\n",
      "Epoch 53/100\n",
      "7/7 [==============================] - 0s 4ms/step - loss: 0.1661 - accuracy: 0.9688 - val_loss: 0.1357 - val_accuracy: 1.0000\n",
      "Epoch 54/100\n",
      "7/7 [==============================] - 0s 5ms/step - loss: 0.1623 - accuracy: 0.9688 - val_loss: 0.1371 - val_accuracy: 1.0000\n",
      "Epoch 55/100\n",
      "7/7 [==============================] - 0s 5ms/step - loss: 0.1692 - accuracy: 0.9688 - val_loss: 0.1325 - val_accuracy: 1.0000\n",
      "Epoch 56/100\n",
      "7/7 [==============================] - 0s 5ms/step - loss: 0.1679 - accuracy: 0.9531 - val_loss: 0.1328 - val_accuracy: 1.0000\n",
      "Epoch 57/100\n",
      "7/7 [==============================] - 0s 4ms/step - loss: 0.1707 - accuracy: 0.9375 - val_loss: 0.1291 - val_accuracy: 1.0000\n",
      "Epoch 58/100\n",
      "7/7 [==============================] - 0s 4ms/step - loss: 0.1483 - accuracy: 0.9688 - val_loss: 0.1186 - val_accuracy: 1.0000\n",
      "Epoch 59/100\n"
     ]
    },
    {
     "name": "stdout",
     "output_type": "stream",
     "text": [
      "7/7 [==============================] - 0s 5ms/step - loss: 0.1512 - accuracy: 0.9688 - val_loss: 0.1159 - val_accuracy: 1.0000\n",
      "Epoch 60/100\n",
      "7/7 [==============================] - 0s 4ms/step - loss: 0.1437 - accuracy: 0.9688 - val_loss: 0.1198 - val_accuracy: 1.0000\n",
      "Epoch 61/100\n",
      "7/7 [==============================] - 0s 5ms/step - loss: 0.1477 - accuracy: 0.9688 - val_loss: 0.1123 - val_accuracy: 1.0000\n",
      "Epoch 62/100\n",
      "7/7 [==============================] - 0s 5ms/step - loss: 0.1431 - accuracy: 0.9531 - val_loss: 0.1098 - val_accuracy: 1.0000\n",
      "Epoch 63/100\n",
      "7/7 [==============================] - 0s 5ms/step - loss: 0.1372 - accuracy: 0.9844 - val_loss: 0.1097 - val_accuracy: 1.0000\n",
      "Epoch 64/100\n",
      "7/7 [==============================] - 0s 5ms/step - loss: 0.1391 - accuracy: 0.9688 - val_loss: 0.1036 - val_accuracy: 1.0000\n",
      "Epoch 65/100\n",
      "7/7 [==============================] - 0s 5ms/step - loss: 0.1389 - accuracy: 0.9531 - val_loss: 0.1013 - val_accuracy: 1.0000\n",
      "Epoch 66/100\n",
      "7/7 [==============================] - 0s 5ms/step - loss: 0.1330 - accuracy: 0.9688 - val_loss: 0.1017 - val_accuracy: 1.0000\n",
      "Epoch 67/100\n",
      "7/7 [==============================] - 0s 4ms/step - loss: 0.1253 - accuracy: 0.9688 - val_loss: 0.0976 - val_accuracy: 1.0000\n",
      "Epoch 68/100\n",
      "7/7 [==============================] - 0s 6ms/step - loss: 0.1533 - accuracy: 0.9375 - val_loss: 0.0956 - val_accuracy: 1.0000\n",
      "Epoch 69/100\n",
      "7/7 [==============================] - 0s 5ms/step - loss: 0.1258 - accuracy: 0.9688 - val_loss: 0.0938 - val_accuracy: 1.0000\n",
      "Epoch 70/100\n",
      "7/7 [==============================] - 0s 4ms/step - loss: 0.1248 - accuracy: 0.9688 - val_loss: 0.0985 - val_accuracy: 1.0000\n",
      "Epoch 71/100\n",
      "7/7 [==============================] - 0s 5ms/step - loss: 0.1310 - accuracy: 0.9688 - val_loss: 0.0930 - val_accuracy: 1.0000\n",
      "Epoch 72/100\n",
      "7/7 [==============================] - 0s 4ms/step - loss: 0.1246 - accuracy: 0.9688 - val_loss: 0.0905 - val_accuracy: 1.0000\n",
      "Epoch 73/100\n",
      "7/7 [==============================] - 0s 3ms/step - loss: 0.1275 - accuracy: 0.9688 - val_loss: 0.0872 - val_accuracy: 1.0000\n",
      "Epoch 74/100\n",
      "7/7 [==============================] - 0s 3ms/step - loss: 0.1203 - accuracy: 0.9688 - val_loss: 0.0882 - val_accuracy: 1.0000\n",
      "Epoch 75/100\n",
      "7/7 [==============================] - 0s 3ms/step - loss: 0.1142 - accuracy: 0.9688 - val_loss: 0.0839 - val_accuracy: 1.0000\n",
      "Epoch 76/100\n",
      "7/7 [==============================] - 0s 3ms/step - loss: 0.1125 - accuracy: 0.9688 - val_loss: 0.0883 - val_accuracy: 1.0000\n",
      "Epoch 77/100\n",
      "7/7 [==============================] - 0s 3ms/step - loss: 0.1269 - accuracy: 0.9531 - val_loss: 0.0818 - val_accuracy: 1.0000\n",
      "Epoch 78/100\n",
      "7/7 [==============================] - 0s 3ms/step - loss: 0.1100 - accuracy: 0.9688 - val_loss: 0.0882 - val_accuracy: 1.0000\n",
      "Epoch 79/100\n",
      "7/7 [==============================] - 0s 3ms/step - loss: 0.1143 - accuracy: 0.9688 - val_loss: 0.0795 - val_accuracy: 1.0000\n",
      "Epoch 80/100\n",
      "7/7 [==============================] - 0s 3ms/step - loss: 0.1363 - accuracy: 0.9219 - val_loss: 0.0836 - val_accuracy: 1.0000\n",
      "Epoch 81/100\n",
      "7/7 [==============================] - 0s 3ms/step - loss: 0.1027 - accuracy: 0.9688 - val_loss: 0.0994 - val_accuracy: 1.0000\n",
      "Epoch 82/100\n",
      "7/7 [==============================] - 0s 3ms/step - loss: 0.1227 - accuracy: 0.9688 - val_loss: 0.0767 - val_accuracy: 1.0000\n",
      "Epoch 83/100\n",
      "7/7 [==============================] - 0s 4ms/step - loss: 0.1029 - accuracy: 0.9844 - val_loss: 0.0746 - val_accuracy: 1.0000\n",
      "Epoch 84/100\n",
      "7/7 [==============================] - 0s 3ms/step - loss: 0.1032 - accuracy: 0.9688 - val_loss: 0.0735 - val_accuracy: 1.0000\n",
      "Epoch 85/100\n",
      "7/7 [==============================] - 0s 3ms/step - loss: 0.1082 - accuracy: 0.9688 - val_loss: 0.0723 - val_accuracy: 1.0000\n",
      "Epoch 86/100\n",
      "7/7 [==============================] - 0s 3ms/step - loss: 0.1058 - accuracy: 0.9688 - val_loss: 0.0717 - val_accuracy: 1.0000\n",
      "Epoch 87/100\n",
      "7/7 [==============================] - 0s 3ms/step - loss: 0.1033 - accuracy: 0.9688 - val_loss: 0.0828 - val_accuracy: 1.0000\n",
      "Epoch 88/100\n",
      "7/7 [==============================] - 0s 3ms/step - loss: 0.1004 - accuracy: 0.9688 - val_loss: 0.0701 - val_accuracy: 1.0000\n",
      "Epoch 89/100\n",
      "7/7 [==============================] - 0s 3ms/step - loss: 0.1007 - accuracy: 0.9688 - val_loss: 0.0760 - val_accuracy: 1.0000\n",
      "Epoch 90/100\n",
      "7/7 [==============================] - 0s 3ms/step - loss: 0.1057 - accuracy: 0.9688 - val_loss: 0.0688 - val_accuracy: 1.0000\n",
      "Epoch 91/100\n",
      "7/7 [==============================] - 0s 3ms/step - loss: 0.0934 - accuracy: 0.9688 - val_loss: 0.0680 - val_accuracy: 1.0000\n",
      "Epoch 92/100\n",
      "7/7 [==============================] - 0s 3ms/step - loss: 0.0990 - accuracy: 0.9688 - val_loss: 0.0682 - val_accuracy: 1.0000\n",
      "Epoch 93/100\n",
      "7/7 [==============================] - 0s 3ms/step - loss: 0.0950 - accuracy: 0.9844 - val_loss: 0.0741 - val_accuracy: 1.0000\n",
      "Epoch 94/100\n",
      "7/7 [==============================] - 0s 3ms/step - loss: 0.1041 - accuracy: 0.9531 - val_loss: 0.0644 - val_accuracy: 1.0000\n",
      "Epoch 95/100\n",
      "7/7 [==============================] - 0s 3ms/step - loss: 0.0898 - accuracy: 0.9688 - val_loss: 0.0641 - val_accuracy: 1.0000\n",
      "Epoch 96/100\n",
      "7/7 [==============================] - 0s 3ms/step - loss: 0.0904 - accuracy: 0.9688 - val_loss: 0.0629 - val_accuracy: 1.0000\n",
      "Epoch 97/100\n",
      "7/7 [==============================] - 0s 3ms/step - loss: 0.1065 - accuracy: 0.9688 - val_loss: 0.0662 - val_accuracy: 1.0000\n",
      "Epoch 98/100\n",
      "7/7 [==============================] - 0s 3ms/step - loss: 0.0951 - accuracy: 0.9688 - val_loss: 0.0736 - val_accuracy: 1.0000\n",
      "Epoch 99/100\n",
      "7/7 [==============================] - 0s 3ms/step - loss: 0.1010 - accuracy: 0.9688 - val_loss: 0.0603 - val_accuracy: 1.0000\n",
      "Epoch 100/100\n",
      "7/7 [==============================] - 0s 3ms/step - loss: 0.0941 - accuracy: 0.9688 - val_loss: 0.0640 - val_accuracy: 1.0000\n"
     ]
    },
    {
     "data": {
      "text/plain": [
       "<tensorflow.python.keras.callbacks.History at 0x1d917f051f0>"
      ]
     },
     "execution_count": 17,
     "metadata": {},
     "output_type": "execute_result"
    }
   ],
   "source": [
    "model.fit(X_train, y_train, epochs=100, validation_data=(X_val, y_val), batch_size=10)"
   ]
  },
  {
   "cell_type": "code",
   "execution_count": 18,
   "id": "3119ea99",
   "metadata": {},
   "outputs": [
    {
     "name": "stdout",
     "output_type": "stream",
     "text": [
      "1/1 - 0s - loss: 0.1940 - accuracy: 0.9500\n"
     ]
    },
    {
     "data": {
      "text/plain": [
       "[0.19401291012763977, 0.949999988079071]"
      ]
     },
     "execution_count": 18,
     "metadata": {},
     "output_type": "execute_result"
    }
   ],
   "source": [
    "model.evaluate(X_test,  y_test, verbose=2)"
   ]
  },
  {
   "cell_type": "markdown",
   "id": "8c813221",
   "metadata": {},
   "source": [
    "### [Problem 4] Learn Iris (multi-level classification) with Keras"
   ]
  },
  {
   "cell_type": "code",
   "execution_count": 19,
   "id": "6e66fa99",
   "metadata": {},
   "outputs": [],
   "source": [
    "df = pd.read_csv(\"../Sprint 13/Iris.csv\")\n",
    "\n",
    "y = df[\"Species\"].values\n",
    "X = df.loc[:, [\"SepalLengthCm\", \"SepalWidthCm\", \"PetalLengthCm\", \"PetalWidthCm\"]].values\n",
    "\n",
    "encoder = OneHotEncoder()\n",
    "y_one_hot = encoder.fit_transform(y[:, np.newaxis]).toarray()\n",
    "\n",
    "#Split into train and test\n",
    "X_train, X_test, y_train, y_test = train_test_split(X, y_one_hot, test_size=0.2, random_state=0)\n",
    "\n",
    "# さらにtrainとvalに分割\n",
    "X_train, X_val, y_train, y_val = train_test_split(X_train, y_train, test_size=0.2, random_state=0)"
   ]
  },
  {
   "cell_type": "code",
   "execution_count": 20,
   "id": "3ac18ebd",
   "metadata": {},
   "outputs": [],
   "source": [
    "model = tf.keras.Sequential([\n",
    "    tf.keras.layers.Dense(50, activation=\"relu\", input_shape=(4,)),\n",
    "    tf.keras.layers.Dense(100, activation=\"relu\"),\n",
    "    tf.keras.layers.Dense(3, activation=\"softmax\")\n",
    "])"
   ]
  },
  {
   "cell_type": "code",
   "execution_count": 21,
   "id": "869caa80",
   "metadata": {},
   "outputs": [],
   "source": [
    "model.compile(optimizer='adam',\n",
    "              loss=\"categorical_crossentropy\",\n",
    "              metrics=['accuracy'])"
   ]
  },
  {
   "cell_type": "code",
   "execution_count": 22,
   "id": "379489ef",
   "metadata": {},
   "outputs": [
    {
     "name": "stdout",
     "output_type": "stream",
     "text": [
      "Model: \"sequential_3\"\n",
      "_________________________________________________________________\n",
      "Layer (type)                 Output Shape              Param #   \n",
      "=================================================================\n",
      "dense_5 (Dense)              (None, 50)                250       \n",
      "_________________________________________________________________\n",
      "dense_6 (Dense)              (None, 100)               5100      \n",
      "_________________________________________________________________\n",
      "dense_7 (Dense)              (None, 3)                 303       \n",
      "=================================================================\n",
      "Total params: 5,653\n",
      "Trainable params: 5,653\n",
      "Non-trainable params: 0\n",
      "_________________________________________________________________\n"
     ]
    }
   ],
   "source": [
    "model.summary()"
   ]
  },
  {
   "cell_type": "code",
   "execution_count": 23,
   "id": "cd26292b",
   "metadata": {},
   "outputs": [
    {
     "name": "stdout",
     "output_type": "stream",
     "text": [
      "Epoch 1/100\n",
      "10/10 [==============================] - 0s 12ms/step - loss: 1.1659 - accuracy: 0.3021 - val_loss: 1.0339 - val_accuracy: 0.3750\n",
      "Epoch 2/100\n",
      "10/10 [==============================] - 0s 2ms/step - loss: 1.0018 - accuracy: 0.3854 - val_loss: 0.9087 - val_accuracy: 0.6250\n",
      "Epoch 3/100\n",
      "10/10 [==============================] - 0s 2ms/step - loss: 0.8845 - accuracy: 0.6667 - val_loss: 0.8134 - val_accuracy: 0.7083\n",
      "Epoch 4/100\n",
      "10/10 [==============================] - 0s 2ms/step - loss: 0.7843 - accuracy: 0.6875 - val_loss: 0.7298 - val_accuracy: 0.7083\n",
      "Epoch 5/100\n",
      "10/10 [==============================] - 0s 2ms/step - loss: 0.7018 - accuracy: 0.6875 - val_loss: 0.6559 - val_accuracy: 0.7083\n",
      "Epoch 6/100\n",
      "10/10 [==============================] - 0s 2ms/step - loss: 0.6286 - accuracy: 0.6875 - val_loss: 0.5932 - val_accuracy: 0.7083\n",
      "Epoch 7/100\n",
      "10/10 [==============================] - 0s 2ms/step - loss: 0.5682 - accuracy: 0.6875 - val_loss: 0.5429 - val_accuracy: 0.7083\n",
      "Epoch 8/100\n",
      "10/10 [==============================] - 0s 2ms/step - loss: 0.5179 - accuracy: 0.8125 - val_loss: 0.5005 - val_accuracy: 0.7083\n",
      "Epoch 9/100\n",
      "10/10 [==============================] - 0s 2ms/step - loss: 0.4820 - accuracy: 0.7292 - val_loss: 0.4678 - val_accuracy: 0.7083\n",
      "Epoch 10/100\n",
      "10/10 [==============================] - 0s 2ms/step - loss: 0.4438 - accuracy: 0.9375 - val_loss: 0.4482 - val_accuracy: 0.9167\n",
      "Epoch 11/100\n",
      "10/10 [==============================] - 0s 2ms/step - loss: 0.4169 - accuracy: 0.9167 - val_loss: 0.4228 - val_accuracy: 0.7917\n",
      "Epoch 12/100\n",
      "10/10 [==============================] - 0s 3ms/step - loss: 0.3912 - accuracy: 0.8438 - val_loss: 0.4015 - val_accuracy: 0.7500\n",
      "Epoch 13/100\n",
      "10/10 [==============================] - 0s 2ms/step - loss: 0.3617 - accuracy: 0.9479 - val_loss: 0.3871 - val_accuracy: 0.9167\n",
      "Epoch 14/100\n",
      "10/10 [==============================] - 0s 2ms/step - loss: 0.3423 - accuracy: 0.9688 - val_loss: 0.3706 - val_accuracy: 0.9167\n",
      "Epoch 15/100\n",
      "10/10 [==============================] - 0s 2ms/step - loss: 0.3262 - accuracy: 0.9062 - val_loss: 0.3538 - val_accuracy: 0.9167\n",
      "Epoch 16/100\n",
      "10/10 [==============================] - 0s 2ms/step - loss: 0.3032 - accuracy: 0.9792 - val_loss: 0.3355 - val_accuracy: 0.9167\n",
      "Epoch 17/100\n",
      "10/10 [==============================] - 0s 2ms/step - loss: 0.2777 - accuracy: 0.9583 - val_loss: 0.3229 - val_accuracy: 0.9167\n",
      "Epoch 18/100\n",
      "10/10 [==============================] - 0s 2ms/step - loss: 0.2704 - accuracy: 0.9167 - val_loss: 0.3111 - val_accuracy: 0.9167\n",
      "Epoch 19/100\n",
      "10/10 [==============================] - 0s 2ms/step - loss: 0.2545 - accuracy: 0.9583 - val_loss: 0.3019 - val_accuracy: 0.9167\n",
      "Epoch 20/100\n",
      "10/10 [==============================] - 0s 2ms/step - loss: 0.2366 - accuracy: 0.9583 - val_loss: 0.2876 - val_accuracy: 0.9167\n",
      "Epoch 21/100\n",
      "10/10 [==============================] - 0s 2ms/step - loss: 0.2162 - accuracy: 0.9688 - val_loss: 0.2769 - val_accuracy: 0.9167\n",
      "Epoch 22/100\n",
      "10/10 [==============================] - 0s 3ms/step - loss: 0.2128 - accuracy: 0.9792 - val_loss: 0.2853 - val_accuracy: 0.9167\n",
      "Epoch 23/100\n",
      "10/10 [==============================] - 0s 3ms/step - loss: 0.1944 - accuracy: 0.9583 - val_loss: 0.2575 - val_accuracy: 0.9167\n",
      "Epoch 24/100\n",
      "10/10 [==============================] - 0s 2ms/step - loss: 0.1790 - accuracy: 0.9688 - val_loss: 0.2540 - val_accuracy: 0.9167\n",
      "Epoch 25/100\n",
      "10/10 [==============================] - 0s 2ms/step - loss: 0.1691 - accuracy: 0.9583 - val_loss: 0.2421 - val_accuracy: 0.9167\n",
      "Epoch 26/100\n",
      "10/10 [==============================] - 0s 2ms/step - loss: 0.1577 - accuracy: 0.9792 - val_loss: 0.2386 - val_accuracy: 0.9167\n",
      "Epoch 27/100\n",
      "10/10 [==============================] - 0s 3ms/step - loss: 0.1551 - accuracy: 0.9792 - val_loss: 0.2348 - val_accuracy: 0.9167\n",
      "Epoch 28/100\n",
      "10/10 [==============================] - 0s 3ms/step - loss: 0.1408 - accuracy: 0.9792 - val_loss: 0.2228 - val_accuracy: 0.9167\n",
      "Epoch 29/100\n",
      "10/10 [==============================] - 0s 2ms/step - loss: 0.1451 - accuracy: 0.9688 - val_loss: 0.2185 - val_accuracy: 0.9583\n",
      "Epoch 30/100\n",
      "10/10 [==============================] - 0s 2ms/step - loss: 0.1363 - accuracy: 0.9688 - val_loss: 0.2419 - val_accuracy: 0.9167\n",
      "Epoch 31/100\n",
      "10/10 [==============================] - 0s 2ms/step - loss: 0.1387 - accuracy: 0.9583 - val_loss: 0.2095 - val_accuracy: 0.9583\n",
      "Epoch 32/100\n",
      "10/10 [==============================] - 0s 2ms/step - loss: 0.1342 - accuracy: 0.9688 - val_loss: 0.2238 - val_accuracy: 0.9167\n",
      "Epoch 33/100\n",
      "10/10 [==============================] - 0s 2ms/step - loss: 0.1201 - accuracy: 0.9688 - val_loss: 0.2014 - val_accuracy: 0.9167\n",
      "Epoch 34/100\n",
      "10/10 [==============================] - 0s 2ms/step - loss: 0.1102 - accuracy: 0.9792 - val_loss: 0.2011 - val_accuracy: 0.9167\n",
      "Epoch 35/100\n",
      "10/10 [==============================] - 0s 2ms/step - loss: 0.1059 - accuracy: 0.9792 - val_loss: 0.2001 - val_accuracy: 0.9167\n",
      "Epoch 36/100\n",
      "10/10 [==============================] - 0s 3ms/step - loss: 0.1044 - accuracy: 0.9792 - val_loss: 0.1950 - val_accuracy: 0.9167\n",
      "Epoch 37/100\n",
      "10/10 [==============================] - 0s 3ms/step - loss: 0.0972 - accuracy: 0.9792 - val_loss: 0.2042 - val_accuracy: 0.9167\n",
      "Epoch 38/100\n",
      "10/10 [==============================] - 0s 3ms/step - loss: 0.0987 - accuracy: 0.9896 - val_loss: 0.1939 - val_accuracy: 0.9167\n",
      "Epoch 39/100\n",
      "10/10 [==============================] - 0s 3ms/step - loss: 0.0966 - accuracy: 0.9792 - val_loss: 0.1877 - val_accuracy: 0.9167\n",
      "Epoch 40/100\n",
      "10/10 [==============================] - 0s 3ms/step - loss: 0.0998 - accuracy: 0.9792 - val_loss: 0.2022 - val_accuracy: 0.9167\n",
      "Epoch 41/100\n",
      "10/10 [==============================] - 0s 2ms/step - loss: 0.0880 - accuracy: 0.9896 - val_loss: 0.1848 - val_accuracy: 0.9167\n",
      "Epoch 42/100\n",
      "10/10 [==============================] - 0s 2ms/step - loss: 0.0848 - accuracy: 0.9792 - val_loss: 0.2021 - val_accuracy: 0.9167\n",
      "Epoch 43/100\n",
      "10/10 [==============================] - 0s 2ms/step - loss: 0.0841 - accuracy: 0.9792 - val_loss: 0.1868 - val_accuracy: 0.9167\n",
      "Epoch 44/100\n",
      "10/10 [==============================] - 0s 2ms/step - loss: 0.0807 - accuracy: 0.9792 - val_loss: 0.1922 - val_accuracy: 0.9167\n",
      "Epoch 45/100\n",
      "10/10 [==============================] - 0s 2ms/step - loss: 0.0830 - accuracy: 0.9688 - val_loss: 0.1965 - val_accuracy: 0.9167\n",
      "Epoch 46/100\n",
      "10/10 [==============================] - 0s 2ms/step - loss: 0.0763 - accuracy: 0.9792 - val_loss: 0.1831 - val_accuracy: 0.9167\n",
      "Epoch 47/100\n",
      "10/10 [==============================] - 0s 2ms/step - loss: 0.0760 - accuracy: 0.9792 - val_loss: 0.1892 - val_accuracy: 0.9167\n",
      "Epoch 48/100\n",
      "10/10 [==============================] - 0s 2ms/step - loss: 0.0790 - accuracy: 0.9688 - val_loss: 0.1861 - val_accuracy: 0.9167\n",
      "Epoch 49/100\n",
      "10/10 [==============================] - 0s 2ms/step - loss: 0.0776 - accuracy: 0.9792 - val_loss: 0.1934 - val_accuracy: 0.9167\n",
      "Epoch 50/100\n",
      "10/10 [==============================] - 0s 2ms/step - loss: 0.0716 - accuracy: 0.9792 - val_loss: 0.1917 - val_accuracy: 0.9167\n",
      "Epoch 51/100\n",
      "10/10 [==============================] - 0s 2ms/step - loss: 0.0810 - accuracy: 0.9583 - val_loss: 0.1920 - val_accuracy: 0.9167\n",
      "Epoch 52/100\n",
      "10/10 [==============================] - 0s 2ms/step - loss: 0.0729 - accuracy: 0.9792 - val_loss: 0.1864 - val_accuracy: 0.9167\n",
      "Epoch 53/100\n",
      "10/10 [==============================] - 0s 2ms/step - loss: 0.1055 - accuracy: 0.9583 - val_loss: 0.2294 - val_accuracy: 0.9167\n",
      "Epoch 54/100\n",
      "10/10 [==============================] - 0s 2ms/step - loss: 0.0865 - accuracy: 0.9583 - val_loss: 0.1820 - val_accuracy: 0.9167\n",
      "Epoch 55/100\n",
      "10/10 [==============================] - 0s 2ms/step - loss: 0.0732 - accuracy: 0.9688 - val_loss: 0.1826 - val_accuracy: 0.9167\n",
      "Epoch 56/100\n",
      "10/10 [==============================] - 0s 3ms/step - loss: 0.0676 - accuracy: 0.9792 - val_loss: 0.1802 - val_accuracy: 0.9167\n",
      "Epoch 57/100\n",
      "10/10 [==============================] - 0s 4ms/step - loss: 0.0624 - accuracy: 0.9896 - val_loss: 0.1984 - val_accuracy: 0.9167\n",
      "Epoch 58/100\n",
      "10/10 [==============================] - 0s 4ms/step - loss: 0.0678 - accuracy: 0.9792 - val_loss: 0.1754 - val_accuracy: 0.9167\n"
     ]
    },
    {
     "name": "stdout",
     "output_type": "stream",
     "text": [
      "Epoch 59/100\n",
      "10/10 [==============================] - 0s 6ms/step - loss: 0.0724 - accuracy: 0.9792 - val_loss: 0.2160 - val_accuracy: 0.9167\n",
      "Epoch 60/100\n",
      "10/10 [==============================] - 0s 4ms/step - loss: 0.0766 - accuracy: 0.9688 - val_loss: 0.1954 - val_accuracy: 0.9167\n",
      "Epoch 61/100\n",
      "10/10 [==============================] - 0s 3ms/step - loss: 0.0845 - accuracy: 0.9583 - val_loss: 0.1819 - val_accuracy: 0.9167\n",
      "Epoch 62/100\n",
      "10/10 [==============================] - 0s 3ms/step - loss: 0.0627 - accuracy: 0.9688 - val_loss: 0.2090 - val_accuracy: 0.9167\n",
      "Epoch 63/100\n",
      "10/10 [==============================] - 0s 4ms/step - loss: 0.0571 - accuracy: 0.9896 - val_loss: 0.1714 - val_accuracy: 0.9167\n",
      "Epoch 64/100\n",
      "10/10 [==============================] - 0s 5ms/step - loss: 0.0658 - accuracy: 0.9792 - val_loss: 0.2313 - val_accuracy: 0.9167\n",
      "Epoch 65/100\n",
      "10/10 [==============================] - 0s 5ms/step - loss: 0.0662 - accuracy: 0.9688 - val_loss: 0.1839 - val_accuracy: 0.9167\n",
      "Epoch 66/100\n",
      "10/10 [==============================] - 0s 3ms/step - loss: 0.0619 - accuracy: 0.9896 - val_loss: 0.1842 - val_accuracy: 0.9167\n",
      "Epoch 67/100\n",
      "10/10 [==============================] - 0s 4ms/step - loss: 0.0557 - accuracy: 0.9792 - val_loss: 0.1856 - val_accuracy: 0.9167\n",
      "Epoch 68/100\n",
      "10/10 [==============================] - 0s 4ms/step - loss: 0.0630 - accuracy: 0.9896 - val_loss: 0.1810 - val_accuracy: 0.9167\n",
      "Epoch 69/100\n",
      "10/10 [==============================] - 0s 3ms/step - loss: 0.0632 - accuracy: 0.9792 - val_loss: 0.2040 - val_accuracy: 0.9167\n",
      "Epoch 70/100\n",
      "10/10 [==============================] - 0s 4ms/step - loss: 0.0563 - accuracy: 0.9896 - val_loss: 0.1738 - val_accuracy: 0.9167\n",
      "Epoch 71/100\n",
      "10/10 [==============================] - 0s 4ms/step - loss: 0.0524 - accuracy: 0.9896 - val_loss: 0.1997 - val_accuracy: 0.9167\n",
      "Epoch 72/100\n",
      "10/10 [==============================] - 0s 3ms/step - loss: 0.0578 - accuracy: 0.9688 - val_loss: 0.1762 - val_accuracy: 0.9167\n",
      "Epoch 73/100\n",
      "10/10 [==============================] - 0s 3ms/step - loss: 0.0534 - accuracy: 0.9792 - val_loss: 0.1854 - val_accuracy: 0.9167\n",
      "Epoch 74/100\n",
      "10/10 [==============================] - 0s 3ms/step - loss: 0.0569 - accuracy: 0.9792 - val_loss: 0.1950 - val_accuracy: 0.9167\n",
      "Epoch 75/100\n",
      "10/10 [==============================] - 0s 3ms/step - loss: 0.0573 - accuracy: 0.9792 - val_loss: 0.1741 - val_accuracy: 0.9167\n",
      "Epoch 76/100\n",
      "10/10 [==============================] - 0s 3ms/step - loss: 0.0521 - accuracy: 0.9896 - val_loss: 0.1954 - val_accuracy: 0.9167\n",
      "Epoch 77/100\n",
      "10/10 [==============================] - 0s 3ms/step - loss: 0.0501 - accuracy: 0.9896 - val_loss: 0.1876 - val_accuracy: 0.9167\n",
      "Epoch 78/100\n",
      "10/10 [==============================] - 0s 4ms/step - loss: 0.0491 - accuracy: 0.9896 - val_loss: 0.1850 - val_accuracy: 0.9167\n",
      "Epoch 79/100\n",
      "10/10 [==============================] - 0s 5ms/step - loss: 0.0488 - accuracy: 0.9896 - val_loss: 0.2086 - val_accuracy: 0.9167\n",
      "Epoch 80/100\n",
      "10/10 [==============================] - 0s 3ms/step - loss: 0.0543 - accuracy: 1.0000 - val_loss: 0.1791 - val_accuracy: 0.9167\n",
      "Epoch 81/100\n",
      "10/10 [==============================] - 0s 4ms/step - loss: 0.0512 - accuracy: 0.9896 - val_loss: 0.2099 - val_accuracy: 0.9167\n",
      "Epoch 82/100\n",
      "10/10 [==============================] - 0s 4ms/step - loss: 0.0481 - accuracy: 0.9896 - val_loss: 0.1845 - val_accuracy: 0.9167\n",
      "Epoch 83/100\n",
      "10/10 [==============================] - 0s 4ms/step - loss: 0.0493 - accuracy: 0.9896 - val_loss: 0.1939 - val_accuracy: 0.9167\n",
      "Epoch 84/100\n",
      "10/10 [==============================] - 0s 3ms/step - loss: 0.0563 - accuracy: 0.9792 - val_loss: 0.2063 - val_accuracy: 0.9167\n",
      "Epoch 85/100\n",
      "10/10 [==============================] - 0s 3ms/step - loss: 0.0703 - accuracy: 0.9583 - val_loss: 0.1804 - val_accuracy: 0.9167\n",
      "Epoch 86/100\n",
      "10/10 [==============================] - 0s 3ms/step - loss: 0.0509 - accuracy: 0.9792 - val_loss: 0.1855 - val_accuracy: 0.9167\n",
      "Epoch 87/100\n",
      "10/10 [==============================] - 0s 3ms/step - loss: 0.0483 - accuracy: 0.9896 - val_loss: 0.1996 - val_accuracy: 0.9167\n",
      "Epoch 88/100\n",
      "10/10 [==============================] - 0s 2ms/step - loss: 0.0496 - accuracy: 0.9896 - val_loss: 0.1888 - val_accuracy: 0.9167\n",
      "Epoch 89/100\n",
      "10/10 [==============================] - 0s 2ms/step - loss: 0.0456 - accuracy: 0.9792 - val_loss: 0.2186 - val_accuracy: 0.9167\n",
      "Epoch 90/100\n",
      "10/10 [==============================] - 0s 2ms/step - loss: 0.0573 - accuracy: 0.9792 - val_loss: 0.2064 - val_accuracy: 0.9167\n",
      "Epoch 91/100\n",
      "10/10 [==============================] - 0s 2ms/step - loss: 0.0442 - accuracy: 0.9896 - val_loss: 0.2158 - val_accuracy: 0.9167\n",
      "Epoch 92/100\n",
      "10/10 [==============================] - 0s 2ms/step - loss: 0.0508 - accuracy: 0.9688 - val_loss: 0.1817 - val_accuracy: 0.9167\n",
      "Epoch 93/100\n",
      "10/10 [==============================] - 0s 3ms/step - loss: 0.0581 - accuracy: 0.9792 - val_loss: 0.2056 - val_accuracy: 0.9167\n",
      "Epoch 94/100\n",
      "10/10 [==============================] - 0s 4ms/step - loss: 0.0566 - accuracy: 0.9792 - val_loss: 0.2280 - val_accuracy: 0.9167\n",
      "Epoch 95/100\n",
      "10/10 [==============================] - 0s 4ms/step - loss: 0.0442 - accuracy: 0.9896 - val_loss: 0.1758 - val_accuracy: 0.9167\n",
      "Epoch 96/100\n",
      "10/10 [==============================] - 0s 3ms/step - loss: 0.0664 - accuracy: 0.9479 - val_loss: 0.2109 - val_accuracy: 0.9167\n",
      "Epoch 97/100\n",
      "10/10 [==============================] - 0s 5ms/step - loss: 0.0543 - accuracy: 0.9792 - val_loss: 0.1849 - val_accuracy: 0.9167\n",
      "Epoch 98/100\n",
      "10/10 [==============================] - 0s 4ms/step - loss: 0.0537 - accuracy: 0.9583 - val_loss: 0.2076 - val_accuracy: 0.9167\n",
      "Epoch 99/100\n",
      "10/10 [==============================] - 0s 3ms/step - loss: 0.0473 - accuracy: 0.9896 - val_loss: 0.2097 - val_accuracy: 0.9167\n",
      "Epoch 100/100\n",
      "10/10 [==============================] - 0s 4ms/step - loss: 0.0522 - accuracy: 0.9792 - val_loss: 0.1868 - val_accuracy: 0.9167\n"
     ]
    },
    {
     "data": {
      "text/plain": [
       "<tensorflow.python.keras.callbacks.History at 0x1d933331190>"
      ]
     },
     "execution_count": 23,
     "metadata": {},
     "output_type": "execute_result"
    }
   ],
   "source": [
    "model.fit(X_train, y_train, epochs=100, validation_data=(X_val, y_val), batch_size=10)"
   ]
  },
  {
   "cell_type": "code",
   "execution_count": 24,
   "id": "eee3f94c",
   "metadata": {},
   "outputs": [
    {
     "name": "stdout",
     "output_type": "stream",
     "text": [
      "1/1 - 0s - loss: 0.0262 - accuracy: 1.0000\n"
     ]
    },
    {
     "data": {
      "text/plain": [
       "[0.026219788938760757, 1.0]"
      ]
     },
     "execution_count": 24,
     "metadata": {},
     "output_type": "execute_result"
    }
   ],
   "source": [
    "model.evaluate(X_test, y_test, verbose=2)"
   ]
  },
  {
   "cell_type": "markdown",
   "id": "cae4f979",
   "metadata": {},
   "source": [
    "### [Problem 5] Learning House Prices with Keras"
   ]
  },
  {
   "cell_type": "code",
   "execution_count": 25,
   "id": "6ed6d745",
   "metadata": {},
   "outputs": [],
   "source": [
    "df = pd.read_csv('../Week 5/train.csv')\n",
    "\n",
    "y = df[['SalePrice']].values\n",
    "X = df[['GrLivArea', 'YearBuilt']].values\n",
    "\n",
    "X = (X - X.mean()) / X.std()\n",
    "y = (y - y.mean()) / y.std()\n",
    "\n",
    "#Split into train and test\n",
    "X_train, X_test, y_train, y_test = train_test_split(X, y, test_size=0.2, random_state=0)\n",
    "\n",
    "# さらにtrainとvalに分割\n",
    "X_train, X_val, y_train, y_val = train_test_split(X_train, y_train, test_size=0.2, random_state=0)"
   ]
  },
  {
   "cell_type": "code",
   "execution_count": 26,
   "id": "13313e63",
   "metadata": {},
   "outputs": [],
   "source": [
    "model = tf.keras.Sequential([\n",
    "    tf.keras.layers.Dense(50, activation=\"relu\", input_shape=(2,)),\n",
    "    tf.keras.layers.Dense(100, activation=\"relu\"),\n",
    "    tf.keras.layers.Dense(1, activation=\"relu\"),\n",
    "])"
   ]
  },
  {
   "cell_type": "code",
   "execution_count": 27,
   "id": "ffc18be7",
   "metadata": {},
   "outputs": [],
   "source": [
    "model.compile(optimizer='adam',\n",
    "              loss=\"mse\",\n",
    "              metrics=['mse'])"
   ]
  },
  {
   "cell_type": "code",
   "execution_count": 28,
   "id": "618ee34b",
   "metadata": {},
   "outputs": [
    {
     "name": "stdout",
     "output_type": "stream",
     "text": [
      "Model: \"sequential_4\"\n",
      "_________________________________________________________________\n",
      "Layer (type)                 Output Shape              Param #   \n",
      "=================================================================\n",
      "dense_8 (Dense)              (None, 50)                150       \n",
      "_________________________________________________________________\n",
      "dense_9 (Dense)              (None, 100)               5100      \n",
      "_________________________________________________________________\n",
      "dense_10 (Dense)             (None, 1)                 101       \n",
      "=================================================================\n",
      "Total params: 5,351\n",
      "Trainable params: 5,351\n",
      "Non-trainable params: 0\n",
      "_________________________________________________________________\n"
     ]
    }
   ],
   "source": [
    "model.summary()"
   ]
  },
  {
   "cell_type": "code",
   "execution_count": 29,
   "id": "cfb4939d",
   "metadata": {},
   "outputs": [
    {
     "name": "stdout",
     "output_type": "stream",
     "text": [
      "Epoch 1/100\n",
      "94/94 [==============================] - 0s 2ms/step - loss: 1.0024 - mse: 1.0024 - val_loss: 0.8718 - val_mse: 0.8718\n",
      "Epoch 2/100\n",
      "94/94 [==============================] - 0s 1ms/step - loss: 1.0024 - mse: 1.0024 - val_loss: 0.8718 - val_mse: 0.8718\n",
      "Epoch 3/100\n",
      "94/94 [==============================] - 0s 1ms/step - loss: 1.0024 - mse: 1.0024 - val_loss: 0.8718 - val_mse: 0.8718\n",
      "Epoch 4/100\n",
      "94/94 [==============================] - 0s 1ms/step - loss: 1.0024 - mse: 1.0024 - val_loss: 0.8718 - val_mse: 0.8718\n",
      "Epoch 5/100\n",
      "94/94 [==============================] - 0s 1000us/step - loss: 1.0024 - mse: 1.0024 - val_loss: 0.8718 - val_mse: 0.8718\n",
      "Epoch 6/100\n",
      "94/94 [==============================] - 0s 1ms/step - loss: 1.0024 - mse: 1.0024 - val_loss: 0.8718 - val_mse: 0.8718\n",
      "Epoch 7/100\n",
      "94/94 [==============================] - 0s 1ms/step - loss: 1.0024 - mse: 1.0024 - val_loss: 0.8718 - val_mse: 0.8718\n",
      "Epoch 8/100\n",
      "94/94 [==============================] - 0s 1ms/step - loss: 1.0024 - mse: 1.0024 - val_loss: 0.8718 - val_mse: 0.8718\n",
      "Epoch 9/100\n",
      "94/94 [==============================] - 0s 1ms/step - loss: 1.0024 - mse: 1.0024 - val_loss: 0.8718 - val_mse: 0.8718\n",
      "Epoch 10/100\n",
      "94/94 [==============================] - 0s 971us/step - loss: 1.0024 - mse: 1.0024 - val_loss: 0.8718 - val_mse: 0.8718\n",
      "Epoch 11/100\n",
      "94/94 [==============================] - 0s 1ms/step - loss: 1.0024 - mse: 1.0024 - val_loss: 0.8718 - val_mse: 0.8718\n",
      "Epoch 12/100\n",
      "94/94 [==============================] - 0s 1ms/step - loss: 1.0024 - mse: 1.0024 - val_loss: 0.8718 - val_mse: 0.8718\n",
      "Epoch 13/100\n",
      "94/94 [==============================] - 0s 1000us/step - loss: 1.0024 - mse: 1.0024 - val_loss: 0.8718 - val_mse: 0.8718\n",
      "Epoch 14/100\n",
      "94/94 [==============================] - 0s 1ms/step - loss: 1.0024 - mse: 1.0024 - val_loss: 0.8718 - val_mse: 0.8718\n",
      "Epoch 15/100\n",
      "94/94 [==============================] - 0s 1ms/step - loss: 1.0024 - mse: 1.0024 - val_loss: 0.8718 - val_mse: 0.8718\n",
      "Epoch 16/100\n",
      "94/94 [==============================] - 0s 1ms/step - loss: 1.0024 - mse: 1.0024 - val_loss: 0.8718 - val_mse: 0.8718\n",
      "Epoch 17/100\n",
      "94/94 [==============================] - 0s 1ms/step - loss: 1.0024 - mse: 1.0024 - val_loss: 0.8718 - val_mse: 0.8718\n",
      "Epoch 18/100\n",
      "94/94 [==============================] - 0s 1ms/step - loss: 1.0024 - mse: 1.0024 - val_loss: 0.8718 - val_mse: 0.8718\n",
      "Epoch 19/100\n",
      "94/94 [==============================] - 0s 1ms/step - loss: 1.0024 - mse: 1.0024 - val_loss: 0.8718 - val_mse: 0.8718\n",
      "Epoch 20/100\n",
      "94/94 [==============================] - 0s 1000us/step - loss: 1.0024 - mse: 1.0024 - val_loss: 0.8718 - val_mse: 0.8718\n",
      "Epoch 21/100\n",
      "94/94 [==============================] - 0s 1ms/step - loss: 1.0024 - mse: 1.0024 - val_loss: 0.8718 - val_mse: 0.8718\n",
      "Epoch 22/100\n",
      "94/94 [==============================] - 0s 1ms/step - loss: 1.0024 - mse: 1.0024 - val_loss: 0.8718 - val_mse: 0.8718\n",
      "Epoch 23/100\n",
      "94/94 [==============================] - 0s 989us/step - loss: 1.0024 - mse: 1.0024 - val_loss: 0.8718 - val_mse: 0.8718\n",
      "Epoch 24/100\n",
      "94/94 [==============================] - 0s 979us/step - loss: 1.0024 - mse: 1.0024 - val_loss: 0.8718 - val_mse: 0.8718\n",
      "Epoch 25/100\n",
      "94/94 [==============================] - 0s 998us/step - loss: 1.0024 - mse: 1.0024 - val_loss: 0.8718 - val_mse: 0.8718\n",
      "Epoch 26/100\n",
      "94/94 [==============================] - 0s 995us/step - loss: 1.0024 - mse: 1.0024 - val_loss: 0.8718 - val_mse: 0.8718\n",
      "Epoch 27/100\n",
      "94/94 [==============================] - 0s 1ms/step - loss: 1.0024 - mse: 1.0024 - val_loss: 0.8718 - val_mse: 0.8718\n",
      "Epoch 28/100\n",
      "94/94 [==============================] - 0s 991us/step - loss: 1.0024 - mse: 1.0024 - val_loss: 0.8718 - val_mse: 0.8718\n",
      "Epoch 29/100\n",
      "94/94 [==============================] - 0s 992us/step - loss: 1.0024 - mse: 1.0024 - val_loss: 0.8718 - val_mse: 0.8718\n",
      "Epoch 30/100\n",
      "94/94 [==============================] - 0s 977us/step - loss: 1.0024 - mse: 1.0024 - val_loss: 0.8718 - val_mse: 0.8718\n",
      "Epoch 31/100\n",
      "94/94 [==============================] - 0s 989us/step - loss: 1.0024 - mse: 1.0024 - val_loss: 0.8718 - val_mse: 0.8718\n",
      "Epoch 32/100\n",
      "94/94 [==============================] - 0s 991us/step - loss: 1.0024 - mse: 1.0024 - val_loss: 0.8718 - val_mse: 0.8718\n",
      "Epoch 33/100\n",
      "94/94 [==============================] - 0s 989us/step - loss: 1.0024 - mse: 1.0024 - val_loss: 0.8718 - val_mse: 0.8718\n",
      "Epoch 34/100\n",
      "94/94 [==============================] - 0s 999us/step - loss: 1.0024 - mse: 1.0024 - val_loss: 0.8718 - val_mse: 0.8718\n",
      "Epoch 35/100\n",
      "94/94 [==============================] - 0s 1ms/step - loss: 1.0024 - mse: 1.0024 - val_loss: 0.8718 - val_mse: 0.8718\n",
      "Epoch 36/100\n",
      "94/94 [==============================] - 0s 989us/step - loss: 1.0024 - mse: 1.0024 - val_loss: 0.8718 - val_mse: 0.8718\n",
      "Epoch 37/100\n",
      "94/94 [==============================] - 0s 1ms/step - loss: 1.0024 - mse: 1.0024 - val_loss: 0.8718 - val_mse: 0.8718\n",
      "Epoch 38/100\n",
      "94/94 [==============================] - 0s 1ms/step - loss: 1.0024 - mse: 1.0024 - val_loss: 0.8718 - val_mse: 0.8718\n",
      "Epoch 39/100\n",
      "94/94 [==============================] - 0s 1ms/step - loss: 1.0024 - mse: 1.0024 - val_loss: 0.8718 - val_mse: 0.8718\n",
      "Epoch 40/100\n",
      "94/94 [==============================] - 0s 992us/step - loss: 1.0024 - mse: 1.0024 - val_loss: 0.8718 - val_mse: 0.8718\n",
      "Epoch 41/100\n",
      "94/94 [==============================] - 0s 1ms/step - loss: 1.0024 - mse: 1.0024 - val_loss: 0.8718 - val_mse: 0.8718\n",
      "Epoch 42/100\n",
      "94/94 [==============================] - 0s 1ms/step - loss: 1.0024 - mse: 1.0024 - val_loss: 0.8718 - val_mse: 0.8718\n",
      "Epoch 43/100\n",
      "94/94 [==============================] - 0s 968us/step - loss: 1.0024 - mse: 1.0024 - val_loss: 0.8718 - val_mse: 0.8718\n",
      "Epoch 44/100\n",
      "94/94 [==============================] - 0s 979us/step - loss: 1.0024 - mse: 1.0024 - val_loss: 0.8718 - val_mse: 0.8718\n",
      "Epoch 45/100\n",
      "94/94 [==============================] - 0s 989us/step - loss: 1.0024 - mse: 1.0024 - val_loss: 0.8718 - val_mse: 0.8718\n",
      "Epoch 46/100\n",
      "94/94 [==============================] - 0s 999us/step - loss: 1.0024 - mse: 1.0024 - val_loss: 0.8718 - val_mse: 0.8718\n",
      "Epoch 47/100\n",
      "94/94 [==============================] - 0s 989us/step - loss: 1.0024 - mse: 1.0024 - val_loss: 0.8718 - val_mse: 0.8718\n",
      "Epoch 48/100\n",
      "94/94 [==============================] - 0s 996us/step - loss: 1.0024 - mse: 1.0024 - val_loss: 0.8718 - val_mse: 0.8718\n",
      "Epoch 49/100\n",
      "94/94 [==============================] - 0s 1ms/step - loss: 1.0024 - mse: 1.0024 - val_loss: 0.8718 - val_mse: 0.8718\n",
      "Epoch 50/100\n",
      "94/94 [==============================] - 0s 1ms/step - loss: 1.0024 - mse: 1.0024 - val_loss: 0.8718 - val_mse: 0.8718\n",
      "Epoch 51/100\n",
      "94/94 [==============================] - 0s 987us/step - loss: 1.0024 - mse: 1.0024 - val_loss: 0.8718 - val_mse: 0.8718\n",
      "Epoch 52/100\n",
      "94/94 [==============================] - 0s 993us/step - loss: 1.0024 - mse: 1.0024 - val_loss: 0.8718 - val_mse: 0.8718\n",
      "Epoch 53/100\n",
      "94/94 [==============================] - 0s 1ms/step - loss: 1.0024 - mse: 1.0024 - val_loss: 0.8718 - val_mse: 0.8718\n",
      "Epoch 54/100\n",
      "94/94 [==============================] - 0s 1ms/step - loss: 1.0024 - mse: 1.0024 - val_loss: 0.8718 - val_mse: 0.8718\n",
      "Epoch 55/100\n",
      "94/94 [==============================] - 0s 1000us/step - loss: 1.0024 - mse: 1.0024 - val_loss: 0.8718 - val_mse: 0.8718\n",
      "Epoch 56/100\n",
      "94/94 [==============================] - 0s 990us/step - loss: 1.0024 - mse: 1.0024 - val_loss: 0.8718 - val_mse: 0.8718\n",
      "Epoch 57/100\n",
      "94/94 [==============================] - 0s 996us/step - loss: 1.0024 - mse: 1.0024 - val_loss: 0.8718 - val_mse: 0.8718\n",
      "Epoch 58/100\n",
      "94/94 [==============================] - 0s 984us/step - loss: 1.0024 - mse: 1.0024 - val_loss: 0.8718 - val_mse: 0.8718\n",
      "Epoch 59/100\n",
      "94/94 [==============================] - 0s 1ms/step - loss: 1.0024 - mse: 1.0024 - val_loss: 0.8718 - val_mse: 0.8718\n",
      "Epoch 60/100\n",
      "94/94 [==============================] - 0s 1ms/step - loss: 1.0024 - mse: 1.0024 - val_loss: 0.8718 - val_mse: 0.8718\n",
      "Epoch 61/100\n",
      "94/94 [==============================] - 0s 991us/step - loss: 1.0024 - mse: 1.0024 - val_loss: 0.8718 - val_mse: 0.8718\n",
      "Epoch 62/100\n"
     ]
    },
    {
     "name": "stdout",
     "output_type": "stream",
     "text": [
      "94/94 [==============================] - 0s 968us/step - loss: 1.0024 - mse: 1.0024 - val_loss: 0.8718 - val_mse: 0.8718\n",
      "Epoch 63/100\n",
      "94/94 [==============================] - 0s 1ms/step - loss: 1.0024 - mse: 1.0024 - val_loss: 0.8718 - val_mse: 0.8718\n",
      "Epoch 64/100\n",
      "94/94 [==============================] - 0s 985us/step - loss: 1.0024 - mse: 1.0024 - val_loss: 0.8718 - val_mse: 0.8718\n",
      "Epoch 65/100\n",
      "94/94 [==============================] - 0s 984us/step - loss: 1.0024 - mse: 1.0024 - val_loss: 0.8718 - val_mse: 0.8718\n",
      "Epoch 66/100\n",
      "94/94 [==============================] - 0s 980us/step - loss: 1.0024 - mse: 1.0024 - val_loss: 0.8718 - val_mse: 0.8718\n",
      "Epoch 67/100\n",
      "94/94 [==============================] - 0s 996us/step - loss: 1.0024 - mse: 1.0024 - val_loss: 0.8718 - val_mse: 0.8718\n",
      "Epoch 68/100\n",
      "94/94 [==============================] - 0s 1ms/step - loss: 1.0024 - mse: 1.0024 - val_loss: 0.8718 - val_mse: 0.8718\n",
      "Epoch 69/100\n",
      "94/94 [==============================] - 0s 986us/step - loss: 1.0024 - mse: 1.0024 - val_loss: 0.8718 - val_mse: 0.8718\n",
      "Epoch 70/100\n",
      "94/94 [==============================] - 0s 982us/step - loss: 1.0024 - mse: 1.0024 - val_loss: 0.8718 - val_mse: 0.8718\n",
      "Epoch 71/100\n",
      "94/94 [==============================] - 0s 983us/step - loss: 1.0024 - mse: 1.0024 - val_loss: 0.8718 - val_mse: 0.8718\n",
      "Epoch 72/100\n",
      "94/94 [==============================] - 0s 983us/step - loss: 1.0024 - mse: 1.0024 - val_loss: 0.8718 - val_mse: 0.8718\n",
      "Epoch 73/100\n",
      "94/94 [==============================] - 0s 986us/step - loss: 1.0024 - mse: 1.0024 - val_loss: 0.8718 - val_mse: 0.8718\n",
      "Epoch 74/100\n",
      "94/94 [==============================] - 0s 989us/step - loss: 1.0024 - mse: 1.0024 - val_loss: 0.8718 - val_mse: 0.8718\n",
      "Epoch 75/100\n",
      "94/94 [==============================] - 0s 984us/step - loss: 1.0024 - mse: 1.0024 - val_loss: 0.8718 - val_mse: 0.8718\n",
      "Epoch 76/100\n",
      "94/94 [==============================] - 0s 1ms/step - loss: 1.0024 - mse: 1.0024 - val_loss: 0.8718 - val_mse: 0.8718\n",
      "Epoch 77/100\n",
      "94/94 [==============================] - 0s 993us/step - loss: 1.0024 - mse: 1.0024 - val_loss: 0.8718 - val_mse: 0.8718\n",
      "Epoch 78/100\n",
      "94/94 [==============================] - 0s 1ms/step - loss: 1.0024 - mse: 1.0024 - val_loss: 0.8718 - val_mse: 0.8718\n",
      "Epoch 79/100\n",
      "94/94 [==============================] - 0s 2ms/step - loss: 1.0024 - mse: 1.0024 - val_loss: 0.8718 - val_mse: 0.8718\n",
      "Epoch 80/100\n",
      "94/94 [==============================] - 0s 1ms/step - loss: 1.0024 - mse: 1.0024 - val_loss: 0.8718 - val_mse: 0.8718\n",
      "Epoch 81/100\n",
      "94/94 [==============================] - 0s 1ms/step - loss: 1.0024 - mse: 1.0024 - val_loss: 0.8718 - val_mse: 0.8718\n",
      "Epoch 82/100\n",
      "94/94 [==============================] - 0s 2ms/step - loss: 1.0024 - mse: 1.0024 - val_loss: 0.8718 - val_mse: 0.8718\n",
      "Epoch 83/100\n",
      "94/94 [==============================] - 0s 2ms/step - loss: 1.0024 - mse: 1.0024 - val_loss: 0.8718 - val_mse: 0.8718\n",
      "Epoch 84/100\n",
      "94/94 [==============================] - 0s 1ms/step - loss: 1.0024 - mse: 1.0024 - val_loss: 0.8718 - val_mse: 0.8718\n",
      "Epoch 85/100\n",
      "94/94 [==============================] - 0s 947us/step - loss: 1.0024 - mse: 1.0024 - val_loss: 0.8718 - val_mse: 0.8718\n",
      "Epoch 86/100\n",
      "94/94 [==============================] - 0s 989us/step - loss: 1.0024 - mse: 1.0024 - val_loss: 0.8718 - val_mse: 0.8718\n",
      "Epoch 87/100\n",
      "94/94 [==============================] - 0s 1ms/step - loss: 1.0024 - mse: 1.0024 - val_loss: 0.8718 - val_mse: 0.8718\n",
      "Epoch 88/100\n",
      "94/94 [==============================] - 0s 990us/step - loss: 1.0024 - mse: 1.0024 - val_loss: 0.8718 - val_mse: 0.8718\n",
      "Epoch 89/100\n",
      "94/94 [==============================] - 0s 1ms/step - loss: 1.0024 - mse: 1.0024 - val_loss: 0.8718 - val_mse: 0.8718\n",
      "Epoch 90/100\n",
      "94/94 [==============================] - 0s 1ms/step - loss: 1.0024 - mse: 1.0024 - val_loss: 0.8718 - val_mse: 0.8718\n",
      "Epoch 91/100\n",
      "94/94 [==============================] - 0s 1ms/step - loss: 1.0024 - mse: 1.0024 - val_loss: 0.8718 - val_mse: 0.8718\n",
      "Epoch 92/100\n",
      "94/94 [==============================] - 0s 1ms/step - loss: 1.0024 - mse: 1.0024 - val_loss: 0.8718 - val_mse: 0.8718\n",
      "Epoch 93/100\n",
      "94/94 [==============================] - 0s 2ms/step - loss: 1.0024 - mse: 1.0024 - val_loss: 0.8718 - val_mse: 0.8718\n",
      "Epoch 94/100\n",
      "94/94 [==============================] - 0s 1ms/step - loss: 1.0024 - mse: 1.0024 - val_loss: 0.8718 - val_mse: 0.8718\n",
      "Epoch 95/100\n",
      "94/94 [==============================] - 0s 1ms/step - loss: 1.0024 - mse: 1.0024 - val_loss: 0.8718 - val_mse: 0.8718\n",
      "Epoch 96/100\n",
      "94/94 [==============================] - 0s 1ms/step - loss: 1.0024 - mse: 1.0024 - val_loss: 0.8718 - val_mse: 0.8718\n",
      "Epoch 97/100\n",
      "94/94 [==============================] - 0s 1ms/step - loss: 1.0024 - mse: 1.0024 - val_loss: 0.8718 - val_mse: 0.8718\n",
      "Epoch 98/100\n",
      "94/94 [==============================] - 0s 1ms/step - loss: 1.0024 - mse: 1.0024 - val_loss: 0.8718 - val_mse: 0.8718\n",
      "Epoch 99/100\n",
      "94/94 [==============================] - 0s 1ms/step - loss: 1.0024 - mse: 1.0024 - val_loss: 0.8718 - val_mse: 0.8718\n",
      "Epoch 100/100\n",
      "94/94 [==============================] - 0s 1ms/step - loss: 1.0024 - mse: 1.0024 - val_loss: 0.8718 - val_mse: 0.8718\n"
     ]
    },
    {
     "data": {
      "text/plain": [
       "<tensorflow.python.keras.callbacks.History at 0x1d9334b83d0>"
      ]
     },
     "execution_count": 29,
     "metadata": {},
     "output_type": "execute_result"
    }
   ],
   "source": [
    "model.fit(X_train, y_train, epochs=100, validation_data=(X_val, y_val), batch_size=10)"
   ]
  },
  {
   "cell_type": "code",
   "execution_count": 30,
   "id": "44290d67",
   "metadata": {},
   "outputs": [
    {
     "name": "stdout",
     "output_type": "stream",
     "text": [
      "10/10 - 0s - loss: 1.0950 - mse: 1.0950\n"
     ]
    },
    {
     "data": {
      "text/plain": [
       "[1.095018744468689, 1.095018744468689]"
      ]
     },
     "execution_count": 30,
     "metadata": {},
     "output_type": "execute_result"
    }
   ],
   "source": [
    "model.evaluate(X_test, y_test, verbose=2)"
   ]
  },
  {
   "cell_type": "markdown",
   "id": "52874f89",
   "metadata": {},
   "source": [
    "### [Problem 6] Learning MNIST with Keras"
   ]
  },
  {
   "cell_type": "code",
   "execution_count": 31,
   "id": "fbf819f8",
   "metadata": {},
   "outputs": [
    {
     "name": "stdout",
     "output_type": "stream",
     "text": [
      "(48000, 784)\n",
      "(48000,)\n",
      "(12000, 784)\n",
      "(12000,)\n",
      "(48000, 10)\n",
      "(12000, 10)\n"
     ]
    }
   ],
   "source": [
    "from keras.datasets import mnist\n",
    "\n",
    "(X_train, y_train), (X_test, y_test) = mnist.load_data()\n",
    "\n",
    "X_train = X_train.reshape(-1, 784)\n",
    "X_test = X_test.reshape(-1, 784)\n",
    "X_train = X_train.astype(np.float)\n",
    "X_test = X_test.astype(np.float)\n",
    "X_train /= 255\n",
    "X_test /= 255\n",
    "\n",
    "X_train, X_val, y_train, y_val = train_test_split(X_train, y_train, test_size=0.2)\n",
    "\n",
    "print(X_train.shape)\n",
    "print(y_train.shape)\n",
    "print(X_val.shape)\n",
    "print(y_val.shape)\n",
    "\n",
    "enc = OneHotEncoder(handle_unknown='ignore', sparse=False)\n",
    "y_train = enc.fit_transform(y_train[:, np.newaxis])\n",
    "y_val = enc.transform(y_val[:, np.newaxis])\n",
    "y_test = enc.transform(y_test[:, np.newaxis])\n",
    "\n",
    "print(y_train.shape)\n",
    "print(y_val.shape)"
   ]
  },
  {
   "cell_type": "code",
   "execution_count": 32,
   "id": "e9d96e64",
   "metadata": {},
   "outputs": [],
   "source": [
    "model = tf.keras.Sequential([\n",
    "    tf.keras.layers.Dense(50, activation=\"relu\", input_shape=(784,)),\n",
    "    tf.keras.layers.Dense(100, activation=\"relu\"),\n",
    "    tf.keras.layers.Dense(10, activation=\"softmax\"),\n",
    "])"
   ]
  },
  {
   "cell_type": "code",
   "execution_count": 33,
   "id": "b6427984",
   "metadata": {},
   "outputs": [],
   "source": [
    "model.compile(optimizer='adam',\n",
    "              loss=\"categorical_crossentropy\",\n",
    "              metrics=['accuracy'])"
   ]
  },
  {
   "cell_type": "code",
   "execution_count": 34,
   "id": "fd2154a3",
   "metadata": {},
   "outputs": [
    {
     "name": "stdout",
     "output_type": "stream",
     "text": [
      "Model: \"sequential_5\"\n",
      "_________________________________________________________________\n",
      "Layer (type)                 Output Shape              Param #   \n",
      "=================================================================\n",
      "dense_11 (Dense)             (None, 50)                39250     \n",
      "_________________________________________________________________\n",
      "dense_12 (Dense)             (None, 100)               5100      \n",
      "_________________________________________________________________\n",
      "dense_13 (Dense)             (None, 10)                1010      \n",
      "=================================================================\n",
      "Total params: 45,360\n",
      "Trainable params: 45,360\n",
      "Non-trainable params: 0\n",
      "_________________________________________________________________\n"
     ]
    }
   ],
   "source": [
    "model.summary()"
   ]
  },
  {
   "cell_type": "code",
   "execution_count": 35,
   "id": "c9983a9b",
   "metadata": {},
   "outputs": [
    {
     "name": "stdout",
     "output_type": "stream",
     "text": [
      "Epoch 1/20\n",
      "480/480 [==============================] - 1s 2ms/step - loss: 0.3995 - accuracy: 0.8866 - val_loss: 0.2132 - val_accuracy: 0.9368\n",
      "Epoch 2/20\n",
      "480/480 [==============================] - 1s 2ms/step - loss: 0.1683 - accuracy: 0.9504 - val_loss: 0.1627 - val_accuracy: 0.9528\n",
      "Epoch 3/20\n",
      "480/480 [==============================] - 1s 2ms/step - loss: 0.1247 - accuracy: 0.9627 - val_loss: 0.1310 - val_accuracy: 0.9610\n",
      "Epoch 4/20\n",
      "480/480 [==============================] - 1s 2ms/step - loss: 0.1004 - accuracy: 0.9695 - val_loss: 0.1205 - val_accuracy: 0.9649\n",
      "Epoch 5/20\n",
      "480/480 [==============================] - 1s 2ms/step - loss: 0.0815 - accuracy: 0.9752 - val_loss: 0.1113 - val_accuracy: 0.9682\n",
      "Epoch 6/20\n",
      "480/480 [==============================] - 1s 2ms/step - loss: 0.0692 - accuracy: 0.9796 - val_loss: 0.1100 - val_accuracy: 0.9689\n",
      "Epoch 7/20\n",
      "480/480 [==============================] - 1s 2ms/step - loss: 0.0596 - accuracy: 0.9818 - val_loss: 0.1045 - val_accuracy: 0.9696\n",
      "Epoch 8/20\n",
      "480/480 [==============================] - 1s 2ms/step - loss: 0.0521 - accuracy: 0.9840 - val_loss: 0.1094 - val_accuracy: 0.9689\n",
      "Epoch 9/20\n",
      "480/480 [==============================] - 1s 2ms/step - loss: 0.0437 - accuracy: 0.9863 - val_loss: 0.1205 - val_accuracy: 0.9648\n",
      "Epoch 10/20\n",
      "480/480 [==============================] - 1s 2ms/step - loss: 0.0374 - accuracy: 0.9887 - val_loss: 0.1083 - val_accuracy: 0.9710\n",
      "Epoch 11/20\n",
      "480/480 [==============================] - 1s 2ms/step - loss: 0.0336 - accuracy: 0.9899 - val_loss: 0.1075 - val_accuracy: 0.9719\n",
      "Epoch 12/20\n",
      "480/480 [==============================] - 1s 2ms/step - loss: 0.0281 - accuracy: 0.9919 - val_loss: 0.1112 - val_accuracy: 0.9704\n",
      "Epoch 13/20\n",
      "480/480 [==============================] - 1s 3ms/step - loss: 0.0258 - accuracy: 0.9929 - val_loss: 0.1078 - val_accuracy: 0.9717\n",
      "Epoch 14/20\n",
      "480/480 [==============================] - 1s 2ms/step - loss: 0.0220 - accuracy: 0.9933 - val_loss: 0.1084 - val_accuracy: 0.9718\n",
      "Epoch 15/20\n",
      "480/480 [==============================] - 1s 2ms/step - loss: 0.0205 - accuracy: 0.9937 - val_loss: 0.1157 - val_accuracy: 0.9719\n",
      "Epoch 16/20\n",
      "480/480 [==============================] - 1s 2ms/step - loss: 0.0168 - accuracy: 0.9947 - val_loss: 0.1321 - val_accuracy: 0.9693\n",
      "Epoch 17/20\n",
      "480/480 [==============================] - 1s 3ms/step - loss: 0.0162 - accuracy: 0.9949 - val_loss: 0.1248 - val_accuracy: 0.9726\n",
      "Epoch 18/20\n",
      "480/480 [==============================] - 1s 2ms/step - loss: 0.0149 - accuracy: 0.9952 - val_loss: 0.1391 - val_accuracy: 0.9700\n",
      "Epoch 19/20\n",
      "480/480 [==============================] - 1s 2ms/step - loss: 0.0126 - accuracy: 0.9959 - val_loss: 0.1282 - val_accuracy: 0.9724\n",
      "Epoch 20/20\n",
      "480/480 [==============================] - 1s 3ms/step - loss: 0.0085 - accuracy: 0.9977 - val_loss: 0.1393 - val_accuracy: 0.9707\n"
     ]
    },
    {
     "data": {
      "text/plain": [
       "<tensorflow.python.keras.callbacks.History at 0x1d9345f5ac0>"
      ]
     },
     "execution_count": 35,
     "metadata": {},
     "output_type": "execute_result"
    }
   ],
   "source": [
    "model.fit(X_train, y_train, epochs=20, validation_data=(X_val, y_val), batch_size=100)"
   ]
  },
  {
   "cell_type": "code",
   "execution_count": 36,
   "id": "22e07d56",
   "metadata": {},
   "outputs": [
    {
     "name": "stdout",
     "output_type": "stream",
     "text": [
      "313/313 - 0s - loss: 0.1149 - accuracy: 0.9742\n"
     ]
    },
    {
     "data": {
      "text/plain": [
       "[0.11492910236120224, 0.9742000102996826]"
      ]
     },
     "execution_count": 36,
     "metadata": {},
     "output_type": "execute_result"
    }
   ],
   "source": [
    "model.evaluate(X_test, y_test, verbose=2)"
   ]
  },
  {
   "cell_type": "code",
   "execution_count": 38,
   "id": "54ea30d7",
   "metadata": {},
   "outputs": [
    {
     "data": {
      "text/plain": [
       "array([[6.9977695e-14, 5.4889209e-12, 4.2814513e-08, 1.1383728e-05,\n",
       "        6.8971312e-17, 1.7613234e-10, 2.4817042e-18, 9.9998856e-01,\n",
       "        5.5416876e-08, 7.8254399e-09]], dtype=float32)"
      ]
     },
     "execution_count": 38,
     "metadata": {},
     "output_type": "execute_result"
    }
   ],
   "source": [
    "model(X_test[:1]).numpy()"
   ]
  }
 ],
 "metadata": {
  "kernelspec": {
   "display_name": "Python 3",
   "language": "python",
   "name": "python3"
  },
  "language_info": {
   "codemirror_mode": {
    "name": "ipython",
    "version": 3
   },
   "file_extension": ".py",
   "mimetype": "text/x-python",
   "name": "python",
   "nbconvert_exporter": "python",
   "pygments_lexer": "ipython3",
   "version": "3.8.8"
  }
 },
 "nbformat": 4,
 "nbformat_minor": 5
}
